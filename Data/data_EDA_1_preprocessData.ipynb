{
 "cells": [
  {
   "cell_type": "code",
   "execution_count": 1,
   "metadata": {
    "collapsed": false
   },
   "outputs": [
    {
     "data": {
      "text/html": [
       "<script>jQuery(function() {if (jQuery(\"body.notebook_app\").length == 0) { jQuery(\".input_area\").toggle(); jQuery(\".prompt\").toggle();}});</script>"
      ]
     },
     "metadata": {},
     "output_type": "display_data"
    },
    {
     "data": {
      "text/html": [
       "<button onclick=\"jQuery('.input_area').toggle(); jQuery('.prompt').toggle();\">Toggle code</button>"
      ]
     },
     "metadata": {},
     "output_type": "display_data"
    }
   ],
   "source": [
    "from IPython.display import display\n",
    "from IPython.display import HTML\n",
    "import IPython.core.display as di # Example: di.display_html('<h3>%s:</h3>' % str, raw=True)\n",
    "\n",
    "# This line will hide code by default when the notebook is exported as HTML\n",
    "di.display_html('<script>jQuery(function() {if (jQuery(\"body.notebook_app\").length == 0) { jQuery(\".input_area\").toggle(); jQuery(\".prompt\").toggle();}});</script>', raw=True)\n",
    "\n",
    "# This line will add a button to toggle visibility of code blocks, for use with the HTML export version\n",
    "di.display_html('''<button onclick=\"jQuery('.input_area').toggle(); jQuery('.prompt').toggle();\">Toggle code</button>''', raw=True)\n"
   ]
  },
  {
   "cell_type": "markdown",
   "metadata": {},
   "source": [
    "# Lending Club Data Explorations\n",
    "\n",
    "## Preprocess Data"
   ]
  },
  {
   "cell_type": "code",
   "execution_count": 2,
   "metadata": {
    "collapsed": false
   },
   "outputs": [
    {
     "name": "stdout",
     "output_type": "stream",
     "text": [
      "Populating the interactive namespace from numpy and matplotlib\n"
     ]
    }
   ],
   "source": [
    "%pylab inline"
   ]
  },
  {
   "cell_type": "code",
   "execution_count": 1,
   "metadata": {
    "collapsed": false
   },
   "outputs": [],
   "source": [
    "# Import libraries\n",
    "from __future__ import absolute_import, division, print_function\n",
    "\n",
    "# Ignore warnings\n",
    "import warnings\n",
    "warnings.filterwarnings('ignore')\n",
    "\n",
    "import numpy as np\n",
    "import pandas as pd\n",
    "from sklearn.externals import joblib\n",
    "\n",
    "# Graphing Libraries\n",
    "import matplotlib.pyplot as pyplt\n",
    "import seaborn as sns\n",
    "sns.set_style(\"white\")  "
   ]
  },
  {
   "cell_type": "code",
   "execution_count": 4,
   "metadata": {
    "collapsed": false
   },
   "outputs": [],
   "source": [
    "def get_item_description(label):\n",
    "    \"\"\"\n",
    "    Print the description for an item label based on the data dictionary\n",
    "    \"\"\"\n",
    "    print(df_data_dictionary[df_data_dictionary.Item == label].Description.values[0])"
   ]
  },
  {
   "cell_type": "code",
   "execution_count": 5,
   "metadata": {
    "collapsed": true
   },
   "outputs": [],
   "source": [
    "import datetime\n",
    "import calendar\n",
    "\n",
    "def convert_date_months(col):\n",
    "    \"\"\"\n",
    "    Convert the date to difference from this month\n",
    "    \n",
    "    Attributes\n",
    "    ------------\n",
    "    col: pandas series\n",
    "    \"\"\"\n",
    "    today = datetime.date.today()\n",
    "    tmp_2 = pd.to_datetime(col)\n",
    "    tmp_2 = today - tmp_2\n",
    "    tmp_2 = tmp_2.astype('timedelta64[M]').astype(int)\n",
    "    \n",
    "    return tmp_2\n",
    "\n",
    "def convert_date_days(col):\n",
    "    \"\"\"\n",
    "    Convert the date to difference from this day\n",
    "    \n",
    "    Attributes\n",
    "    ------------\n",
    "    col: pandas series\n",
    "    \"\"\"\n",
    "    today = datetime.date.today()\n",
    "    tmp_2 = pd.to_datetime(col)\n",
    "    tmp_2 = today - tmp_2\n",
    "    tmp_2 = tmp_2.astype('timedelta64[D]').astype(int)\n",
    "    \n",
    "    return tmp_2\n",
    "\n",
    "\n",
    "def convert_num_day_of_week(x):\n",
    "    \"\"\"\n",
    "    Convert the date to numeric day of the week\n",
    "    \n",
    "    Attributes\n",
    "    ------------\n",
    "    x: datetime obj\n",
    "    \"\"\"\n",
    "    my_date = pd.to_datetime(x) \n",
    "    return my_date.weekday()\n",
    "\n",
    "def convert_day_of_week(x):\n",
    "    \"\"\"\n",
    "    Convert the date to string day of the week\n",
    "    \n",
    "    Attributes\n",
    "    ------------\n",
    "    x: datetime obj\n",
    "    \"\"\"\n",
    "    my_date = pd.to_datetime(x) \n",
    "    return calendar.day_name[my_date.weekday()]\n",
    "\n",
    "def convert_week_of_year(x):\n",
    "    \"\"\"\n",
    "    Convert the date to the week of the year\n",
    "    \n",
    "    Attributes\n",
    "    ------------\n",
    "    x: datetime obj\n",
    "    \"\"\"\n",
    "    my_date = pd.to_datetime(x) \n",
    "    return my_date.isocalendar()[1]"
   ]
  },
  {
   "cell_type": "code",
   "execution_count": 6,
   "metadata": {
    "collapsed": true
   },
   "outputs": [],
   "source": [
    "import operator\n",
    "\n",
    "def find_missing_values(df):\n",
    "    \"\"\"\n",
    "    df: pandas dataframe\n",
    "\n",
    "    Returns sorted list of features by the percentage missing values\n",
    "    \"\"\"\n",
    "    count_nan = (len(df) - df.count()) / len(df)\n",
    "    percentage_nan = {}\n",
    "\n",
    "    for item in range (0, len(count_nan)):\n",
    "        if count_nan[item] > 0:\n",
    "            percentage_nan[count_nan.index[item]] = round(count_nan[item], 4)\n",
    "    \n",
    "    return sorted(percentage_nan.items(), key=operator.itemgetter(1))"
   ]
  },
  {
   "cell_type": "code",
   "execution_count": 7,
   "metadata": {
    "collapsed": true
   },
   "outputs": [],
   "source": [
    "def get_var_type(df):\n",
    "    \"\"\"\n",
    "    Automatically determine variable type\n",
    "    Attribute:\n",
    "    ------------\n",
    "    df: pandas dataframe\n",
    "    \"\"\"\n",
    "    \n",
    "    continuous_vars = []\n",
    "    rest = []\n",
    "    for cols in df.columns:\n",
    "        a = type(df.ix[0, cols])== np.float64 and pd.notnull(df.ix[0, cols])\n",
    "        b = type(df.ix[0, cols])== float and pd.notnull(df.ix[0, cols])\n",
    "        if (a) or (b):\n",
    "            continuous_vars.append(cols)\n",
    "        else:\n",
    "            rest.append(cols)\n",
    "            \n",
    "    return (continuous_vars, rest)"
   ]
  },
  {
   "cell_type": "markdown",
   "metadata": {},
   "source": [
    "## Load Data"
   ]
  },
  {
   "cell_type": "code",
   "execution_count": 2,
   "metadata": {
    "collapsed": false
   },
   "outputs": [
    {
     "name": "stdout",
     "output_type": "stream",
     "text": [
      "Dataset has 379058 samples with 97 features each.\n"
     ]
    }
   ],
   "source": [
    "dataPath = 'data'\n",
    "df = pd.read_csv(dataPath+'/LoanStats3a.csv')\n",
    "df_b = pd.read_csv(dataPath+'/LoanStats3b.csv')\n",
    "df_c = pd.read_csv(dataPath+'/LoanStats3c.csv')\n",
    "\n",
    "df = df.append(df_b)\n",
    "df = df.append(df_c)\n",
    "df = df.reset_index()\n",
    "print (\"Dataset has {} samples with {} features each.\".format(*df.shape))\n"
   ]
  },
  {
   "cell_type": "markdown",
   "metadata": {},
   "source": [
    "Load data dictionary"
   ]
  },
  {
   "cell_type": "code",
   "execution_count": 9,
   "metadata": {
    "collapsed": false
   },
   "outputs": [
    {
     "data": {
      "text/plain": [
       "[u'LoanStats', u'browseNotes', u'RejectStats']"
      ]
     },
     "execution_count": 9,
     "metadata": {},
     "output_type": "execute_result"
    }
   ],
   "source": [
    "xls_file = pd.ExcelFile(dataPath+'/LCDataDictionary.xlsx')\n",
    "xls_file.sheet_names"
   ]
  },
  {
   "cell_type": "code",
   "execution_count": 10,
   "metadata": {
    "collapsed": false
   },
   "outputs": [],
   "source": [
    "df_data_dictionary = xls_file.parse('LoanStats')\n",
    "df_data_dictionary.columns = [u'Item', u'Description']\n",
    "df_ = xls_file.parse('browseNotes')\n",
    "df_.columns = df_data_dictionary.columns\n",
    "df_data_dictionary = df_data_dictionary.append(df_)"
   ]
  },
  {
   "cell_type": "code",
   "execution_count": 11,
   "metadata": {
    "collapsed": false
   },
   "outputs": [
    {
     "data": {
      "text/html": [
       "<div>\n",
       "<table border=\"1\" class=\"dataframe\">\n",
       "  <thead>\n",
       "    <tr style=\"text-align: right;\">\n",
       "      <th></th>\n",
       "      <th>Item</th>\n",
       "      <th>Description</th>\n",
       "    </tr>\n",
       "  </thead>\n",
       "  <tbody>\n",
       "    <tr>\n",
       "      <th>0</th>\n",
       "      <td>acc_now_delinq</td>\n",
       "      <td>The number of accounts on which the borrower i...</td>\n",
       "    </tr>\n",
       "    <tr>\n",
       "      <th>1</th>\n",
       "      <td>acc_open_past_24mths</td>\n",
       "      <td>Number of trades opened in past 24 months.</td>\n",
       "    </tr>\n",
       "    <tr>\n",
       "      <th>2</th>\n",
       "      <td>accept_d</td>\n",
       "      <td>The date which the borrower accepted the offer</td>\n",
       "    </tr>\n",
       "    <tr>\n",
       "      <th>3</th>\n",
       "      <td>addr_city</td>\n",
       "      <td>The  city provided by the borrower in the loan...</td>\n",
       "    </tr>\n",
       "    <tr>\n",
       "      <th>4</th>\n",
       "      <td>addr_state</td>\n",
       "      <td>The state provided by the borrower in the loan...</td>\n",
       "    </tr>\n",
       "  </tbody>\n",
       "</table>\n",
       "</div>"
      ],
      "text/plain": [
       "                   Item                                        Description\n",
       "0        acc_now_delinq  The number of accounts on which the borrower i...\n",
       "1  acc_open_past_24mths         Number of trades opened in past 24 months.\n",
       "2              accept_d     The date which the borrower accepted the offer\n",
       "3             addr_city  The  city provided by the borrower in the loan...\n",
       "4            addr_state  The state provided by the borrower in the loan..."
      ]
     },
     "execution_count": 11,
     "metadata": {},
     "output_type": "execute_result"
    }
   ],
   "source": [
    "df_data_dictionary.head()"
   ]
  },
  {
   "cell_type": "code",
   "execution_count": 12,
   "metadata": {
    "collapsed": false
   },
   "outputs": [
    {
     "data": {
      "text/html": [
       "<div>\n",
       "<table border=\"1\" class=\"dataframe\">\n",
       "  <thead>\n",
       "    <tr style=\"text-align: right;\">\n",
       "      <th></th>\n",
       "      <th>index</th>\n",
       "      <th>id</th>\n",
       "      <th>member_id</th>\n",
       "      <th>loan_amnt</th>\n",
       "      <th>funded_amnt</th>\n",
       "      <th>funded_amnt_inv</th>\n",
       "      <th>term</th>\n",
       "      <th>int_rate</th>\n",
       "      <th>installment</th>\n",
       "      <th>grade</th>\n",
       "      <th>...</th>\n",
       "      <th>num_il_tl</th>\n",
       "      <th>mo_sin_old_il_acct</th>\n",
       "      <th>num_actv_rev_tl</th>\n",
       "      <th>mo_sin_old_rev_tl_op</th>\n",
       "      <th>mo_sin_rcnt_rev_tl_op</th>\n",
       "      <th>total_rev_hi_lim</th>\n",
       "      <th>num_rev_tl_bal_gt_0</th>\n",
       "      <th>num_op_rev_tl</th>\n",
       "      <th>tot_coll_amt</th>\n",
       "      <th>policy_code</th>\n",
       "    </tr>\n",
       "  </thead>\n",
       "  <tbody>\n",
       "    <tr>\n",
       "      <th>0</th>\n",
       "      <td>0</td>\n",
       "      <td>1077501</td>\n",
       "      <td>1296599.0</td>\n",
       "      <td>5000.0</td>\n",
       "      <td>5000.0</td>\n",
       "      <td>4975.0</td>\n",
       "      <td>36 months</td>\n",
       "      <td>10.65%</td>\n",
       "      <td>162.87</td>\n",
       "      <td>B</td>\n",
       "      <td>...</td>\n",
       "      <td>NaN</td>\n",
       "      <td>NaN</td>\n",
       "      <td>NaN</td>\n",
       "      <td>NaN</td>\n",
       "      <td>NaN</td>\n",
       "      <td>NaN</td>\n",
       "      <td>NaN</td>\n",
       "      <td>NaN</td>\n",
       "      <td>NaN</td>\n",
       "      <td>1.0</td>\n",
       "    </tr>\n",
       "    <tr>\n",
       "      <th>1</th>\n",
       "      <td>1</td>\n",
       "      <td>1077430</td>\n",
       "      <td>1314167.0</td>\n",
       "      <td>2500.0</td>\n",
       "      <td>2500.0</td>\n",
       "      <td>2500.0</td>\n",
       "      <td>60 months</td>\n",
       "      <td>15.27%</td>\n",
       "      <td>59.83</td>\n",
       "      <td>C</td>\n",
       "      <td>...</td>\n",
       "      <td>NaN</td>\n",
       "      <td>NaN</td>\n",
       "      <td>NaN</td>\n",
       "      <td>NaN</td>\n",
       "      <td>NaN</td>\n",
       "      <td>NaN</td>\n",
       "      <td>NaN</td>\n",
       "      <td>NaN</td>\n",
       "      <td>NaN</td>\n",
       "      <td>1.0</td>\n",
       "    </tr>\n",
       "    <tr>\n",
       "      <th>2</th>\n",
       "      <td>2</td>\n",
       "      <td>1077175</td>\n",
       "      <td>1313524.0</td>\n",
       "      <td>2400.0</td>\n",
       "      <td>2400.0</td>\n",
       "      <td>2400.0</td>\n",
       "      <td>36 months</td>\n",
       "      <td>15.96%</td>\n",
       "      <td>84.33</td>\n",
       "      <td>C</td>\n",
       "      <td>...</td>\n",
       "      <td>NaN</td>\n",
       "      <td>NaN</td>\n",
       "      <td>NaN</td>\n",
       "      <td>NaN</td>\n",
       "      <td>NaN</td>\n",
       "      <td>NaN</td>\n",
       "      <td>NaN</td>\n",
       "      <td>NaN</td>\n",
       "      <td>NaN</td>\n",
       "      <td>1.0</td>\n",
       "    </tr>\n",
       "    <tr>\n",
       "      <th>3</th>\n",
       "      <td>3</td>\n",
       "      <td>1076863</td>\n",
       "      <td>1277178.0</td>\n",
       "      <td>10000.0</td>\n",
       "      <td>10000.0</td>\n",
       "      <td>10000.0</td>\n",
       "      <td>36 months</td>\n",
       "      <td>13.49%</td>\n",
       "      <td>339.31</td>\n",
       "      <td>C</td>\n",
       "      <td>...</td>\n",
       "      <td>NaN</td>\n",
       "      <td>NaN</td>\n",
       "      <td>NaN</td>\n",
       "      <td>NaN</td>\n",
       "      <td>NaN</td>\n",
       "      <td>NaN</td>\n",
       "      <td>NaN</td>\n",
       "      <td>NaN</td>\n",
       "      <td>NaN</td>\n",
       "      <td>1.0</td>\n",
       "    </tr>\n",
       "    <tr>\n",
       "      <th>4</th>\n",
       "      <td>4</td>\n",
       "      <td>1075358</td>\n",
       "      <td>1311748.0</td>\n",
       "      <td>3000.0</td>\n",
       "      <td>3000.0</td>\n",
       "      <td>3000.0</td>\n",
       "      <td>60 months</td>\n",
       "      <td>12.69%</td>\n",
       "      <td>67.79</td>\n",
       "      <td>B</td>\n",
       "      <td>...</td>\n",
       "      <td>NaN</td>\n",
       "      <td>NaN</td>\n",
       "      <td>NaN</td>\n",
       "      <td>NaN</td>\n",
       "      <td>NaN</td>\n",
       "      <td>NaN</td>\n",
       "      <td>NaN</td>\n",
       "      <td>NaN</td>\n",
       "      <td>NaN</td>\n",
       "      <td>1.0</td>\n",
       "    </tr>\n",
       "  </tbody>\n",
       "</table>\n",
       "<p>5 rows × 97 columns</p>\n",
       "</div>"
      ],
      "text/plain": [
       "   index       id  member_id  loan_amnt  funded_amnt  funded_amnt_inv  \\\n",
       "0      0  1077501  1296599.0     5000.0       5000.0           4975.0   \n",
       "1      1  1077430  1314167.0     2500.0       2500.0           2500.0   \n",
       "2      2  1077175  1313524.0     2400.0       2400.0           2400.0   \n",
       "3      3  1076863  1277178.0    10000.0      10000.0          10000.0   \n",
       "4      4  1075358  1311748.0     3000.0       3000.0           3000.0   \n",
       "\n",
       "         term int_rate  installment grade     ...     num_il_tl  \\\n",
       "0   36 months   10.65%       162.87     B     ...           NaN   \n",
       "1   60 months   15.27%        59.83     C     ...           NaN   \n",
       "2   36 months   15.96%        84.33     C     ...           NaN   \n",
       "3   36 months   13.49%       339.31     C     ...           NaN   \n",
       "4   60 months   12.69%        67.79     B     ...           NaN   \n",
       "\n",
       "  mo_sin_old_il_acct num_actv_rev_tl mo_sin_old_rev_tl_op  \\\n",
       "0                NaN             NaN                  NaN   \n",
       "1                NaN             NaN                  NaN   \n",
       "2                NaN             NaN                  NaN   \n",
       "3                NaN             NaN                  NaN   \n",
       "4                NaN             NaN                  NaN   \n",
       "\n",
       "   mo_sin_rcnt_rev_tl_op total_rev_hi_lim num_rev_tl_bal_gt_0 num_op_rev_tl  \\\n",
       "0                    NaN              NaN                 NaN           NaN   \n",
       "1                    NaN              NaN                 NaN           NaN   \n",
       "2                    NaN              NaN                 NaN           NaN   \n",
       "3                    NaN              NaN                 NaN           NaN   \n",
       "4                    NaN              NaN                 NaN           NaN   \n",
       "\n",
       "  tot_coll_amt policy_code  \n",
       "0          NaN         1.0  \n",
       "1          NaN         1.0  \n",
       "2          NaN         1.0  \n",
       "3          NaN         1.0  \n",
       "4          NaN         1.0  \n",
       "\n",
       "[5 rows x 97 columns]"
      ]
     },
     "execution_count": 12,
     "metadata": {},
     "output_type": "execute_result"
    }
   ],
   "source": [
    "df.head()"
   ]
  },
  {
   "cell_type": "markdown",
   "metadata": {},
   "source": [
    "The first thing I am going to do is find the percentage of missing values in my dataset"
   ]
  },
  {
   "cell_type": "code",
   "execution_count": 13,
   "metadata": {
    "collapsed": false,
    "scrolled": false
   },
   "outputs": [
    {
     "data": {
      "image/png": "[encoded data removed]",
      "text/plain": [
       "<matplotlib.figure.Figure at 0x10a3ab890>"
      ]
     },
     "metadata": {},
     "output_type": "display_data"
    }
   ],
   "source": [
    "missing_df = find_missing_values(df)\n",
    "\n",
    "cols = [x[0] for x in missing_df]\n",
    "vals = [x[1] for x in missing_df]\n",
    "\n",
    "pyplt.rcParams['figure.figsize'] = (8, 16)\n",
    "percentage_nan_frame = pd.DataFrame({ 'Percentage': vals,'Feature': cols })\n",
    "ax = percentage_nan_frame.plot(kind = 'barh',  width = 0.4, x = 'Feature', color = 'slateblue', \n",
    "                               title = \"Features Mapped By Percentage Missing Values\")\n",
    "pyplt.grid(True)\n",
    "pyplt.savefig('report/figures/missing_features.png', format='png', dpi=200)\n",
    "\n",
    "# reset figure size\n",
    "pyplt.rcParams['figure.figsize'] = (6, 4)"
   ]
  },
  {
   "cell_type": "markdown",
   "metadata": {},
   "source": [
    "To make my analysis tractable given the time in which this analysis must be completed, I am going to restrict myself to features for which less than 20% are missing."
   ]
  },
  {
   "cell_type": "markdown",
   "metadata": {},
   "source": [
    "Am dropping `url`, `index`, `id`, `member_id`, `emp_title`, `title`"
   ]
  },
  {
   "cell_type": "code",
   "execution_count": 14,
   "metadata": {
    "collapsed": false
   },
   "outputs": [],
   "source": [
    "drop_list = ['url', 'index', 'id', 'member_id', 'emp_title', 'title']\n",
    "for col, val in missing_df:\n",
    "    if val > 0.2:\n",
    "        drop_list.append(col)       "
   ]
  },
  {
   "cell_type": "code",
   "execution_count": 15,
   "metadata": {
    "collapsed": false
   },
   "outputs": [],
   "source": [
    "df.drop(drop_list, axis=1, inplace=True)"
   ]
  },
  {
   "cell_type": "code",
   "execution_count": 16,
   "metadata": {
    "collapsed": false
   },
   "outputs": [
    {
     "data": {
      "text/html": [
       "<div>\n",
       "<table border=\"1\" class=\"dataframe\">\n",
       "  <thead>\n",
       "    <tr style=\"text-align: right;\">\n",
       "      <th></th>\n",
       "      <th>loan_amnt</th>\n",
       "      <th>funded_amnt</th>\n",
       "      <th>funded_amnt_inv</th>\n",
       "      <th>term</th>\n",
       "      <th>int_rate</th>\n",
       "      <th>installment</th>\n",
       "      <th>grade</th>\n",
       "      <th>sub_grade</th>\n",
       "      <th>emp_length</th>\n",
       "      <th>home_ownership</th>\n",
       "      <th>...</th>\n",
       "      <th>recoveries</th>\n",
       "      <th>collection_recovery_fee</th>\n",
       "      <th>last_pymnt_d</th>\n",
       "      <th>last_pymnt_amnt</th>\n",
       "      <th>last_credit_pull_d</th>\n",
       "      <th>pub_rec_bankruptcies</th>\n",
       "      <th>chargeoff_within_12_mths</th>\n",
       "      <th>collections_12_mths_ex_med</th>\n",
       "      <th>tax_liens</th>\n",
       "      <th>policy_code</th>\n",
       "    </tr>\n",
       "  </thead>\n",
       "  <tbody>\n",
       "    <tr>\n",
       "      <th>0</th>\n",
       "      <td>5000.0</td>\n",
       "      <td>5000.0</td>\n",
       "      <td>4975.0</td>\n",
       "      <td>36 months</td>\n",
       "      <td>10.65%</td>\n",
       "      <td>162.87</td>\n",
       "      <td>B</td>\n",
       "      <td>B2</td>\n",
       "      <td>10+ years</td>\n",
       "      <td>RENT</td>\n",
       "      <td>...</td>\n",
       "      <td>0.00</td>\n",
       "      <td>0.00</td>\n",
       "      <td>2014-08-11</td>\n",
       "      <td>162.87</td>\n",
       "      <td>2014-08-21</td>\n",
       "      <td>0.0</td>\n",
       "      <td>0.0</td>\n",
       "      <td>0.0</td>\n",
       "      <td>0.0</td>\n",
       "      <td>1.0</td>\n",
       "    </tr>\n",
       "    <tr>\n",
       "      <th>1</th>\n",
       "      <td>2500.0</td>\n",
       "      <td>2500.0</td>\n",
       "      <td>2500.0</td>\n",
       "      <td>60 months</td>\n",
       "      <td>15.27%</td>\n",
       "      <td>59.83</td>\n",
       "      <td>C</td>\n",
       "      <td>C4</td>\n",
       "      <td>&lt; 1 year</td>\n",
       "      <td>RENT</td>\n",
       "      <td>...</td>\n",
       "      <td>117.08</td>\n",
       "      <td>1.11</td>\n",
       "      <td>2013-04-30</td>\n",
       "      <td>119.66</td>\n",
       "      <td>2013-09-23</td>\n",
       "      <td>0.0</td>\n",
       "      <td>0.0</td>\n",
       "      <td>0.0</td>\n",
       "      <td>0.0</td>\n",
       "      <td>1.0</td>\n",
       "    </tr>\n",
       "    <tr>\n",
       "      <th>2</th>\n",
       "      <td>2400.0</td>\n",
       "      <td>2400.0</td>\n",
       "      <td>2400.0</td>\n",
       "      <td>36 months</td>\n",
       "      <td>15.96%</td>\n",
       "      <td>84.33</td>\n",
       "      <td>C</td>\n",
       "      <td>C5</td>\n",
       "      <td>10+ years</td>\n",
       "      <td>RENT</td>\n",
       "      <td>...</td>\n",
       "      <td>0.00</td>\n",
       "      <td>0.00</td>\n",
       "      <td>2014-06-10</td>\n",
       "      <td>649.91</td>\n",
       "      <td>2014-08-21</td>\n",
       "      <td>0.0</td>\n",
       "      <td>0.0</td>\n",
       "      <td>0.0</td>\n",
       "      <td>0.0</td>\n",
       "      <td>1.0</td>\n",
       "    </tr>\n",
       "    <tr>\n",
       "      <th>3</th>\n",
       "      <td>10000.0</td>\n",
       "      <td>10000.0</td>\n",
       "      <td>10000.0</td>\n",
       "      <td>36 months</td>\n",
       "      <td>13.49%</td>\n",
       "      <td>339.31</td>\n",
       "      <td>C</td>\n",
       "      <td>C1</td>\n",
       "      <td>10+ years</td>\n",
       "      <td>RENT</td>\n",
       "      <td>...</td>\n",
       "      <td>0.00</td>\n",
       "      <td>0.00</td>\n",
       "      <td>2014-08-08</td>\n",
       "      <td>339.31</td>\n",
       "      <td>2014-08-21</td>\n",
       "      <td>0.0</td>\n",
       "      <td>0.0</td>\n",
       "      <td>0.0</td>\n",
       "      <td>0.0</td>\n",
       "      <td>1.0</td>\n",
       "    </tr>\n",
       "    <tr>\n",
       "      <th>4</th>\n",
       "      <td>3000.0</td>\n",
       "      <td>3000.0</td>\n",
       "      <td>3000.0</td>\n",
       "      <td>60 months</td>\n",
       "      <td>12.69%</td>\n",
       "      <td>67.79</td>\n",
       "      <td>B</td>\n",
       "      <td>B5</td>\n",
       "      <td>1 year</td>\n",
       "      <td>RENT</td>\n",
       "      <td>...</td>\n",
       "      <td>0.00</td>\n",
       "      <td>0.00</td>\n",
       "      <td>2014-08-08</td>\n",
       "      <td>67.79</td>\n",
       "      <td>2014-08-21</td>\n",
       "      <td>0.0</td>\n",
       "      <td>0.0</td>\n",
       "      <td>0.0</td>\n",
       "      <td>0.0</td>\n",
       "      <td>1.0</td>\n",
       "    </tr>\n",
       "  </tbody>\n",
       "</table>\n",
       "<p>5 rows × 50 columns</p>\n",
       "</div>"
      ],
      "text/plain": [
       "   loan_amnt  funded_amnt  funded_amnt_inv        term int_rate  installment  \\\n",
       "0     5000.0       5000.0           4975.0   36 months   10.65%       162.87   \n",
       "1     2500.0       2500.0           2500.0   60 months   15.27%        59.83   \n",
       "2     2400.0       2400.0           2400.0   36 months   15.96%        84.33   \n",
       "3    10000.0      10000.0          10000.0   36 months   13.49%       339.31   \n",
       "4     3000.0       3000.0           3000.0   60 months   12.69%        67.79   \n",
       "\n",
       "  grade sub_grade emp_length home_ownership     ...      recoveries  \\\n",
       "0     B        B2  10+ years           RENT     ...            0.00   \n",
       "1     C        C4   < 1 year           RENT     ...          117.08   \n",
       "2     C        C5  10+ years           RENT     ...            0.00   \n",
       "3     C        C1  10+ years           RENT     ...            0.00   \n",
       "4     B        B5     1 year           RENT     ...            0.00   \n",
       "\n",
       "  collection_recovery_fee last_pymnt_d last_pymnt_amnt last_credit_pull_d  \\\n",
       "0                    0.00   2014-08-11          162.87         2014-08-21   \n",
       "1                    1.11   2013-04-30          119.66         2013-09-23   \n",
       "2                    0.00   2014-06-10          649.91         2014-08-21   \n",
       "3                    0.00   2014-08-08          339.31         2014-08-21   \n",
       "4                    0.00   2014-08-08           67.79         2014-08-21   \n",
       "\n",
       "  pub_rec_bankruptcies chargeoff_within_12_mths collections_12_mths_ex_med  \\\n",
       "0                  0.0                      0.0                        0.0   \n",
       "1                  0.0                      0.0                        0.0   \n",
       "2                  0.0                      0.0                        0.0   \n",
       "3                  0.0                      0.0                        0.0   \n",
       "4                  0.0                      0.0                        0.0   \n",
       "\n",
       "  tax_liens policy_code  \n",
       "0       0.0         1.0  \n",
       "1       0.0         1.0  \n",
       "2       0.0         1.0  \n",
       "3       0.0         1.0  \n",
       "4       0.0         1.0  \n",
       "\n",
       "[5 rows x 50 columns]"
      ]
     },
     "execution_count": 16,
     "metadata": {},
     "output_type": "execute_result"
    }
   ],
   "source": [
    "df.head()"
   ]
  },
  {
   "cell_type": "markdown",
   "metadata": {},
   "source": [
    "Automatically detect column type"
   ]
  },
  {
   "cell_type": "code",
   "execution_count": 17,
   "metadata": {
    "collapsed": false
   },
   "outputs": [],
   "source": [
    "continuous_vars, rest = get_var_type(df)"
   ]
  },
  {
   "cell_type": "markdown",
   "metadata": {},
   "source": [
    "### Categorical variable\n",
    "- 'term',\n",
    "-  'grade',\n",
    "-  'sub_grade',\n",
    "-  'emp_length',\n",
    "-  'home_ownership',\n",
    "-  'is_inc_v',\n",
    "- 'loan_status',\n",
    "- 'pymnt_plan',\n",
    "- 'purpose',\n",
    "- 'addr_city',\n",
    "- 'addr_state',\n",
    "- 'revol_util',\n",
    "- 'initial_list_status',\n",
    " \n",
    "\n",
    "\n",
    "### Dates\n",
    "- 'accept_d',\n",
    "-  'exp_d',\n",
    "- 'list_d',\n",
    "- 'issue_d',\n",
    "- 'earliest_cr_line'\n",
    "- 'last_pymnt_d',\n",
    "- 'last_credit_pull_d'"
   ]
  },
  {
   "cell_type": "code",
   "execution_count": 18,
   "metadata": {
    "collapsed": false
   },
   "outputs": [
    {
     "data": {
      "text/html": [
       "<div>\n",
       "<table border=\"1\" class=\"dataframe\">\n",
       "  <thead>\n",
       "    <tr style=\"text-align: right;\">\n",
       "      <th></th>\n",
       "      <th>loan_amnt</th>\n",
       "      <th>funded_amnt</th>\n",
       "      <th>funded_amnt_inv</th>\n",
       "      <th>installment</th>\n",
       "      <th>annual_inc</th>\n",
       "      <th>acc_now_delinq</th>\n",
       "      <th>dti</th>\n",
       "      <th>delinq_2yrs</th>\n",
       "      <th>delinq_amnt</th>\n",
       "      <th>inq_last_6mths</th>\n",
       "    </tr>\n",
       "  </thead>\n",
       "  <tbody>\n",
       "    <tr>\n",
       "      <th>0</th>\n",
       "      <td>5000.0</td>\n",
       "      <td>5000.0</td>\n",
       "      <td>4975.0</td>\n",
       "      <td>162.87</td>\n",
       "      <td>24000.0</td>\n",
       "      <td>0.0</td>\n",
       "      <td>27.65</td>\n",
       "      <td>0.0</td>\n",
       "      <td>0.0</td>\n",
       "      <td>1.0</td>\n",
       "    </tr>\n",
       "  </tbody>\n",
       "</table>\n",
       "</div>"
      ],
      "text/plain": [
       "   loan_amnt  funded_amnt  funded_amnt_inv  installment  annual_inc  \\\n",
       "0     5000.0       5000.0           4975.0       162.87     24000.0   \n",
       "\n",
       "   acc_now_delinq    dti  delinq_2yrs  delinq_amnt  inq_last_6mths  \n",
       "0             0.0  27.65          0.0          0.0             1.0  "
      ]
     },
     "metadata": {},
     "output_type": "display_data"
    },
    {
     "data": {
      "text/html": [
       "<div>\n",
       "<table border=\"1\" class=\"dataframe\">\n",
       "  <thead>\n",
       "    <tr style=\"text-align: right;\">\n",
       "      <th></th>\n",
       "      <th>open_acc</th>\n",
       "      <th>pub_rec</th>\n",
       "      <th>revol_bal</th>\n",
       "      <th>total_acc</th>\n",
       "      <th>out_prncp</th>\n",
       "      <th>out_prncp_inv</th>\n",
       "      <th>total_pymnt</th>\n",
       "      <th>total_pymnt_inv</th>\n",
       "      <th>total_rec_prncp</th>\n",
       "      <th>total_rec_int</th>\n",
       "    </tr>\n",
       "  </thead>\n",
       "  <tbody>\n",
       "    <tr>\n",
       "      <th>0</th>\n",
       "      <td>3.0</td>\n",
       "      <td>0.0</td>\n",
       "      <td>13648.0</td>\n",
       "      <td>9.0</td>\n",
       "      <td>801.87</td>\n",
       "      <td>797.81</td>\n",
       "      <td>5037.97</td>\n",
       "      <td>5012.83</td>\n",
       "      <td>4198.13</td>\n",
       "      <td>839.84</td>\n",
       "    </tr>\n",
       "  </tbody>\n",
       "</table>\n",
       "</div>"
      ],
      "text/plain": [
       "   open_acc  pub_rec  revol_bal  total_acc  out_prncp  out_prncp_inv  \\\n",
       "0       3.0      0.0    13648.0        9.0     801.87         797.81   \n",
       "\n",
       "   total_pymnt  total_pymnt_inv  total_rec_prncp  total_rec_int  \n",
       "0      5037.97          5012.83          4198.13         839.84  "
      ]
     },
     "metadata": {},
     "output_type": "display_data"
    },
    {
     "data": {
      "text/html": [
       "<div>\n",
       "<table border=\"1\" class=\"dataframe\">\n",
       "  <thead>\n",
       "    <tr style=\"text-align: right;\">\n",
       "      <th></th>\n",
       "      <th>total_rec_late_fee</th>\n",
       "      <th>recoveries</th>\n",
       "      <th>collection_recovery_fee</th>\n",
       "      <th>last_pymnt_amnt</th>\n",
       "      <th>pub_rec_bankruptcies</th>\n",
       "      <th>chargeoff_within_12_mths</th>\n",
       "      <th>collections_12_mths_ex_med</th>\n",
       "      <th>tax_liens</th>\n",
       "      <th>policy_code</th>\n",
       "    </tr>\n",
       "  </thead>\n",
       "  <tbody>\n",
       "    <tr>\n",
       "      <th>0</th>\n",
       "      <td>0.0</td>\n",
       "      <td>0.0</td>\n",
       "      <td>0.0</td>\n",
       "      <td>162.87</td>\n",
       "      <td>0.0</td>\n",
       "      <td>0.0</td>\n",
       "      <td>0.0</td>\n",
       "      <td>0.0</td>\n",
       "      <td>1.0</td>\n",
       "    </tr>\n",
       "  </tbody>\n",
       "</table>\n",
       "</div>"
      ],
      "text/plain": [
       "   total_rec_late_fee  recoveries  collection_recovery_fee  last_pymnt_amnt  \\\n",
       "0                 0.0         0.0                      0.0           162.87   \n",
       "\n",
       "   pub_rec_bankruptcies  chargeoff_within_12_mths  collections_12_mths_ex_med  \\\n",
       "0                   0.0                       0.0                         0.0   \n",
       "\n",
       "   tax_liens  policy_code  \n",
       "0        0.0          1.0  "
      ]
     },
     "metadata": {},
     "output_type": "display_data"
    }
   ],
   "source": [
    "display(df[continuous_vars[0:10]].head(1))\n",
    "display(df[continuous_vars[10:20]].head(1))\n",
    "display(df[continuous_vars[20:]].head(1))"
   ]
  },
  {
   "cell_type": "markdown",
   "metadata": {},
   "source": [
    "### Data Preprocessing\n"
   ]
  },
  {
   "cell_type": "code",
   "execution_count": 19,
   "metadata": {
    "collapsed": false
   },
   "outputs": [
    {
     "name": "stdout",
     "output_type": "stream",
     "text": [
      "Revolving line utilization rate, or the amount of credit the borrower is using relative to all available revolving credit.\n"
     ]
    }
   ],
   "source": [
    "get_item_description('revol_util')"
   ]
  },
  {
   "cell_type": "code",
   "execution_count": 20,
   "metadata": {
    "collapsed": false
   },
   "outputs": [],
   "source": [
    "df['int_rate'] = df['int_rate'].str.extract('(\\d+.\\d+)')\n",
    "df['int_rate'] = df['int_rate'].map(lambda x: float(x))"
   ]
  },
  {
   "cell_type": "code",
   "execution_count": 21,
   "metadata": {
    "collapsed": false
   },
   "outputs": [],
   "source": [
    "df['revol_util'] = df['revol_util'].str.extract('(\\d+.\\d+)')\n",
    "df['revol_util'] = df['revol_util'].map(lambda x: float(x))\n",
    "df['revol_util'] = df['revol_util'].fillna(-1) # that is 25% missing, so filling with -1 to indicate missing"
   ]
  },
  {
   "cell_type": "code",
   "execution_count": 22,
   "metadata": {
    "collapsed": false
   },
   "outputs": [
    {
     "data": {
      "text/plain": [
       "(379058, 50)"
      ]
     },
     "execution_count": 22,
     "metadata": {},
     "output_type": "execute_result"
    }
   ],
   "source": [
    "df.shape"
   ]
  },
  {
   "cell_type": "code",
   "execution_count": 23,
   "metadata": {
    "collapsed": false
   },
   "outputs": [
    {
     "data": {
      "text/plain": [
       "(331476, 50)"
      ]
     },
     "execution_count": 23,
     "metadata": {},
     "output_type": "execute_result"
    }
   ],
   "source": [
    "df = df.dropna()\n",
    "df.shape"
   ]
  },
  {
   "cell_type": "code",
   "execution_count": 24,
   "metadata": {
    "collapsed": false
   },
   "outputs": [],
   "source": [
    "categorical_var = ['term','grade','sub_grade',\n",
    " 'emp_length','home_ownership','is_inc_v','pymnt_plan','purpose',\n",
    " 'addr_city','addr_state','revol_util','initial_list_status']\n",
    "\n",
    "date_var = ['accept_d','list_d','exp_d','issue_d',\n",
    "'earliest_cr_line','last_pymnt_d','last_credit_pull_d']"
   ]
  },
  {
   "cell_type": "markdown",
   "metadata": {},
   "source": [
    "#### Deal with dates"
   ]
  },
  {
   "cell_type": "code",
   "execution_count": 25,
   "metadata": {
    "collapsed": false
   },
   "outputs": [
    {
     "name": "stdout",
     "output_type": "stream",
     "text": [
      "accept_d\n",
      "list_d\n",
      "exp_d\n",
      "issue_d\n",
      "earliest_cr_line\n",
      "last_pymnt_d\n",
      "last_credit_pull_d\n"
     ]
    }
   ],
   "source": [
    "for cols in date_var:\n",
    "    print (cols)\n",
    "    df[cols+'_months'] = convert_date_months(df[cols])\n",
    "    df[cols+'_days'] = convert_date_days(df[cols])"
   ]
  },
  {
   "cell_type": "markdown",
   "metadata": {},
   "source": [
    "#### Deal with categorical variables"
   ]
  },
  {
   "cell_type": "code",
   "execution_count": 26,
   "metadata": {
    "collapsed": false
   },
   "outputs": [
    {
     "data": {
      "text/html": [
       "<div>\n",
       "<table border=\"1\" class=\"dataframe\">\n",
       "  <thead>\n",
       "    <tr style=\"text-align: right;\">\n",
       "      <th></th>\n",
       "      <th>term</th>\n",
       "      <th>grade</th>\n",
       "      <th>sub_grade</th>\n",
       "      <th>emp_length</th>\n",
       "      <th>home_ownership</th>\n",
       "      <th>is_inc_v</th>\n",
       "      <th>pymnt_plan</th>\n",
       "      <th>purpose</th>\n",
       "      <th>addr_city</th>\n",
       "      <th>addr_state</th>\n",
       "    </tr>\n",
       "  </thead>\n",
       "  <tbody>\n",
       "    <tr>\n",
       "      <th>0</th>\n",
       "      <td>36 months</td>\n",
       "      <td>B</td>\n",
       "      <td>B2</td>\n",
       "      <td>10+ years</td>\n",
       "      <td>RENT</td>\n",
       "      <td>Verified</td>\n",
       "      <td>n</td>\n",
       "      <td>credit_card</td>\n",
       "      <td>FLAGSTAFF</td>\n",
       "      <td>AZ</td>\n",
       "    </tr>\n",
       "  </tbody>\n",
       "</table>\n",
       "</div>"
      ],
      "text/plain": [
       "         term grade sub_grade emp_length home_ownership  is_inc_v pymnt_plan  \\\n",
       "0   36 months     B        B2  10+ years           RENT  Verified          n   \n",
       "\n",
       "       purpose  addr_city addr_state  \n",
       "0  credit_card  FLAGSTAFF         AZ  "
      ]
     },
     "metadata": {},
     "output_type": "display_data"
    },
    {
     "data": {
      "text/html": [
       "<div>\n",
       "<table border=\"1\" class=\"dataframe\">\n",
       "  <thead>\n",
       "    <tr style=\"text-align: right;\">\n",
       "      <th></th>\n",
       "      <th>revol_util</th>\n",
       "      <th>initial_list_status</th>\n",
       "    </tr>\n",
       "  </thead>\n",
       "  <tbody>\n",
       "    <tr>\n",
       "      <th>0</th>\n",
       "      <td>83.7</td>\n",
       "      <td>f</td>\n",
       "    </tr>\n",
       "  </tbody>\n",
       "</table>\n",
       "</div>"
      ],
      "text/plain": [
       "   revol_util initial_list_status\n",
       "0        83.7                   f"
      ]
     },
     "metadata": {},
     "output_type": "display_data"
    }
   ],
   "source": [
    "display(df[categorical_var[0:10]].head(1))\n",
    "display(df[categorical_var[10:]].head(1))"
   ]
  },
  {
   "cell_type": "code",
   "execution_count": 27,
   "metadata": {
    "collapsed": false
   },
   "outputs": [],
   "source": [
    "from sklearn.preprocessing import LabelEncoder\n",
    "\n",
    "\n",
    "number = LabelEncoder()\n",
    "df['term_old'] = df['term']  \n",
    "df['term'] = number.fit_transform(df['term'].astype(str))\n",
    "\n",
    "\n",
    "df['addr_city_old'] = df['addr_city']\n",
    "df['addr_city'] = number.fit_transform(df['addr_city'].astype(str))\n",
    "\n",
    "df['addr_state_old'] = df['addr_state']\n",
    "df['addr_state'] = number.fit_transform(df['addr_state'].astype(str))\n",
    "\n",
    "df['home_ownership_old'] = df['home_ownership']\n",
    "df['home_ownership'] = number.fit_transform(df['home_ownership'].astype(str))\n",
    "\n",
    "df['purpose_old'] = df['purpose']\n",
    "df['purpose'] = number.fit_transform(df['purpose'].astype(str))\n",
    "\n",
    "df['pymnt_plan_old'] = df['pymnt_plan']\n",
    "df['pymnt_plan'] = number.fit_transform(df['pymnt_plan'].astype(str))\n",
    "\n",
    "df['is_inc_v_old'] = df['is_inc_v']\n",
    "df['is_inc_v'] = number.fit_transform(df['is_inc_v'].astype(str))\n",
    "\n",
    "df['initial_list_status_old'] = df['initial_list_status']\n",
    "df['initial_list_status'] = number.fit_transform(df['initial_list_status'].astype(str))\n",
    "\n",
    "\n",
    "df['emp_length_old'] = df['emp_length']\n",
    "df['emp_length'] = number.fit_transform(df['emp_length'].astype(str))\n",
    "\n",
    "df['grade_old'] = df['grade']\n",
    "df['grade'] = number.fit_transform(df['grade'].astype(str))\n",
    "\n",
    "df['sub_grade_old'] = df['sub_grade']\n",
    "df['sub_grade'] = number.fit_transform(df['sub_grade'].astype(str))"
   ]
  },
  {
   "cell_type": "code",
   "execution_count": 28,
   "metadata": {
    "collapsed": false
   },
   "outputs": [
    {
     "data": {
      "text/html": [
       "<div>\n",
       "<table border=\"1\" class=\"dataframe\">\n",
       "  <thead>\n",
       "    <tr style=\"text-align: right;\">\n",
       "      <th></th>\n",
       "      <th>grade</th>\n",
       "      <th>sub_grade</th>\n",
       "      <th>grade_old</th>\n",
       "      <th>sub_grade_old</th>\n",
       "    </tr>\n",
       "  </thead>\n",
       "  <tbody>\n",
       "    <tr>\n",
       "      <th>0</th>\n",
       "      <td>1</td>\n",
       "      <td>6</td>\n",
       "      <td>B</td>\n",
       "      <td>B2</td>\n",
       "    </tr>\n",
       "  </tbody>\n",
       "</table>\n",
       "</div>"
      ],
      "text/plain": [
       "   grade  sub_grade grade_old sub_grade_old\n",
       "0      1          6         B            B2"
      ]
     },
     "metadata": {},
     "output_type": "display_data"
    }
   ],
   "source": [
    "new_grade_var = [x for x in df.columns if 'grade' in x]\n",
    "display(df[new_grade_var].head(1))"
   ]
  },
  {
   "cell_type": "markdown",
   "metadata": {},
   "source": [
    "### Derive Features\n",
    "1. `loan_rank`: 1 for bad loans, 0 for good loans  \n",
    "    - **Good loans** are the ones where the status is \n",
    "        - current \n",
    "        - fully paid\n",
    "    - **Bad loans** are the ones where the status is \n",
    "        - default\n",
    "        - in grace period\n",
    "        - late\n",
    "        - charged off\n",
    "2. Extract day of the week from dates\n",
    "3. Extract week of the year from dates\n",
    " \n",
    " \n",
    "#### Derive Features\n",
    "- Loan Rank"
   ]
  },
  {
   "cell_type": "code",
   "execution_count": 29,
   "metadata": {
    "collapsed": true
   },
   "outputs": [],
   "source": [
    "data = df['loan_status']\n",
    "data.dropna(inplace = True)"
   ]
  },
  {
   "cell_type": "code",
   "execution_count": 30,
   "metadata": {
    "collapsed": false
   },
   "outputs": [
    {
     "data": {
      "text/plain": [
       "Current                                                        245953\n",
       "Fully Paid                                                      62790\n",
       "Charged Off                                                     13451\n",
       "Late (31-120 days)                                               3876\n",
       "In Grace Period                                                  2001\n",
       "Does not meet the credit policy.  Status:Fully Paid              1444\n",
       "Late (16-30 days)                                                 981\n",
       "Does not meet the credit policy.  Status:Charged Off              523\n",
       "Default                                                           356\n",
       "Does not meet the credit policy.  Status:Current                   92\n",
       "Does not meet the credit policy.  Status:Late (31-120 days)         6\n",
       "Does not meet the credit policy.  Status:In Grace Period            1\n",
       "Does not meet the credit policy.  Status:Late (16-30 days)          1\n",
       "Does not meet the credit policy.  Status:Default                    1\n",
       "Name: loan_status, dtype: int64"
      ]
     },
     "execution_count": 30,
     "metadata": {},
     "output_type": "execute_result"
    }
   ],
   "source": [
    "df['loan_status'].value_counts()"
   ]
  },
  {
   "cell_type": "code",
   "execution_count": 31,
   "metadata": {
    "collapsed": false
   },
   "outputs": [],
   "source": [
    "index_ = df['loan_status'][df['loan_status'].str.contains('(Does not meet the credit*)')].index"
   ]
  },
  {
   "cell_type": "markdown",
   "metadata": {},
   "source": [
    "I did some research and discovered that loans with the prefix \"Does not meet the credit..\" in `loan_status`, are past loans that were granted before Lending Club did a major change to their lending policy. These represent less than 1% of all loans in the dataset. Moving forward, I will discard these loans from my analysis."
   ]
  },
  {
   "cell_type": "code",
   "execution_count": 32,
   "metadata": {
    "collapsed": false
   },
   "outputs": [
    {
     "data": {
      "text/plain": [
       "0.62387623840036688"
      ]
     },
     "execution_count": 32,
     "metadata": {},
     "output_type": "execute_result"
    }
   ],
   "source": [
    "df.ix[index_, 'loan_status'].count() / len(df) * 100"
   ]
  },
  {
   "cell_type": "code",
   "execution_count": 33,
   "metadata": {
    "collapsed": false
   },
   "outputs": [],
   "source": [
    "df.drop(df.index[index_], inplace=True)"
   ]
  },
  {
   "cell_type": "code",
   "execution_count": 34,
   "metadata": {
    "collapsed": true
   },
   "outputs": [],
   "source": [
    "# Create a set of dummy variables from the 'loan_status' variable\n",
    "df_loan_status = pd.get_dummies(df['loan_status'])"
   ]
  },
  {
   "cell_type": "code",
   "execution_count": 35,
   "metadata": {
    "collapsed": false
   },
   "outputs": [],
   "source": [
    "df['loan_rank'] =  df_loan_status[u'Default'] +  df_loan_status[u'In Grace Period'] + \\\n",
    "                   df_loan_status[u'Late (16-30 days)'] + df_loan_status[ u'Late (31-120 days)'] + \\\n",
    "                   df_loan_status[u'Charged Off']\n",
    "    \n",
    "df.drop(['loan_status'], axis = 1, inplace = True)"
   ]
  },
  {
   "cell_type": "markdown",
   "metadata": {},
   "source": [
    "#### Derive Features\n",
    "- Extract day of the week from dates\n",
    "- Extract week of the year from dates"
   ]
  },
  {
   "cell_type": "code",
   "execution_count": 36,
   "metadata": {
    "collapsed": false
   },
   "outputs": [
    {
     "name": "stdout",
     "output_type": "stream",
     "text": [
      "accept_d\n",
      "list_d\n",
      "exp_d\n",
      "issue_d\n",
      "earliest_cr_line\n",
      "last_pymnt_d\n",
      "last_credit_pull_d\n"
     ]
    }
   ],
   "source": [
    "for cols in date_var:\n",
    "    print (cols)\n",
    "    df[cols+'_num_day'] = df[cols].apply(lambda x: convert_num_day_of_week(x)) \n",
    "    df[cols+'_day'] = df[cols].apply(lambda x: convert_day_of_week(x))\n",
    "    df[cols+'_week_of_year'] = df[cols].apply(lambda x: convert_week_of_year(x)) "
   ]
  },
  {
   "cell_type": "markdown",
   "metadata": {},
   "source": [
    "### Save Dataset to file"
   ]
  },
  {
   "cell_type": "code",
   "execution_count": 37,
   "metadata": {
    "collapsed": false
   },
   "outputs": [
    {
     "data": {
      "text/plain": [
       "['data/df_cleaned.pkl']"
      ]
     },
     "execution_count": 37,
     "metadata": {},
     "output_type": "execute_result"
    }
   ],
   "source": [
    "joblib.dump(df, dataPath+'/df_cleaned.pkl')"
   ]
  }
 ],
 "metadata": {
  "anaconda-cloud": {},
  "kernelspec": {
   "display_name": "Python [conda root]",
   "language": "python",
   "name": "conda-root-py"
  },
  "language_info": {
   "codemirror_mode": {
    "name": "ipython",
    "version": 2
   },
   "file_extension": ".py",
   "mimetype": "text/x-python",
   "name": "python",
   "nbconvert_exporter": "python",
   "pygments_lexer": "ipython2",
   "version": "2.7.13"
  }
 },
 "nbformat": 4,
 "nbformat_minor": 2
}
