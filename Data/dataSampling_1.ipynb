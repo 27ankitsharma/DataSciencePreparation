{
 "cells": [
  {
   "cell_type": "markdown",
   "metadata": {},
   "source": [
    "# Data Sampling\n",
    "An introduction to deterministic and probabilistic sampling."
   ]
  },
  {
   "cell_type": "code",
   "execution_count": 1,
   "metadata": {
    "collapsed": false
   },
   "outputs": [
    {
     "name": "stdout",
     "output_type": "stream",
     "text": [
      "Populating the interactive namespace from numpy and matplotlib\n"
     ]
    }
   ],
   "source": [
    "%pylab inline"
   ]
  },
  {
   "cell_type": "code",
   "execution_count": 2,
   "metadata": {
    "collapsed": true
   },
   "outputs": [],
   "source": [
    "# Import libraries\n",
    "from __future__ import absolute_import, division, print_function\n",
    "\n",
    "# Ignore warnings\n",
    "import warnings\n",
    "#warnings.filterwarnings('ignore')\n",
    "\n",
    "import sys\n",
    "sys.path.append('tools/')\n",
    "\n",
    "import numpy as np\n",
    "import pandas as pd\n",
    "\n",
    "# Graphing Libraries\n",
    "import matplotlib.pyplot as pyplt\n",
    "import seaborn as sns\n",
    "sns.set_style(\"white\")  \n",
    "\n",
    "# Configure for presentation\n",
    "np.set_printoptions(threshold=50, linewidth=50)\n",
    "import matplotlib as mpl\n",
    "mpl.rc('font', size=16)\n",
    "\n",
    "from IPython.display import display"
   ]
  },
  {
   "cell_type": "markdown",
   "metadata": {},
   "source": [
    "To get our feet wet, let's take a look at the city of San Francisco's bike sharing data"
   ]
  },
  {
   "cell_type": "code",
   "execution_count": 3,
   "metadata": {
    "collapsed": false
   },
   "outputs": [],
   "source": [
    "trips = pd.read_csv('data/trip.csv')\n",
    "commute = trips.where(trips.Duration < 1800)"
   ]
  },
  {
   "cell_type": "code",
   "execution_count": 4,
   "metadata": {
    "collapsed": false,
    "scrolled": false
   },
   "outputs": [
    {
     "data": {
      "text/html": [
       "<div>\n",
       "<table border=\"1\" class=\"dataframe\">\n",
       "  <thead>\n",
       "    <tr style=\"text-align: right;\">\n",
       "      <th></th>\n",
       "      <th>Trip ID</th>\n",
       "      <th>Duration</th>\n",
       "      <th>Start Date</th>\n",
       "      <th>Start Station</th>\n",
       "      <th>Start Terminal</th>\n",
       "      <th>End Date</th>\n",
       "      <th>End Station</th>\n",
       "      <th>End Terminal</th>\n",
       "      <th>Bike #</th>\n",
       "      <th>Subscriber Type</th>\n",
       "      <th>Zip Code</th>\n",
       "    </tr>\n",
       "  </thead>\n",
       "  <tbody>\n",
       "    <tr>\n",
       "      <th>0</th>\n",
       "      <td>913460</td>\n",
       "      <td>765</td>\n",
       "      <td>8/31/2015 23:26</td>\n",
       "      <td>Harry Bridges Plaza (Ferry Building)</td>\n",
       "      <td>50</td>\n",
       "      <td>8/31/2015 23:39</td>\n",
       "      <td>San Francisco Caltrain (Townsend at 4th)</td>\n",
       "      <td>70</td>\n",
       "      <td>288</td>\n",
       "      <td>Subscriber</td>\n",
       "      <td>2139</td>\n",
       "    </tr>\n",
       "    <tr>\n",
       "      <th>1</th>\n",
       "      <td>913459</td>\n",
       "      <td>1036</td>\n",
       "      <td>8/31/2015 23:11</td>\n",
       "      <td>San Antonio Shopping Center</td>\n",
       "      <td>31</td>\n",
       "      <td>8/31/2015 23:28</td>\n",
       "      <td>Mountain View City Hall</td>\n",
       "      <td>27</td>\n",
       "      <td>35</td>\n",
       "      <td>Subscriber</td>\n",
       "      <td>95032</td>\n",
       "    </tr>\n",
       "    <tr>\n",
       "      <th>2</th>\n",
       "      <td>913455</td>\n",
       "      <td>307</td>\n",
       "      <td>8/31/2015 23:13</td>\n",
       "      <td>Post at Kearny</td>\n",
       "      <td>47</td>\n",
       "      <td>8/31/2015 23:18</td>\n",
       "      <td>2nd at South Park</td>\n",
       "      <td>64</td>\n",
       "      <td>468</td>\n",
       "      <td>Subscriber</td>\n",
       "      <td>94107</td>\n",
       "    </tr>\n",
       "    <tr>\n",
       "      <th>3</th>\n",
       "      <td>913454</td>\n",
       "      <td>409</td>\n",
       "      <td>8/31/2015 23:10</td>\n",
       "      <td>San Jose City Hall</td>\n",
       "      <td>10</td>\n",
       "      <td>8/31/2015 23:17</td>\n",
       "      <td>San Salvador at 1st</td>\n",
       "      <td>8</td>\n",
       "      <td>68</td>\n",
       "      <td>Subscriber</td>\n",
       "      <td>95113</td>\n",
       "    </tr>\n",
       "    <tr>\n",
       "      <th>4</th>\n",
       "      <td>913453</td>\n",
       "      <td>789</td>\n",
       "      <td>8/31/2015 23:09</td>\n",
       "      <td>Embarcadero at Folsom</td>\n",
       "      <td>51</td>\n",
       "      <td>8/31/2015 23:22</td>\n",
       "      <td>Embarcadero at Sansome</td>\n",
       "      <td>60</td>\n",
       "      <td>487</td>\n",
       "      <td>Customer</td>\n",
       "      <td>9069</td>\n",
       "    </tr>\n",
       "  </tbody>\n",
       "</table>\n",
       "</div>"
      ],
      "text/plain": [
       "   Trip ID  Duration       Start Date                         Start Station  \\\n",
       "0   913460       765  8/31/2015 23:26  Harry Bridges Plaza (Ferry Building)   \n",
       "1   913459      1036  8/31/2015 23:11           San Antonio Shopping Center   \n",
       "2   913455       307  8/31/2015 23:13                        Post at Kearny   \n",
       "3   913454       409  8/31/2015 23:10                    San Jose City Hall   \n",
       "4   913453       789  8/31/2015 23:09                 Embarcadero at Folsom   \n",
       "\n",
       "   Start Terminal         End Date                               End Station  \\\n",
       "0              50  8/31/2015 23:39  San Francisco Caltrain (Townsend at 4th)   \n",
       "1              31  8/31/2015 23:28                   Mountain View City Hall   \n",
       "2              47  8/31/2015 23:18                         2nd at South Park   \n",
       "3              10  8/31/2015 23:17                       San Salvador at 1st   \n",
       "4              51  8/31/2015 23:22                    Embarcadero at Sansome   \n",
       "\n",
       "   End Terminal  Bike # Subscriber Type Zip Code  \n",
       "0            70     288      Subscriber     2139  \n",
       "1            27      35      Subscriber    95032  \n",
       "2            64     468      Subscriber    94107  \n",
       "3             8      68      Subscriber    95113  \n",
       "4            60     487        Customer     9069  "
      ]
     },
     "metadata": {},
     "output_type": "display_data"
    },
    {
     "data": {
      "text/html": [
       "<div>\n",
       "<table border=\"1\" class=\"dataframe\">\n",
       "  <thead>\n",
       "    <tr style=\"text-align: right;\">\n",
       "      <th></th>\n",
       "      <th>Trip ID</th>\n",
       "      <th>Duration</th>\n",
       "      <th>Start Date</th>\n",
       "      <th>Start Station</th>\n",
       "      <th>Start Terminal</th>\n",
       "      <th>End Date</th>\n",
       "      <th>End Station</th>\n",
       "      <th>End Terminal</th>\n",
       "      <th>Bike #</th>\n",
       "      <th>Subscriber Type</th>\n",
       "      <th>Zip Code</th>\n",
       "    </tr>\n",
       "  </thead>\n",
       "  <tbody>\n",
       "    <tr>\n",
       "      <th>0</th>\n",
       "      <td>913460.0</td>\n",
       "      <td>765.0</td>\n",
       "      <td>8/31/2015 23:26</td>\n",
       "      <td>Harry Bridges Plaza (Ferry Building)</td>\n",
       "      <td>50.0</td>\n",
       "      <td>8/31/2015 23:39</td>\n",
       "      <td>San Francisco Caltrain (Townsend at 4th)</td>\n",
       "      <td>70.0</td>\n",
       "      <td>288.0</td>\n",
       "      <td>Subscriber</td>\n",
       "      <td>2139</td>\n",
       "    </tr>\n",
       "    <tr>\n",
       "      <th>1</th>\n",
       "      <td>913459.0</td>\n",
       "      <td>1036.0</td>\n",
       "      <td>8/31/2015 23:11</td>\n",
       "      <td>San Antonio Shopping Center</td>\n",
       "      <td>31.0</td>\n",
       "      <td>8/31/2015 23:28</td>\n",
       "      <td>Mountain View City Hall</td>\n",
       "      <td>27.0</td>\n",
       "      <td>35.0</td>\n",
       "      <td>Subscriber</td>\n",
       "      <td>95032</td>\n",
       "    </tr>\n",
       "    <tr>\n",
       "      <th>2</th>\n",
       "      <td>913455.0</td>\n",
       "      <td>307.0</td>\n",
       "      <td>8/31/2015 23:13</td>\n",
       "      <td>Post at Kearny</td>\n",
       "      <td>47.0</td>\n",
       "      <td>8/31/2015 23:18</td>\n",
       "      <td>2nd at South Park</td>\n",
       "      <td>64.0</td>\n",
       "      <td>468.0</td>\n",
       "      <td>Subscriber</td>\n",
       "      <td>94107</td>\n",
       "    </tr>\n",
       "    <tr>\n",
       "      <th>3</th>\n",
       "      <td>913454.0</td>\n",
       "      <td>409.0</td>\n",
       "      <td>8/31/2015 23:10</td>\n",
       "      <td>San Jose City Hall</td>\n",
       "      <td>10.0</td>\n",
       "      <td>8/31/2015 23:17</td>\n",
       "      <td>San Salvador at 1st</td>\n",
       "      <td>8.0</td>\n",
       "      <td>68.0</td>\n",
       "      <td>Subscriber</td>\n",
       "      <td>95113</td>\n",
       "    </tr>\n",
       "    <tr>\n",
       "      <th>4</th>\n",
       "      <td>913453.0</td>\n",
       "      <td>789.0</td>\n",
       "      <td>8/31/2015 23:09</td>\n",
       "      <td>Embarcadero at Folsom</td>\n",
       "      <td>51.0</td>\n",
       "      <td>8/31/2015 23:22</td>\n",
       "      <td>Embarcadero at Sansome</td>\n",
       "      <td>60.0</td>\n",
       "      <td>487.0</td>\n",
       "      <td>Customer</td>\n",
       "      <td>9069</td>\n",
       "    </tr>\n",
       "  </tbody>\n",
       "</table>\n",
       "</div>"
      ],
      "text/plain": [
       "    Trip ID  Duration       Start Date                         Start Station  \\\n",
       "0  913460.0     765.0  8/31/2015 23:26  Harry Bridges Plaza (Ferry Building)   \n",
       "1  913459.0    1036.0  8/31/2015 23:11           San Antonio Shopping Center   \n",
       "2  913455.0     307.0  8/31/2015 23:13                        Post at Kearny   \n",
       "3  913454.0     409.0  8/31/2015 23:10                    San Jose City Hall   \n",
       "4  913453.0     789.0  8/31/2015 23:09                 Embarcadero at Folsom   \n",
       "\n",
       "   Start Terminal         End Date                               End Station  \\\n",
       "0            50.0  8/31/2015 23:39  San Francisco Caltrain (Townsend at 4th)   \n",
       "1            31.0  8/31/2015 23:28                   Mountain View City Hall   \n",
       "2            47.0  8/31/2015 23:18                         2nd at South Park   \n",
       "3            10.0  8/31/2015 23:17                       San Salvador at 1st   \n",
       "4            51.0  8/31/2015 23:22                    Embarcadero at Sansome   \n",
       "\n",
       "   End Terminal  Bike # Subscriber Type Zip Code  \n",
       "0          70.0   288.0      Subscriber     2139  \n",
       "1          27.0    35.0      Subscriber    95032  \n",
       "2          64.0   468.0      Subscriber    94107  \n",
       "3           8.0    68.0      Subscriber    95113  \n",
       "4          60.0   487.0        Customer     9069  "
      ]
     },
     "metadata": {},
     "output_type": "display_data"
    }
   ],
   "source": [
    "display(trips.head())\n",
    "display(commute.head())"
   ]
  },
  {
   "cell_type": "markdown",
   "metadata": {},
   "source": [
    "For this analysis, we are limiting ourselves to bike sharing trips that are leess that 30 minutes, because that is what comes free as part of the bike sharing program for the city of San Francisco.\n",
    "We want to draw a histogram of the duration to understand exactly how long trips typically take. \n",
    "\n",
    "To do that, I am going to start off making bins of the data. For example, restricting the sampling to every minutes."
   ]
  },
  {
   "cell_type": "code",
   "execution_count": 5,
   "metadata": {
    "collapsed": false
   },
   "outputs": [],
   "source": [
    "half_hour = 30 * 60 # 30 minutes times 60 seconds\n",
    "bins = np.arange(1, half_hour+1, 60)"
   ]
  },
  {
   "cell_type": "code",
   "execution_count": 6,
   "metadata": {
    "collapsed": false
   },
   "outputs": [
    {
     "data": {
      "image/png": "[encoded data removed]",
      "text/plain": [
       "<matplotlib.figure.Figure at 0x114810590>"
      ]
     },
     "metadata": {},
     "output_type": "display_data"
    }
   ],
   "source": [
    "commute.hist('Duration', bins=bins, normed=True)\n",
    "pyplt.ylabel('percent per unit');"
   ]
  },
  {
   "cell_type": "code",
   "execution_count": 7,
   "metadata": {
    "collapsed": true
   },
   "outputs": [],
   "source": [
    "def bin_frequency(k):\n",
    "    bins = np.arange(1, half_hour+1, k)\n",
    "    commute.hist('Duration', bins=bins, normed=True)"
   ]
  },
  {
   "cell_type": "code",
   "execution_count": 8,
   "metadata": {
    "collapsed": false
   },
   "outputs": [
    {
     "data": {
      "image/png": "[encoded data removed]",
      "text/plain": [
       "<matplotlib.figure.Figure at 0x10f897110>"
      ]
     },
     "metadata": {},
     "output_type": "display_data"
    }
   ],
   "source": [
    "bin_frequency(10)\n",
    "pyplt.ylabel('percent per unit');"
   ]
  },
  {
   "cell_type": "code",
   "execution_count": 9,
   "metadata": {
    "collapsed": true
   },
   "outputs": [],
   "source": [
    "weather = pd.read_csv('data/weather.csv')\n",
    "sf = weather.where(weather.Zip == 94107)"
   ]
  },
  {
   "cell_type": "code",
   "execution_count": 10,
   "metadata": {
    "collapsed": false
   },
   "outputs": [],
   "source": [
    "sf = sf[[0, 1, 3]]\n",
    "sf.columns = [u'PDT', 'High', 'Low']"
   ]
  },
  {
   "cell_type": "code",
   "execution_count": 11,
   "metadata": {
    "collapsed": false
   },
   "outputs": [
    {
     "data": {
      "text/html": [
       "<div>\n",
       "<table border=\"1\" class=\"dataframe\">\n",
       "  <thead>\n",
       "    <tr style=\"text-align: right;\">\n",
       "      <th></th>\n",
       "      <th>PDT</th>\n",
       "      <th>High</th>\n",
       "      <th>Low</th>\n",
       "    </tr>\n",
       "  </thead>\n",
       "  <tbody>\n",
       "    <tr>\n",
       "      <th>0</th>\n",
       "      <td>9/1/2014</td>\n",
       "      <td>83.0</td>\n",
       "      <td>57.0</td>\n",
       "    </tr>\n",
       "    <tr>\n",
       "      <th>1</th>\n",
       "      <td>9/2/2014</td>\n",
       "      <td>72.0</td>\n",
       "      <td>60.0</td>\n",
       "    </tr>\n",
       "    <tr>\n",
       "      <th>2</th>\n",
       "      <td>9/3/2014</td>\n",
       "      <td>76.0</td>\n",
       "      <td>61.0</td>\n",
       "    </tr>\n",
       "    <tr>\n",
       "      <th>3</th>\n",
       "      <td>9/4/2014</td>\n",
       "      <td>74.0</td>\n",
       "      <td>61.0</td>\n",
       "    </tr>\n",
       "    <tr>\n",
       "      <th>4</th>\n",
       "      <td>9/5/2014</td>\n",
       "      <td>72.0</td>\n",
       "      <td>60.0</td>\n",
       "    </tr>\n",
       "  </tbody>\n",
       "</table>\n",
       "</div>"
      ],
      "text/plain": [
       "        PDT  High   Low\n",
       "0  9/1/2014  83.0  57.0\n",
       "1  9/2/2014  72.0  60.0\n",
       "2  9/3/2014  76.0  61.0\n",
       "3  9/4/2014  74.0  61.0\n",
       "4  9/5/2014  72.0  60.0"
      ]
     },
     "execution_count": 11,
     "metadata": {},
     "output_type": "execute_result"
    }
   ],
   "source": [
    "sf.head()"
   ]
  },
  {
   "cell_type": "code",
   "execution_count": 12,
   "metadata": {
    "collapsed": true
   },
   "outputs": [],
   "source": [
    "def axis_tick_frequency(ax, axis, freq):\n",
    "    \"\"\"The frequency of the y axis tick marks\n",
    "        Attributes\n",
    "        ----------\n",
    "        ax: matplotlib axis object\n",
    "        axis: char eithher 'y' or 'x'\n",
    "        freq: int, the integer value of which the range moves\n",
    "    \"\"\"\n",
    "    \n",
    "    if axis == 'y':\n",
    "        start, end = ax.get_ylim()\n",
    "        ax.yaxis.set_ticks(np.arange(start, end, freq))\n",
    "    elif axis == 'x':\n",
    "        start, end = ax.get_xlim()\n",
    "        ax.xaxis.set_ticks(np.arange(start, end, freq))\n",
    "    else:\n",
    "        raise ValueError('{argument} is not a valid axis object'.format(argument=repr(axis)))"
   ]
  },
  {
   "cell_type": "code",
   "execution_count": 13,
   "metadata": {
    "collapsed": false
   },
   "outputs": [
    {
     "data": {
      "image/png": "[encoded data removed]",
      "text/plain": [
       "<matplotlib.figure.Figure at 0x10fffc390>"
      ]
     },
     "metadata": {},
     "output_type": "display_data"
    }
   ],
   "source": [
    "ax = sf[[1,2]].plot.hist(color =['coral','cadetblue'], bins=np.arange(30, 101, 5), normed=True, alpha = 0.5)\n",
    "#axis_tick_frequency(ax, 'y', 10)\n",
    "pyplt.ylabel('percent per unit')\n",
    "pyplt.legend(bbox_to_anchor=(1.05, 1), loc=2, borderaxespad=0.)\n",
    "pyplt.grid(True);"
   ]
  },
  {
   "cell_type": "markdown",
   "metadata": {},
   "source": [
    "#### Question:\n",
    " - What proportion of days had a low temp greater than 45 degrees?\n",
    " \n",
    "#### Answer:\n",
    "\n"
   ]
  },
  {
   "cell_type": "code",
   "execution_count": 14,
   "metadata": {
    "collapsed": false
   },
   "outputs": [
    {
     "data": {
      "text/plain": [
       "85.753424657534254"
      ]
     },
     "execution_count": 14,
     "metadata": {},
     "output_type": "execute_result"
    }
   ],
   "source": [
    "sf.where(sf.Low >= 45).Low.count() / 365 * 100"
   ]
  },
  {
   "cell_type": "markdown",
   "metadata": {},
   "source": [
    "#### Question:\n",
    " - Figure out the distribution of the days of the year where temperature swings betweens the highs and the lows.\n",
    "\n",
    "#### Answer:"
   ]
  },
  {
   "cell_type": "code",
   "execution_count": 15,
   "metadata": {
    "collapsed": true
   },
   "outputs": [],
   "source": [
    "sf['diff'] = sf.High - sf.Low"
   ]
  },
  {
   "cell_type": "code",
   "execution_count": 16,
   "metadata": {
    "collapsed": false
   },
   "outputs": [
    {
     "data": {
      "image/png": "[encoded data removed]",
      "text/plain": [
       "<matplotlib.figure.Figure at 0x1105ec890>"
      ]
     },
     "metadata": {},
     "output_type": "display_data"
    }
   ],
   "source": [
    "ax = sf['diff'].plot.hist(bins=np.arange(0, 40, 1))\n",
    "axis_tick_frequency(ax, 'y', 10)\n",
    "pyplt.legend(bbox_to_anchor=(1.05, 1), loc=2, borderaxespad=0.);\n"
   ]
  },
  {
   "cell_type": "markdown",
   "metadata": {},
   "source": [
    "## Deterministic Sampling"
   ]
  },
  {
   "cell_type": "code",
   "execution_count": 17,
   "metadata": {
    "collapsed": true
   },
   "outputs": [],
   "source": [
    "top = pd.read_csv('data/top_movies.csv')"
   ]
  },
  {
   "cell_type": "code",
   "execution_count": 18,
   "metadata": {
    "collapsed": false,
    "scrolled": false
   },
   "outputs": [
    {
     "data": {
      "text/html": [
       "<div>\n",
       "<table border=\"1\" class=\"dataframe\">\n",
       "  <thead>\n",
       "    <tr style=\"text-align: right;\">\n",
       "      <th></th>\n",
       "      <th>Title</th>\n",
       "      <th>Studio</th>\n",
       "      <th>Gross</th>\n",
       "      <th>Gross (Adjusted)</th>\n",
       "      <th>Year</th>\n",
       "    </tr>\n",
       "  </thead>\n",
       "  <tbody>\n",
       "    <tr>\n",
       "      <th>0</th>\n",
       "      <td>Star Wars: The Force Awakens</td>\n",
       "      <td>Buena Vista (Disney)</td>\n",
       "      <td>906723418</td>\n",
       "      <td>906723400</td>\n",
       "      <td>2015</td>\n",
       "    </tr>\n",
       "    <tr>\n",
       "      <th>1</th>\n",
       "      <td>Avatar</td>\n",
       "      <td>Fox</td>\n",
       "      <td>760507625</td>\n",
       "      <td>846120800</td>\n",
       "      <td>2009</td>\n",
       "    </tr>\n",
       "    <tr>\n",
       "      <th>2</th>\n",
       "      <td>Titanic</td>\n",
       "      <td>Paramount</td>\n",
       "      <td>658672302</td>\n",
       "      <td>1178627900</td>\n",
       "      <td>1997</td>\n",
       "    </tr>\n",
       "    <tr>\n",
       "      <th>3</th>\n",
       "      <td>Jurassic World</td>\n",
       "      <td>Universal</td>\n",
       "      <td>652270625</td>\n",
       "      <td>687728000</td>\n",
       "      <td>2015</td>\n",
       "    </tr>\n",
       "    <tr>\n",
       "      <th>4</th>\n",
       "      <td>Marvel's The Avengers</td>\n",
       "      <td>Buena Vista (Disney)</td>\n",
       "      <td>623357910</td>\n",
       "      <td>668866600</td>\n",
       "      <td>2012</td>\n",
       "    </tr>\n",
       "  </tbody>\n",
       "</table>\n",
       "</div>"
      ],
      "text/plain": [
       "                          Title                Studio      Gross  \\\n",
       "0  Star Wars: The Force Awakens  Buena Vista (Disney)  906723418   \n",
       "1                        Avatar                   Fox  760507625   \n",
       "2                       Titanic             Paramount  658672302   \n",
       "3                Jurassic World             Universal  652270625   \n",
       "4         Marvel's The Avengers  Buena Vista (Disney)  623357910   \n",
       "\n",
       "   Gross (Adjusted)  Year  \n",
       "0         906723400  2015  \n",
       "1         846120800  2009  \n",
       "2        1178627900  1997  \n",
       "3         687728000  2015  \n",
       "4         668866600  2012  "
      ]
     },
     "execution_count": 18,
     "metadata": {},
     "output_type": "execute_result"
    }
   ],
   "source": [
    "top.head()"
   ]
  },
  {
   "cell_type": "markdown",
   "metadata": {},
   "source": [
    "Let's make a deterministic sample. We will sample every 20th top grossing movie"
   ]
  },
  {
   "cell_type": "code",
   "execution_count": 19,
   "metadata": {
    "collapsed": true
   },
   "outputs": [],
   "source": [
    "interval = 20\n",
    "sample = arange(0, len(top), interval)"
   ]
  },
  {
   "cell_type": "code",
   "execution_count": 20,
   "metadata": {
    "collapsed": false
   },
   "outputs": [],
   "source": [
    "df = pd.DataFrame()\n",
    "for i in sample:\n",
    "    df = df.append(top.ix[i, :])"
   ]
  },
  {
   "cell_type": "code",
   "execution_count": 21,
   "metadata": {
    "collapsed": false
   },
   "outputs": [
    {
     "data": {
      "text/html": [
       "<div>\n",
       "<table border=\"1\" class=\"dataframe\">\n",
       "  <thead>\n",
       "    <tr style=\"text-align: right;\">\n",
       "      <th></th>\n",
       "      <th>Gross</th>\n",
       "      <th>Gross (Adjusted)</th>\n",
       "      <th>Studio</th>\n",
       "      <th>Title</th>\n",
       "      <th>Year</th>\n",
       "    </tr>\n",
       "  </thead>\n",
       "  <tbody>\n",
       "    <tr>\n",
       "      <th>0</th>\n",
       "      <td>906723418.0</td>\n",
       "      <td>9.067234e+08</td>\n",
       "      <td>Buena Vista (Disney)</td>\n",
       "      <td>Star Wars: The Force Awakens</td>\n",
       "      <td>2015.0</td>\n",
       "    </tr>\n",
       "    <tr>\n",
       "      <th>20</th>\n",
       "      <td>402111870.0</td>\n",
       "      <td>4.689381e+08</td>\n",
       "      <td>Paramount/Dreamworks</td>\n",
       "      <td>Transformers: Revenge of the Fallen</td>\n",
       "      <td>2009.0</td>\n",
       "    </tr>\n",
       "    <tr>\n",
       "      <th>40</th>\n",
       "      <td>322719944.0</td>\n",
       "      <td>4.080906e+08</td>\n",
       "      <td>Paramount/Dreamworks</td>\n",
       "      <td>Shrek the Third</td>\n",
       "      <td>2007.0</td>\n",
       "    </tr>\n",
       "    <tr>\n",
       "      <th>60</th>\n",
       "      <td>291710957.0</td>\n",
       "      <td>3.930331e+08</td>\n",
       "      <td>Buena Vista (Disney)</td>\n",
       "      <td>The Chronicles of Narnia: The Lion, the Witch ...</td>\n",
       "      <td>2005.0</td>\n",
       "    </tr>\n",
       "    <tr>\n",
       "      <th>80</th>\n",
       "      <td>242829261.0</td>\n",
       "      <td>3.503507e+08</td>\n",
       "      <td>Universal</td>\n",
       "      <td>Bruce Almighty</td>\n",
       "      <td>2003.0</td>\n",
       "    </tr>\n",
       "    <tr>\n",
       "      <th>100</th>\n",
       "      <td>198676459.0</td>\n",
       "      <td>1.757788e+09</td>\n",
       "      <td>MGM</td>\n",
       "      <td>Gone with the Wind</td>\n",
       "      <td>1939.0</td>\n",
       "    </tr>\n",
       "    <tr>\n",
       "      <th>120</th>\n",
       "      <td>167780960.0</td>\n",
       "      <td>3.628229e+08</td>\n",
       "      <td>Buena Vista (Disney)</td>\n",
       "      <td>Three Men and a Baby</td>\n",
       "      <td>1987.0</td>\n",
       "    </tr>\n",
       "    <tr>\n",
       "      <th>140</th>\n",
       "      <td>125049125.0</td>\n",
       "      <td>3.698653e+08</td>\n",
       "      <td>UA</td>\n",
       "      <td>Rocky III</td>\n",
       "      <td>1982.0</td>\n",
       "    </tr>\n",
       "    <tr>\n",
       "      <th>160</th>\n",
       "      <td>94213184.0</td>\n",
       "      <td>3.532612e+08</td>\n",
       "      <td>Paramount</td>\n",
       "      <td>Saturday Night Fever</td>\n",
       "      <td>1977.0</td>\n",
       "    </tr>\n",
       "    <tr>\n",
       "      <th>180</th>\n",
       "      <td>52223306.0</td>\n",
       "      <td>3.483432e+08</td>\n",
       "      <td>Columbia</td>\n",
       "      <td>Funny Girl</td>\n",
       "      <td>1968.0</td>\n",
       "    </tr>\n",
       "  </tbody>\n",
       "</table>\n",
       "</div>"
      ],
      "text/plain": [
       "           Gross  Gross (Adjusted)                Studio  \\\n",
       "0    906723418.0      9.067234e+08  Buena Vista (Disney)   \n",
       "20   402111870.0      4.689381e+08  Paramount/Dreamworks   \n",
       "40   322719944.0      4.080906e+08  Paramount/Dreamworks   \n",
       "60   291710957.0      3.930331e+08  Buena Vista (Disney)   \n",
       "80   242829261.0      3.503507e+08             Universal   \n",
       "100  198676459.0      1.757788e+09                   MGM   \n",
       "120  167780960.0      3.628229e+08  Buena Vista (Disney)   \n",
       "140  125049125.0      3.698653e+08                    UA   \n",
       "160   94213184.0      3.532612e+08             Paramount   \n",
       "180   52223306.0      3.483432e+08              Columbia   \n",
       "\n",
       "                                                 Title    Year  \n",
       "0                         Star Wars: The Force Awakens  2015.0  \n",
       "20                 Transformers: Revenge of the Fallen  2009.0  \n",
       "40                                     Shrek the Third  2007.0  \n",
       "60   The Chronicles of Narnia: The Lion, the Witch ...  2005.0  \n",
       "80                                      Bruce Almighty  2003.0  \n",
       "100                                 Gone with the Wind  1939.0  \n",
       "120                               Three Men and a Baby  1987.0  \n",
       "140                                          Rocky III  1982.0  \n",
       "160                               Saturday Night Fever  1977.0  \n",
       "180                                         Funny Girl  1968.0  "
      ]
     },
     "execution_count": 21,
     "metadata": {},
     "output_type": "execute_result"
    }
   ],
   "source": [
    "df"
   ]
  },
  {
   "cell_type": "markdown",
   "metadata": {},
   "source": [
    "## Probability Sampling\n",
    "\n",
    "A *population* is the set of all elements from whom a sample will be drawn. A *probability sample* is one for which it is possible to calculate, before the sample is drawn, the chance with which any subset of elements will enter the sample. In a probability sample, all elements need not have the same chance of being chosen.\n",
    "\n",
    "Now let's do probabilistic sampling of the top movies. When we do a probabilistic sample like this, we call it a **\"systematic sample.\"**\n"
   ]
  },
  {
   "cell_type": "code",
   "execution_count": 22,
   "metadata": {
    "collapsed": false
   },
   "outputs": [],
   "source": [
    "start = np.random.choice(np.arange(interval))\n",
    "sample = np.arange(start, len(top), interval)\n",
    "\n",
    "df = pd.DataFrame()\n",
    "for i in sample:\n",
    "    df = df.append(top.ix[i, :])"
   ]
  },
  {
   "cell_type": "code",
   "execution_count": 23,
   "metadata": {
    "collapsed": false
   },
   "outputs": [
    {
     "data": {
      "text/html": [
       "<div>\n",
       "<table border=\"1\" class=\"dataframe\">\n",
       "  <thead>\n",
       "    <tr style=\"text-align: right;\">\n",
       "      <th></th>\n",
       "      <th>Gross</th>\n",
       "      <th>Gross (Adjusted)</th>\n",
       "      <th>Studio</th>\n",
       "      <th>Title</th>\n",
       "      <th>Year</th>\n",
       "    </tr>\n",
       "  </thead>\n",
       "  <tbody>\n",
       "    <tr>\n",
       "      <th>0</th>\n",
       "      <td>906723418.0</td>\n",
       "      <td>9.067234e+08</td>\n",
       "      <td>Buena Vista (Disney)</td>\n",
       "      <td>Star Wars: The Force Awakens</td>\n",
       "      <td>2015.0</td>\n",
       "    </tr>\n",
       "    <tr>\n",
       "      <th>20</th>\n",
       "      <td>402111870.0</td>\n",
       "      <td>4.689381e+08</td>\n",
       "      <td>Paramount/Dreamworks</td>\n",
       "      <td>Transformers: Revenge of the Fallen</td>\n",
       "      <td>2009.0</td>\n",
       "    </tr>\n",
       "    <tr>\n",
       "      <th>40</th>\n",
       "      <td>322719944.0</td>\n",
       "      <td>4.080906e+08</td>\n",
       "      <td>Paramount/Dreamworks</td>\n",
       "      <td>Shrek the Third</td>\n",
       "      <td>2007.0</td>\n",
       "    </tr>\n",
       "    <tr>\n",
       "      <th>60</th>\n",
       "      <td>291710957.0</td>\n",
       "      <td>3.930331e+08</td>\n",
       "      <td>Buena Vista (Disney)</td>\n",
       "      <td>The Chronicles of Narnia: The Lion, the Witch ...</td>\n",
       "      <td>2005.0</td>\n",
       "    </tr>\n",
       "    <tr>\n",
       "      <th>80</th>\n",
       "      <td>242829261.0</td>\n",
       "      <td>3.503507e+08</td>\n",
       "      <td>Universal</td>\n",
       "      <td>Bruce Almighty</td>\n",
       "      <td>2003.0</td>\n",
       "    </tr>\n",
       "    <tr>\n",
       "      <th>100</th>\n",
       "      <td>198676459.0</td>\n",
       "      <td>1.757788e+09</td>\n",
       "      <td>MGM</td>\n",
       "      <td>Gone with the Wind</td>\n",
       "      <td>1939.0</td>\n",
       "    </tr>\n",
       "    <tr>\n",
       "      <th>120</th>\n",
       "      <td>167780960.0</td>\n",
       "      <td>3.628229e+08</td>\n",
       "      <td>Buena Vista (Disney)</td>\n",
       "      <td>Three Men and a Baby</td>\n",
       "      <td>1987.0</td>\n",
       "    </tr>\n",
       "    <tr>\n",
       "      <th>140</th>\n",
       "      <td>125049125.0</td>\n",
       "      <td>3.698653e+08</td>\n",
       "      <td>UA</td>\n",
       "      <td>Rocky III</td>\n",
       "      <td>1982.0</td>\n",
       "    </tr>\n",
       "    <tr>\n",
       "      <th>160</th>\n",
       "      <td>94213184.0</td>\n",
       "      <td>3.532612e+08</td>\n",
       "      <td>Paramount</td>\n",
       "      <td>Saturday Night Fever</td>\n",
       "      <td>1977.0</td>\n",
       "    </tr>\n",
       "    <tr>\n",
       "      <th>180</th>\n",
       "      <td>52223306.0</td>\n",
       "      <td>3.483432e+08</td>\n",
       "      <td>Columbia</td>\n",
       "      <td>Funny Girl</td>\n",
       "      <td>1968.0</td>\n",
       "    </tr>\n",
       "  </tbody>\n",
       "</table>\n",
       "</div>"
      ],
      "text/plain": [
       "           Gross  Gross (Adjusted)                Studio  \\\n",
       "0    906723418.0      9.067234e+08  Buena Vista (Disney)   \n",
       "20   402111870.0      4.689381e+08  Paramount/Dreamworks   \n",
       "40   322719944.0      4.080906e+08  Paramount/Dreamworks   \n",
       "60   291710957.0      3.930331e+08  Buena Vista (Disney)   \n",
       "80   242829261.0      3.503507e+08             Universal   \n",
       "100  198676459.0      1.757788e+09                   MGM   \n",
       "120  167780960.0      3.628229e+08  Buena Vista (Disney)   \n",
       "140  125049125.0      3.698653e+08                    UA   \n",
       "160   94213184.0      3.532612e+08             Paramount   \n",
       "180   52223306.0      3.483432e+08              Columbia   \n",
       "\n",
       "                                                 Title    Year  \n",
       "0                         Star Wars: The Force Awakens  2015.0  \n",
       "20                 Transformers: Revenge of the Fallen  2009.0  \n",
       "40                                     Shrek the Third  2007.0  \n",
       "60   The Chronicles of Narnia: The Lion, the Witch ...  2005.0  \n",
       "80                                      Bruce Almighty  2003.0  \n",
       "100                                 Gone with the Wind  1939.0  \n",
       "120                               Three Men and a Baby  1987.0  \n",
       "140                                          Rocky III  1982.0  \n",
       "160                               Saturday Night Fever  1977.0  \n",
       "180                                         Funny Girl  1968.0  "
      ]
     },
     "execution_count": 23,
     "metadata": {},
     "output_type": "execute_result"
    }
   ],
   "source": [
    "df"
   ]
  },
  {
   "cell_type": "markdown",
   "metadata": {},
   "source": [
    "#### Question:\n",
    "- What is the probability that the *Rush Hour 2* ends up in the sample we have systematically chosen?\n",
    "\n",
    "#### Answer:\n",
    "- This is depends solely on the the chance that the first movie chosen from the dataset is *The Dark Knight Rises* and that has a chance of 1 in 20, i.e., 5%. \n"
   ]
  },
  {
   "cell_type": "markdown",
   "metadata": {
    "collapsed": true
   },
   "source": [
    "### Uniform Sample\n",
    "A uniform sample is a sample drawn at random without replacements"
   ]
  },
  {
   "cell_type": "code",
   "execution_count": 24,
   "metadata": {
    "collapsed": false
   },
   "outputs": [],
   "source": [
    "def sample(num_sample, top, with_replacement=False):\n",
    "    \"\"\"\n",
    "    Create a random sample from a table\n",
    "    \n",
    "    Attributes\n",
    "    ---------\n",
    "    num_sample: int\n",
    "    top: dataframe\n",
    "    with_replacement: boolean\n",
    "    \n",
    "    Returns a random subset of table index\n",
    "    \"\"\"\n",
    "    df_index = []\n",
    "    lst = np.arange(0, len(top), 1)\n",
    "\n",
    "    for i in np.arange(0, num_sample, 1):\n",
    "\n",
    "        # pick randomly from the whole table\n",
    "        sample_index = np.random.choice(lst)\n",
    "\n",
    "        if with_replacement:\n",
    "            # store index\n",
    "            df_index.append(sample_index)\n",
    "        else:\n",
    "            # remove the choice that was selected\n",
    "            lst = np.setdiff1d(lst,[sample_index])\n",
    "            df_index.append(sample_index)\n",
    "            \n",
    "    return df_index\n"
   ]
  },
  {
   "cell_type": "code",
   "execution_count": 25,
   "metadata": {
    "collapsed": false
   },
   "outputs": [
    {
     "data": {
      "text/html": [
       "<div>\n",
       "<table border=\"1\" class=\"dataframe\">\n",
       "  <thead>\n",
       "    <tr style=\"text-align: right;\">\n",
       "      <th></th>\n",
       "      <th>Title</th>\n",
       "      <th>Studio</th>\n",
       "      <th>Gross</th>\n",
       "      <th>Gross (Adjusted)</th>\n",
       "      <th>Year</th>\n",
       "    </tr>\n",
       "  </thead>\n",
       "  <tbody>\n",
       "    <tr>\n",
       "      <th>4</th>\n",
       "      <td>Marvel's The Avengers</td>\n",
       "      <td>Buena Vista (Disney)</td>\n",
       "      <td>623357910</td>\n",
       "      <td>668866600</td>\n",
       "      <td>2012</td>\n",
       "    </tr>\n",
       "    <tr>\n",
       "      <th>5</th>\n",
       "      <td>The Dark Knight</td>\n",
       "      <td>Warner Bros.</td>\n",
       "      <td>534858444</td>\n",
       "      <td>647761600</td>\n",
       "      <td>2008</td>\n",
       "    </tr>\n",
       "    <tr>\n",
       "      <th>7</th>\n",
       "      <td>Star Wars</td>\n",
       "      <td>Fox</td>\n",
       "      <td>460998007</td>\n",
       "      <td>1549640500</td>\n",
       "      <td>1977</td>\n",
       "    </tr>\n",
       "    <tr>\n",
       "      <th>12</th>\n",
       "      <td>The Hunger Games: Catching Fire</td>\n",
       "      <td>Lionsgate</td>\n",
       "      <td>424668047</td>\n",
       "      <td>444697400</td>\n",
       "      <td>2013</td>\n",
       "    </tr>\n",
       "    <tr>\n",
       "      <th>20</th>\n",
       "      <td>Transformers: Revenge of the Fallen</td>\n",
       "      <td>Paramount/Dreamworks</td>\n",
       "      <td>402111870</td>\n",
       "      <td>468938100</td>\n",
       "      <td>2009</td>\n",
       "    </tr>\n",
       "    <tr>\n",
       "      <th>24</th>\n",
       "      <td>Star Wars: Episode III - Revenge of the Sith</td>\n",
       "      <td>Fox</td>\n",
       "      <td>380270577</td>\n",
       "      <td>516123900</td>\n",
       "      <td>2005</td>\n",
       "    </tr>\n",
       "    <tr>\n",
       "      <th>25</th>\n",
       "      <td>The Lord of the Rings: The Return of the King</td>\n",
       "      <td>New Line</td>\n",
       "      <td>377845905</td>\n",
       "      <td>536265400</td>\n",
       "      <td>2003</td>\n",
       "    </tr>\n",
       "    <tr>\n",
       "      <th>25</th>\n",
       "      <td>The Lord of the Rings: The Return of the King</td>\n",
       "      <td>New Line</td>\n",
       "      <td>377845905</td>\n",
       "      <td>536265400</td>\n",
       "      <td>2003</td>\n",
       "    </tr>\n",
       "    <tr>\n",
       "      <th>26</th>\n",
       "      <td>Spider-Man 2</td>\n",
       "      <td>Sony</td>\n",
       "      <td>373585825</td>\n",
       "      <td>523381100</td>\n",
       "      <td>2004</td>\n",
       "    </tr>\n",
       "    <tr>\n",
       "      <th>26</th>\n",
       "      <td>Spider-Man 2</td>\n",
       "      <td>Sony</td>\n",
       "      <td>373585825</td>\n",
       "      <td>523381100</td>\n",
       "      <td>2004</td>\n",
       "    </tr>\n",
       "    <tr>\n",
       "      <th>26</th>\n",
       "      <td>Spider-Man 2</td>\n",
       "      <td>Sony</td>\n",
       "      <td>373585825</td>\n",
       "      <td>523381100</td>\n",
       "      <td>2004</td>\n",
       "    </tr>\n",
       "    <tr>\n",
       "      <th>26</th>\n",
       "      <td>Spider-Man 2</td>\n",
       "      <td>Sony</td>\n",
       "      <td>373585825</td>\n",
       "      <td>523381100</td>\n",
       "      <td>2004</td>\n",
       "    </tr>\n",
       "    <tr>\n",
       "      <th>37</th>\n",
       "      <td>Alice in Wonderland (2010)</td>\n",
       "      <td>Buena Vista (Disney)</td>\n",
       "      <td>334191110</td>\n",
       "      <td>365718600</td>\n",
       "      <td>2010</td>\n",
       "    </tr>\n",
       "    <tr>\n",
       "      <th>45</th>\n",
       "      <td>The Lord of the Rings: The Fellowship of the Ring</td>\n",
       "      <td>New Line</td>\n",
       "      <td>315544750</td>\n",
       "      <td>476753700</td>\n",
       "      <td>2001</td>\n",
       "    </tr>\n",
       "    <tr>\n",
       "      <th>46</th>\n",
       "      <td>Iron Man 2</td>\n",
       "      <td>Paramount</td>\n",
       "      <td>312433331</td>\n",
       "      <td>341908200</td>\n",
       "      <td>2010</td>\n",
       "    </tr>\n",
       "    <tr>\n",
       "      <th>56</th>\n",
       "      <td>The Twilight Saga: New Moon</td>\n",
       "      <td>Sum.</td>\n",
       "      <td>296623634</td>\n",
       "      <td>338517700</td>\n",
       "      <td>2009</td>\n",
       "    </tr>\n",
       "    <tr>\n",
       "      <th>60</th>\n",
       "      <td>The Chronicles of Narnia: The Lion, the Witch ...</td>\n",
       "      <td>Buena Vista (Disney)</td>\n",
       "      <td>291710957</td>\n",
       "      <td>393033100</td>\n",
       "      <td>2005</td>\n",
       "    </tr>\n",
       "    <tr>\n",
       "      <th>85</th>\n",
       "      <td>Cast Away</td>\n",
       "      <td>Fox</td>\n",
       "      <td>233632142</td>\n",
       "      <td>364479500</td>\n",
       "      <td>2000</td>\n",
       "    </tr>\n",
       "    <tr>\n",
       "      <th>86</th>\n",
       "      <td>The Exorcist</td>\n",
       "      <td>Warner Bros.</td>\n",
       "      <td>232906145</td>\n",
       "      <td>962212800</td>\n",
       "      <td>1973</td>\n",
       "    </tr>\n",
       "    <tr>\n",
       "      <th>99</th>\n",
       "      <td>Armageddon</td>\n",
       "      <td>Buena Vista (Disney)</td>\n",
       "      <td>201578182</td>\n",
       "      <td>373929700</td>\n",
       "      <td>1998</td>\n",
       "    </tr>\n",
       "    <tr>\n",
       "      <th>103</th>\n",
       "      <td>Grease</td>\n",
       "      <td>Paramount</td>\n",
       "      <td>188755690</td>\n",
       "      <td>669632000</td>\n",
       "      <td>1978</td>\n",
       "    </tr>\n",
       "    <tr>\n",
       "      <th>119</th>\n",
       "      <td>Rain Man</td>\n",
       "      <td>MGM</td>\n",
       "      <td>172825435</td>\n",
       "      <td>376637800</td>\n",
       "      <td>1988</td>\n",
       "    </tr>\n",
       "    <tr>\n",
       "      <th>121</th>\n",
       "      <td>Robin Hood: Prince of Thieves</td>\n",
       "      <td>Warner Bros.</td>\n",
       "      <td>165493908</td>\n",
       "      <td>341994500</td>\n",
       "      <td>1991</td>\n",
       "    </tr>\n",
       "    <tr>\n",
       "      <th>124</th>\n",
       "      <td>The Firm</td>\n",
       "      <td>Paramount</td>\n",
       "      <td>158348367</td>\n",
       "      <td>332761100</td>\n",
       "      <td>1993</td>\n",
       "    </tr>\n",
       "    <tr>\n",
       "      <th>151</th>\n",
       "      <td>Love Story</td>\n",
       "      <td>Paramount</td>\n",
       "      <td>106397186</td>\n",
       "      <td>608983900</td>\n",
       "      <td>1970</td>\n",
       "    </tr>\n",
       "    <tr>\n",
       "      <th>158</th>\n",
       "      <td>Stir Crazy</td>\n",
       "      <td>Columbia</td>\n",
       "      <td>101300000</td>\n",
       "      <td>327624500</td>\n",
       "      <td>1980</td>\n",
       "    </tr>\n",
       "    <tr>\n",
       "      <th>159</th>\n",
       "      <td>Airport</td>\n",
       "      <td>Universal</td>\n",
       "      <td>100489151</td>\n",
       "      <td>575168200</td>\n",
       "      <td>1970</td>\n",
       "    </tr>\n",
       "    <tr>\n",
       "      <th>164</th>\n",
       "      <td>Young Frankenstein</td>\n",
       "      <td>Fox</td>\n",
       "      <td>86273333</td>\n",
       "      <td>397131200</td>\n",
       "      <td>1974</td>\n",
       "    </tr>\n",
       "    <tr>\n",
       "      <th>167</th>\n",
       "      <td>M.A.S.H.</td>\n",
       "      <td>Fox</td>\n",
       "      <td>81600000</td>\n",
       "      <td>467052600</td>\n",
       "      <td>1970</td>\n",
       "    </tr>\n",
       "    <tr>\n",
       "      <th>169</th>\n",
       "      <td>Earthquake</td>\n",
       "      <td>Universal</td>\n",
       "      <td>79666653</td>\n",
       "      <td>366719500</td>\n",
       "      <td>1974</td>\n",
       "    </tr>\n",
       "    <tr>\n",
       "      <th>170</th>\n",
       "      <td>Fantasia</td>\n",
       "      <td>Disney</td>\n",
       "      <td>76408097</td>\n",
       "      <td>722478200</td>\n",
       "      <td>1941</td>\n",
       "    </tr>\n",
       "    <tr>\n",
       "      <th>175</th>\n",
       "      <td>Thunderball</td>\n",
       "      <td>UA</td>\n",
       "      <td>63595658</td>\n",
       "      <td>650760000</td>\n",
       "      <td>1965</td>\n",
       "    </tr>\n",
       "    <tr>\n",
       "      <th>179</th>\n",
       "      <td>Guess Who's Coming to Dinner</td>\n",
       "      <td>Columbia</td>\n",
       "      <td>56666667</td>\n",
       "      <td>376335900</td>\n",
       "      <td>1967</td>\n",
       "    </tr>\n",
       "    <tr>\n",
       "      <th>188</th>\n",
       "      <td>Rear Window</td>\n",
       "      <td>Paramount</td>\n",
       "      <td>36764313</td>\n",
       "      <td>438086300</td>\n",
       "      <td>1954</td>\n",
       "    </tr>\n",
       "    <tr>\n",
       "      <th>188</th>\n",
       "      <td>Rear Window</td>\n",
       "      <td>Paramount</td>\n",
       "      <td>36764313</td>\n",
       "      <td>438086300</td>\n",
       "      <td>1954</td>\n",
       "    </tr>\n",
       "  </tbody>\n",
       "</table>\n",
       "</div>"
      ],
      "text/plain": [
       "                                                 Title                Studio  \\\n",
       "4                                Marvel's The Avengers  Buena Vista (Disney)   \n",
       "5                                      The Dark Knight          Warner Bros.   \n",
       "7                                            Star Wars                   Fox   \n",
       "12                     The Hunger Games: Catching Fire             Lionsgate   \n",
       "20                 Transformers: Revenge of the Fallen  Paramount/Dreamworks   \n",
       "24        Star Wars: Episode III - Revenge of the Sith                   Fox   \n",
       "25       The Lord of the Rings: The Return of the King              New Line   \n",
       "25       The Lord of the Rings: The Return of the King              New Line   \n",
       "26                                        Spider-Man 2                  Sony   \n",
       "26                                        Spider-Man 2                  Sony   \n",
       "26                                        Spider-Man 2                  Sony   \n",
       "26                                        Spider-Man 2                  Sony   \n",
       "37                          Alice in Wonderland (2010)  Buena Vista (Disney)   \n",
       "45   The Lord of the Rings: The Fellowship of the Ring              New Line   \n",
       "46                                          Iron Man 2             Paramount   \n",
       "56                         The Twilight Saga: New Moon                  Sum.   \n",
       "60   The Chronicles of Narnia: The Lion, the Witch ...  Buena Vista (Disney)   \n",
       "85                                           Cast Away                   Fox   \n",
       "86                                        The Exorcist          Warner Bros.   \n",
       "99                                          Armageddon  Buena Vista (Disney)   \n",
       "103                                             Grease             Paramount   \n",
       "119                                           Rain Man                   MGM   \n",
       "121                      Robin Hood: Prince of Thieves          Warner Bros.   \n",
       "124                                           The Firm             Paramount   \n",
       "151                                         Love Story             Paramount   \n",
       "158                                         Stir Crazy              Columbia   \n",
       "159                                            Airport             Universal   \n",
       "164                                 Young Frankenstein                   Fox   \n",
       "167                                           M.A.S.H.                   Fox   \n",
       "169                                         Earthquake             Universal   \n",
       "170                                           Fantasia                Disney   \n",
       "175                                        Thunderball                    UA   \n",
       "179                       Guess Who's Coming to Dinner              Columbia   \n",
       "188                                        Rear Window             Paramount   \n",
       "188                                        Rear Window             Paramount   \n",
       "\n",
       "         Gross  Gross (Adjusted)  Year  \n",
       "4    623357910         668866600  2012  \n",
       "5    534858444         647761600  2008  \n",
       "7    460998007        1549640500  1977  \n",
       "12   424668047         444697400  2013  \n",
       "20   402111870         468938100  2009  \n",
       "24   380270577         516123900  2005  \n",
       "25   377845905         536265400  2003  \n",
       "25   377845905         536265400  2003  \n",
       "26   373585825         523381100  2004  \n",
       "26   373585825         523381100  2004  \n",
       "26   373585825         523381100  2004  \n",
       "26   373585825         523381100  2004  \n",
       "37   334191110         365718600  2010  \n",
       "45   315544750         476753700  2001  \n",
       "46   312433331         341908200  2010  \n",
       "56   296623634         338517700  2009  \n",
       "60   291710957         393033100  2005  \n",
       "85   233632142         364479500  2000  \n",
       "86   232906145         962212800  1973  \n",
       "99   201578182         373929700  1998  \n",
       "103  188755690         669632000  1978  \n",
       "119  172825435         376637800  1988  \n",
       "121  165493908         341994500  1991  \n",
       "124  158348367         332761100  1993  \n",
       "151  106397186         608983900  1970  \n",
       "158  101300000         327624500  1980  \n",
       "159  100489151         575168200  1970  \n",
       "164   86273333         397131200  1974  \n",
       "167   81600000         467052600  1970  \n",
       "169   79666653         366719500  1974  \n",
       "170   76408097         722478200  1941  \n",
       "175   63595658         650760000  1965  \n",
       "179   56666667         376335900  1967  \n",
       "188   36764313         438086300  1954  \n",
       "188   36764313         438086300  1954  "
      ]
     },
     "execution_count": 25,
     "metadata": {},
     "output_type": "execute_result"
    }
   ],
   "source": [
    "index_ = sample(35, top, with_replacement=True)\n",
    "df = top.ix[index_, :]\n",
    "df.sort_values(by='Gross', ascending=0)"
   ]
  },
  {
   "cell_type": "code",
   "execution_count": 26,
   "metadata": {
    "collapsed": false
   },
   "outputs": [
    {
     "data": {
      "text/html": [
       "<div>\n",
       "<table border=\"1\" class=\"dataframe\">\n",
       "  <thead>\n",
       "    <tr style=\"text-align: right;\">\n",
       "      <th></th>\n",
       "      <th>Title</th>\n",
       "      <th>Studio</th>\n",
       "      <th>Gross</th>\n",
       "      <th>Gross (Adjusted)</th>\n",
       "      <th>Year</th>\n",
       "    </tr>\n",
       "  </thead>\n",
       "  <tbody>\n",
       "    <tr>\n",
       "      <th>9</th>\n",
       "      <td>The Dark Knight Rises</td>\n",
       "      <td>Warner Bros.</td>\n",
       "      <td>448139099</td>\n",
       "      <td>500961700</td>\n",
       "      <td>2012</td>\n",
       "    </tr>\n",
       "    <tr>\n",
       "      <th>19</th>\n",
       "      <td>Jurassic Park</td>\n",
       "      <td>Universal</td>\n",
       "      <td>402453882</td>\n",
       "      <td>799721000</td>\n",
       "      <td>1993</td>\n",
       "    </tr>\n",
       "    <tr>\n",
       "      <th>35</th>\n",
       "      <td>Spider-Man 3</td>\n",
       "      <td>Sony</td>\n",
       "      <td>336530303</td>\n",
       "      <td>425554300</td>\n",
       "      <td>2007</td>\n",
       "    </tr>\n",
       "    <tr>\n",
       "      <th>39</th>\n",
       "      <td>Forrest Gump</td>\n",
       "      <td>Paramount</td>\n",
       "      <td>330252182</td>\n",
       "      <td>683929300</td>\n",
       "      <td>1994</td>\n",
       "    </tr>\n",
       "    <tr>\n",
       "      <th>42</th>\n",
       "      <td>Iron Man</td>\n",
       "      <td>Paramount</td>\n",
       "      <td>318412101</td>\n",
       "      <td>385808100</td>\n",
       "      <td>2008</td>\n",
       "    </tr>\n",
       "    <tr>\n",
       "      <th>45</th>\n",
       "      <td>The Lord of the Rings: The Fellowship of the Ring</td>\n",
       "      <td>New Line</td>\n",
       "      <td>315544750</td>\n",
       "      <td>476753700</td>\n",
       "      <td>2001</td>\n",
       "    </tr>\n",
       "    <tr>\n",
       "      <th>85</th>\n",
       "      <td>Cast Away</td>\n",
       "      <td>Fox</td>\n",
       "      <td>233632142</td>\n",
       "      <td>364479500</td>\n",
       "      <td>2000</td>\n",
       "    </tr>\n",
       "    <tr>\n",
       "      <th>105</th>\n",
       "      <td>Dances with Wolves</td>\n",
       "      <td>Orion</td>\n",
       "      <td>184208848</td>\n",
       "      <td>380183900</td>\n",
       "      <td>1990</td>\n",
       "    </tr>\n",
       "    <tr>\n",
       "      <th>115</th>\n",
       "      <td>Crocodile Dundee</td>\n",
       "      <td>Paramount</td>\n",
       "      <td>174803506</td>\n",
       "      <td>401961400</td>\n",
       "      <td>1986</td>\n",
       "    </tr>\n",
       "    <tr>\n",
       "      <th>121</th>\n",
       "      <td>Robin Hood: Prince of Thieves</td>\n",
       "      <td>Warner Bros.</td>\n",
       "      <td>165493908</td>\n",
       "      <td>341994500</td>\n",
       "      <td>1991</td>\n",
       "    </tr>\n",
       "    <tr>\n",
       "      <th>125</th>\n",
       "      <td>Fatal Attraction</td>\n",
       "      <td>Paramount</td>\n",
       "      <td>156645693</td>\n",
       "      <td>345222500</td>\n",
       "      <td>1987</td>\n",
       "    </tr>\n",
       "    <tr>\n",
       "      <th>134</th>\n",
       "      <td>National Lampoon's Animal House</td>\n",
       "      <td>Universal</td>\n",
       "      <td>141600000</td>\n",
       "      <td>521045300</td>\n",
       "      <td>1978</td>\n",
       "    </tr>\n",
       "    <tr>\n",
       "      <th>138</th>\n",
       "      <td>An Officer and a Gentleman</td>\n",
       "      <td>Paramount</td>\n",
       "      <td>129795554</td>\n",
       "      <td>379814600</td>\n",
       "      <td>1982</td>\n",
       "    </tr>\n",
       "    <tr>\n",
       "      <th>144</th>\n",
       "      <td>The Towering Inferno</td>\n",
       "      <td>Fox</td>\n",
       "      <td>116000000</td>\n",
       "      <td>533968300</td>\n",
       "      <td>1974</td>\n",
       "    </tr>\n",
       "    <tr>\n",
       "      <th>150</th>\n",
       "      <td>Superman II</td>\n",
       "      <td>Warner Bros.</td>\n",
       "      <td>108185706</td>\n",
       "      <td>338566800</td>\n",
       "      <td>1981</td>\n",
       "    </tr>\n",
       "    <tr>\n",
       "      <th>153</th>\n",
       "      <td>The Graduate</td>\n",
       "      <td>AVCO</td>\n",
       "      <td>104945305</td>\n",
       "      <td>744517700</td>\n",
       "      <td>1967</td>\n",
       "    </tr>\n",
       "    <tr>\n",
       "      <th>155</th>\n",
       "      <td>Butch Cassidy and the Sundance Kid</td>\n",
       "      <td>Fox</td>\n",
       "      <td>102308889</td>\n",
       "      <td>613853300</td>\n",
       "      <td>1969</td>\n",
       "    </tr>\n",
       "    <tr>\n",
       "      <th>158</th>\n",
       "      <td>Stir Crazy</td>\n",
       "      <td>Columbia</td>\n",
       "      <td>101300000</td>\n",
       "      <td>327624500</td>\n",
       "      <td>1980</td>\n",
       "    </tr>\n",
       "    <tr>\n",
       "      <th>161</th>\n",
       "      <td>Lady and the Tramp</td>\n",
       "      <td>Disney</td>\n",
       "      <td>93602326</td>\n",
       "      <td>484893500</td>\n",
       "      <td>1955</td>\n",
       "    </tr>\n",
       "    <tr>\n",
       "      <th>167</th>\n",
       "      <td>M.A.S.H.</td>\n",
       "      <td>Fox</td>\n",
       "      <td>81600000</td>\n",
       "      <td>467052600</td>\n",
       "      <td>1970</td>\n",
       "    </tr>\n",
       "    <tr>\n",
       "      <th>171</th>\n",
       "      <td>Ben-Hur</td>\n",
       "      <td>MGM</td>\n",
       "      <td>74000000</td>\n",
       "      <td>852600000</td>\n",
       "      <td>1959</td>\n",
       "    </tr>\n",
       "    <tr>\n",
       "      <th>172</th>\n",
       "      <td>My Fair Lady</td>\n",
       "      <td>Warner Bros.</td>\n",
       "      <td>72000000</td>\n",
       "      <td>522000000</td>\n",
       "      <td>1964</td>\n",
       "    </tr>\n",
       "    <tr>\n",
       "      <th>185</th>\n",
       "      <td>West Side Story</td>\n",
       "      <td>MGM</td>\n",
       "      <td>43656822</td>\n",
       "      <td>486941500</td>\n",
       "      <td>1961</td>\n",
       "    </tr>\n",
       "    <tr>\n",
       "      <th>188</th>\n",
       "      <td>Rear Window</td>\n",
       "      <td>Paramount</td>\n",
       "      <td>36764313</td>\n",
       "      <td>438086300</td>\n",
       "      <td>1954</td>\n",
       "    </tr>\n",
       "    <tr>\n",
       "      <th>193</th>\n",
       "      <td>House of Wax</td>\n",
       "      <td>Warner Bros.</td>\n",
       "      <td>23750000</td>\n",
       "      <td>439627700</td>\n",
       "      <td>1953</td>\n",
       "    </tr>\n",
       "  </tbody>\n",
       "</table>\n",
       "</div>"
      ],
      "text/plain": [
       "                                                 Title        Studio  \\\n",
       "9                                The Dark Knight Rises  Warner Bros.   \n",
       "19                                       Jurassic Park     Universal   \n",
       "35                                        Spider-Man 3          Sony   \n",
       "39                                        Forrest Gump     Paramount   \n",
       "42                                            Iron Man     Paramount   \n",
       "45   The Lord of the Rings: The Fellowship of the Ring      New Line   \n",
       "85                                           Cast Away           Fox   \n",
       "105                                 Dances with Wolves         Orion   \n",
       "115                                   Crocodile Dundee     Paramount   \n",
       "121                      Robin Hood: Prince of Thieves  Warner Bros.   \n",
       "125                                   Fatal Attraction     Paramount   \n",
       "134                    National Lampoon's Animal House     Universal   \n",
       "138                         An Officer and a Gentleman     Paramount   \n",
       "144                               The Towering Inferno           Fox   \n",
       "150                                        Superman II  Warner Bros.   \n",
       "153                                       The Graduate          AVCO   \n",
       "155                 Butch Cassidy and the Sundance Kid           Fox   \n",
       "158                                         Stir Crazy      Columbia   \n",
       "161                                 Lady and the Tramp        Disney   \n",
       "167                                           M.A.S.H.           Fox   \n",
       "171                                            Ben-Hur           MGM   \n",
       "172                                       My Fair Lady  Warner Bros.   \n",
       "185                                    West Side Story           MGM   \n",
       "188                                        Rear Window     Paramount   \n",
       "193                                       House of Wax  Warner Bros.   \n",
       "\n",
       "         Gross  Gross (Adjusted)  Year  \n",
       "9    448139099         500961700  2012  \n",
       "19   402453882         799721000  1993  \n",
       "35   336530303         425554300  2007  \n",
       "39   330252182         683929300  1994  \n",
       "42   318412101         385808100  2008  \n",
       "45   315544750         476753700  2001  \n",
       "85   233632142         364479500  2000  \n",
       "105  184208848         380183900  1990  \n",
       "115  174803506         401961400  1986  \n",
       "121  165493908         341994500  1991  \n",
       "125  156645693         345222500  1987  \n",
       "134  141600000         521045300  1978  \n",
       "138  129795554         379814600  1982  \n",
       "144  116000000         533968300  1974  \n",
       "150  108185706         338566800  1981  \n",
       "153  104945305         744517700  1967  \n",
       "155  102308889         613853300  1969  \n",
       "158  101300000         327624500  1980  \n",
       "161   93602326         484893500  1955  \n",
       "167   81600000         467052600  1970  \n",
       "171   74000000         852600000  1959  \n",
       "172   72000000         522000000  1964  \n",
       "185   43656822         486941500  1961  \n",
       "188   36764313         438086300  1954  \n",
       "193   23750000         439627700  1953  "
      ]
     },
     "execution_count": 26,
     "metadata": {},
     "output_type": "execute_result"
    }
   ],
   "source": [
    "index_ = sample(25, top)\n",
    "df = top.ix[index_, :]\n",
    "df.sort_values(by='Gross', ascending=0)"
   ]
  },
  {
   "cell_type": "markdown",
   "metadata": {},
   "source": [
    "## Dice"
   ]
  },
  {
   "cell_type": "code",
   "execution_count": 27,
   "metadata": {
    "collapsed": true
   },
   "outputs": [],
   "source": [
    "die = pd.DataFrame()\n",
    "die[\"Face\"] = [1,2,3,4,5,6]"
   ]
  },
  {
   "cell_type": "code",
   "execution_count": 28,
   "metadata": {
    "collapsed": false
   },
   "outputs": [
    {
     "data": {
      "text/html": [
       "<div>\n",
       "<table border=\"1\" class=\"dataframe\">\n",
       "  <thead>\n",
       "    <tr style=\"text-align: right;\">\n",
       "      <th></th>\n",
       "      <th>Face</th>\n",
       "    </tr>\n",
       "  </thead>\n",
       "  <tbody>\n",
       "    <tr>\n",
       "      <th>0</th>\n",
       "      <td>1</td>\n",
       "    </tr>\n",
       "    <tr>\n",
       "      <th>1</th>\n",
       "      <td>2</td>\n",
       "    </tr>\n",
       "    <tr>\n",
       "      <th>2</th>\n",
       "      <td>3</td>\n",
       "    </tr>\n",
       "    <tr>\n",
       "      <th>3</th>\n",
       "      <td>4</td>\n",
       "    </tr>\n",
       "    <tr>\n",
       "      <th>4</th>\n",
       "      <td>5</td>\n",
       "    </tr>\n",
       "    <tr>\n",
       "      <th>5</th>\n",
       "      <td>6</td>\n",
       "    </tr>\n",
       "  </tbody>\n",
       "</table>\n",
       "</div>"
      ],
      "text/plain": [
       "   Face\n",
       "0     1\n",
       "1     2\n",
       "2     3\n",
       "3     4\n",
       "4     5\n",
       "5     6"
      ]
     },
     "execution_count": 28,
     "metadata": {},
     "output_type": "execute_result"
    }
   ],
   "source": [
    "die"
   ]
  },
  {
   "cell_type": "markdown",
   "metadata": {},
   "source": [
    "We can simulate the act of rolling dice by just pulling out rows"
   ]
  },
  {
   "cell_type": "code",
   "execution_count": 29,
   "metadata": {
    "collapsed": false
   },
   "outputs": [
    {
     "data": {
      "text/html": [
       "<div>\n",
       "<table border=\"1\" class=\"dataframe\">\n",
       "  <thead>\n",
       "    <tr style=\"text-align: right;\">\n",
       "      <th></th>\n",
       "      <th>Face</th>\n",
       "    </tr>\n",
       "  </thead>\n",
       "  <tbody>\n",
       "    <tr>\n",
       "      <th>3</th>\n",
       "      <td>4</td>\n",
       "    </tr>\n",
       "    <tr>\n",
       "      <th>4</th>\n",
       "      <td>5</td>\n",
       "    </tr>\n",
       "    <tr>\n",
       "      <th>4</th>\n",
       "      <td>5</td>\n",
       "    </tr>\n",
       "  </tbody>\n",
       "</table>\n",
       "</div>"
      ],
      "text/plain": [
       "   Face\n",
       "3     4\n",
       "4     5\n",
       "4     5"
      ]
     },
     "execution_count": 29,
     "metadata": {},
     "output_type": "execute_result"
    }
   ],
   "source": [
    "index_ = sample(3, die, with_replacement=True)\n",
    "df = die.ix[index_, :]\n",
    "df"
   ]
  },
  {
   "cell_type": "markdown",
   "metadata": {},
   "source": [
    "### Probability Histogram\n",
    "\n"
   ]
  },
  {
   "cell_type": "code",
   "execution_count": 30,
   "metadata": {
    "collapsed": false
   },
   "outputs": [
    {
     "data": {
      "image/png": "[encoded data removed]",
      "text/plain": [
       "<matplotlib.figure.Figure at 0x10f9a85d0>"
      ]
     },
     "metadata": {},
     "output_type": "display_data"
    }
   ],
   "source": [
    "dice_bins = np.arange(0.5, 7, 1) \n",
    "\n",
    "# norm the histogram to give us the density scale\n",
    "die.plot.hist(bins=dice_bins, normed=True)\n",
    "pyplt.ylabel('percent per unit')\n",
    "pyplt.legend(bbox_to_anchor=(1.05, 1), loc=2, borderaxespad=0.);\n"
   ]
  },
  {
   "cell_type": "code",
   "execution_count": 96,
   "metadata": {
    "collapsed": false
   },
   "outputs": [],
   "source": [
    "def dice_hist(n):\n",
    "    \"\"\"Construct histogram of n simulated dice rolls\n",
    "    \n",
    "    Attributes\n",
    "    -----------\n",
    "    n: int \n",
    "    \"\"\"\n",
    "    \n",
    "    if n > 0:\n",
    "        dice_bins = np.arange(0.5, 7, 1) \n",
    "        index_ = sample(n, die, with_replacement=True)\n",
    "        df = die.ix[index_, :]\n",
    "        df.plot.hist(bins=dice_bins, normed=True)\n",
    "        pyplt.ylabel('percent per unit')\n",
    "        pyplt.legend(bbox_to_anchor=(1.05, 1), loc=2, borderaxespad=0.);\n",
    "    else:\n",
    "        raise ValueError('n has to be greater than 0')\n",
    "\n",
    "        \n",
    "def dice_sum_hist(num_die, n):\n",
    "    \"\"\"\n",
    "    Construct histogram of rolling a pair of dice and plot the sum of the faces\n",
    "    \n",
    "    Attributes\n",
    "    -----------\n",
    "    num_die: int (number of dice)\n",
    "    n: int \n",
    "    \"\"\"\n",
    "    \n",
    "    if n > 0:\n",
    "        dice_bins = np.arange(0.5, 13, 1) \n",
    "        die_1_index = sample(n, die, with_replacement=True)\n",
    "        die_2_index = sample(n, die, with_replacement=True)\n",
    "        \n",
    "        die_1_index = sample(n, die, with_replacement=True)\n",
    "        die_2_index = sample(n, die, with_replacement=True)\n",
    "\n",
    "        df_1 = die.ix[die_1_index, :]\n",
    "        df_2 = die.ix[die_2_index, :]\n",
    "\n",
    "        df_1.reset_index(inplace=True)\n",
    "        df_2.reset_index(inplace=True)\n",
    "\n",
    "        df = df_1.Face + df_2.Face\n",
    "        df.plot.hist(bins=dice_bins, normed=True)\n",
    "        pyplt.ylabel('percent per unit')\n",
    "        pyplt.legend(bbox_to_anchor=(1.05, 1), loc=2, borderaxespad=0.);\n",
    "    else:\n",
    "        raise ValueError('n has to be greater than 0')\n",
    "        \n",
    "\n",
    "def dice_prod_hist(num_die, n):\n",
    "    \"\"\"\n",
    "    Construct histogram of rolling a pair of dice and plotting the product of the faces.\n",
    "    \n",
    "    Attributes\n",
    "    -----------\n",
    "    num_die: int (number of dice)\n",
    "    n: int \n",
    "    \"\"\"\n",
    "    \n",
    "    if n > 0:\n",
    "        dice_bins = np.arange(0.5, 37, 1) \n",
    "        die_1_index = sample(n, die, with_replacement=True)\n",
    "        die_2_index = sample(n, die, with_replacement=True)\n",
    "        \n",
    "        die_1_index = sample(n, die, with_replacement=True)\n",
    "        die_2_index = sample(n, die, with_replacement=True)\n",
    "\n",
    "        df_1 = die.ix[die_1_index, :]\n",
    "        df_2 = die.ix[die_2_index, :]\n",
    "\n",
    "        df_1.reset_index(inplace=True)\n",
    "        df_2.reset_index(inplace=True)\n",
    "\n",
    "        df = df_1.Face * df_2.Face\n",
    "        df.plot.hist(bins=dice_bins, normed=True)\n",
    "        pyplt.ylabel('percent per unit')\n",
    "        pyplt.legend(bbox_to_anchor=(1.05, 1), loc=2, borderaxespad=0.);\n",
    "    else:\n",
    "        raise ValueError('n has to be greater than 0')\n",
    "        \n"
   ]
  },
  {
   "cell_type": "markdown",
   "metadata": {},
   "source": [
    "### Probability Histogram"
   ]
  },
  {
   "cell_type": "code",
   "execution_count": 88,
   "metadata": {
    "collapsed": false
   },
   "outputs": [
    {
     "data": {
      "image/png": "[encoded data removed]",
      "text/plain": [
       "<matplotlib.figure.Figure at 0x10ff77910>"
      ]
     },
     "metadata": {},
     "output_type": "display_data"
    }
   ],
   "source": [
    "dice_hist(20)"
   ]
  },
  {
   "cell_type": "code",
   "execution_count": 89,
   "metadata": {
    "collapsed": false
   },
   "outputs": [
    {
     "data": {
      "image/png": "[encoded data removed]",
      "text/plain": [
       "<matplotlib.figure.Figure at 0x1105e2190>"
      ]
     },
     "metadata": {},
     "output_type": "display_data"
    }
   ],
   "source": [
    "dice_hist(10000)"
   ]
  },
  {
   "cell_type": "markdown",
   "metadata": {},
   "source": [
    "Plot the sum of dices"
   ]
  },
  {
   "cell_type": "code",
   "execution_count": 97,
   "metadata": {
    "collapsed": false
   },
   "outputs": [
    {
     "data": {
      "image/png": "[encoded data removed]",
      "text/plain": [
       "<matplotlib.figure.Figure at 0x11006d890>"
      ]
     },
     "metadata": {},
     "output_type": "display_data"
    }
   ],
   "source": [
    "num_die = 2\n",
    "n = 100\n",
    "dice_sum_hist(num_die, n)"
   ]
  },
  {
   "cell_type": "markdown",
   "metadata": {},
   "source": [
    "### Gaps in the histogram?\n",
    "The graph below helps us see that the probability histograms can have gaps. The graph below plots the probability histogram of the product of a pair of dice. The smallest number is 1, while the largest number is 36. Because of the distribution of the die face, we can never get a 7, 11 and so on. "
   ]
  },
  {
   "cell_type": "code",
   "execution_count": 94,
   "metadata": {
    "collapsed": false
   },
   "outputs": [
    {
     "data": {
      "image/png": "[encoded data removed]",
      "text/plain": [
       "<matplotlib.figure.Figure at 0x10fe7bd90>"
      ]
     },
     "metadata": {},
     "output_type": "display_data"
    }
   ],
   "source": [
    "num_die = 2\n",
    "n = 100\n",
    "dice_prod_hist(num_die, n)"
   ]
  },
  {
   "cell_type": "code",
   "execution_count": 71,
   "metadata": {
    "collapsed": true
   },
   "outputs": [],
   "source": []
  },
  {
   "cell_type": "code",
   "execution_count": null,
   "metadata": {
    "collapsed": true
   },
   "outputs": [],
   "source": []
  }
 ],
 "metadata": {
  "anaconda-cloud": {},
  "kernelspec": {
   "display_name": "Python [conda root]",
   "language": "python",
   "name": "conda-root-py"
  },
  "language_info": {
   "codemirror_mode": {
    "name": "ipython",
    "version": 2
   },
   "file_extension": ".py",
   "mimetype": "text/x-python",
   "name": "python",
   "nbconvert_exporter": "python",
   "pygments_lexer": "ipython2",
   "version": "2.7.13"
  }
 },
 "nbformat": 4,
 "nbformat_minor": 2
}
