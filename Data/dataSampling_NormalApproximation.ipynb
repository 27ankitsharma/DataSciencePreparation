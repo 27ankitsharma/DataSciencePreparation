{
 "cells": [
  {
   "cell_type": "markdown",
   "metadata": {},
   "source": [
    "# Data Sampling\n",
    "## The Normal Approximation for Probability Histograms"
   ]
  },
  {
   "cell_type": "code",
   "execution_count": 1,
   "metadata": {
    "collapsed": false
   },
   "outputs": [
    {
     "name": "stdout",
     "output_type": "stream",
     "text": [
      "Populating the interactive namespace from numpy and matplotlib\n"
     ]
    }
   ],
   "source": [
    "%pylab inline"
   ]
  },
  {
   "cell_type": "code",
   "execution_count": 2,
   "metadata": {
    "collapsed": true
   },
   "outputs": [],
   "source": [
    "# Import libraries\n",
    "from __future__ import absolute_import, division, print_function\n",
    "\n",
    "# Ignore warnings\n",
    "import warnings\n",
    "#warnings.filterwarnings('ignore')\n",
    "\n",
    "import sys\n",
    "sys.path.append('tools/')\n",
    "\n",
    "import numpy as np\n",
    "import pandas as pd\n",
    "\n",
    "# Graphing Libraries\n",
    "import matplotlib.pyplot as pyplt\n",
    "import seaborn as sns\n",
    "sns.set_style(\"white\")  \n",
    "\n",
    "# Configure for presentation\n",
    "np.set_printoptions(threshold=50, linewidth=50)\n",
    "import matplotlib as mpl\n",
    "mpl.rc('font', size=16)\n",
    "\n",
    "from IPython.display import display"
   ]
  },
  {
   "cell_type": "markdown",
   "metadata": {},
   "source": [
    "To get our feet wet, let's take a look at the city of San Francisco's bike sharing data"
   ]
  },
  {
   "cell_type": "code",
   "execution_count": 555,
   "metadata": {
    "collapsed": false
   },
   "outputs": [],
   "source": [
    "trips = pd.read_csv('data/trip.csv')\n",
    "commute = trips.where(trips.Duration < 1800)"
   ]
  },
  {
   "cell_type": "code",
   "execution_count": 556,
   "metadata": {
    "collapsed": false,
    "scrolled": false
   },
   "outputs": [
    {
     "data": {
      "text/html": [
       "<div>\n",
       "<table border=\"1\" class=\"dataframe\">\n",
       "  <thead>\n",
       "    <tr style=\"text-align: right;\">\n",
       "      <th></th>\n",
       "      <th>Trip ID</th>\n",
       "      <th>Duration</th>\n",
       "      <th>Start Date</th>\n",
       "      <th>Start Station</th>\n",
       "      <th>Start Terminal</th>\n",
       "      <th>End Date</th>\n",
       "      <th>End Station</th>\n",
       "      <th>End Terminal</th>\n",
       "      <th>Bike #</th>\n",
       "      <th>Subscriber Type</th>\n",
       "      <th>Zip Code</th>\n",
       "    </tr>\n",
       "  </thead>\n",
       "  <tbody>\n",
       "    <tr>\n",
       "      <th>0</th>\n",
       "      <td>913460</td>\n",
       "      <td>765</td>\n",
       "      <td>8/31/2015 23:26</td>\n",
       "      <td>Harry Bridges Plaza (Ferry Building)</td>\n",
       "      <td>50</td>\n",
       "      <td>8/31/2015 23:39</td>\n",
       "      <td>San Francisco Caltrain (Townsend at 4th)</td>\n",
       "      <td>70</td>\n",
       "      <td>288</td>\n",
       "      <td>Subscriber</td>\n",
       "      <td>2139</td>\n",
       "    </tr>\n",
       "    <tr>\n",
       "      <th>1</th>\n",
       "      <td>913459</td>\n",
       "      <td>1036</td>\n",
       "      <td>8/31/2015 23:11</td>\n",
       "      <td>San Antonio Shopping Center</td>\n",
       "      <td>31</td>\n",
       "      <td>8/31/2015 23:28</td>\n",
       "      <td>Mountain View City Hall</td>\n",
       "      <td>27</td>\n",
       "      <td>35</td>\n",
       "      <td>Subscriber</td>\n",
       "      <td>95032</td>\n",
       "    </tr>\n",
       "    <tr>\n",
       "      <th>2</th>\n",
       "      <td>913455</td>\n",
       "      <td>307</td>\n",
       "      <td>8/31/2015 23:13</td>\n",
       "      <td>Post at Kearny</td>\n",
       "      <td>47</td>\n",
       "      <td>8/31/2015 23:18</td>\n",
       "      <td>2nd at South Park</td>\n",
       "      <td>64</td>\n",
       "      <td>468</td>\n",
       "      <td>Subscriber</td>\n",
       "      <td>94107</td>\n",
       "    </tr>\n",
       "    <tr>\n",
       "      <th>3</th>\n",
       "      <td>913454</td>\n",
       "      <td>409</td>\n",
       "      <td>8/31/2015 23:10</td>\n",
       "      <td>San Jose City Hall</td>\n",
       "      <td>10</td>\n",
       "      <td>8/31/2015 23:17</td>\n",
       "      <td>San Salvador at 1st</td>\n",
       "      <td>8</td>\n",
       "      <td>68</td>\n",
       "      <td>Subscriber</td>\n",
       "      <td>95113</td>\n",
       "    </tr>\n",
       "    <tr>\n",
       "      <th>4</th>\n",
       "      <td>913453</td>\n",
       "      <td>789</td>\n",
       "      <td>8/31/2015 23:09</td>\n",
       "      <td>Embarcadero at Folsom</td>\n",
       "      <td>51</td>\n",
       "      <td>8/31/2015 23:22</td>\n",
       "      <td>Embarcadero at Sansome</td>\n",
       "      <td>60</td>\n",
       "      <td>487</td>\n",
       "      <td>Customer</td>\n",
       "      <td>9069</td>\n",
       "    </tr>\n",
       "  </tbody>\n",
       "</table>\n",
       "</div>"
      ],
      "text/plain": [
       "   Trip ID  Duration       Start Date                         Start Station  \\\n",
       "0   913460       765  8/31/2015 23:26  Harry Bridges Plaza (Ferry Building)   \n",
       "1   913459      1036  8/31/2015 23:11           San Antonio Shopping Center   \n",
       "2   913455       307  8/31/2015 23:13                        Post at Kearny   \n",
       "3   913454       409  8/31/2015 23:10                    San Jose City Hall   \n",
       "4   913453       789  8/31/2015 23:09                 Embarcadero at Folsom   \n",
       "\n",
       "   Start Terminal         End Date                               End Station  \\\n",
       "0              50  8/31/2015 23:39  San Francisco Caltrain (Townsend at 4th)   \n",
       "1              31  8/31/2015 23:28                   Mountain View City Hall   \n",
       "2              47  8/31/2015 23:18                         2nd at South Park   \n",
       "3              10  8/31/2015 23:17                       San Salvador at 1st   \n",
       "4              51  8/31/2015 23:22                    Embarcadero at Sansome   \n",
       "\n",
       "   End Terminal  Bike # Subscriber Type Zip Code  \n",
       "0            70     288      Subscriber     2139  \n",
       "1            27      35      Subscriber    95032  \n",
       "2            64     468      Subscriber    94107  \n",
       "3             8      68      Subscriber    95113  \n",
       "4            60     487        Customer     9069  "
      ]
     },
     "metadata": {},
     "output_type": "display_data"
    },
    {
     "data": {
      "text/html": [
       "<div>\n",
       "<table border=\"1\" class=\"dataframe\">\n",
       "  <thead>\n",
       "    <tr style=\"text-align: right;\">\n",
       "      <th></th>\n",
       "      <th>Trip ID</th>\n",
       "      <th>Duration</th>\n",
       "      <th>Start Date</th>\n",
       "      <th>Start Station</th>\n",
       "      <th>Start Terminal</th>\n",
       "      <th>End Date</th>\n",
       "      <th>End Station</th>\n",
       "      <th>End Terminal</th>\n",
       "      <th>Bike #</th>\n",
       "      <th>Subscriber Type</th>\n",
       "      <th>Zip Code</th>\n",
       "    </tr>\n",
       "  </thead>\n",
       "  <tbody>\n",
       "    <tr>\n",
       "      <th>0</th>\n",
       "      <td>913460.0</td>\n",
       "      <td>765.0</td>\n",
       "      <td>8/31/2015 23:26</td>\n",
       "      <td>Harry Bridges Plaza (Ferry Building)</td>\n",
       "      <td>50.0</td>\n",
       "      <td>8/31/2015 23:39</td>\n",
       "      <td>San Francisco Caltrain (Townsend at 4th)</td>\n",
       "      <td>70.0</td>\n",
       "      <td>288.0</td>\n",
       "      <td>Subscriber</td>\n",
       "      <td>2139</td>\n",
       "    </tr>\n",
       "    <tr>\n",
       "      <th>1</th>\n",
       "      <td>913459.0</td>\n",
       "      <td>1036.0</td>\n",
       "      <td>8/31/2015 23:11</td>\n",
       "      <td>San Antonio Shopping Center</td>\n",
       "      <td>31.0</td>\n",
       "      <td>8/31/2015 23:28</td>\n",
       "      <td>Mountain View City Hall</td>\n",
       "      <td>27.0</td>\n",
       "      <td>35.0</td>\n",
       "      <td>Subscriber</td>\n",
       "      <td>95032</td>\n",
       "    </tr>\n",
       "    <tr>\n",
       "      <th>2</th>\n",
       "      <td>913455.0</td>\n",
       "      <td>307.0</td>\n",
       "      <td>8/31/2015 23:13</td>\n",
       "      <td>Post at Kearny</td>\n",
       "      <td>47.0</td>\n",
       "      <td>8/31/2015 23:18</td>\n",
       "      <td>2nd at South Park</td>\n",
       "      <td>64.0</td>\n",
       "      <td>468.0</td>\n",
       "      <td>Subscriber</td>\n",
       "      <td>94107</td>\n",
       "    </tr>\n",
       "    <tr>\n",
       "      <th>3</th>\n",
       "      <td>913454.0</td>\n",
       "      <td>409.0</td>\n",
       "      <td>8/31/2015 23:10</td>\n",
       "      <td>San Jose City Hall</td>\n",
       "      <td>10.0</td>\n",
       "      <td>8/31/2015 23:17</td>\n",
       "      <td>San Salvador at 1st</td>\n",
       "      <td>8.0</td>\n",
       "      <td>68.0</td>\n",
       "      <td>Subscriber</td>\n",
       "      <td>95113</td>\n",
       "    </tr>\n",
       "    <tr>\n",
       "      <th>4</th>\n",
       "      <td>913453.0</td>\n",
       "      <td>789.0</td>\n",
       "      <td>8/31/2015 23:09</td>\n",
       "      <td>Embarcadero at Folsom</td>\n",
       "      <td>51.0</td>\n",
       "      <td>8/31/2015 23:22</td>\n",
       "      <td>Embarcadero at Sansome</td>\n",
       "      <td>60.0</td>\n",
       "      <td>487.0</td>\n",
       "      <td>Customer</td>\n",
       "      <td>9069</td>\n",
       "    </tr>\n",
       "  </tbody>\n",
       "</table>\n",
       "</div>"
      ],
      "text/plain": [
       "    Trip ID  Duration       Start Date                         Start Station  \\\n",
       "0  913460.0     765.0  8/31/2015 23:26  Harry Bridges Plaza (Ferry Building)   \n",
       "1  913459.0    1036.0  8/31/2015 23:11           San Antonio Shopping Center   \n",
       "2  913455.0     307.0  8/31/2015 23:13                        Post at Kearny   \n",
       "3  913454.0     409.0  8/31/2015 23:10                    San Jose City Hall   \n",
       "4  913453.0     789.0  8/31/2015 23:09                 Embarcadero at Folsom   \n",
       "\n",
       "   Start Terminal         End Date                               End Station  \\\n",
       "0            50.0  8/31/2015 23:39  San Francisco Caltrain (Townsend at 4th)   \n",
       "1            31.0  8/31/2015 23:28                   Mountain View City Hall   \n",
       "2            47.0  8/31/2015 23:18                         2nd at South Park   \n",
       "3            10.0  8/31/2015 23:17                       San Salvador at 1st   \n",
       "4            51.0  8/31/2015 23:22                    Embarcadero at Sansome   \n",
       "\n",
       "   End Terminal  Bike # Subscriber Type Zip Code  \n",
       "0          70.0   288.0      Subscriber     2139  \n",
       "1          27.0    35.0      Subscriber    95032  \n",
       "2          64.0   468.0      Subscriber    94107  \n",
       "3           8.0    68.0      Subscriber    95113  \n",
       "4          60.0   487.0        Customer     9069  "
      ]
     },
     "metadata": {},
     "output_type": "display_data"
    }
   ],
   "source": [
    "display(trips.head())\n",
    "display(commute.head())"
   ]
  },
  {
   "cell_type": "markdown",
   "metadata": {},
   "source": [
    "For this analysis, we are limiting ourselves to bike sharing trips that are leess that 30 minutes, because that is what comes free as part of the bike sharing program for the city of San Francisco.\n",
    "We want to draw a histogram of the duration to understand exactly how long trips typically take. \n",
    "\n",
    "To do that, I am going to start off making bins of the data. For example, restricting the sampling to every minutes."
   ]
  },
  {
   "cell_type": "code",
   "execution_count": 557,
   "metadata": {
    "collapsed": false
   },
   "outputs": [],
   "source": [
    "half_hour = 30 * 60 # 30 minutes times 60 seconds\n",
    "bins = np.arange(1, half_hour+1, 60)"
   ]
  },
  {
   "cell_type": "code",
   "execution_count": 558,
   "metadata": {
    "collapsed": true
   },
   "outputs": [],
   "source": [
    "pyplt.rcParams['figure.figsize'] = (4, 3)"
   ]
  },
  {
   "cell_type": "code",
   "execution_count": 559,
   "metadata": {
    "collapsed": false
   },
   "outputs": [
    {
     "data": {
      "image/png": "[encoded data removed]",
      "text/plain": [
       "<matplotlib.figure.Figure at 0x10fd18a90>"
      ]
     },
     "metadata": {},
     "output_type": "display_data"
    }
   ],
   "source": [
    "commute.hist('Duration', bins=bins, normed=True)\n",
    "pyplt.ylabel('percent per unit');"
   ]
  },
  {
   "cell_type": "code",
   "execution_count": 560,
   "metadata": {
    "collapsed": true
   },
   "outputs": [],
   "source": [
    "def bin_frequency(k):\n",
    "    bins = np.arange(1, half_hour+1, k)\n",
    "    commute.hist('Duration', bins=bins, normed=True)"
   ]
  },
  {
   "cell_type": "code",
   "execution_count": 561,
   "metadata": {
    "collapsed": false
   },
   "outputs": [
    {
     "data": {
      "image/png": "[encoded data removed]",
      "text/plain": [
       "<matplotlib.figure.Figure at 0x119da7750>"
      ]
     },
     "metadata": {},
     "output_type": "display_data"
    }
   ],
   "source": [
    "bin_frequency(10)\n",
    "pyplt.ylabel('percent per unit');"
   ]
  },
  {
   "cell_type": "code",
   "execution_count": 562,
   "metadata": {
    "collapsed": true
   },
   "outputs": [],
   "source": [
    "weather = pd.read_csv('data/weather.csv')\n",
    "sf = weather.where(weather.Zip == 94107)"
   ]
  },
  {
   "cell_type": "code",
   "execution_count": 563,
   "metadata": {
    "collapsed": false
   },
   "outputs": [],
   "source": [
    "sf = sf[[0, 1, 3]]\n",
    "sf.columns = [u'PDT', 'High', 'Low']"
   ]
  },
  {
   "cell_type": "code",
   "execution_count": 564,
   "metadata": {
    "collapsed": false
   },
   "outputs": [
    {
     "data": {
      "text/html": [
       "<div>\n",
       "<table border=\"1\" class=\"dataframe\">\n",
       "  <thead>\n",
       "    <tr style=\"text-align: right;\">\n",
       "      <th></th>\n",
       "      <th>PDT</th>\n",
       "      <th>High</th>\n",
       "      <th>Low</th>\n",
       "    </tr>\n",
       "  </thead>\n",
       "  <tbody>\n",
       "    <tr>\n",
       "      <th>0</th>\n",
       "      <td>9/1/2014</td>\n",
       "      <td>83.0</td>\n",
       "      <td>57.0</td>\n",
       "    </tr>\n",
       "    <tr>\n",
       "      <th>1</th>\n",
       "      <td>9/2/2014</td>\n",
       "      <td>72.0</td>\n",
       "      <td>60.0</td>\n",
       "    </tr>\n",
       "    <tr>\n",
       "      <th>2</th>\n",
       "      <td>9/3/2014</td>\n",
       "      <td>76.0</td>\n",
       "      <td>61.0</td>\n",
       "    </tr>\n",
       "    <tr>\n",
       "      <th>3</th>\n",
       "      <td>9/4/2014</td>\n",
       "      <td>74.0</td>\n",
       "      <td>61.0</td>\n",
       "    </tr>\n",
       "    <tr>\n",
       "      <th>4</th>\n",
       "      <td>9/5/2014</td>\n",
       "      <td>72.0</td>\n",
       "      <td>60.0</td>\n",
       "    </tr>\n",
       "  </tbody>\n",
       "</table>\n",
       "</div>"
      ],
      "text/plain": [
       "        PDT  High   Low\n",
       "0  9/1/2014  83.0  57.0\n",
       "1  9/2/2014  72.0  60.0\n",
       "2  9/3/2014  76.0  61.0\n",
       "3  9/4/2014  74.0  61.0\n",
       "4  9/5/2014  72.0  60.0"
      ]
     },
     "execution_count": 564,
     "metadata": {},
     "output_type": "execute_result"
    }
   ],
   "source": [
    "sf.head()"
   ]
  },
  {
   "cell_type": "code",
   "execution_count": 565,
   "metadata": {
    "collapsed": true
   },
   "outputs": [],
   "source": [
    "def axis_tick_frequency(ax, axis, freq):\n",
    "    \"\"\"The frequency of the y axis tick marks\n",
    "        Attributes\n",
    "        ----------\n",
    "        ax: matplotlib axis object\n",
    "        axis: char eithher 'y' or 'x'\n",
    "        freq: int, the integer value of which the range moves\n",
    "    \"\"\"\n",
    "    \n",
    "    if axis == 'y':\n",
    "        start, end = ax.get_ylim()\n",
    "        ax.yaxis.set_ticks(np.arange(start, end, freq))\n",
    "    elif axis == 'x':\n",
    "        start, end = ax.get_xlim()\n",
    "        ax.xaxis.set_ticks(np.arange(start, end, freq))\n",
    "    else:\n",
    "        raise ValueError('{argument} is not a valid axis object'.format(argument=repr(axis)))"
   ]
  },
  {
   "cell_type": "code",
   "execution_count": 566,
   "metadata": {
    "collapsed": false
   },
   "outputs": [
    {
     "data": {
      "image/png": "[encoded data removed]",
      "text/plain": [
       "<matplotlib.figure.Figure at 0x1111ab710>"
      ]
     },
     "metadata": {},
     "output_type": "display_data"
    }
   ],
   "source": [
    "ax = sf[[1,2]].plot.hist(color =['coral','cadetblue'], bins=np.arange(30, 101, 5), normed=True, alpha = 0.5)\n",
    "#axis_tick_frequency(ax, 'y', 10)\n",
    "pyplt.ylabel('percent per unit')\n",
    "pyplt.legend(bbox_to_anchor=(1.05, 1), loc=2, borderaxespad=0.)\n",
    "pyplt.grid(True);"
   ]
  },
  {
   "cell_type": "markdown",
   "metadata": {},
   "source": [
    "#### Question:\n",
    " - What proportion of days had a low temp greater than 45 degrees?\n",
    " \n",
    "#### Answer:\n",
    "\n"
   ]
  },
  {
   "cell_type": "code",
   "execution_count": 567,
   "metadata": {
    "collapsed": false
   },
   "outputs": [
    {
     "data": {
      "text/plain": [
       "85.753424657534254"
      ]
     },
     "execution_count": 567,
     "metadata": {},
     "output_type": "execute_result"
    }
   ],
   "source": [
    "sf.where(sf.Low >= 45).Low.count() / 365 * 100"
   ]
  },
  {
   "cell_type": "markdown",
   "metadata": {},
   "source": [
    "#### Question:\n",
    " - Figure out the distribution of the days of the year where temperature swings betweens the highs and the lows.\n",
    "\n",
    "#### Answer:"
   ]
  },
  {
   "cell_type": "code",
   "execution_count": 568,
   "metadata": {
    "collapsed": true
   },
   "outputs": [],
   "source": [
    "sf['diff'] = sf.High - sf.Low"
   ]
  },
  {
   "cell_type": "code",
   "execution_count": 569,
   "metadata": {
    "collapsed": false
   },
   "outputs": [
    {
     "data": {
      "image/png": "[encoded data removed]",
      "text/plain": [
       "<matplotlib.figure.Figure at 0x111396b50>"
      ]
     },
     "metadata": {},
     "output_type": "display_data"
    }
   ],
   "source": [
    "ax = sf['diff'].plot.hist(bins=np.arange(0, 40, 1))\n",
    "axis_tick_frequency(ax, 'y', 10)\n",
    "pyplt.legend(bbox_to_anchor=(1.05, 1), loc=2, borderaxespad=0.);\n"
   ]
  },
  {
   "cell_type": "markdown",
   "metadata": {},
   "source": [
    "## Deterministic Sampling"
   ]
  },
  {
   "cell_type": "code",
   "execution_count": 570,
   "metadata": {
    "collapsed": true
   },
   "outputs": [],
   "source": [
    "top = pd.read_csv('data/top_movies.csv')"
   ]
  },
  {
   "cell_type": "code",
   "execution_count": 571,
   "metadata": {
    "collapsed": false,
    "scrolled": false
   },
   "outputs": [
    {
     "data": {
      "text/html": [
       "<div>\n",
       "<table border=\"1\" class=\"dataframe\">\n",
       "  <thead>\n",
       "    <tr style=\"text-align: right;\">\n",
       "      <th></th>\n",
       "      <th>Title</th>\n",
       "      <th>Studio</th>\n",
       "      <th>Gross</th>\n",
       "      <th>Gross (Adjusted)</th>\n",
       "      <th>Year</th>\n",
       "    </tr>\n",
       "  </thead>\n",
       "  <tbody>\n",
       "    <tr>\n",
       "      <th>0</th>\n",
       "      <td>Star Wars: The Force Awakens</td>\n",
       "      <td>Buena Vista (Disney)</td>\n",
       "      <td>906723418</td>\n",
       "      <td>906723400</td>\n",
       "      <td>2015</td>\n",
       "    </tr>\n",
       "    <tr>\n",
       "      <th>1</th>\n",
       "      <td>Avatar</td>\n",
       "      <td>Fox</td>\n",
       "      <td>760507625</td>\n",
       "      <td>846120800</td>\n",
       "      <td>2009</td>\n",
       "    </tr>\n",
       "    <tr>\n",
       "      <th>2</th>\n",
       "      <td>Titanic</td>\n",
       "      <td>Paramount</td>\n",
       "      <td>658672302</td>\n",
       "      <td>1178627900</td>\n",
       "      <td>1997</td>\n",
       "    </tr>\n",
       "    <tr>\n",
       "      <th>3</th>\n",
       "      <td>Jurassic World</td>\n",
       "      <td>Universal</td>\n",
       "      <td>652270625</td>\n",
       "      <td>687728000</td>\n",
       "      <td>2015</td>\n",
       "    </tr>\n",
       "    <tr>\n",
       "      <th>4</th>\n",
       "      <td>Marvel's The Avengers</td>\n",
       "      <td>Buena Vista (Disney)</td>\n",
       "      <td>623357910</td>\n",
       "      <td>668866600</td>\n",
       "      <td>2012</td>\n",
       "    </tr>\n",
       "  </tbody>\n",
       "</table>\n",
       "</div>"
      ],
      "text/plain": [
       "                          Title                Studio      Gross  \\\n",
       "0  Star Wars: The Force Awakens  Buena Vista (Disney)  906723418   \n",
       "1                        Avatar                   Fox  760507625   \n",
       "2                       Titanic             Paramount  658672302   \n",
       "3                Jurassic World             Universal  652270625   \n",
       "4         Marvel's The Avengers  Buena Vista (Disney)  623357910   \n",
       "\n",
       "   Gross (Adjusted)  Year  \n",
       "0         906723400  2015  \n",
       "1         846120800  2009  \n",
       "2        1178627900  1997  \n",
       "3         687728000  2015  \n",
       "4         668866600  2012  "
      ]
     },
     "execution_count": 571,
     "metadata": {},
     "output_type": "execute_result"
    }
   ],
   "source": [
    "top.head()"
   ]
  },
  {
   "cell_type": "markdown",
   "metadata": {},
   "source": [
    "Let's make a deterministic sample. We will sample every 20th top grossing movie"
   ]
  },
  {
   "cell_type": "code",
   "execution_count": 572,
   "metadata": {
    "collapsed": true
   },
   "outputs": [],
   "source": [
    "interval = 20\n",
    "sample = arange(0, len(top), interval)"
   ]
  },
  {
   "cell_type": "code",
   "execution_count": 573,
   "metadata": {
    "collapsed": false
   },
   "outputs": [],
   "source": [
    "df = pd.DataFrame()\n",
    "for i in sample:\n",
    "    df = df.append(top.ix[i, :])"
   ]
  },
  {
   "cell_type": "code",
   "execution_count": 574,
   "metadata": {
    "collapsed": false
   },
   "outputs": [
    {
     "data": {
      "text/html": [
       "<div>\n",
       "<table border=\"1\" class=\"dataframe\">\n",
       "  <thead>\n",
       "    <tr style=\"text-align: right;\">\n",
       "      <th></th>\n",
       "      <th>Gross</th>\n",
       "      <th>Gross (Adjusted)</th>\n",
       "      <th>Studio</th>\n",
       "      <th>Title</th>\n",
       "      <th>Year</th>\n",
       "    </tr>\n",
       "  </thead>\n",
       "  <tbody>\n",
       "    <tr>\n",
       "      <th>0</th>\n",
       "      <td>906723418.0</td>\n",
       "      <td>9.067234e+08</td>\n",
       "      <td>Buena Vista (Disney)</td>\n",
       "      <td>Star Wars: The Force Awakens</td>\n",
       "      <td>2015.0</td>\n",
       "    </tr>\n",
       "    <tr>\n",
       "      <th>20</th>\n",
       "      <td>402111870.0</td>\n",
       "      <td>4.689381e+08</td>\n",
       "      <td>Paramount/Dreamworks</td>\n",
       "      <td>Transformers: Revenge of the Fallen</td>\n",
       "      <td>2009.0</td>\n",
       "    </tr>\n",
       "    <tr>\n",
       "      <th>40</th>\n",
       "      <td>322719944.0</td>\n",
       "      <td>4.080906e+08</td>\n",
       "      <td>Paramount/Dreamworks</td>\n",
       "      <td>Shrek the Third</td>\n",
       "      <td>2007.0</td>\n",
       "    </tr>\n",
       "    <tr>\n",
       "      <th>60</th>\n",
       "      <td>291710957.0</td>\n",
       "      <td>3.930331e+08</td>\n",
       "      <td>Buena Vista (Disney)</td>\n",
       "      <td>The Chronicles of Narnia: The Lion, the Witch ...</td>\n",
       "      <td>2005.0</td>\n",
       "    </tr>\n",
       "    <tr>\n",
       "      <th>80</th>\n",
       "      <td>242829261.0</td>\n",
       "      <td>3.503507e+08</td>\n",
       "      <td>Universal</td>\n",
       "      <td>Bruce Almighty</td>\n",
       "      <td>2003.0</td>\n",
       "    </tr>\n",
       "    <tr>\n",
       "      <th>100</th>\n",
       "      <td>198676459.0</td>\n",
       "      <td>1.757788e+09</td>\n",
       "      <td>MGM</td>\n",
       "      <td>Gone with the Wind</td>\n",
       "      <td>1939.0</td>\n",
       "    </tr>\n",
       "    <tr>\n",
       "      <th>120</th>\n",
       "      <td>167780960.0</td>\n",
       "      <td>3.628229e+08</td>\n",
       "      <td>Buena Vista (Disney)</td>\n",
       "      <td>Three Men and a Baby</td>\n",
       "      <td>1987.0</td>\n",
       "    </tr>\n",
       "    <tr>\n",
       "      <th>140</th>\n",
       "      <td>125049125.0</td>\n",
       "      <td>3.698653e+08</td>\n",
       "      <td>UA</td>\n",
       "      <td>Rocky III</td>\n",
       "      <td>1982.0</td>\n",
       "    </tr>\n",
       "    <tr>\n",
       "      <th>160</th>\n",
       "      <td>94213184.0</td>\n",
       "      <td>3.532612e+08</td>\n",
       "      <td>Paramount</td>\n",
       "      <td>Saturday Night Fever</td>\n",
       "      <td>1977.0</td>\n",
       "    </tr>\n",
       "    <tr>\n",
       "      <th>180</th>\n",
       "      <td>52223306.0</td>\n",
       "      <td>3.483432e+08</td>\n",
       "      <td>Columbia</td>\n",
       "      <td>Funny Girl</td>\n",
       "      <td>1968.0</td>\n",
       "    </tr>\n",
       "  </tbody>\n",
       "</table>\n",
       "</div>"
      ],
      "text/plain": [
       "           Gross  Gross (Adjusted)                Studio  \\\n",
       "0    906723418.0      9.067234e+08  Buena Vista (Disney)   \n",
       "20   402111870.0      4.689381e+08  Paramount/Dreamworks   \n",
       "40   322719944.0      4.080906e+08  Paramount/Dreamworks   \n",
       "60   291710957.0      3.930331e+08  Buena Vista (Disney)   \n",
       "80   242829261.0      3.503507e+08             Universal   \n",
       "100  198676459.0      1.757788e+09                   MGM   \n",
       "120  167780960.0      3.628229e+08  Buena Vista (Disney)   \n",
       "140  125049125.0      3.698653e+08                    UA   \n",
       "160   94213184.0      3.532612e+08             Paramount   \n",
       "180   52223306.0      3.483432e+08              Columbia   \n",
       "\n",
       "                                                 Title    Year  \n",
       "0                         Star Wars: The Force Awakens  2015.0  \n",
       "20                 Transformers: Revenge of the Fallen  2009.0  \n",
       "40                                     Shrek the Third  2007.0  \n",
       "60   The Chronicles of Narnia: The Lion, the Witch ...  2005.0  \n",
       "80                                      Bruce Almighty  2003.0  \n",
       "100                                 Gone with the Wind  1939.0  \n",
       "120                               Three Men and a Baby  1987.0  \n",
       "140                                          Rocky III  1982.0  \n",
       "160                               Saturday Night Fever  1977.0  \n",
       "180                                         Funny Girl  1968.0  "
      ]
     },
     "execution_count": 574,
     "metadata": {},
     "output_type": "execute_result"
    }
   ],
   "source": [
    "df"
   ]
  },
  {
   "cell_type": "markdown",
   "metadata": {},
   "source": [
    "## Probability Sampling\n",
    "\n",
    "A *population* is the set of all elements from whom a sample will be drawn. A *probability sample* is one for which it is possible to calculate, before the sample is drawn, the chance with which any subset of elements will enter the sample. In a probability sample, all elements need not have the same chance of being chosen.\n",
    "\n",
    "Now let's do probabilistic sampling of the top movies. When we do a probabilistic sample like this, we call it a **\"systematic sample.\"**\n"
   ]
  },
  {
   "cell_type": "code",
   "execution_count": 575,
   "metadata": {
    "collapsed": false
   },
   "outputs": [],
   "source": [
    "start = np.random.choice(np.arange(interval))\n",
    "sample = np.arange(start, len(top), interval)\n",
    "\n",
    "df = pd.DataFrame()\n",
    "for i in sample:\n",
    "    df = df.append(top.ix[i, :])"
   ]
  },
  {
   "cell_type": "code",
   "execution_count": 576,
   "metadata": {
    "collapsed": false
   },
   "outputs": [
    {
     "data": {
      "text/html": [
       "<div>\n",
       "<table border=\"1\" class=\"dataframe\">\n",
       "  <thead>\n",
       "    <tr style=\"text-align: right;\">\n",
       "      <th></th>\n",
       "      <th>Gross</th>\n",
       "      <th>Gross (Adjusted)</th>\n",
       "      <th>Studio</th>\n",
       "      <th>Title</th>\n",
       "      <th>Year</th>\n",
       "    </tr>\n",
       "  </thead>\n",
       "  <tbody>\n",
       "    <tr>\n",
       "      <th>13</th>\n",
       "      <td>423315812.0</td>\n",
       "      <td>562266800.0</td>\n",
       "      <td>Buena Vista (Disney)</td>\n",
       "      <td>Pirates of the Caribbean: Dead Man's Chest</td>\n",
       "      <td>2006.0</td>\n",
       "    </tr>\n",
       "    <tr>\n",
       "      <th>33</th>\n",
       "      <td>342551365.0</td>\n",
       "      <td>502210000.0</td>\n",
       "      <td>New Line</td>\n",
       "      <td>The Lord of the Rings: The Two Towers</td>\n",
       "      <td>2002.0</td>\n",
       "    </tr>\n",
       "    <tr>\n",
       "      <th>53</th>\n",
       "      <td>303003568.0</td>\n",
       "      <td>329153300.0</td>\n",
       "      <td>Warner Bros. (New Line)</td>\n",
       "      <td>The Hobbit: An Unexpected Journey</td>\n",
       "      <td>2012.0</td>\n",
       "    </tr>\n",
       "    <tr>\n",
       "      <th>73</th>\n",
       "      <td>251188924.0</td>\n",
       "      <td>547705200.0</td>\n",
       "      <td>Warner Bros.</td>\n",
       "      <td>Batman</td>\n",
       "      <td>1989.0</td>\n",
       "    </tr>\n",
       "    <tr>\n",
       "      <th>93</th>\n",
       "      <td>217350219.0</td>\n",
       "      <td>456248400.0</td>\n",
       "      <td>Buena Vista (Disney)</td>\n",
       "      <td>Aladdin</td>\n",
       "      <td>1992.0</td>\n",
       "    </tr>\n",
       "    <tr>\n",
       "      <th>113</th>\n",
       "      <td>177200000.0</td>\n",
       "      <td>495064300.0</td>\n",
       "      <td>Columbia</td>\n",
       "      <td>Tootsie</td>\n",
       "      <td>1982.0</td>\n",
       "    </tr>\n",
       "    <tr>\n",
       "      <th>133</th>\n",
       "      <td>141843612.0</td>\n",
       "      <td>641015300.0</td>\n",
       "      <td>Disney</td>\n",
       "      <td>The Jungle Book</td>\n",
       "      <td>1967.0</td>\n",
       "    </tr>\n",
       "    <tr>\n",
       "      <th>153</th>\n",
       "      <td>104945305.0</td>\n",
       "      <td>744517700.0</td>\n",
       "      <td>AVCO</td>\n",
       "      <td>The Graduate</td>\n",
       "      <td>1967.0</td>\n",
       "    </tr>\n",
       "    <tr>\n",
       "      <th>173</th>\n",
       "      <td>66000000.0</td>\n",
       "      <td>337764700.0</td>\n",
       "      <td>Warner Bros.</td>\n",
       "      <td>What's Up, Doc?</td>\n",
       "      <td>1972.0</td>\n",
       "    </tr>\n",
       "    <tr>\n",
       "      <th>193</th>\n",
       "      <td>23750000.0</td>\n",
       "      <td>439627700.0</td>\n",
       "      <td>Warner Bros.</td>\n",
       "      <td>House of Wax</td>\n",
       "      <td>1953.0</td>\n",
       "    </tr>\n",
       "  </tbody>\n",
       "</table>\n",
       "</div>"
      ],
      "text/plain": [
       "           Gross  Gross (Adjusted)                   Studio  \\\n",
       "13   423315812.0       562266800.0     Buena Vista (Disney)   \n",
       "33   342551365.0       502210000.0                 New Line   \n",
       "53   303003568.0       329153300.0  Warner Bros. (New Line)   \n",
       "73   251188924.0       547705200.0             Warner Bros.   \n",
       "93   217350219.0       456248400.0     Buena Vista (Disney)   \n",
       "113  177200000.0       495064300.0                 Columbia   \n",
       "133  141843612.0       641015300.0                   Disney   \n",
       "153  104945305.0       744517700.0                     AVCO   \n",
       "173   66000000.0       337764700.0             Warner Bros.   \n",
       "193   23750000.0       439627700.0             Warner Bros.   \n",
       "\n",
       "                                          Title    Year  \n",
       "13   Pirates of the Caribbean: Dead Man's Chest  2006.0  \n",
       "33        The Lord of the Rings: The Two Towers  2002.0  \n",
       "53            The Hobbit: An Unexpected Journey  2012.0  \n",
       "73                                       Batman  1989.0  \n",
       "93                                      Aladdin  1992.0  \n",
       "113                                     Tootsie  1982.0  \n",
       "133                             The Jungle Book  1967.0  \n",
       "153                                The Graduate  1967.0  \n",
       "173                             What's Up, Doc?  1972.0  \n",
       "193                                House of Wax  1953.0  "
      ]
     },
     "execution_count": 576,
     "metadata": {},
     "output_type": "execute_result"
    }
   ],
   "source": [
    "df"
   ]
  },
  {
   "cell_type": "markdown",
   "metadata": {},
   "source": [
    "#### Question:\n",
    "- What is the probability that the *Rush Hour 2* ends up in the sample we have systematically chosen?\n",
    "\n",
    "#### Answer:\n",
    "- This is depends solely on the the chance that the first movie chosen from the dataset is *The Dark Knight Rises* and that has a chance of 1 in 20, i.e., 5%. \n"
   ]
  },
  {
   "cell_type": "markdown",
   "metadata": {
    "collapsed": true
   },
   "source": [
    "### Uniform Sample\n",
    "A uniform sample is a sample drawn at random without replacements"
   ]
  },
  {
   "cell_type": "code",
   "execution_count": 577,
   "metadata": {
    "collapsed": false
   },
   "outputs": [],
   "source": [
    "def sample(num_sample, top):\n",
    "    \"\"\"\n",
    "    Create a random sample from a table\n",
    "    \n",
    "    Attributes\n",
    "    ---------\n",
    "    num_sample: int\n",
    "    top: dataframe\n",
    "    \n",
    "    Returns a random subset of table index\n",
    "    \"\"\"\n",
    "    df_index = []\n",
    "\n",
    "    for i in np.arange(0, num_sample, 1):\n",
    "\n",
    "        # pick randomly from the whole table\n",
    "        sample_index = np.random.randint(0, len(top))\n",
    "\n",
    "        # store index\n",
    "        df_index.append(sample_index)\n",
    "        \n",
    "    return df_index\n",
    "\n",
    "def sample_no_replacement(num_sample, top):\n",
    "    \"\"\"\n",
    "    Create a random sample from a table\n",
    "    \n",
    "    Attributes\n",
    "    ---------\n",
    "    num_sample: int\n",
    "    top: dataframe\n",
    "    \n",
    "    Returns a random subset of table index\n",
    "    \"\"\"\n",
    "    df_index = []\n",
    "    lst = np.arange(0, len(top), 1)\n",
    "\n",
    "    for i in np.arange(0, num_sample, 1):\n",
    "\n",
    "        # pick randomly from the whole table\n",
    "        sample_index = np.random.choice(lst)\n",
    "\n",
    "        lst = np.setdiff1d(lst,[sample_index])\n",
    "        df_index.append(sample_index)\n",
    "            \n",
    "    return df_index\n",
    "\n"
   ]
  },
  {
   "cell_type": "code",
   "execution_count": 578,
   "metadata": {
    "collapsed": false
   },
   "outputs": [
    {
     "data": {
      "text/html": [
       "<div>\n",
       "<table border=\"1\" class=\"dataframe\">\n",
       "  <thead>\n",
       "    <tr style=\"text-align: right;\">\n",
       "      <th></th>\n",
       "      <th>Title</th>\n",
       "      <th>Studio</th>\n",
       "      <th>Gross</th>\n",
       "      <th>Gross (Adjusted)</th>\n",
       "      <th>Year</th>\n",
       "    </tr>\n",
       "  </thead>\n",
       "  <tbody>\n",
       "    <tr>\n",
       "      <th>178</th>\n",
       "      <td>2001: A Space Odyssey</td>\n",
       "      <td>MGM</td>\n",
       "      <td>56954992</td>\n",
       "      <td>377027700</td>\n",
       "      <td>1968</td>\n",
       "    </tr>\n",
       "    <tr>\n",
       "      <th>93</th>\n",
       "      <td>Aladdin</td>\n",
       "      <td>Buena Vista (Disney)</td>\n",
       "      <td>217350219</td>\n",
       "      <td>456248400</td>\n",
       "      <td>1992</td>\n",
       "    </tr>\n",
       "    <tr>\n",
       "      <th>93</th>\n",
       "      <td>Aladdin</td>\n",
       "      <td>Buena Vista (Disney)</td>\n",
       "      <td>217350219</td>\n",
       "      <td>456248400</td>\n",
       "      <td>1992</td>\n",
       "    </tr>\n",
       "    <tr>\n",
       "      <th>157</th>\n",
       "      <td>Bambi</td>\n",
       "      <td>RKO</td>\n",
       "      <td>102247150</td>\n",
       "      <td>554298300</td>\n",
       "      <td>1942</td>\n",
       "    </tr>\n",
       "    <tr>\n",
       "      <th>84</th>\n",
       "      <td>Beverly Hills Cop</td>\n",
       "      <td>Paramount</td>\n",
       "      <td>234760478</td>\n",
       "      <td>584205200</td>\n",
       "      <td>1984</td>\n",
       "    </tr>\n",
       "    <tr>\n",
       "      <th>155</th>\n",
       "      <td>Butch Cassidy and the Sundance Kid</td>\n",
       "      <td>Fox</td>\n",
       "      <td>102308889</td>\n",
       "      <td>613853300</td>\n",
       "      <td>1969</td>\n",
       "    </tr>\n",
       "    <tr>\n",
       "      <th>79</th>\n",
       "      <td>Cars</td>\n",
       "      <td>Buena Vista (Disney)</td>\n",
       "      <td>244082982</td>\n",
       "      <td>324201800</td>\n",
       "      <td>2006</td>\n",
       "    </tr>\n",
       "    <tr>\n",
       "      <th>197</th>\n",
       "      <td>Duel in the Sun</td>\n",
       "      <td>Selz.</td>\n",
       "      <td>20408163</td>\n",
       "      <td>443877500</td>\n",
       "      <td>1946</td>\n",
       "    </tr>\n",
       "    <tr>\n",
       "      <th>125</th>\n",
       "      <td>Fatal Attraction</td>\n",
       "      <td>Paramount</td>\n",
       "      <td>156645693</td>\n",
       "      <td>345222500</td>\n",
       "      <td>1987</td>\n",
       "    </tr>\n",
       "    <tr>\n",
       "      <th>69</th>\n",
       "      <td>Harry Potter and the Chamber of Secrets</td>\n",
       "      <td>Warner Bros.</td>\n",
       "      <td>261988482</td>\n",
       "      <td>390768100</td>\n",
       "      <td>2002</td>\n",
       "    </tr>\n",
       "    <tr>\n",
       "      <th>69</th>\n",
       "      <td>Harry Potter and the Chamber of Secrets</td>\n",
       "      <td>Warner Bros.</td>\n",
       "      <td>261988482</td>\n",
       "      <td>390768100</td>\n",
       "      <td>2002</td>\n",
       "    </tr>\n",
       "    <tr>\n",
       "      <th>42</th>\n",
       "      <td>Iron Man</td>\n",
       "      <td>Paramount</td>\n",
       "      <td>318412101</td>\n",
       "      <td>385808100</td>\n",
       "      <td>2008</td>\n",
       "    </tr>\n",
       "    <tr>\n",
       "      <th>72</th>\n",
       "      <td>Jaws</td>\n",
       "      <td>Universal</td>\n",
       "      <td>260000000</td>\n",
       "      <td>1114285700</td>\n",
       "      <td>1975</td>\n",
       "    </tr>\n",
       "    <tr>\n",
       "      <th>66</th>\n",
       "      <td>Meet the Fockers</td>\n",
       "      <td>Universal</td>\n",
       "      <td>279261160</td>\n",
       "      <td>384305300</td>\n",
       "      <td>2004</td>\n",
       "    </tr>\n",
       "    <tr>\n",
       "      <th>48</th>\n",
       "      <td>Pirates of the Caribbean: At World's End</td>\n",
       "      <td>Buena Vista (Disney)</td>\n",
       "      <td>309420425</td>\n",
       "      <td>391272900</td>\n",
       "      <td>2007</td>\n",
       "    </tr>\n",
       "    <tr>\n",
       "      <th>191</th>\n",
       "      <td>Psycho</td>\n",
       "      <td>Universal</td>\n",
       "      <td>32000000</td>\n",
       "      <td>371200100</td>\n",
       "      <td>1960</td>\n",
       "    </tr>\n",
       "    <tr>\n",
       "      <th>119</th>\n",
       "      <td>Rain Man</td>\n",
       "      <td>MGM</td>\n",
       "      <td>172825435</td>\n",
       "      <td>376637800</td>\n",
       "      <td>1988</td>\n",
       "    </tr>\n",
       "    <tr>\n",
       "      <th>198</th>\n",
       "      <td>Sergeant York</td>\n",
       "      <td>Warner Bros.</td>\n",
       "      <td>16361885</td>\n",
       "      <td>418671800</td>\n",
       "      <td>1941</td>\n",
       "    </tr>\n",
       "    <tr>\n",
       "      <th>26</th>\n",
       "      <td>Spider-Man 2</td>\n",
       "      <td>Sony</td>\n",
       "      <td>373585825</td>\n",
       "      <td>523381100</td>\n",
       "      <td>2004</td>\n",
       "    </tr>\n",
       "    <tr>\n",
       "      <th>47</th>\n",
       "      <td>Star Wars: Episode II - Attack of the Clones</td>\n",
       "      <td>Fox</td>\n",
       "      <td>310676740</td>\n",
       "      <td>465175700</td>\n",
       "      <td>2002</td>\n",
       "    </tr>\n",
       "    <tr>\n",
       "      <th>187</th>\n",
       "      <td>Swiss Family Robinson</td>\n",
       "      <td>Disney</td>\n",
       "      <td>40356000</td>\n",
       "      <td>468129600</td>\n",
       "      <td>1960</td>\n",
       "    </tr>\n",
       "    <tr>\n",
       "      <th>187</th>\n",
       "      <td>Swiss Family Robinson</td>\n",
       "      <td>Disney</td>\n",
       "      <td>40356000</td>\n",
       "      <td>468129600</td>\n",
       "      <td>1960</td>\n",
       "    </tr>\n",
       "    <tr>\n",
       "      <th>194</th>\n",
       "      <td>The Best Years of Our Lives</td>\n",
       "      <td>RKO</td>\n",
       "      <td>23650000</td>\n",
       "      <td>478500000</td>\n",
       "      <td>1946</td>\n",
       "    </tr>\n",
       "    <tr>\n",
       "      <th>195</th>\n",
       "      <td>The Caine Mutiny</td>\n",
       "      <td>Columbia</td>\n",
       "      <td>21750000</td>\n",
       "      <td>386173500</td>\n",
       "      <td>1954</td>\n",
       "    </tr>\n",
       "    <tr>\n",
       "      <th>5</th>\n",
       "      <td>The Dark Knight</td>\n",
       "      <td>Warner Bros.</td>\n",
       "      <td>534858444</td>\n",
       "      <td>647761600</td>\n",
       "      <td>2008</td>\n",
       "    </tr>\n",
       "    <tr>\n",
       "      <th>190</th>\n",
       "      <td>The Greatest Show on Earth</td>\n",
       "      <td>Paramount</td>\n",
       "      <td>36000000</td>\n",
       "      <td>522000000</td>\n",
       "      <td>1952</td>\n",
       "    </tr>\n",
       "    <tr>\n",
       "      <th>53</th>\n",
       "      <td>The Hobbit: An Unexpected Journey</td>\n",
       "      <td>Warner Bros. (New Line)</td>\n",
       "      <td>303003568</td>\n",
       "      <td>329153300</td>\n",
       "      <td>2012</td>\n",
       "    </tr>\n",
       "    <tr>\n",
       "      <th>53</th>\n",
       "      <td>The Hobbit: An Unexpected Journey</td>\n",
       "      <td>Warner Bros. (New Line)</td>\n",
       "      <td>303003568</td>\n",
       "      <td>329153300</td>\n",
       "      <td>2012</td>\n",
       "    </tr>\n",
       "    <tr>\n",
       "      <th>53</th>\n",
       "      <td>The Hobbit: An Unexpected Journey</td>\n",
       "      <td>Warner Bros. (New Line)</td>\n",
       "      <td>303003568</td>\n",
       "      <td>329153300</td>\n",
       "      <td>2012</td>\n",
       "    </tr>\n",
       "    <tr>\n",
       "      <th>17</th>\n",
       "      <td>The Hunger Games</td>\n",
       "      <td>Lionsgate</td>\n",
       "      <td>408010692</td>\n",
       "      <td>442510400</td>\n",
       "      <td>2012</td>\n",
       "    </tr>\n",
       "    <tr>\n",
       "      <th>17</th>\n",
       "      <td>The Hunger Games</td>\n",
       "      <td>Lionsgate</td>\n",
       "      <td>408010692</td>\n",
       "      <td>442510400</td>\n",
       "      <td>2012</td>\n",
       "    </tr>\n",
       "    <tr>\n",
       "      <th>56</th>\n",
       "      <td>The Twilight Saga: New Moon</td>\n",
       "      <td>Sum.</td>\n",
       "      <td>296623634</td>\n",
       "      <td>338517700</td>\n",
       "      <td>2009</td>\n",
       "    </tr>\n",
       "    <tr>\n",
       "      <th>113</th>\n",
       "      <td>Tootsie</td>\n",
       "      <td>Columbia</td>\n",
       "      <td>177200000</td>\n",
       "      <td>495064300</td>\n",
       "      <td>1982</td>\n",
       "    </tr>\n",
       "    <tr>\n",
       "      <th>78</th>\n",
       "      <td>Toy Story 2</td>\n",
       "      <td>Buena Vista (Disney)</td>\n",
       "      <td>245852179</td>\n",
       "      <td>416177700</td>\n",
       "      <td>1999</td>\n",
       "    </tr>\n",
       "    <tr>\n",
       "      <th>173</th>\n",
       "      <td>What's Up, Doc?</td>\n",
       "      <td>Warner Bros.</td>\n",
       "      <td>66000000</td>\n",
       "      <td>337764700</td>\n",
       "      <td>1972</td>\n",
       "    </tr>\n",
       "  </tbody>\n",
       "</table>\n",
       "</div>"
      ],
      "text/plain": [
       "                                            Title                   Studio  \\\n",
       "178                         2001: A Space Odyssey                      MGM   \n",
       "93                                        Aladdin     Buena Vista (Disney)   \n",
       "93                                        Aladdin     Buena Vista (Disney)   \n",
       "157                                         Bambi                      RKO   \n",
       "84                              Beverly Hills Cop                Paramount   \n",
       "155            Butch Cassidy and the Sundance Kid                      Fox   \n",
       "79                                           Cars     Buena Vista (Disney)   \n",
       "197                               Duel in the Sun                    Selz.   \n",
       "125                              Fatal Attraction                Paramount   \n",
       "69        Harry Potter and the Chamber of Secrets             Warner Bros.   \n",
       "69        Harry Potter and the Chamber of Secrets             Warner Bros.   \n",
       "42                                       Iron Man                Paramount   \n",
       "72                                           Jaws                Universal   \n",
       "66                               Meet the Fockers                Universal   \n",
       "48       Pirates of the Caribbean: At World's End     Buena Vista (Disney)   \n",
       "191                                        Psycho                Universal   \n",
       "119                                      Rain Man                      MGM   \n",
       "198                                 Sergeant York             Warner Bros.   \n",
       "26                                   Spider-Man 2                     Sony   \n",
       "47   Star Wars: Episode II - Attack of the Clones                      Fox   \n",
       "187                         Swiss Family Robinson                   Disney   \n",
       "187                         Swiss Family Robinson                   Disney   \n",
       "194                   The Best Years of Our Lives                      RKO   \n",
       "195                              The Caine Mutiny                 Columbia   \n",
       "5                                 The Dark Knight             Warner Bros.   \n",
       "190                    The Greatest Show on Earth                Paramount   \n",
       "53              The Hobbit: An Unexpected Journey  Warner Bros. (New Line)   \n",
       "53              The Hobbit: An Unexpected Journey  Warner Bros. (New Line)   \n",
       "53              The Hobbit: An Unexpected Journey  Warner Bros. (New Line)   \n",
       "17                               The Hunger Games                Lionsgate   \n",
       "17                               The Hunger Games                Lionsgate   \n",
       "56                    The Twilight Saga: New Moon                     Sum.   \n",
       "113                                       Tootsie                 Columbia   \n",
       "78                                    Toy Story 2     Buena Vista (Disney)   \n",
       "173                               What's Up, Doc?             Warner Bros.   \n",
       "\n",
       "         Gross  Gross (Adjusted)  Year  \n",
       "178   56954992         377027700  1968  \n",
       "93   217350219         456248400  1992  \n",
       "93   217350219         456248400  1992  \n",
       "157  102247150         554298300  1942  \n",
       "84   234760478         584205200  1984  \n",
       "155  102308889         613853300  1969  \n",
       "79   244082982         324201800  2006  \n",
       "197   20408163         443877500  1946  \n",
       "125  156645693         345222500  1987  \n",
       "69   261988482         390768100  2002  \n",
       "69   261988482         390768100  2002  \n",
       "42   318412101         385808100  2008  \n",
       "72   260000000        1114285700  1975  \n",
       "66   279261160         384305300  2004  \n",
       "48   309420425         391272900  2007  \n",
       "191   32000000         371200100  1960  \n",
       "119  172825435         376637800  1988  \n",
       "198   16361885         418671800  1941  \n",
       "26   373585825         523381100  2004  \n",
       "47   310676740         465175700  2002  \n",
       "187   40356000         468129600  1960  \n",
       "187   40356000         468129600  1960  \n",
       "194   23650000         478500000  1946  \n",
       "195   21750000         386173500  1954  \n",
       "5    534858444         647761600  2008  \n",
       "190   36000000         522000000  1952  \n",
       "53   303003568         329153300  2012  \n",
       "53   303003568         329153300  2012  \n",
       "53   303003568         329153300  2012  \n",
       "17   408010692         442510400  2012  \n",
       "17   408010692         442510400  2012  \n",
       "56   296623634         338517700  2009  \n",
       "113  177200000         495064300  1982  \n",
       "78   245852179         416177700  1999  \n",
       "173   66000000         337764700  1972  "
      ]
     },
     "execution_count": 578,
     "metadata": {},
     "output_type": "execute_result"
    }
   ],
   "source": [
    "index_ = sample(35, top)\n",
    "df = top.ix[index_, :]\n",
    "df.sort_values(by='Title')"
   ]
  },
  {
   "cell_type": "code",
   "execution_count": 579,
   "metadata": {
    "collapsed": false
   },
   "outputs": [
    {
     "data": {
      "text/html": [
       "<div>\n",
       "<table border=\"1\" class=\"dataframe\">\n",
       "  <thead>\n",
       "    <tr style=\"text-align: right;\">\n",
       "      <th></th>\n",
       "      <th>Title</th>\n",
       "      <th>Studio</th>\n",
       "      <th>Gross</th>\n",
       "      <th>Gross (Adjusted)</th>\n",
       "      <th>Year</th>\n",
       "    </tr>\n",
       "  </thead>\n",
       "  <tbody>\n",
       "    <tr>\n",
       "      <th>79</th>\n",
       "      <td>Cars</td>\n",
       "      <td>Buena Vista (Disney)</td>\n",
       "      <td>244082982</td>\n",
       "      <td>324201800</td>\n",
       "      <td>2006</td>\n",
       "    </tr>\n",
       "    <tr>\n",
       "      <th>162</th>\n",
       "      <td>Cinderella (1950)</td>\n",
       "      <td>Disney</td>\n",
       "      <td>93141149</td>\n",
       "      <td>547050200</td>\n",
       "      <td>1950</td>\n",
       "    </tr>\n",
       "    <tr>\n",
       "      <th>11</th>\n",
       "      <td>E.T.: The Extra-Terrestrial</td>\n",
       "      <td>Universal</td>\n",
       "      <td>435110554</td>\n",
       "      <td>1234132700</td>\n",
       "      <td>1982</td>\n",
       "    </tr>\n",
       "    <tr>\n",
       "      <th>170</th>\n",
       "      <td>Fantasia</td>\n",
       "      <td>Disney</td>\n",
       "      <td>76408097</td>\n",
       "      <td>722478200</td>\n",
       "      <td>1941</td>\n",
       "    </tr>\n",
       "    <tr>\n",
       "      <th>23</th>\n",
       "      <td>Finding Nemo</td>\n",
       "      <td>Buena Vista (Disney)</td>\n",
       "      <td>380843261</td>\n",
       "      <td>535802700</td>\n",
       "      <td>2003</td>\n",
       "    </tr>\n",
       "    <tr>\n",
       "      <th>182</th>\n",
       "      <td>Goldfinger</td>\n",
       "      <td>UA</td>\n",
       "      <td>51081062</td>\n",
       "      <td>576810000</td>\n",
       "      <td>1964</td>\n",
       "    </tr>\n",
       "    <tr>\n",
       "      <th>179</th>\n",
       "      <td>Guess Who's Coming to Dinner</td>\n",
       "      <td>Columbia</td>\n",
       "      <td>56666667</td>\n",
       "      <td>376335900</td>\n",
       "      <td>1967</td>\n",
       "    </tr>\n",
       "    <tr>\n",
       "      <th>59</th>\n",
       "      <td>Harry Potter and the Order of the Phoenix</td>\n",
       "      <td>Warner Bros.</td>\n",
       "      <td>292004738</td>\n",
       "      <td>369250200</td>\n",
       "      <td>2007</td>\n",
       "    </tr>\n",
       "    <tr>\n",
       "      <th>71</th>\n",
       "      <td>How the Grinch Stole Christmas</td>\n",
       "      <td>Universal</td>\n",
       "      <td>260044825</td>\n",
       "      <td>418529400</td>\n",
       "      <td>2000</td>\n",
       "    </tr>\n",
       "    <tr>\n",
       "      <th>19</th>\n",
       "      <td>Jurassic Park</td>\n",
       "      <td>Universal</td>\n",
       "      <td>402453882</td>\n",
       "      <td>799721000</td>\n",
       "      <td>1993</td>\n",
       "    </tr>\n",
       "    <tr>\n",
       "      <th>109</th>\n",
       "      <td>Mission: Impossible</td>\n",
       "      <td>Paramount</td>\n",
       "      <td>180981856</td>\n",
       "      <td>356231300</td>\n",
       "      <td>1996</td>\n",
       "    </tr>\n",
       "    <tr>\n",
       "      <th>191</th>\n",
       "      <td>Psycho</td>\n",
       "      <td>Universal</td>\n",
       "      <td>32000000</td>\n",
       "      <td>371200100</td>\n",
       "      <td>1960</td>\n",
       "    </tr>\n",
       "    <tr>\n",
       "      <th>119</th>\n",
       "      <td>Rain Man</td>\n",
       "      <td>MGM</td>\n",
       "      <td>172825435</td>\n",
       "      <td>376637800</td>\n",
       "      <td>1988</td>\n",
       "    </tr>\n",
       "    <tr>\n",
       "      <th>130</th>\n",
       "      <td>Rambo: First Blood Part II</td>\n",
       "      <td>TriS</td>\n",
       "      <td>150415432</td>\n",
       "      <td>368623700</td>\n",
       "      <td>1985</td>\n",
       "    </tr>\n",
       "    <tr>\n",
       "      <th>89</th>\n",
       "      <td>Rush Hour 2</td>\n",
       "      <td>New Line</td>\n",
       "      <td>226164286</td>\n",
       "      <td>347637700</td>\n",
       "      <td>2001</td>\n",
       "    </tr>\n",
       "    <tr>\n",
       "      <th>198</th>\n",
       "      <td>Sergeant York</td>\n",
       "      <td>Warner Bros.</td>\n",
       "      <td>16361885</td>\n",
       "      <td>418671800</td>\n",
       "      <td>1941</td>\n",
       "    </tr>\n",
       "    <tr>\n",
       "      <th>40</th>\n",
       "      <td>Shrek the Third</td>\n",
       "      <td>Paramount/Dreamworks</td>\n",
       "      <td>322719944</td>\n",
       "      <td>408090600</td>\n",
       "      <td>2007</td>\n",
       "    </tr>\n",
       "    <tr>\n",
       "      <th>0</th>\n",
       "      <td>Star Wars: The Force Awakens</td>\n",
       "      <td>Buena Vista (Disney)</td>\n",
       "      <td>906723418</td>\n",
       "      <td>906723400</td>\n",
       "      <td>2015</td>\n",
       "    </tr>\n",
       "    <tr>\n",
       "      <th>158</th>\n",
       "      <td>Stir Crazy</td>\n",
       "      <td>Columbia</td>\n",
       "      <td>101300000</td>\n",
       "      <td>327624500</td>\n",
       "      <td>1980</td>\n",
       "    </tr>\n",
       "    <tr>\n",
       "      <th>192</th>\n",
       "      <td>The Bridge on the River Kwai</td>\n",
       "      <td>Columbia</td>\n",
       "      <td>27200000</td>\n",
       "      <td>473280000</td>\n",
       "      <td>1957</td>\n",
       "    </tr>\n",
       "    <tr>\n",
       "      <th>17</th>\n",
       "      <td>The Hunger Games</td>\n",
       "      <td>Lionsgate</td>\n",
       "      <td>408010692</td>\n",
       "      <td>442510400</td>\n",
       "      <td>2012</td>\n",
       "    </tr>\n",
       "    <tr>\n",
       "      <th>123</th>\n",
       "      <td>The Sound of Music</td>\n",
       "      <td>Fox</td>\n",
       "      <td>158671368</td>\n",
       "      <td>1239013800</td>\n",
       "      <td>1965</td>\n",
       "    </tr>\n",
       "    <tr>\n",
       "      <th>127</th>\n",
       "      <td>The Sting</td>\n",
       "      <td>Universal</td>\n",
       "      <td>156000000</td>\n",
       "      <td>775542900</td>\n",
       "      <td>1973</td>\n",
       "    </tr>\n",
       "    <tr>\n",
       "      <th>144</th>\n",
       "      <td>The Towering Inferno</td>\n",
       "      <td>Fox</td>\n",
       "      <td>116000000</td>\n",
       "      <td>533968300</td>\n",
       "      <td>1974</td>\n",
       "    </tr>\n",
       "    <tr>\n",
       "      <th>126</th>\n",
       "      <td>Who Framed Roger Rabbit</td>\n",
       "      <td>Buena Vista (Disney)</td>\n",
       "      <td>156452370</td>\n",
       "      <td>331176600</td>\n",
       "      <td>1988</td>\n",
       "    </tr>\n",
       "  </tbody>\n",
       "</table>\n",
       "</div>"
      ],
      "text/plain": [
       "                                         Title                Studio  \\\n",
       "79                                        Cars  Buena Vista (Disney)   \n",
       "162                          Cinderella (1950)                Disney   \n",
       "11                 E.T.: The Extra-Terrestrial             Universal   \n",
       "170                                   Fantasia                Disney   \n",
       "23                                Finding Nemo  Buena Vista (Disney)   \n",
       "182                                 Goldfinger                    UA   \n",
       "179               Guess Who's Coming to Dinner              Columbia   \n",
       "59   Harry Potter and the Order of the Phoenix          Warner Bros.   \n",
       "71              How the Grinch Stole Christmas             Universal   \n",
       "19                               Jurassic Park             Universal   \n",
       "109                        Mission: Impossible             Paramount   \n",
       "191                                     Psycho             Universal   \n",
       "119                                   Rain Man                   MGM   \n",
       "130                 Rambo: First Blood Part II                  TriS   \n",
       "89                                 Rush Hour 2              New Line   \n",
       "198                              Sergeant York          Warner Bros.   \n",
       "40                             Shrek the Third  Paramount/Dreamworks   \n",
       "0                 Star Wars: The Force Awakens  Buena Vista (Disney)   \n",
       "158                                 Stir Crazy              Columbia   \n",
       "192               The Bridge on the River Kwai              Columbia   \n",
       "17                            The Hunger Games             Lionsgate   \n",
       "123                         The Sound of Music                   Fox   \n",
       "127                                  The Sting             Universal   \n",
       "144                       The Towering Inferno                   Fox   \n",
       "126                    Who Framed Roger Rabbit  Buena Vista (Disney)   \n",
       "\n",
       "         Gross  Gross (Adjusted)  Year  \n",
       "79   244082982         324201800  2006  \n",
       "162   93141149         547050200  1950  \n",
       "11   435110554        1234132700  1982  \n",
       "170   76408097         722478200  1941  \n",
       "23   380843261         535802700  2003  \n",
       "182   51081062         576810000  1964  \n",
       "179   56666667         376335900  1967  \n",
       "59   292004738         369250200  2007  \n",
       "71   260044825         418529400  2000  \n",
       "19   402453882         799721000  1993  \n",
       "109  180981856         356231300  1996  \n",
       "191   32000000         371200100  1960  \n",
       "119  172825435         376637800  1988  \n",
       "130  150415432         368623700  1985  \n",
       "89   226164286         347637700  2001  \n",
       "198   16361885         418671800  1941  \n",
       "40   322719944         408090600  2007  \n",
       "0    906723418         906723400  2015  \n",
       "158  101300000         327624500  1980  \n",
       "192   27200000         473280000  1957  \n",
       "17   408010692         442510400  2012  \n",
       "123  158671368        1239013800  1965  \n",
       "127  156000000         775542900  1973  \n",
       "144  116000000         533968300  1974  \n",
       "126  156452370         331176600  1988  "
      ]
     },
     "execution_count": 579,
     "metadata": {},
     "output_type": "execute_result"
    }
   ],
   "source": [
    "index_ = sample_no_replacement(25, top)\n",
    "df = top.ix[index_, :]\n",
    "df.sort_values(by='Title')"
   ]
  },
  {
   "cell_type": "markdown",
   "metadata": {},
   "source": [
    "## Dice"
   ]
  },
  {
   "cell_type": "code",
   "execution_count": 580,
   "metadata": {
    "collapsed": true
   },
   "outputs": [],
   "source": [
    "die = pd.DataFrame()\n",
    "die[\"Face\"] = [1,2,3,4,5,6]"
   ]
  },
  {
   "cell_type": "code",
   "execution_count": 581,
   "metadata": {
    "collapsed": false
   },
   "outputs": [
    {
     "data": {
      "text/html": [
       "<div>\n",
       "<table border=\"1\" class=\"dataframe\">\n",
       "  <thead>\n",
       "    <tr style=\"text-align: right;\">\n",
       "      <th></th>\n",
       "      <th>Face</th>\n",
       "    </tr>\n",
       "  </thead>\n",
       "  <tbody>\n",
       "    <tr>\n",
       "      <th>0</th>\n",
       "      <td>1</td>\n",
       "    </tr>\n",
       "    <tr>\n",
       "      <th>1</th>\n",
       "      <td>2</td>\n",
       "    </tr>\n",
       "    <tr>\n",
       "      <th>2</th>\n",
       "      <td>3</td>\n",
       "    </tr>\n",
       "    <tr>\n",
       "      <th>3</th>\n",
       "      <td>4</td>\n",
       "    </tr>\n",
       "    <tr>\n",
       "      <th>4</th>\n",
       "      <td>5</td>\n",
       "    </tr>\n",
       "    <tr>\n",
       "      <th>5</th>\n",
       "      <td>6</td>\n",
       "    </tr>\n",
       "  </tbody>\n",
       "</table>\n",
       "</div>"
      ],
      "text/plain": [
       "   Face\n",
       "0     1\n",
       "1     2\n",
       "2     3\n",
       "3     4\n",
       "4     5\n",
       "5     6"
      ]
     },
     "execution_count": 581,
     "metadata": {},
     "output_type": "execute_result"
    }
   ],
   "source": [
    "die"
   ]
  },
  {
   "cell_type": "markdown",
   "metadata": {},
   "source": [
    "## Coin"
   ]
  },
  {
   "cell_type": "code",
   "execution_count": 582,
   "metadata": {
    "collapsed": false
   },
   "outputs": [
    {
     "data": {
      "text/html": [
       "<div>\n",
       "<table border=\"1\" class=\"dataframe\">\n",
       "  <thead>\n",
       "    <tr style=\"text-align: right;\">\n",
       "      <th></th>\n",
       "      <th>Face</th>\n",
       "    </tr>\n",
       "  </thead>\n",
       "  <tbody>\n",
       "    <tr>\n",
       "      <th>0</th>\n",
       "      <td>1</td>\n",
       "    </tr>\n",
       "    <tr>\n",
       "      <th>1</th>\n",
       "      <td>2</td>\n",
       "    </tr>\n",
       "  </tbody>\n",
       "</table>\n",
       "</div>"
      ],
      "text/plain": [
       "   Face\n",
       "0     1\n",
       "1     2"
      ]
     },
     "execution_count": 582,
     "metadata": {},
     "output_type": "execute_result"
    }
   ],
   "source": [
    "coin = pd.DataFrame()\n",
    "coin[\"Face\"] = [1,2]\n",
    "coin"
   ]
  },
  {
   "cell_type": "markdown",
   "metadata": {},
   "source": [
    "We can simulate the act of rolling dice by just pulling out rows"
   ]
  },
  {
   "cell_type": "code",
   "execution_count": 583,
   "metadata": {
    "collapsed": false
   },
   "outputs": [
    {
     "data": {
      "text/html": [
       "<div>\n",
       "<table border=\"1\" class=\"dataframe\">\n",
       "  <thead>\n",
       "    <tr style=\"text-align: right;\">\n",
       "      <th></th>\n",
       "      <th>Face</th>\n",
       "    </tr>\n",
       "  </thead>\n",
       "  <tbody>\n",
       "    <tr>\n",
       "      <th>3</th>\n",
       "      <td>4</td>\n",
       "    </tr>\n",
       "    <tr>\n",
       "      <th>0</th>\n",
       "      <td>1</td>\n",
       "    </tr>\n",
       "    <tr>\n",
       "      <th>4</th>\n",
       "      <td>5</td>\n",
       "    </tr>\n",
       "  </tbody>\n",
       "</table>\n",
       "</div>"
      ],
      "text/plain": [
       "   Face\n",
       "3     4\n",
       "0     1\n",
       "4     5"
      ]
     },
     "execution_count": 583,
     "metadata": {},
     "output_type": "execute_result"
    }
   ],
   "source": [
    "index_ = sample(3, die)\n",
    "df = die.ix[index_, :]\n",
    "df"
   ]
  },
  {
   "cell_type": "code",
   "execution_count": 588,
   "metadata": {
    "collapsed": false
   },
   "outputs": [
    {
     "data": {
      "text/html": [
       "<div>\n",
       "<table border=\"1\" class=\"dataframe\">\n",
       "  <thead>\n",
       "    <tr style=\"text-align: right;\">\n",
       "      <th></th>\n",
       "      <th>Face</th>\n",
       "    </tr>\n",
       "  </thead>\n",
       "  <tbody>\n",
       "    <tr>\n",
       "      <th>0</th>\n",
       "      <td>1</td>\n",
       "    </tr>\n",
       "  </tbody>\n",
       "</table>\n",
       "</div>"
      ],
      "text/plain": [
       "   Face\n",
       "0     1"
      ]
     },
     "execution_count": 588,
     "metadata": {},
     "output_type": "execute_result"
    }
   ],
   "source": [
    "index_ = sample(1, coin)\n",
    "df = coin.ix[index_, :]\n",
    "df"
   ]
  },
  {
   "cell_type": "code",
   "execution_count": 589,
   "metadata": {
    "collapsed": false
   },
   "outputs": [],
   "source": [
    "def dice_hist(n):\n",
    "    \"\"\"Construct histogram of n simulated dice rolls\n",
    "    \n",
    "    Attributes\n",
    "    -----------\n",
    "    n: int \n",
    "    \"\"\"\n",
    "    \n",
    "    if n > 0:\n",
    "        dice_bins = np.arange(0.5, 7, 1) \n",
    "        index_ = sample(n, die)\n",
    "        df = die.ix[index_, :]\n",
    "        df.plot.hist(bins=dice_bins, normed=True)\n",
    "        pyplt.ylabel('percent per unit')\n",
    "        pyplt.legend(bbox_to_anchor=(1.05, 1), loc=2, borderaxespad=0.);\n",
    "    else:\n",
    "        raise ValueError('n has to be greater than 0')\n",
    "\n",
    "        \n",
    "def dice_sum_hist(n):\n",
    "    \"\"\"\n",
    "    Construct histogram of rolling a pair of dice and plot the sum of the faces\n",
    "    \n",
    "    Attributes\n",
    "    -----------\n",
    "    num_die: int (number of dice)\n",
    "    n: int \n",
    "    \"\"\"\n",
    "    \n",
    "    if n > 0:\n",
    "        d1 = np.random.randint(1, 6 + 1, n)\n",
    "        d2 = np.random.randint(1, 6 + 1, n)\n",
    "        data = d1 + d2\n",
    "\n",
    "        bins = np.arange(data.min()-0.5, data.max()+1, 1) \n",
    "        pyplt.hist(data, bins=bins, normed=True)\n",
    "        pyplt.ylabel('percent per unit')\n",
    "        pyplt.legend(bbox_to_anchor=(1.05, 1), loc=2, borderaxespad=0.);\n",
    "    else:\n",
    "        raise ValueError('n has to be greater than 0')\n",
    "        \n",
    "\n",
    "def dice_prod_hist(n):\n",
    "    \"\"\"\n",
    "    Construct histogram of rolling a pair of dice and plotting the product of the faces.\n",
    "    \n",
    "    Attributes\n",
    "    -----------\n",
    "    num_die: int (number of dice)\n",
    "    n: int \n",
    "    \"\"\"\n",
    "    \n",
    "    if n > 0:\n",
    "        d1 = np.random.randint(1, 6 + 1, n)\n",
    "        d2 = np.random.randint(1, 6 + 1, n)\n",
    "        data = d1 * d2\n",
    "\n",
    "        bins = np.arange(data.min()-0.5, data.max()+1, 1) \n",
    "        pyplt.hist(data, bins=bins, normed=True)\n",
    "        pyplt.ylabel('percent per unit')\n",
    "        pyplt.legend(bbox_to_anchor=(1.05, 1), loc=2, borderaxespad=0.);\n",
    "    else:\n",
    "        raise ValueError('n has to be greater than 0')\n",
    "        \n"
   ]
  },
  {
   "cell_type": "markdown",
   "metadata": {},
   "source": [
    "### Probability Histogram\n",
    "\n"
   ]
  },
  {
   "cell_type": "code",
   "execution_count": 590,
   "metadata": {
    "collapsed": false
   },
   "outputs": [
    {
     "data": {
      "image/png": "[encoded data removed]",
      "text/plain": [
       "<matplotlib.figure.Figure at 0x11117ae50>"
      ]
     },
     "metadata": {},
     "output_type": "display_data"
    }
   ],
   "source": [
    "coin_bins = np.arange(0.5, 3, 1) \n",
    "\n",
    "# norm the histogram to give us the density scale\n",
    "coin.plot.hist(bins=coin_bins, normed=True)\n",
    "pyplt.ylabel('percent per unit')\n",
    "pyplt.legend(bbox_to_anchor=(1.05, 1), loc=2, borderaxespad=0.);\n"
   ]
  },
  {
   "cell_type": "code",
   "execution_count": 591,
   "metadata": {
    "collapsed": false
   },
   "outputs": [
    {
     "data": {
      "image/png": "[encoded data removed]",
      "text/plain": [
       "<matplotlib.figure.Figure at 0x119aca890>"
      ]
     },
     "metadata": {},
     "output_type": "display_data"
    }
   ],
   "source": [
    "dice_bins = np.arange(0.5, 7, 1) \n",
    "\n",
    "# norm the histogram to give us the density scale\n",
    "die.plot.hist(bins=dice_bins, normed=True)\n",
    "pyplt.ylabel('percent per unit')\n",
    "pyplt.legend(bbox_to_anchor=(1.05, 1), loc=2, borderaxespad=0.);\n"
   ]
  },
  {
   "cell_type": "code",
   "execution_count": 592,
   "metadata": {
    "collapsed": false
   },
   "outputs": [
    {
     "data": {
      "image/png": "[encoded data removed]",
      "text/plain": [
       "<matplotlib.figure.Figure at 0x112df01d0>"
      ]
     },
     "metadata": {},
     "output_type": "display_data"
    }
   ],
   "source": [
    "dice_hist(20)"
   ]
  },
  {
   "cell_type": "code",
   "execution_count": 593,
   "metadata": {
    "collapsed": false
   },
   "outputs": [
    {
     "data": {
      "image/png": "[encoded data removed]",
      "text/plain": [
       "<matplotlib.figure.Figure at 0x110f366d0>"
      ]
     },
     "metadata": {},
     "output_type": "display_data"
    }
   ],
   "source": [
    "dice_hist(10000)"
   ]
  },
  {
   "cell_type": "markdown",
   "metadata": {},
   "source": [
    "Plot the sum of dices"
   ]
  },
  {
   "cell_type": "code",
   "execution_count": 594,
   "metadata": {
    "collapsed": false
   },
   "outputs": [
    {
     "data": {
      "image/png": "[encoded data removed]",
      "text/plain": [
       "<matplotlib.figure.Figure at 0x110eda6d0>"
      ]
     },
     "metadata": {},
     "output_type": "display_data"
    }
   ],
   "source": [
    "n = 100\n",
    "dice_sum_hist(n)"
   ]
  },
  {
   "cell_type": "markdown",
   "metadata": {},
   "source": [
    "Roll two six sided dice 1000 times and sum the results:"
   ]
  },
  {
   "cell_type": "code",
   "execution_count": 595,
   "metadata": {
    "collapsed": false
   },
   "outputs": [
    {
     "data": {
      "image/png": "[encoded data removed]",
      "text/plain": [
       "<matplotlib.figure.Figure at 0x1072906d0>"
      ]
     },
     "metadata": {},
     "output_type": "display_data"
    }
   ],
   "source": [
    "n = 1000\n",
    "dice_sum_hist(n)"
   ]
  },
  {
   "cell_type": "markdown",
   "metadata": {},
   "source": [
    "### Gaps in the histogram?\n",
    "The graph below helps us see that the probability histograms can have gaps. The graph below plots the probability histogram of the product of a pair of dice. The smallest number is 1, while the largest number is 36. Because of the distribution of the die face, we can never get a 7, 11 and so on. "
   ]
  },
  {
   "cell_type": "code",
   "execution_count": 596,
   "metadata": {
    "collapsed": false
   },
   "outputs": [
    {
     "data": {
      "image/png": "[encoded data removed]",
      "text/plain": [
       "<matplotlib.figure.Figure at 0x1119a5310>"
      ]
     },
     "metadata": {},
     "output_type": "display_data"
    }
   ],
   "source": [
    "n = 100\n",
    "dice_prod_hist(n)"
   ]
  },
  {
   "cell_type": "markdown",
   "metadata": {},
   "source": [
    "### The scope of the Normal Approximation"
   ]
  },
  {
   "cell_type": "code",
   "execution_count": 620,
   "metadata": {
    "collapsed": true
   },
   "outputs": [],
   "source": [
    "box = pd.DataFrame()\n",
    "box[\"Content\"] = [1,2,3]"
   ]
  },
  {
   "cell_type": "code",
   "execution_count": 622,
   "metadata": {
    "collapsed": false
   },
   "outputs": [
    {
     "data": {
      "image/png": "[encoded data removed]",
      "text/plain": [
       "<matplotlib.figure.Figure at 0x10fd0a610>"
      ]
     },
     "metadata": {},
     "output_type": "display_data"
    }
   ],
   "source": [
    "\n",
    "bins = np.arange(0.5, 4, 1) \n",
    "\n",
    "box.plot.hist(bins=bins, normed=True)\n",
    "pyplt.ylabel('percent per unit')\n",
    "pyplt.legend(bbox_to_anchor=(1.05, 1), loc=2, borderaxespad=0.);\n"
   ]
  },
  {
   "cell_type": "code",
   "execution_count": 628,
   "metadata": {
    "collapsed": false
   },
   "outputs": [],
   "source": [
    "def sum_draws( n, box ):\n",
    "    \"\"\"\n",
    "    Construct histogram for the sum of n draws from a box with replacement\n",
    "    \n",
    "    Attributes\n",
    "    -----------\n",
    "    n: int \n",
    "    box: dataframe\n",
    "    \"\"\"\n",
    "    data = numpy.zeros(shape=(n,1))\n",
    "    if n > 0:\n",
    "        for i in range(n):\n",
    "            index_ = np.random.randint(0, len(box), n)\n",
    "            df = box.ix[index_, :]\n",
    "            data[i] = df.Content.sum()\n",
    "\n",
    "        bins = np.arange(data.min()-0.5, data.max()+1, 1) \n",
    "        pyplt.hist(data, bins=bins, normed=True)\n",
    "        pyplt.ylabel('percent per unit')\n",
    "        pyplt.xlabel('Number on ticket')\n",
    "        pyplt.legend(bbox_to_anchor=(1.05, 1), loc=2, borderaxespad=0.);\n",
    "    else:\n",
    "        raise ValueError('n has to be greater than 0')\n",
    "    \n",
    "        \n"
   ]
  },
  {
   "cell_type": "code",
   "execution_count": 634,
   "metadata": {
    "collapsed": false
   },
   "outputs": [
    {
     "data": {
      "image/png": "[encoded data removed]",
      "text/plain": [
       "<matplotlib.figure.Figure at 0x1125c00d0>"
      ]
     },
     "metadata": {},
     "output_type": "display_data"
    }
   ],
   "source": [
    "sum_draws(100, box)"
   ]
  },
  {
   "cell_type": "code",
   "execution_count": 640,
   "metadata": {
    "collapsed": true
   },
   "outputs": [],
   "source": [
    "box = pd.DataFrame()\n",
    "box[\"Content\"] = [0,1,2,3,4,5]"
   ]
  },
  {
   "cell_type": "code",
   "execution_count": 641,
   "metadata": {
    "collapsed": false
   },
   "outputs": [
    {
     "data": {
      "image/png": "[encoded data removed]",
      "text/plain": [
       "<matplotlib.figure.Figure at 0x112038810>"
      ]
     },
     "metadata": {},
     "output_type": "display_data"
    }
   ],
   "source": [
    "pyplt.rcParams['figure.figsize'] = (4, 3)\n",
    "\n",
    "bins = np.arange(-0.5, 7, 1) \n",
    "\n",
    "box.plot.hist(bins=bins, normed=True)\n",
    "pyplt.ylabel('percent per unit')\n",
    "pyplt.xlabel('Number on ticket')\n",
    "pyplt.legend(bbox_to_anchor=(1.05, 1), loc=2, borderaxespad=0.);\n"
   ]
  },
  {
   "cell_type": "code",
   "execution_count": 649,
   "metadata": {
    "collapsed": false
   },
   "outputs": [
    {
     "data": {
      "image/png": "[encoded data removed]",
      "text/plain": [
       "<matplotlib.figure.Figure at 0x1128b9190>"
      ]
     },
     "metadata": {},
     "output_type": "display_data"
    }
   ],
   "source": [
    "sum_draws(100, box)"
   ]
  },
  {
   "cell_type": "code",
   "execution_count": null,
   "metadata": {
    "collapsed": true
   },
   "outputs": [],
   "source": []
  }
 ],
 "metadata": {
  "anaconda-cloud": {},
  "kernelspec": {
   "display_name": "Python [conda root]",
   "language": "python",
   "name": "conda-root-py"
  },
  "language_info": {
   "codemirror_mode": {
    "name": "ipython",
    "version": 2
   },
   "file_extension": ".py",
   "mimetype": "text/x-python",
   "name": "python",
   "nbconvert_exporter": "python",
   "pygments_lexer": "ipython2",
   "version": "2.7.13"
  }
 },
 "nbformat": 4,
 "nbformat_minor": 2
}
