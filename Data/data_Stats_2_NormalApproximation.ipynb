{
 "cells": [
  {
   "cell_type": "markdown",
   "metadata": {},
   "source": [
    "# Data Sampling\n",
    "## The Normal Approximation for Probability Histograms"
   ]
  },
  {
   "cell_type": "code",
   "execution_count": 1,
   "metadata": {
    "collapsed": false
   },
   "outputs": [
    {
     "name": "stdout",
     "output_type": "stream",
     "text": [
      "Populating the interactive namespace from numpy and matplotlib\n"
     ]
    }
   ],
   "source": [
    "%pylab inline"
   ]
  },
  {
   "cell_type": "code",
   "execution_count": 41,
   "metadata": {
    "collapsed": true
   },
   "outputs": [],
   "source": [
    "# Import libraries\n",
    "from __future__ import absolute_import, division, print_function\n",
    "\n",
    "# Ignore warnings\n",
    "import warnings\n",
    "warnings.filterwarnings('ignore')\n",
    "\n",
    "import sys\n",
    "sys.path.append('tools/')\n",
    "\n",
    "import numpy as np\n",
    "import pandas as pd\n",
    "\n",
    "# Graphing Libraries\n",
    "import matplotlib.pyplot as pyplt\n",
    "import seaborn as sns\n",
    "sns.set_style(\"white\")  \n",
    "\n",
    "# Configure for presentation\n",
    "np.set_printoptions(threshold=50, linewidth=50)\n",
    "import matplotlib as mpl\n",
    "mpl.rc('font', size=16)\n",
    "\n",
    "from IPython.display import display"
   ]
  },
  {
   "cell_type": "markdown",
   "metadata": {},
   "source": [
    "To get our feet wet, let's take a look at the city of San Francisco's bike sharing data"
   ]
  },
  {
   "cell_type": "code",
   "execution_count": 3,
   "metadata": {
    "collapsed": false
   },
   "outputs": [],
   "source": [
    "trips = pd.read_csv('data/trip.csv')\n",
    "commute = trips.where(trips.Duration < 1800)"
   ]
  },
  {
   "cell_type": "code",
   "execution_count": 4,
   "metadata": {
    "collapsed": false,
    "scrolled": false
   },
   "outputs": [
    {
     "data": {
      "text/html": [
       "<div>\n",
       "<table border=\"1\" class=\"dataframe\">\n",
       "  <thead>\n",
       "    <tr style=\"text-align: right;\">\n",
       "      <th></th>\n",
       "      <th>Trip ID</th>\n",
       "      <th>Duration</th>\n",
       "      <th>Start Date</th>\n",
       "      <th>Start Station</th>\n",
       "      <th>Start Terminal</th>\n",
       "      <th>End Date</th>\n",
       "      <th>End Station</th>\n",
       "      <th>End Terminal</th>\n",
       "      <th>Bike #</th>\n",
       "      <th>Subscriber Type</th>\n",
       "      <th>Zip Code</th>\n",
       "    </tr>\n",
       "  </thead>\n",
       "  <tbody>\n",
       "    <tr>\n",
       "      <th>0</th>\n",
       "      <td>913460</td>\n",
       "      <td>765</td>\n",
       "      <td>8/31/2015 23:26</td>\n",
       "      <td>Harry Bridges Plaza (Ferry Building)</td>\n",
       "      <td>50</td>\n",
       "      <td>8/31/2015 23:39</td>\n",
       "      <td>San Francisco Caltrain (Townsend at 4th)</td>\n",
       "      <td>70</td>\n",
       "      <td>288</td>\n",
       "      <td>Subscriber</td>\n",
       "      <td>2139</td>\n",
       "    </tr>\n",
       "    <tr>\n",
       "      <th>1</th>\n",
       "      <td>913459</td>\n",
       "      <td>1036</td>\n",
       "      <td>8/31/2015 23:11</td>\n",
       "      <td>San Antonio Shopping Center</td>\n",
       "      <td>31</td>\n",
       "      <td>8/31/2015 23:28</td>\n",
       "      <td>Mountain View City Hall</td>\n",
       "      <td>27</td>\n",
       "      <td>35</td>\n",
       "      <td>Subscriber</td>\n",
       "      <td>95032</td>\n",
       "    </tr>\n",
       "    <tr>\n",
       "      <th>2</th>\n",
       "      <td>913455</td>\n",
       "      <td>307</td>\n",
       "      <td>8/31/2015 23:13</td>\n",
       "      <td>Post at Kearny</td>\n",
       "      <td>47</td>\n",
       "      <td>8/31/2015 23:18</td>\n",
       "      <td>2nd at South Park</td>\n",
       "      <td>64</td>\n",
       "      <td>468</td>\n",
       "      <td>Subscriber</td>\n",
       "      <td>94107</td>\n",
       "    </tr>\n",
       "    <tr>\n",
       "      <th>3</th>\n",
       "      <td>913454</td>\n",
       "      <td>409</td>\n",
       "      <td>8/31/2015 23:10</td>\n",
       "      <td>San Jose City Hall</td>\n",
       "      <td>10</td>\n",
       "      <td>8/31/2015 23:17</td>\n",
       "      <td>San Salvador at 1st</td>\n",
       "      <td>8</td>\n",
       "      <td>68</td>\n",
       "      <td>Subscriber</td>\n",
       "      <td>95113</td>\n",
       "    </tr>\n",
       "    <tr>\n",
       "      <th>4</th>\n",
       "      <td>913453</td>\n",
       "      <td>789</td>\n",
       "      <td>8/31/2015 23:09</td>\n",
       "      <td>Embarcadero at Folsom</td>\n",
       "      <td>51</td>\n",
       "      <td>8/31/2015 23:22</td>\n",
       "      <td>Embarcadero at Sansome</td>\n",
       "      <td>60</td>\n",
       "      <td>487</td>\n",
       "      <td>Customer</td>\n",
       "      <td>9069</td>\n",
       "    </tr>\n",
       "  </tbody>\n",
       "</table>\n",
       "</div>"
      ],
      "text/plain": [
       "   Trip ID  Duration       Start Date                         Start Station  \\\n",
       "0   913460       765  8/31/2015 23:26  Harry Bridges Plaza (Ferry Building)   \n",
       "1   913459      1036  8/31/2015 23:11           San Antonio Shopping Center   \n",
       "2   913455       307  8/31/2015 23:13                        Post at Kearny   \n",
       "3   913454       409  8/31/2015 23:10                    San Jose City Hall   \n",
       "4   913453       789  8/31/2015 23:09                 Embarcadero at Folsom   \n",
       "\n",
       "   Start Terminal         End Date                               End Station  \\\n",
       "0              50  8/31/2015 23:39  San Francisco Caltrain (Townsend at 4th)   \n",
       "1              31  8/31/2015 23:28                   Mountain View City Hall   \n",
       "2              47  8/31/2015 23:18                         2nd at South Park   \n",
       "3              10  8/31/2015 23:17                       San Salvador at 1st   \n",
       "4              51  8/31/2015 23:22                    Embarcadero at Sansome   \n",
       "\n",
       "   End Terminal  Bike # Subscriber Type Zip Code  \n",
       "0            70     288      Subscriber     2139  \n",
       "1            27      35      Subscriber    95032  \n",
       "2            64     468      Subscriber    94107  \n",
       "3             8      68      Subscriber    95113  \n",
       "4            60     487        Customer     9069  "
      ]
     },
     "metadata": {},
     "output_type": "display_data"
    },
    {
     "data": {
      "text/html": [
       "<div>\n",
       "<table border=\"1\" class=\"dataframe\">\n",
       "  <thead>\n",
       "    <tr style=\"text-align: right;\">\n",
       "      <th></th>\n",
       "      <th>Trip ID</th>\n",
       "      <th>Duration</th>\n",
       "      <th>Start Date</th>\n",
       "      <th>Start Station</th>\n",
       "      <th>Start Terminal</th>\n",
       "      <th>End Date</th>\n",
       "      <th>End Station</th>\n",
       "      <th>End Terminal</th>\n",
       "      <th>Bike #</th>\n",
       "      <th>Subscriber Type</th>\n",
       "      <th>Zip Code</th>\n",
       "    </tr>\n",
       "  </thead>\n",
       "  <tbody>\n",
       "    <tr>\n",
       "      <th>0</th>\n",
       "      <td>913460.0</td>\n",
       "      <td>765.0</td>\n",
       "      <td>8/31/2015 23:26</td>\n",
       "      <td>Harry Bridges Plaza (Ferry Building)</td>\n",
       "      <td>50.0</td>\n",
       "      <td>8/31/2015 23:39</td>\n",
       "      <td>San Francisco Caltrain (Townsend at 4th)</td>\n",
       "      <td>70.0</td>\n",
       "      <td>288.0</td>\n",
       "      <td>Subscriber</td>\n",
       "      <td>2139</td>\n",
       "    </tr>\n",
       "    <tr>\n",
       "      <th>1</th>\n",
       "      <td>913459.0</td>\n",
       "      <td>1036.0</td>\n",
       "      <td>8/31/2015 23:11</td>\n",
       "      <td>San Antonio Shopping Center</td>\n",
       "      <td>31.0</td>\n",
       "      <td>8/31/2015 23:28</td>\n",
       "      <td>Mountain View City Hall</td>\n",
       "      <td>27.0</td>\n",
       "      <td>35.0</td>\n",
       "      <td>Subscriber</td>\n",
       "      <td>95032</td>\n",
       "    </tr>\n",
       "    <tr>\n",
       "      <th>2</th>\n",
       "      <td>913455.0</td>\n",
       "      <td>307.0</td>\n",
       "      <td>8/31/2015 23:13</td>\n",
       "      <td>Post at Kearny</td>\n",
       "      <td>47.0</td>\n",
       "      <td>8/31/2015 23:18</td>\n",
       "      <td>2nd at South Park</td>\n",
       "      <td>64.0</td>\n",
       "      <td>468.0</td>\n",
       "      <td>Subscriber</td>\n",
       "      <td>94107</td>\n",
       "    </tr>\n",
       "    <tr>\n",
       "      <th>3</th>\n",
       "      <td>913454.0</td>\n",
       "      <td>409.0</td>\n",
       "      <td>8/31/2015 23:10</td>\n",
       "      <td>San Jose City Hall</td>\n",
       "      <td>10.0</td>\n",
       "      <td>8/31/2015 23:17</td>\n",
       "      <td>San Salvador at 1st</td>\n",
       "      <td>8.0</td>\n",
       "      <td>68.0</td>\n",
       "      <td>Subscriber</td>\n",
       "      <td>95113</td>\n",
       "    </tr>\n",
       "    <tr>\n",
       "      <th>4</th>\n",
       "      <td>913453.0</td>\n",
       "      <td>789.0</td>\n",
       "      <td>8/31/2015 23:09</td>\n",
       "      <td>Embarcadero at Folsom</td>\n",
       "      <td>51.0</td>\n",
       "      <td>8/31/2015 23:22</td>\n",
       "      <td>Embarcadero at Sansome</td>\n",
       "      <td>60.0</td>\n",
       "      <td>487.0</td>\n",
       "      <td>Customer</td>\n",
       "      <td>9069</td>\n",
       "    </tr>\n",
       "  </tbody>\n",
       "</table>\n",
       "</div>"
      ],
      "text/plain": [
       "    Trip ID  Duration       Start Date                         Start Station  \\\n",
       "0  913460.0     765.0  8/31/2015 23:26  Harry Bridges Plaza (Ferry Building)   \n",
       "1  913459.0    1036.0  8/31/2015 23:11           San Antonio Shopping Center   \n",
       "2  913455.0     307.0  8/31/2015 23:13                        Post at Kearny   \n",
       "3  913454.0     409.0  8/31/2015 23:10                    San Jose City Hall   \n",
       "4  913453.0     789.0  8/31/2015 23:09                 Embarcadero at Folsom   \n",
       "\n",
       "   Start Terminal         End Date                               End Station  \\\n",
       "0            50.0  8/31/2015 23:39  San Francisco Caltrain (Townsend at 4th)   \n",
       "1            31.0  8/31/2015 23:28                   Mountain View City Hall   \n",
       "2            47.0  8/31/2015 23:18                         2nd at South Park   \n",
       "3            10.0  8/31/2015 23:17                       San Salvador at 1st   \n",
       "4            51.0  8/31/2015 23:22                    Embarcadero at Sansome   \n",
       "\n",
       "   End Terminal  Bike # Subscriber Type Zip Code  \n",
       "0          70.0   288.0      Subscriber     2139  \n",
       "1          27.0    35.0      Subscriber    95032  \n",
       "2          64.0   468.0      Subscriber    94107  \n",
       "3           8.0    68.0      Subscriber    95113  \n",
       "4          60.0   487.0        Customer     9069  "
      ]
     },
     "metadata": {},
     "output_type": "display_data"
    }
   ],
   "source": [
    "display(trips.head())\n",
    "display(commute.head())"
   ]
  },
  {
   "cell_type": "markdown",
   "metadata": {},
   "source": [
    "For this analysis, we are limiting ourselves to bike sharing trips that are leess that 30 minutes, because that is what comes free as part of the bike sharing program for the city of San Francisco.\n",
    "We want to draw a histogram of the duration to understand exactly how long trips typically take. \n",
    "\n",
    "To do that, I am going to start off making bins of the data. For example, restricting the sampling to every minutes."
   ]
  },
  {
   "cell_type": "code",
   "execution_count": 5,
   "metadata": {
    "collapsed": false
   },
   "outputs": [],
   "source": [
    "half_hour = 30 * 60 # 30 minutes times 60 seconds\n",
    "bins = np.arange(1, half_hour+1, 60)"
   ]
  },
  {
   "cell_type": "code",
   "execution_count": 6,
   "metadata": {
    "collapsed": true
   },
   "outputs": [],
   "source": [
    "pyplt.rcParams['figure.figsize'] = (4, 3)"
   ]
  },
  {
   "cell_type": "code",
   "execution_count": 7,
   "metadata": {
    "collapsed": false
   },
   "outputs": [
    {
     "data": {
      "image/png": "[encoded data removed]",
      "text/plain": [
       "<matplotlib.figure.Figure at 0x1124c6a90>"
      ]
     },
     "metadata": {},
     "output_type": "display_data"
    }
   ],
   "source": [
    "commute.hist('Duration', bins=bins, normed=True)\n",
    "pyplt.ylabel('percent per unit');"
   ]
  },
  {
   "cell_type": "code",
   "execution_count": 8,
   "metadata": {
    "collapsed": true
   },
   "outputs": [],
   "source": [
    "def bin_frequency(k):\n",
    "    bins = np.arange(1, half_hour+1, k)\n",
    "    commute.hist('Duration', bins=bins, normed=True)"
   ]
  },
  {
   "cell_type": "code",
   "execution_count": 9,
   "metadata": {
    "collapsed": false
   },
   "outputs": [
    {
     "data": {
      "image/png": "[encoded data removed]",
      "text/plain": [
       "<matplotlib.figure.Figure at 0x11aace190>"
      ]
     },
     "metadata": {},
     "output_type": "display_data"
    }
   ],
   "source": [
    "bin_frequency(10)\n",
    "pyplt.ylabel('percent per unit');"
   ]
  },
  {
   "cell_type": "code",
   "execution_count": 10,
   "metadata": {
    "collapsed": true
   },
   "outputs": [],
   "source": [
    "weather = pd.read_csv('data/weather.csv')\n",
    "sf = weather.where(weather.Zip == 94107)"
   ]
  },
  {
   "cell_type": "code",
   "execution_count": 11,
   "metadata": {
    "collapsed": false
   },
   "outputs": [],
   "source": [
    "sf = sf[[0, 1, 3]]\n",
    "sf.columns = [u'PDT', 'High', 'Low']"
   ]
  },
  {
   "cell_type": "code",
   "execution_count": 12,
   "metadata": {
    "collapsed": false
   },
   "outputs": [
    {
     "data": {
      "text/html": [
       "<div>\n",
       "<table border=\"1\" class=\"dataframe\">\n",
       "  <thead>\n",
       "    <tr style=\"text-align: right;\">\n",
       "      <th></th>\n",
       "      <th>PDT</th>\n",
       "      <th>High</th>\n",
       "      <th>Low</th>\n",
       "    </tr>\n",
       "  </thead>\n",
       "  <tbody>\n",
       "    <tr>\n",
       "      <th>0</th>\n",
       "      <td>9/1/2014</td>\n",
       "      <td>83.0</td>\n",
       "      <td>57.0</td>\n",
       "    </tr>\n",
       "    <tr>\n",
       "      <th>1</th>\n",
       "      <td>9/2/2014</td>\n",
       "      <td>72.0</td>\n",
       "      <td>60.0</td>\n",
       "    </tr>\n",
       "    <tr>\n",
       "      <th>2</th>\n",
       "      <td>9/3/2014</td>\n",
       "      <td>76.0</td>\n",
       "      <td>61.0</td>\n",
       "    </tr>\n",
       "    <tr>\n",
       "      <th>3</th>\n",
       "      <td>9/4/2014</td>\n",
       "      <td>74.0</td>\n",
       "      <td>61.0</td>\n",
       "    </tr>\n",
       "    <tr>\n",
       "      <th>4</th>\n",
       "      <td>9/5/2014</td>\n",
       "      <td>72.0</td>\n",
       "      <td>60.0</td>\n",
       "    </tr>\n",
       "  </tbody>\n",
       "</table>\n",
       "</div>"
      ],
      "text/plain": [
       "        PDT  High   Low\n",
       "0  9/1/2014  83.0  57.0\n",
       "1  9/2/2014  72.0  60.0\n",
       "2  9/3/2014  76.0  61.0\n",
       "3  9/4/2014  74.0  61.0\n",
       "4  9/5/2014  72.0  60.0"
      ]
     },
     "execution_count": 12,
     "metadata": {},
     "output_type": "execute_result"
    }
   ],
   "source": [
    "sf.head()"
   ]
  },
  {
   "cell_type": "code",
   "execution_count": 13,
   "metadata": {
    "collapsed": true
   },
   "outputs": [],
   "source": [
    "def axis_tick_frequency(ax, axis, freq):\n",
    "    \"\"\"The frequency of the y axis tick marks\n",
    "        Attributes\n",
    "        ----------\n",
    "        ax: matplotlib axis object\n",
    "        axis: char eithher 'y' or 'x'\n",
    "        freq: int, the integer value of which the range moves\n",
    "    \"\"\"\n",
    "    \n",
    "    if axis == 'y':\n",
    "        start, end = ax.get_ylim()\n",
    "        ax.yaxis.set_ticks(np.arange(start, end, freq))\n",
    "    elif axis == 'x':\n",
    "        start, end = ax.get_xlim()\n",
    "        ax.xaxis.set_ticks(np.arange(start, end, freq))\n",
    "    else:\n",
    "        raise ValueError('{argument} is not a valid axis object'.format(argument=repr(axis)))"
   ]
  },
  {
   "cell_type": "code",
   "execution_count": 14,
   "metadata": {
    "collapsed": false
   },
   "outputs": [
    {
     "data": {
      "image/png": "[encoded data removed]",
      "text/plain": [
       "<matplotlib.figure.Figure at 0x11b2d9f90>"
      ]
     },
     "metadata": {},
     "output_type": "display_data"
    }
   ],
   "source": [
    "ax = sf[[1,2]].plot.hist(color =['coral','cadetblue'], bins=np.arange(30, 101, 5), normed=True, alpha = 0.5)\n",
    "pyplt.ylabel('percent per unit')\n",
    "pyplt.legend(bbox_to_anchor=(1.05, 1), loc=2, borderaxespad=0.)\n",
    "pyplt.grid(True);"
   ]
  },
  {
   "cell_type": "markdown",
   "metadata": {},
   "source": [
    "#### Question:\n",
    " - What proportion of days had a low temp greater than 45 degrees?\n",
    " \n",
    "#### Answer:\n",
    "\n"
   ]
  },
  {
   "cell_type": "code",
   "execution_count": 15,
   "metadata": {
    "collapsed": false
   },
   "outputs": [
    {
     "data": {
      "text/plain": [
       "85.753424657534254"
      ]
     },
     "execution_count": 15,
     "metadata": {},
     "output_type": "execute_result"
    }
   ],
   "source": [
    "sf.where(sf.Low >= 45).Low.count() / 365 * 100"
   ]
  },
  {
   "cell_type": "markdown",
   "metadata": {},
   "source": [
    "#### Question:\n",
    " - Figure out the distribution of the days of the year where temperature swings betweens the highs and the lows.\n",
    "\n",
    "#### Answer:"
   ]
  },
  {
   "cell_type": "code",
   "execution_count": 16,
   "metadata": {
    "collapsed": true
   },
   "outputs": [],
   "source": [
    "sf['diff'] = sf.High - sf.Low"
   ]
  },
  {
   "cell_type": "code",
   "execution_count": 17,
   "metadata": {
    "collapsed": false
   },
   "outputs": [
    {
     "data": {
      "image/png": "[encoded data removed]",
      "text/plain": [
       "<matplotlib.figure.Figure at 0x11b239a90>"
      ]
     },
     "metadata": {},
     "output_type": "display_data"
    }
   ],
   "source": [
    "ax = sf['diff'].plot.hist(bins=np.arange(0, 40, 1))\n",
    "axis_tick_frequency(ax, 'y', 10)\n",
    "pyplt.legend(bbox_to_anchor=(1.05, 1), loc=2, borderaxespad=0.);\n"
   ]
  },
  {
   "cell_type": "markdown",
   "metadata": {},
   "source": [
    "## Deterministic Sampling"
   ]
  },
  {
   "cell_type": "code",
   "execution_count": 18,
   "metadata": {
    "collapsed": true
   },
   "outputs": [],
   "source": [
    "top = pd.read_csv('data/top_movies.csv')"
   ]
  },
  {
   "cell_type": "code",
   "execution_count": 19,
   "metadata": {
    "collapsed": false,
    "scrolled": false
   },
   "outputs": [
    {
     "data": {
      "text/html": [
       "<div>\n",
       "<table border=\"1\" class=\"dataframe\">\n",
       "  <thead>\n",
       "    <tr style=\"text-align: right;\">\n",
       "      <th></th>\n",
       "      <th>Title</th>\n",
       "      <th>Studio</th>\n",
       "      <th>Gross</th>\n",
       "      <th>Gross (Adjusted)</th>\n",
       "      <th>Year</th>\n",
       "    </tr>\n",
       "  </thead>\n",
       "  <tbody>\n",
       "    <tr>\n",
       "      <th>0</th>\n",
       "      <td>Star Wars: The Force Awakens</td>\n",
       "      <td>Buena Vista (Disney)</td>\n",
       "      <td>906723418</td>\n",
       "      <td>906723400</td>\n",
       "      <td>2015</td>\n",
       "    </tr>\n",
       "    <tr>\n",
       "      <th>1</th>\n",
       "      <td>Avatar</td>\n",
       "      <td>Fox</td>\n",
       "      <td>760507625</td>\n",
       "      <td>846120800</td>\n",
       "      <td>2009</td>\n",
       "    </tr>\n",
       "    <tr>\n",
       "      <th>2</th>\n",
       "      <td>Titanic</td>\n",
       "      <td>Paramount</td>\n",
       "      <td>658672302</td>\n",
       "      <td>1178627900</td>\n",
       "      <td>1997</td>\n",
       "    </tr>\n",
       "    <tr>\n",
       "      <th>3</th>\n",
       "      <td>Jurassic World</td>\n",
       "      <td>Universal</td>\n",
       "      <td>652270625</td>\n",
       "      <td>687728000</td>\n",
       "      <td>2015</td>\n",
       "    </tr>\n",
       "    <tr>\n",
       "      <th>4</th>\n",
       "      <td>Marvel's The Avengers</td>\n",
       "      <td>Buena Vista (Disney)</td>\n",
       "      <td>623357910</td>\n",
       "      <td>668866600</td>\n",
       "      <td>2012</td>\n",
       "    </tr>\n",
       "  </tbody>\n",
       "</table>\n",
       "</div>"
      ],
      "text/plain": [
       "                          Title                Studio      Gross  \\\n",
       "0  Star Wars: The Force Awakens  Buena Vista (Disney)  906723418   \n",
       "1                        Avatar                   Fox  760507625   \n",
       "2                       Titanic             Paramount  658672302   \n",
       "3                Jurassic World             Universal  652270625   \n",
       "4         Marvel's The Avengers  Buena Vista (Disney)  623357910   \n",
       "\n",
       "   Gross (Adjusted)  Year  \n",
       "0         906723400  2015  \n",
       "1         846120800  2009  \n",
       "2        1178627900  1997  \n",
       "3         687728000  2015  \n",
       "4         668866600  2012  "
      ]
     },
     "execution_count": 19,
     "metadata": {},
     "output_type": "execute_result"
    }
   ],
   "source": [
    "top.head()"
   ]
  },
  {
   "cell_type": "markdown",
   "metadata": {},
   "source": [
    "Let's make a deterministic sample. We will sample every 20th top grossing movie"
   ]
  },
  {
   "cell_type": "code",
   "execution_count": 20,
   "metadata": {
    "collapsed": true
   },
   "outputs": [],
   "source": [
    "interval = 20\n",
    "sample = arange(0, len(top), interval)"
   ]
  },
  {
   "cell_type": "code",
   "execution_count": 21,
   "metadata": {
    "collapsed": false
   },
   "outputs": [],
   "source": [
    "df = pd.DataFrame()\n",
    "for i in sample:\n",
    "    df = df.append(top.ix[i, :])"
   ]
  },
  {
   "cell_type": "code",
   "execution_count": 22,
   "metadata": {
    "collapsed": false
   },
   "outputs": [
    {
     "data": {
      "text/html": [
       "<div>\n",
       "<table border=\"1\" class=\"dataframe\">\n",
       "  <thead>\n",
       "    <tr style=\"text-align: right;\">\n",
       "      <th></th>\n",
       "      <th>Gross</th>\n",
       "      <th>Gross (Adjusted)</th>\n",
       "      <th>Studio</th>\n",
       "      <th>Title</th>\n",
       "      <th>Year</th>\n",
       "    </tr>\n",
       "  </thead>\n",
       "  <tbody>\n",
       "    <tr>\n",
       "      <th>0</th>\n",
       "      <td>906723418.0</td>\n",
       "      <td>9.067234e+08</td>\n",
       "      <td>Buena Vista (Disney)</td>\n",
       "      <td>Star Wars: The Force Awakens</td>\n",
       "      <td>2015.0</td>\n",
       "    </tr>\n",
       "    <tr>\n",
       "      <th>20</th>\n",
       "      <td>402111870.0</td>\n",
       "      <td>4.689381e+08</td>\n",
       "      <td>Paramount/Dreamworks</td>\n",
       "      <td>Transformers: Revenge of the Fallen</td>\n",
       "      <td>2009.0</td>\n",
       "    </tr>\n",
       "    <tr>\n",
       "      <th>40</th>\n",
       "      <td>322719944.0</td>\n",
       "      <td>4.080906e+08</td>\n",
       "      <td>Paramount/Dreamworks</td>\n",
       "      <td>Shrek the Third</td>\n",
       "      <td>2007.0</td>\n",
       "    </tr>\n",
       "    <tr>\n",
       "      <th>60</th>\n",
       "      <td>291710957.0</td>\n",
       "      <td>3.930331e+08</td>\n",
       "      <td>Buena Vista (Disney)</td>\n",
       "      <td>The Chronicles of Narnia: The Lion, the Witch ...</td>\n",
       "      <td>2005.0</td>\n",
       "    </tr>\n",
       "    <tr>\n",
       "      <th>80</th>\n",
       "      <td>242829261.0</td>\n",
       "      <td>3.503507e+08</td>\n",
       "      <td>Universal</td>\n",
       "      <td>Bruce Almighty</td>\n",
       "      <td>2003.0</td>\n",
       "    </tr>\n",
       "    <tr>\n",
       "      <th>100</th>\n",
       "      <td>198676459.0</td>\n",
       "      <td>1.757788e+09</td>\n",
       "      <td>MGM</td>\n",
       "      <td>Gone with the Wind</td>\n",
       "      <td>1939.0</td>\n",
       "    </tr>\n",
       "    <tr>\n",
       "      <th>120</th>\n",
       "      <td>167780960.0</td>\n",
       "      <td>3.628229e+08</td>\n",
       "      <td>Buena Vista (Disney)</td>\n",
       "      <td>Three Men and a Baby</td>\n",
       "      <td>1987.0</td>\n",
       "    </tr>\n",
       "    <tr>\n",
       "      <th>140</th>\n",
       "      <td>125049125.0</td>\n",
       "      <td>3.698653e+08</td>\n",
       "      <td>UA</td>\n",
       "      <td>Rocky III</td>\n",
       "      <td>1982.0</td>\n",
       "    </tr>\n",
       "    <tr>\n",
       "      <th>160</th>\n",
       "      <td>94213184.0</td>\n",
       "      <td>3.532612e+08</td>\n",
       "      <td>Paramount</td>\n",
       "      <td>Saturday Night Fever</td>\n",
       "      <td>1977.0</td>\n",
       "    </tr>\n",
       "    <tr>\n",
       "      <th>180</th>\n",
       "      <td>52223306.0</td>\n",
       "      <td>3.483432e+08</td>\n",
       "      <td>Columbia</td>\n",
       "      <td>Funny Girl</td>\n",
       "      <td>1968.0</td>\n",
       "    </tr>\n",
       "  </tbody>\n",
       "</table>\n",
       "</div>"
      ],
      "text/plain": [
       "           Gross  Gross (Adjusted)                Studio  \\\n",
       "0    906723418.0      9.067234e+08  Buena Vista (Disney)   \n",
       "20   402111870.0      4.689381e+08  Paramount/Dreamworks   \n",
       "40   322719944.0      4.080906e+08  Paramount/Dreamworks   \n",
       "60   291710957.0      3.930331e+08  Buena Vista (Disney)   \n",
       "80   242829261.0      3.503507e+08             Universal   \n",
       "100  198676459.0      1.757788e+09                   MGM   \n",
       "120  167780960.0      3.628229e+08  Buena Vista (Disney)   \n",
       "140  125049125.0      3.698653e+08                    UA   \n",
       "160   94213184.0      3.532612e+08             Paramount   \n",
       "180   52223306.0      3.483432e+08              Columbia   \n",
       "\n",
       "                                                 Title    Year  \n",
       "0                         Star Wars: The Force Awakens  2015.0  \n",
       "20                 Transformers: Revenge of the Fallen  2009.0  \n",
       "40                                     Shrek the Third  2007.0  \n",
       "60   The Chronicles of Narnia: The Lion, the Witch ...  2005.0  \n",
       "80                                      Bruce Almighty  2003.0  \n",
       "100                                 Gone with the Wind  1939.0  \n",
       "120                               Three Men and a Baby  1987.0  \n",
       "140                                          Rocky III  1982.0  \n",
       "160                               Saturday Night Fever  1977.0  \n",
       "180                                         Funny Girl  1968.0  "
      ]
     },
     "execution_count": 22,
     "metadata": {},
     "output_type": "execute_result"
    }
   ],
   "source": [
    "df"
   ]
  },
  {
   "cell_type": "markdown",
   "metadata": {},
   "source": [
    "## Probability Sampling\n",
    "\n",
    "A *population* is the set of all elements from whom a sample will be drawn. A *probability sample* is one for which it is possible to calculate, before the sample is drawn, the chance with which any subset of elements will enter the sample. In a probability sample, all elements need not have the same chance of being chosen.\n",
    "\n",
    "Now let's do probabilistic sampling of the top movies. When we do a probabilistic sample like this, we call it a **\"systematic sample.\"**\n"
   ]
  },
  {
   "cell_type": "code",
   "execution_count": 23,
   "metadata": {
    "collapsed": false
   },
   "outputs": [],
   "source": [
    "start = np.random.choice(np.arange(interval))\n",
    "sample = np.arange(start, len(top), interval)\n",
    "\n",
    "df = pd.DataFrame()\n",
    "for i in sample:\n",
    "    df = df.append(top.ix[i, :])"
   ]
  },
  {
   "cell_type": "code",
   "execution_count": 24,
   "metadata": {
    "collapsed": false
   },
   "outputs": [
    {
     "data": {
      "text/html": [
       "<div>\n",
       "<table border=\"1\" class=\"dataframe\">\n",
       "  <thead>\n",
       "    <tr style=\"text-align: right;\">\n",
       "      <th></th>\n",
       "      <th>Gross</th>\n",
       "      <th>Gross (Adjusted)</th>\n",
       "      <th>Studio</th>\n",
       "      <th>Title</th>\n",
       "      <th>Year</th>\n",
       "    </tr>\n",
       "  </thead>\n",
       "  <tbody>\n",
       "    <tr>\n",
       "      <th>14</th>\n",
       "      <td>422783777.0</td>\n",
       "      <td>7.755739e+08</td>\n",
       "      <td>Buena Vista (Disney)</td>\n",
       "      <td>The Lion King</td>\n",
       "      <td>1994.0</td>\n",
       "    </tr>\n",
       "    <tr>\n",
       "      <th>34</th>\n",
       "      <td>337135885.0</td>\n",
       "      <td>3.543240e+08</td>\n",
       "      <td>Lionsgate</td>\n",
       "      <td>The Hunger Games: Mockingjay - Part 1</td>\n",
       "      <td>2014.0</td>\n",
       "    </tr>\n",
       "    <tr>\n",
       "      <th>54</th>\n",
       "      <td>301959197.0</td>\n",
       "      <td>3.520988e+08</td>\n",
       "      <td>Warner Bros.</td>\n",
       "      <td>Harry Potter and the Half-Blood Prince</td>\n",
       "      <td>2009.0</td>\n",
       "    </tr>\n",
       "    <tr>\n",
       "      <th>74</th>\n",
       "      <td>250863268.0</td>\n",
       "      <td>3.222619e+08</td>\n",
       "      <td>Fox</td>\n",
       "      <td>Night at the Museum</td>\n",
       "      <td>2006.0</td>\n",
       "    </tr>\n",
       "    <tr>\n",
       "      <th>94</th>\n",
       "      <td>216540909.0</td>\n",
       "      <td>3.979995e+08</td>\n",
       "      <td>Dreamworks</td>\n",
       "      <td>Saving Private Ryan</td>\n",
       "      <td>1998.0</td>\n",
       "    </tr>\n",
       "    <tr>\n",
       "      <th>114</th>\n",
       "      <td>176484651.0</td>\n",
       "      <td>3.260640e+08</td>\n",
       "      <td>Fox</td>\n",
       "      <td>There's Something About Mary</td>\n",
       "      <td>1998.0</td>\n",
       "    </tr>\n",
       "    <tr>\n",
       "      <th>134</th>\n",
       "      <td>141600000.0</td>\n",
       "      <td>5.210453e+08</td>\n",
       "      <td>Universal</td>\n",
       "      <td>National Lampoon's Animal House</td>\n",
       "      <td>1978.0</td>\n",
       "    </tr>\n",
       "    <tr>\n",
       "      <th>154</th>\n",
       "      <td>103290500.0</td>\n",
       "      <td>3.340622e+08</td>\n",
       "      <td>Fox</td>\n",
       "      <td>9 to 5</td>\n",
       "      <td>1980.0</td>\n",
       "    </tr>\n",
       "    <tr>\n",
       "      <th>174</th>\n",
       "      <td>65500000.0</td>\n",
       "      <td>1.139700e+09</td>\n",
       "      <td>Paramount</td>\n",
       "      <td>The Ten Commandments</td>\n",
       "      <td>1956.0</td>\n",
       "    </tr>\n",
       "    <tr>\n",
       "      <th>194</th>\n",
       "      <td>23650000.0</td>\n",
       "      <td>4.785000e+08</td>\n",
       "      <td>RKO</td>\n",
       "      <td>The Best Years of Our Lives</td>\n",
       "      <td>1946.0</td>\n",
       "    </tr>\n",
       "  </tbody>\n",
       "</table>\n",
       "</div>"
      ],
      "text/plain": [
       "           Gross  Gross (Adjusted)                Studio  \\\n",
       "14   422783777.0      7.755739e+08  Buena Vista (Disney)   \n",
       "34   337135885.0      3.543240e+08             Lionsgate   \n",
       "54   301959197.0      3.520988e+08          Warner Bros.   \n",
       "74   250863268.0      3.222619e+08                   Fox   \n",
       "94   216540909.0      3.979995e+08            Dreamworks   \n",
       "114  176484651.0      3.260640e+08                   Fox   \n",
       "134  141600000.0      5.210453e+08             Universal   \n",
       "154  103290500.0      3.340622e+08                   Fox   \n",
       "174   65500000.0      1.139700e+09             Paramount   \n",
       "194   23650000.0      4.785000e+08                   RKO   \n",
       "\n",
       "                                      Title    Year  \n",
       "14                            The Lion King  1994.0  \n",
       "34    The Hunger Games: Mockingjay - Part 1  2014.0  \n",
       "54   Harry Potter and the Half-Blood Prince  2009.0  \n",
       "74                      Night at the Museum  2006.0  \n",
       "94                      Saving Private Ryan  1998.0  \n",
       "114            There's Something About Mary  1998.0  \n",
       "134         National Lampoon's Animal House  1978.0  \n",
       "154                                  9 to 5  1980.0  \n",
       "174                    The Ten Commandments  1956.0  \n",
       "194             The Best Years of Our Lives  1946.0  "
      ]
     },
     "execution_count": 24,
     "metadata": {},
     "output_type": "execute_result"
    }
   ],
   "source": [
    "df"
   ]
  },
  {
   "cell_type": "markdown",
   "metadata": {},
   "source": [
    "#### Question:\n",
    "- What is the probability that the *Rush Hour 2* ends up in the sample we have systematically chosen?\n",
    "\n",
    "#### Answer:\n",
    "- This is depends solely on the the chance that the first movie chosen from the dataset is *The Dark Knight Rises* and that has a chance of 1 in 20, i.e., 5%. \n"
   ]
  },
  {
   "cell_type": "markdown",
   "metadata": {
    "collapsed": true
   },
   "source": [
    "### Uniform Sample\n",
    "A uniform sample is a sample drawn at random without replacements"
   ]
  },
  {
   "cell_type": "code",
   "execution_count": 25,
   "metadata": {
    "collapsed": false
   },
   "outputs": [],
   "source": [
    "def sample(num_sample, top):\n",
    "    \"\"\"\n",
    "    Create a random sample from a table\n",
    "    \n",
    "    Attributes\n",
    "    ---------\n",
    "    num_sample: int\n",
    "    top: dataframe\n",
    "    \n",
    "    Returns a random subset of table index\n",
    "    \"\"\"\n",
    "    df_index = []\n",
    "\n",
    "    for i in np.arange(0, num_sample, 1):\n",
    "\n",
    "        # pick randomly from the whole table\n",
    "        sample_index = np.random.randint(0, len(top))\n",
    "\n",
    "        # store index\n",
    "        df_index.append(sample_index)\n",
    "        \n",
    "    return df_index\n",
    "\n",
    "def sample_no_replacement(num_sample, top):\n",
    "    \"\"\"\n",
    "    Create a random sample from a table\n",
    "    \n",
    "    Attributes\n",
    "    ---------\n",
    "    num_sample: int\n",
    "    top: dataframe\n",
    "    \n",
    "    Returns a random subset of table index\n",
    "    \"\"\"\n",
    "    df_index = []\n",
    "    lst = np.arange(0, len(top), 1)\n",
    "\n",
    "    for i in np.arange(0, num_sample, 1):\n",
    "\n",
    "        # pick randomly from the whole table\n",
    "        sample_index = np.random.choice(lst)\n",
    "\n",
    "        lst = np.setdiff1d(lst,[sample_index])\n",
    "        df_index.append(sample_index)\n",
    "            \n",
    "    return df_index\n",
    "\n"
   ]
  },
  {
   "cell_type": "code",
   "execution_count": 28,
   "metadata": {
    "collapsed": false
   },
   "outputs": [
    {
     "data": {
      "text/html": [
       "<div>\n",
       "<table border=\"1\" class=\"dataframe\">\n",
       "  <thead>\n",
       "    <tr style=\"text-align: right;\">\n",
       "      <th></th>\n",
       "      <th>Title</th>\n",
       "      <th>Studio</th>\n",
       "      <th>Gross</th>\n",
       "      <th>Gross (Adjusted)</th>\n",
       "      <th>Year</th>\n",
       "    </tr>\n",
       "  </thead>\n",
       "  <tbody>\n",
       "    <tr>\n",
       "      <th>178</th>\n",
       "      <td>2001: A Space Odyssey</td>\n",
       "      <td>MGM</td>\n",
       "      <td>56954992</td>\n",
       "      <td>377027700</td>\n",
       "      <td>1968</td>\n",
       "    </tr>\n",
       "    <tr>\n",
       "      <th>99</th>\n",
       "      <td>Armageddon</td>\n",
       "      <td>Buena Vista (Disney)</td>\n",
       "      <td>201578182</td>\n",
       "      <td>373929700</td>\n",
       "      <td>1998</td>\n",
       "    </tr>\n",
       "    <tr>\n",
       "      <th>157</th>\n",
       "      <td>Bambi</td>\n",
       "      <td>RKO</td>\n",
       "      <td>102247150</td>\n",
       "      <td>554298300</td>\n",
       "      <td>1942</td>\n",
       "    </tr>\n",
       "    <tr>\n",
       "      <th>106</th>\n",
       "      <td>Batman Forever</td>\n",
       "      <td>Warner Bros.</td>\n",
       "      <td>184031112</td>\n",
       "      <td>368062200</td>\n",
       "      <td>1995</td>\n",
       "    </tr>\n",
       "    <tr>\n",
       "      <th>80</th>\n",
       "      <td>Bruce Almighty</td>\n",
       "      <td>Universal</td>\n",
       "      <td>242829261</td>\n",
       "      <td>350350700</td>\n",
       "      <td>2003</td>\n",
       "    </tr>\n",
       "    <tr>\n",
       "      <th>155</th>\n",
       "      <td>Butch Cassidy and the Sundance Kid</td>\n",
       "      <td>Fox</td>\n",
       "      <td>102308889</td>\n",
       "      <td>613853300</td>\n",
       "      <td>1969</td>\n",
       "    </tr>\n",
       "    <tr>\n",
       "      <th>162</th>\n",
       "      <td>Cinderella (1950)</td>\n",
       "      <td>Disney</td>\n",
       "      <td>93141149</td>\n",
       "      <td>547050200</td>\n",
       "      <td>1950</td>\n",
       "    </tr>\n",
       "    <tr>\n",
       "      <th>177</th>\n",
       "      <td>Cleopatra (1963)</td>\n",
       "      <td>Fox</td>\n",
       "      <td>57777778</td>\n",
       "      <td>584496100</td>\n",
       "      <td>1963</td>\n",
       "    </tr>\n",
       "    <tr>\n",
       "      <th>103</th>\n",
       "      <td>Grease</td>\n",
       "      <td>Paramount</td>\n",
       "      <td>188755690</td>\n",
       "      <td>669632000</td>\n",
       "      <td>1978</td>\n",
       "    </tr>\n",
       "    <tr>\n",
       "      <th>22</th>\n",
       "      <td>Harry Potter and the Deathly Hallows Part 2</td>\n",
       "      <td>Warner Bros.</td>\n",
       "      <td>381011219</td>\n",
       "      <td>417512200</td>\n",
       "      <td>2011</td>\n",
       "    </tr>\n",
       "    <tr>\n",
       "      <th>44</th>\n",
       "      <td>Indiana Jones and the Kingdom of the Crystal S...</td>\n",
       "      <td>Paramount</td>\n",
       "      <td>317101119</td>\n",
       "      <td>384231200</td>\n",
       "      <td>2008</td>\n",
       "    </tr>\n",
       "    <tr>\n",
       "      <th>29</th>\n",
       "      <td>Inside Out</td>\n",
       "      <td>Buena Vista (Disney)</td>\n",
       "      <td>356461711</td>\n",
       "      <td>375723400</td>\n",
       "      <td>2015</td>\n",
       "    </tr>\n",
       "    <tr>\n",
       "      <th>3</th>\n",
       "      <td>Jurassic World</td>\n",
       "      <td>Universal</td>\n",
       "      <td>652270625</td>\n",
       "      <td>687728000</td>\n",
       "      <td>2015</td>\n",
       "    </tr>\n",
       "    <tr>\n",
       "      <th>36</th>\n",
       "      <td>Minions</td>\n",
       "      <td>Universal</td>\n",
       "      <td>336045770</td>\n",
       "      <td>354213900</td>\n",
       "      <td>2015</td>\n",
       "    </tr>\n",
       "    <tr>\n",
       "      <th>176</th>\n",
       "      <td>Patton</td>\n",
       "      <td>Fox</td>\n",
       "      <td>61749765</td>\n",
       "      <td>346595500</td>\n",
       "      <td>1970</td>\n",
       "    </tr>\n",
       "    <tr>\n",
       "      <th>77</th>\n",
       "      <td>Raiders of the Lost Ark</td>\n",
       "      <td>Paramount</td>\n",
       "      <td>248159971</td>\n",
       "      <td>770183000</td>\n",
       "      <td>1981</td>\n",
       "    </tr>\n",
       "    <tr>\n",
       "      <th>40</th>\n",
       "      <td>Shrek the Third</td>\n",
       "      <td>Paramount/Dreamworks</td>\n",
       "      <td>322719944</td>\n",
       "      <td>408090600</td>\n",
       "      <td>2007</td>\n",
       "    </tr>\n",
       "    <tr>\n",
       "      <th>52</th>\n",
       "      <td>Skyfall</td>\n",
       "      <td>Sony</td>\n",
       "      <td>304360277</td>\n",
       "      <td>329225400</td>\n",
       "      <td>2012</td>\n",
       "    </tr>\n",
       "    <tr>\n",
       "      <th>139</th>\n",
       "      <td>Smokey and the Bandit</td>\n",
       "      <td>Universal</td>\n",
       "      <td>126737428</td>\n",
       "      <td>494446500</td>\n",
       "      <td>1977</td>\n",
       "    </tr>\n",
       "    <tr>\n",
       "      <th>104</th>\n",
       "      <td>Snow White and the Seven Dreamworksarfs</td>\n",
       "      <td>Disney</td>\n",
       "      <td>184925486</td>\n",
       "      <td>948300000</td>\n",
       "      <td>1937</td>\n",
       "    </tr>\n",
       "    <tr>\n",
       "      <th>26</th>\n",
       "      <td>Spider-Man 2</td>\n",
       "      <td>Sony</td>\n",
       "      <td>373585825</td>\n",
       "      <td>523381100</td>\n",
       "      <td>2004</td>\n",
       "    </tr>\n",
       "    <tr>\n",
       "      <th>192</th>\n",
       "      <td>The Bridge on the River Kwai</td>\n",
       "      <td>Columbia</td>\n",
       "      <td>27200000</td>\n",
       "      <td>473280000</td>\n",
       "      <td>1957</td>\n",
       "    </tr>\n",
       "    <tr>\n",
       "      <th>5</th>\n",
       "      <td>The Dark Knight</td>\n",
       "      <td>Warner Bros.</td>\n",
       "      <td>534858444</td>\n",
       "      <td>647761600</td>\n",
       "      <td>2008</td>\n",
       "    </tr>\n",
       "    <tr>\n",
       "      <th>61</th>\n",
       "      <td>The Empire Strikes Back</td>\n",
       "      <td>Fox</td>\n",
       "      <td>290475067</td>\n",
       "      <td>854171500</td>\n",
       "      <td>1980</td>\n",
       "    </tr>\n",
       "    <tr>\n",
       "      <th>199</th>\n",
       "      <td>The Four Horsemen of the Apocalypse</td>\n",
       "      <td>MPC</td>\n",
       "      <td>9183673</td>\n",
       "      <td>399489800</td>\n",
       "      <td>1921</td>\n",
       "    </tr>\n",
       "    <tr>\n",
       "      <th>25</th>\n",
       "      <td>The Lord of the Rings: The Return of the King</td>\n",
       "      <td>New Line</td>\n",
       "      <td>377845905</td>\n",
       "      <td>536265400</td>\n",
       "      <td>2003</td>\n",
       "    </tr>\n",
       "    <tr>\n",
       "      <th>25</th>\n",
       "      <td>The Lord of the Rings: The Return of the King</td>\n",
       "      <td>New Line</td>\n",
       "      <td>377845905</td>\n",
       "      <td>536265400</td>\n",
       "      <td>2003</td>\n",
       "    </tr>\n",
       "    <tr>\n",
       "      <th>87</th>\n",
       "      <td>The Lost World: Jurassic Park</td>\n",
       "      <td>Universal</td>\n",
       "      <td>229086679</td>\n",
       "      <td>434216600</td>\n",
       "      <td>1997</td>\n",
       "    </tr>\n",
       "    <tr>\n",
       "      <th>114</th>\n",
       "      <td>There's Something About Mary</td>\n",
       "      <td>Fox</td>\n",
       "      <td>176484651</td>\n",
       "      <td>326064000</td>\n",
       "      <td>1998</td>\n",
       "    </tr>\n",
       "    <tr>\n",
       "      <th>2</th>\n",
       "      <td>Titanic</td>\n",
       "      <td>Paramount</td>\n",
       "      <td>658672302</td>\n",
       "      <td>1178627900</td>\n",
       "      <td>1997</td>\n",
       "    </tr>\n",
       "    <tr>\n",
       "      <th>113</th>\n",
       "      <td>Tootsie</td>\n",
       "      <td>Columbia</td>\n",
       "      <td>177200000</td>\n",
       "      <td>495064300</td>\n",
       "      <td>1982</td>\n",
       "    </tr>\n",
       "    <tr>\n",
       "      <th>111</th>\n",
       "      <td>Top Gun</td>\n",
       "      <td>Paramount</td>\n",
       "      <td>179800601</td>\n",
       "      <td>417818200</td>\n",
       "      <td>1986</td>\n",
       "    </tr>\n",
       "    <tr>\n",
       "      <th>111</th>\n",
       "      <td>Top Gun</td>\n",
       "      <td>Paramount</td>\n",
       "      <td>179800601</td>\n",
       "      <td>417818200</td>\n",
       "      <td>1986</td>\n",
       "    </tr>\n",
       "    <tr>\n",
       "      <th>20</th>\n",
       "      <td>Transformers: Revenge of the Fallen</td>\n",
       "      <td>Paramount/Dreamworks</td>\n",
       "      <td>402111870</td>\n",
       "      <td>468938100</td>\n",
       "      <td>2009</td>\n",
       "    </tr>\n",
       "    <tr>\n",
       "      <th>164</th>\n",
       "      <td>Young Frankenstein</td>\n",
       "      <td>Fox</td>\n",
       "      <td>86273333</td>\n",
       "      <td>397131200</td>\n",
       "      <td>1974</td>\n",
       "    </tr>\n",
       "  </tbody>\n",
       "</table>\n",
       "</div>"
      ],
      "text/plain": [
       "                                                 Title                Studio  \\\n",
       "178                              2001: A Space Odyssey                   MGM   \n",
       "99                                          Armageddon  Buena Vista (Disney)   \n",
       "157                                              Bambi                   RKO   \n",
       "106                                     Batman Forever          Warner Bros.   \n",
       "80                                      Bruce Almighty             Universal   \n",
       "155                 Butch Cassidy and the Sundance Kid                   Fox   \n",
       "162                                  Cinderella (1950)                Disney   \n",
       "177                                   Cleopatra (1963)                   Fox   \n",
       "103                                             Grease             Paramount   \n",
       "22         Harry Potter and the Deathly Hallows Part 2          Warner Bros.   \n",
       "44   Indiana Jones and the Kingdom of the Crystal S...             Paramount   \n",
       "29                                          Inside Out  Buena Vista (Disney)   \n",
       "3                                       Jurassic World             Universal   \n",
       "36                                             Minions             Universal   \n",
       "176                                             Patton                   Fox   \n",
       "77                             Raiders of the Lost Ark             Paramount   \n",
       "40                                     Shrek the Third  Paramount/Dreamworks   \n",
       "52                                             Skyfall                  Sony   \n",
       "139                              Smokey and the Bandit             Universal   \n",
       "104            Snow White and the Seven Dreamworksarfs                Disney   \n",
       "26                                        Spider-Man 2                  Sony   \n",
       "192                       The Bridge on the River Kwai              Columbia   \n",
       "5                                      The Dark Knight          Warner Bros.   \n",
       "61                             The Empire Strikes Back                   Fox   \n",
       "199                The Four Horsemen of the Apocalypse                   MPC   \n",
       "25       The Lord of the Rings: The Return of the King              New Line   \n",
       "25       The Lord of the Rings: The Return of the King              New Line   \n",
       "87                       The Lost World: Jurassic Park             Universal   \n",
       "114                       There's Something About Mary                   Fox   \n",
       "2                                              Titanic             Paramount   \n",
       "113                                            Tootsie              Columbia   \n",
       "111                                            Top Gun             Paramount   \n",
       "111                                            Top Gun             Paramount   \n",
       "20                 Transformers: Revenge of the Fallen  Paramount/Dreamworks   \n",
       "164                                 Young Frankenstein                   Fox   \n",
       "\n",
       "         Gross  Gross (Adjusted)  Year  \n",
       "178   56954992         377027700  1968  \n",
       "99   201578182         373929700  1998  \n",
       "157  102247150         554298300  1942  \n",
       "106  184031112         368062200  1995  \n",
       "80   242829261         350350700  2003  \n",
       "155  102308889         613853300  1969  \n",
       "162   93141149         547050200  1950  \n",
       "177   57777778         584496100  1963  \n",
       "103  188755690         669632000  1978  \n",
       "22   381011219         417512200  2011  \n",
       "44   317101119         384231200  2008  \n",
       "29   356461711         375723400  2015  \n",
       "3    652270625         687728000  2015  \n",
       "36   336045770         354213900  2015  \n",
       "176   61749765         346595500  1970  \n",
       "77   248159971         770183000  1981  \n",
       "40   322719944         408090600  2007  \n",
       "52   304360277         329225400  2012  \n",
       "139  126737428         494446500  1977  \n",
       "104  184925486         948300000  1937  \n",
       "26   373585825         523381100  2004  \n",
       "192   27200000         473280000  1957  \n",
       "5    534858444         647761600  2008  \n",
       "61   290475067         854171500  1980  \n",
       "199    9183673         399489800  1921  \n",
       "25   377845905         536265400  2003  \n",
       "25   377845905         536265400  2003  \n",
       "87   229086679         434216600  1997  \n",
       "114  176484651         326064000  1998  \n",
       "2    658672302        1178627900  1997  \n",
       "113  177200000         495064300  1982  \n",
       "111  179800601         417818200  1986  \n",
       "111  179800601         417818200  1986  \n",
       "20   402111870         468938100  2009  \n",
       "164   86273333         397131200  1974  "
      ]
     },
     "execution_count": 28,
     "metadata": {},
     "output_type": "execute_result"
    }
   ],
   "source": [
    "index_ = sample(35, top)\n",
    "df = top.ix[index_, :]\n",
    "df.sort_values(by='Title')"
   ]
  },
  {
   "cell_type": "code",
   "execution_count": 29,
   "metadata": {
    "collapsed": false
   },
   "outputs": [
    {
     "data": {
      "text/html": [
       "<div>\n",
       "<table border=\"1\" class=\"dataframe\">\n",
       "  <thead>\n",
       "    <tr style=\"text-align: right;\">\n",
       "      <th></th>\n",
       "      <th>Title</th>\n",
       "      <th>Studio</th>\n",
       "      <th>Gross</th>\n",
       "      <th>Gross (Adjusted)</th>\n",
       "      <th>Year</th>\n",
       "    </tr>\n",
       "  </thead>\n",
       "  <tbody>\n",
       "    <tr>\n",
       "      <th>132</th>\n",
       "      <td>101 Dalmatians</td>\n",
       "      <td>Disney</td>\n",
       "      <td>144880014</td>\n",
       "      <td>869280100</td>\n",
       "      <td>1961</td>\n",
       "    </tr>\n",
       "    <tr>\n",
       "      <th>91</th>\n",
       "      <td>Beauty and the Beast</td>\n",
       "      <td>Buena Vista (Disney)</td>\n",
       "      <td>218967620</td>\n",
       "      <td>394664300</td>\n",
       "      <td>1991</td>\n",
       "    </tr>\n",
       "    <tr>\n",
       "      <th>155</th>\n",
       "      <td>Butch Cassidy and the Sundance Kid</td>\n",
       "      <td>Fox</td>\n",
       "      <td>102308889</td>\n",
       "      <td>613853300</td>\n",
       "      <td>1969</td>\n",
       "    </tr>\n",
       "    <tr>\n",
       "      <th>85</th>\n",
       "      <td>Cast Away</td>\n",
       "      <td>Fox</td>\n",
       "      <td>233632142</td>\n",
       "      <td>364479500</td>\n",
       "      <td>2000</td>\n",
       "    </tr>\n",
       "    <tr>\n",
       "      <th>115</th>\n",
       "      <td>Crocodile Dundee</td>\n",
       "      <td>Paramount</td>\n",
       "      <td>174803506</td>\n",
       "      <td>401961400</td>\n",
       "      <td>1986</td>\n",
       "    </tr>\n",
       "    <tr>\n",
       "      <th>21</th>\n",
       "      <td>Frozen</td>\n",
       "      <td>Buena Vista (Disney)</td>\n",
       "      <td>400738009</td>\n",
       "      <td>426656900</td>\n",
       "      <td>2013</td>\n",
       "    </tr>\n",
       "    <tr>\n",
       "      <th>100</th>\n",
       "      <td>Gone with the Wind</td>\n",
       "      <td>MGM</td>\n",
       "      <td>198676459</td>\n",
       "      <td>1757788200</td>\n",
       "      <td>1939</td>\n",
       "    </tr>\n",
       "    <tr>\n",
       "      <th>71</th>\n",
       "      <td>How the Grinch Stole Christmas</td>\n",
       "      <td>Universal</td>\n",
       "      <td>260044825</td>\n",
       "      <td>418529400</td>\n",
       "      <td>2000</td>\n",
       "    </tr>\n",
       "    <tr>\n",
       "      <th>72</th>\n",
       "      <td>Jaws</td>\n",
       "      <td>Universal</td>\n",
       "      <td>260000000</td>\n",
       "      <td>1114285700</td>\n",
       "      <td>1975</td>\n",
       "    </tr>\n",
       "    <tr>\n",
       "      <th>161</th>\n",
       "      <td>Lady and the Tramp</td>\n",
       "      <td>Disney</td>\n",
       "      <td>93602326</td>\n",
       "      <td>484893500</td>\n",
       "      <td>1955</td>\n",
       "    </tr>\n",
       "    <tr>\n",
       "      <th>142</th>\n",
       "      <td>On Golden Pond</td>\n",
       "      <td>Universal</td>\n",
       "      <td>119285432</td>\n",
       "      <td>353083700</td>\n",
       "      <td>1981</td>\n",
       "    </tr>\n",
       "    <tr>\n",
       "      <th>149</th>\n",
       "      <td>One Flew Over the Cuckoo's Nest</td>\n",
       "      <td>UA</td>\n",
       "      <td>108981275</td>\n",
       "      <td>467062600</td>\n",
       "      <td>1975</td>\n",
       "    </tr>\n",
       "    <tr>\n",
       "      <th>176</th>\n",
       "      <td>Patton</td>\n",
       "      <td>Fox</td>\n",
       "      <td>61749765</td>\n",
       "      <td>346595500</td>\n",
       "      <td>1970</td>\n",
       "    </tr>\n",
       "    <tr>\n",
       "      <th>140</th>\n",
       "      <td>Rocky III</td>\n",
       "      <td>UA</td>\n",
       "      <td>125049125</td>\n",
       "      <td>369865300</td>\n",
       "      <td>1982</td>\n",
       "    </tr>\n",
       "    <tr>\n",
       "      <th>198</th>\n",
       "      <td>Sergeant York</td>\n",
       "      <td>Warner Bros.</td>\n",
       "      <td>16361885</td>\n",
       "      <td>418671800</td>\n",
       "      <td>1941</td>\n",
       "    </tr>\n",
       "    <tr>\n",
       "      <th>10</th>\n",
       "      <td>Shrek 2</td>\n",
       "      <td>Dreamworks</td>\n",
       "      <td>441226247</td>\n",
       "      <td>618143100</td>\n",
       "      <td>2004</td>\n",
       "    </tr>\n",
       "    <tr>\n",
       "      <th>150</th>\n",
       "      <td>Superman II</td>\n",
       "      <td>Warner Bros.</td>\n",
       "      <td>108185706</td>\n",
       "      <td>338566800</td>\n",
       "      <td>1981</td>\n",
       "    </tr>\n",
       "    <tr>\n",
       "      <th>60</th>\n",
       "      <td>The Chronicles of Narnia: The Lion, the Witch ...</td>\n",
       "      <td>Buena Vista (Disney)</td>\n",
       "      <td>291710957</td>\n",
       "      <td>393033100</td>\n",
       "      <td>2005</td>\n",
       "    </tr>\n",
       "    <tr>\n",
       "      <th>53</th>\n",
       "      <td>The Hobbit: An Unexpected Journey</td>\n",
       "      <td>Warner Bros. (New Line)</td>\n",
       "      <td>303003568</td>\n",
       "      <td>329153300</td>\n",
       "      <td>2012</td>\n",
       "    </tr>\n",
       "    <tr>\n",
       "      <th>17</th>\n",
       "      <td>The Hunger Games</td>\n",
       "      <td>Lionsgate</td>\n",
       "      <td>408010692</td>\n",
       "      <td>442510400</td>\n",
       "      <td>2012</td>\n",
       "    </tr>\n",
       "    <tr>\n",
       "      <th>70</th>\n",
       "      <td>The Incredibles</td>\n",
       "      <td>Buena Vista (Disney)</td>\n",
       "      <td>261441092</td>\n",
       "      <td>365660600</td>\n",
       "      <td>2004</td>\n",
       "    </tr>\n",
       "    <tr>\n",
       "      <th>133</th>\n",
       "      <td>The Jungle Book</td>\n",
       "      <td>Disney</td>\n",
       "      <td>141843612</td>\n",
       "      <td>641015300</td>\n",
       "      <td>1967</td>\n",
       "    </tr>\n",
       "    <tr>\n",
       "      <th>45</th>\n",
       "      <td>The Lord of the Rings: The Fellowship of the Ring</td>\n",
       "      <td>New Line</td>\n",
       "      <td>315544750</td>\n",
       "      <td>476753700</td>\n",
       "      <td>2001</td>\n",
       "    </tr>\n",
       "    <tr>\n",
       "      <th>33</th>\n",
       "      <td>The Lord of the Rings: The Two Towers</td>\n",
       "      <td>New Line</td>\n",
       "      <td>342551365</td>\n",
       "      <td>502210000</td>\n",
       "      <td>2002</td>\n",
       "    </tr>\n",
       "    <tr>\n",
       "      <th>20</th>\n",
       "      <td>Transformers: Revenge of the Fallen</td>\n",
       "      <td>Paramount/Dreamworks</td>\n",
       "      <td>402111870</td>\n",
       "      <td>468938100</td>\n",
       "      <td>2009</td>\n",
       "    </tr>\n",
       "  </tbody>\n",
       "</table>\n",
       "</div>"
      ],
      "text/plain": [
       "                                                 Title  \\\n",
       "132                                     101 Dalmatians   \n",
       "91                                Beauty and the Beast   \n",
       "155                 Butch Cassidy and the Sundance Kid   \n",
       "85                                           Cast Away   \n",
       "115                                   Crocodile Dundee   \n",
       "21                                              Frozen   \n",
       "100                                 Gone with the Wind   \n",
       "71                      How the Grinch Stole Christmas   \n",
       "72                                                Jaws   \n",
       "161                                 Lady and the Tramp   \n",
       "142                                     On Golden Pond   \n",
       "149                    One Flew Over the Cuckoo's Nest   \n",
       "176                                             Patton   \n",
       "140                                          Rocky III   \n",
       "198                                      Sergeant York   \n",
       "10                                             Shrek 2   \n",
       "150                                        Superman II   \n",
       "60   The Chronicles of Narnia: The Lion, the Witch ...   \n",
       "53                   The Hobbit: An Unexpected Journey   \n",
       "17                                    The Hunger Games   \n",
       "70                                     The Incredibles   \n",
       "133                                    The Jungle Book   \n",
       "45   The Lord of the Rings: The Fellowship of the Ring   \n",
       "33               The Lord of the Rings: The Two Towers   \n",
       "20                 Transformers: Revenge of the Fallen   \n",
       "\n",
       "                      Studio      Gross  Gross (Adjusted)  Year  \n",
       "132                   Disney  144880014         869280100  1961  \n",
       "91      Buena Vista (Disney)  218967620         394664300  1991  \n",
       "155                      Fox  102308889         613853300  1969  \n",
       "85                       Fox  233632142         364479500  2000  \n",
       "115                Paramount  174803506         401961400  1986  \n",
       "21      Buena Vista (Disney)  400738009         426656900  2013  \n",
       "100                      MGM  198676459        1757788200  1939  \n",
       "71                 Universal  260044825         418529400  2000  \n",
       "72                 Universal  260000000        1114285700  1975  \n",
       "161                   Disney   93602326         484893500  1955  \n",
       "142                Universal  119285432         353083700  1981  \n",
       "149                       UA  108981275         467062600  1975  \n",
       "176                      Fox   61749765         346595500  1970  \n",
       "140                       UA  125049125         369865300  1982  \n",
       "198             Warner Bros.   16361885         418671800  1941  \n",
       "10                Dreamworks  441226247         618143100  2004  \n",
       "150             Warner Bros.  108185706         338566800  1981  \n",
       "60      Buena Vista (Disney)  291710957         393033100  2005  \n",
       "53   Warner Bros. (New Line)  303003568         329153300  2012  \n",
       "17                 Lionsgate  408010692         442510400  2012  \n",
       "70      Buena Vista (Disney)  261441092         365660600  2004  \n",
       "133                   Disney  141843612         641015300  1967  \n",
       "45                  New Line  315544750         476753700  2001  \n",
       "33                  New Line  342551365         502210000  2002  \n",
       "20      Paramount/Dreamworks  402111870         468938100  2009  "
      ]
     },
     "execution_count": 29,
     "metadata": {},
     "output_type": "execute_result"
    }
   ],
   "source": [
    "index_ = sample_no_replacement(25, top)\n",
    "df = top.ix[index_, :]\n",
    "df.sort_values(by='Title')"
   ]
  },
  {
   "cell_type": "markdown",
   "metadata": {},
   "source": [
    "## Dice"
   ]
  },
  {
   "cell_type": "code",
   "execution_count": 30,
   "metadata": {
    "collapsed": true
   },
   "outputs": [],
   "source": [
    "die = pd.DataFrame()\n",
    "die[\"Face\"] = [1,2,3,4,5,6]"
   ]
  },
  {
   "cell_type": "code",
   "execution_count": 31,
   "metadata": {
    "collapsed": false
   },
   "outputs": [
    {
     "data": {
      "text/html": [
       "<div>\n",
       "<table border=\"1\" class=\"dataframe\">\n",
       "  <thead>\n",
       "    <tr style=\"text-align: right;\">\n",
       "      <th></th>\n",
       "      <th>Face</th>\n",
       "    </tr>\n",
       "  </thead>\n",
       "  <tbody>\n",
       "    <tr>\n",
       "      <th>0</th>\n",
       "      <td>1</td>\n",
       "    </tr>\n",
       "    <tr>\n",
       "      <th>1</th>\n",
       "      <td>2</td>\n",
       "    </tr>\n",
       "    <tr>\n",
       "      <th>2</th>\n",
       "      <td>3</td>\n",
       "    </tr>\n",
       "    <tr>\n",
       "      <th>3</th>\n",
       "      <td>4</td>\n",
       "    </tr>\n",
       "    <tr>\n",
       "      <th>4</th>\n",
       "      <td>5</td>\n",
       "    </tr>\n",
       "    <tr>\n",
       "      <th>5</th>\n",
       "      <td>6</td>\n",
       "    </tr>\n",
       "  </tbody>\n",
       "</table>\n",
       "</div>"
      ],
      "text/plain": [
       "   Face\n",
       "0     1\n",
       "1     2\n",
       "2     3\n",
       "3     4\n",
       "4     5\n",
       "5     6"
      ]
     },
     "execution_count": 31,
     "metadata": {},
     "output_type": "execute_result"
    }
   ],
   "source": [
    "die"
   ]
  },
  {
   "cell_type": "markdown",
   "metadata": {},
   "source": [
    "## Coin"
   ]
  },
  {
   "cell_type": "code",
   "execution_count": 32,
   "metadata": {
    "collapsed": false
   },
   "outputs": [
    {
     "data": {
      "text/html": [
       "<div>\n",
       "<table border=\"1\" class=\"dataframe\">\n",
       "  <thead>\n",
       "    <tr style=\"text-align: right;\">\n",
       "      <th></th>\n",
       "      <th>Face</th>\n",
       "    </tr>\n",
       "  </thead>\n",
       "  <tbody>\n",
       "    <tr>\n",
       "      <th>0</th>\n",
       "      <td>1</td>\n",
       "    </tr>\n",
       "    <tr>\n",
       "      <th>1</th>\n",
       "      <td>2</td>\n",
       "    </tr>\n",
       "  </tbody>\n",
       "</table>\n",
       "</div>"
      ],
      "text/plain": [
       "   Face\n",
       "0     1\n",
       "1     2"
      ]
     },
     "execution_count": 32,
     "metadata": {},
     "output_type": "execute_result"
    }
   ],
   "source": [
    "coin = pd.DataFrame()\n",
    "coin[\"Face\"] = [1,2]\n",
    "coin"
   ]
  },
  {
   "cell_type": "markdown",
   "metadata": {},
   "source": [
    "We can simulate the act of rolling dice by just pulling out rows"
   ]
  },
  {
   "cell_type": "code",
   "execution_count": 33,
   "metadata": {
    "collapsed": false
   },
   "outputs": [
    {
     "data": {
      "text/html": [
       "<div>\n",
       "<table border=\"1\" class=\"dataframe\">\n",
       "  <thead>\n",
       "    <tr style=\"text-align: right;\">\n",
       "      <th></th>\n",
       "      <th>Face</th>\n",
       "    </tr>\n",
       "  </thead>\n",
       "  <tbody>\n",
       "    <tr>\n",
       "      <th>4</th>\n",
       "      <td>5</td>\n",
       "    </tr>\n",
       "    <tr>\n",
       "      <th>0</th>\n",
       "      <td>1</td>\n",
       "    </tr>\n",
       "    <tr>\n",
       "      <th>4</th>\n",
       "      <td>5</td>\n",
       "    </tr>\n",
       "  </tbody>\n",
       "</table>\n",
       "</div>"
      ],
      "text/plain": [
       "   Face\n",
       "4     5\n",
       "0     1\n",
       "4     5"
      ]
     },
     "execution_count": 33,
     "metadata": {},
     "output_type": "execute_result"
    }
   ],
   "source": [
    "index_ = sample(3, die)\n",
    "df = die.ix[index_, :]\n",
    "df"
   ]
  },
  {
   "cell_type": "code",
   "execution_count": 34,
   "metadata": {
    "collapsed": false
   },
   "outputs": [
    {
     "data": {
      "text/html": [
       "<div>\n",
       "<table border=\"1\" class=\"dataframe\">\n",
       "  <thead>\n",
       "    <tr style=\"text-align: right;\">\n",
       "      <th></th>\n",
       "      <th>Face</th>\n",
       "    </tr>\n",
       "  </thead>\n",
       "  <tbody>\n",
       "    <tr>\n",
       "      <th>1</th>\n",
       "      <td>2</td>\n",
       "    </tr>\n",
       "  </tbody>\n",
       "</table>\n",
       "</div>"
      ],
      "text/plain": [
       "   Face\n",
       "1     2"
      ]
     },
     "execution_count": 34,
     "metadata": {},
     "output_type": "execute_result"
    }
   ],
   "source": [
    "index_ = sample(1, coin)\n",
    "df = coin.ix[index_, :]\n",
    "df"
   ]
  },
  {
   "cell_type": "code",
   "execution_count": 35,
   "metadata": {
    "collapsed": false
   },
   "outputs": [],
   "source": [
    "def dice_hist(n):\n",
    "    \"\"\"Construct histogram of n simulated dice rolls\n",
    "    \n",
    "    Attributes\n",
    "    -----------\n",
    "    n: int \n",
    "    \"\"\"\n",
    "    \n",
    "    if n > 0:\n",
    "        dice_bins = np.arange(0.5, 7, 1) \n",
    "        index_ = sample(n, die)\n",
    "        df = die.ix[index_, :]\n",
    "        df.plot.hist(bins=dice_bins, normed=True)\n",
    "        pyplt.ylabel('percent per unit')\n",
    "        pyplt.legend(bbox_to_anchor=(1.05, 1), loc=2, borderaxespad=0.);\n",
    "    else:\n",
    "        raise ValueError('n has to be greater than 0')\n",
    "\n",
    "        \n",
    "def dice_sum_hist(n):\n",
    "    \"\"\"\n",
    "    Construct histogram of rolling a pair of dice and plot the sum of the faces\n",
    "    \n",
    "    Attributes\n",
    "    -----------\n",
    "    num_die: int (number of dice)\n",
    "    n: int \n",
    "    \"\"\"\n",
    "    \n",
    "    if n > 0:\n",
    "        d1 = np.random.randint(1, 6 + 1, n)\n",
    "        d2 = np.random.randint(1, 6 + 1, n)\n",
    "        data = d1 + d2\n",
    "\n",
    "        bins = np.arange(data.min()-0.5, data.max()+1, 1) \n",
    "        pyplt.hist(data, bins=bins, normed=True)\n",
    "        pyplt.ylabel('percent per unit')\n",
    "        pyplt.legend(bbox_to_anchor=(1.05, 1), loc=2, borderaxespad=0.);\n",
    "    else:\n",
    "        raise ValueError('n has to be greater than 0')\n",
    "        \n",
    "\n",
    "def dice_prod_hist(n):\n",
    "    \"\"\"\n",
    "    Construct histogram of rolling a pair of dice and plotting the product of the faces.\n",
    "    \n",
    "    Attributes\n",
    "    -----------\n",
    "    num_die: int (number of dice)\n",
    "    n: int \n",
    "    \"\"\"\n",
    "    \n",
    "    if n > 0:\n",
    "        d1 = np.random.randint(1, 6 + 1, n)\n",
    "        d2 = np.random.randint(1, 6 + 1, n)\n",
    "        data = d1 * d2\n",
    "\n",
    "        bins = np.arange(data.min()-0.5, data.max()+1, 1) \n",
    "        pyplt.hist(data, bins=bins, normed=True)\n",
    "        pyplt.ylabel('percent per unit')\n",
    "        pyplt.legend(bbox_to_anchor=(1.05, 1), loc=2, borderaxespad=0.);\n",
    "    else:\n",
    "        raise ValueError('n has to be greater than 0')\n",
    "        \n"
   ]
  },
  {
   "cell_type": "markdown",
   "metadata": {},
   "source": [
    "### Probability Histogram\n",
    "\n"
   ]
  },
  {
   "cell_type": "code",
   "execution_count": 59,
   "metadata": {
    "collapsed": false
   },
   "outputs": [
    {
     "data": {
      "image/png": "[encoded data removed]",
      "text/plain": [
       "<matplotlib.figure.Figure at 0x11ba102d0>"
      ]
     },
     "metadata": {},
     "output_type": "display_data"
    }
   ],
   "source": [
    "low, high = coin.Face.min() - 0.5, coin.Face.max() + 1\n",
    "bins = np.arange(low, high, 1)\n",
    "\n",
    "# norm the histogram to give us the density scale\n",
    "coin.plot.hist(bins=bins, normed=True)\n",
    "pyplt.ylabel('percent per unit')\n",
    "pyplt.legend(bbox_to_anchor=(1.05, 1), loc=2, borderaxespad=0.);\n"
   ]
  },
  {
   "cell_type": "code",
   "execution_count": 60,
   "metadata": {
    "collapsed": false
   },
   "outputs": [
    {
     "data": {
      "image/png": "[encoded data removed]",
      "text/plain": [
       "<matplotlib.figure.Figure at 0x10f6d9910>"
      ]
     },
     "metadata": {},
     "output_type": "display_data"
    }
   ],
   "source": [
    "low, high = die.Face.min() - 0.5, die.Face.max() + 1\n",
    "bins = np.arange(low, high, 1)\n",
    "\n",
    "# norm the histogram to give us the density scale\n",
    "die.plot.hist(bins=bins, normed=True)\n",
    "pyplt.ylabel('percent per unit')\n",
    "pyplt.legend(bbox_to_anchor=(1.05, 1), loc=2, borderaxespad=0.);\n"
   ]
  },
  {
   "cell_type": "code",
   "execution_count": 38,
   "metadata": {
    "collapsed": false
   },
   "outputs": [
    {
     "data": {
      "image/png": "[encoded data removed]",
      "text/plain": [
       "<matplotlib.figure.Figure at 0x10f753910>"
      ]
     },
     "metadata": {},
     "output_type": "display_data"
    }
   ],
   "source": [
    "dice_hist(20)"
   ]
  },
  {
   "cell_type": "code",
   "execution_count": 39,
   "metadata": {
    "collapsed": false
   },
   "outputs": [
    {
     "data": {
      "image/png": "[encoded data removed]",
      "text/plain": [
       "<matplotlib.figure.Figure at 0x11b29d0d0>"
      ]
     },
     "metadata": {},
     "output_type": "display_data"
    }
   ],
   "source": [
    "dice_hist(10000)"
   ]
  },
  {
   "cell_type": "markdown",
   "metadata": {},
   "source": [
    "Plot the sum of dices"
   ]
  },
  {
   "cell_type": "code",
   "execution_count": 44,
   "metadata": {
    "collapsed": false
   },
   "outputs": [
    {
     "data": {
      "image/png": "[encoded data removed]",
      "text/plain": [
       "<matplotlib.figure.Figure at 0x11b9f6590>"
      ]
     },
     "metadata": {},
     "output_type": "display_data"
    }
   ],
   "source": [
    "n = 100\n",
    "dice_sum_hist(n)"
   ]
  },
  {
   "cell_type": "markdown",
   "metadata": {},
   "source": [
    "Roll two six sided dice 1000 times and sum the results:"
   ]
  },
  {
   "cell_type": "code",
   "execution_count": 47,
   "metadata": {
    "collapsed": false
   },
   "outputs": [
    {
     "data": {
      "image/png": "[encoded data removed]",
      "text/plain": [
       "<matplotlib.figure.Figure at 0x11b552590>"
      ]
     },
     "metadata": {},
     "output_type": "display_data"
    }
   ],
   "source": [
    "n = 1000\n",
    "dice_sum_hist(n)"
   ]
  },
  {
   "cell_type": "markdown",
   "metadata": {},
   "source": [
    "### Gaps in the histogram?\n",
    "The graph below helps us see that the probability histograms can have gaps. The graph below plots the probability histogram of the product of a pair of dice. The smallest number is 1, while the largest number is 36. Because of the distribution of the die face, we can never get a 7, 11 and so on. "
   ]
  },
  {
   "cell_type": "code",
   "execution_count": 48,
   "metadata": {
    "collapsed": false
   },
   "outputs": [
    {
     "data": {
      "image/png": "[encoded data removed]",
      "text/plain": [
       "<matplotlib.figure.Figure at 0x11ac07410>"
      ]
     },
     "metadata": {},
     "output_type": "display_data"
    }
   ],
   "source": [
    "n = 100\n",
    "dice_prod_hist(n)"
   ]
  },
  {
   "cell_type": "markdown",
   "metadata": {},
   "source": [
    "### The scope of the Normal Approximation"
   ]
  },
  {
   "cell_type": "code",
   "execution_count": 56,
   "metadata": {
    "collapsed": true
   },
   "outputs": [],
   "source": [
    "box = pd.DataFrame()\n",
    "box[\"Content\"] = [1,2,3]"
   ]
  },
  {
   "cell_type": "code",
   "execution_count": 57,
   "metadata": {
    "collapsed": false
   },
   "outputs": [
    {
     "data": {
      "image/png": "[encoded data removed]",
      "text/plain": [
       "<matplotlib.figure.Figure at 0x11bd12e50>"
      ]
     },
     "metadata": {},
     "output_type": "display_data"
    }
   ],
   "source": [
    "low, high = box.Content.min() - 0.5, box.Content.max() + 1\n",
    "bins = np.arange(low, high, 1)\n",
    "\n",
    "box.plot.hist(bins=bins, normed=True)\n",
    "pyplt.ylabel('percent per unit')\n",
    "pyplt.legend(bbox_to_anchor=(1.05, 1), loc=2, borderaxespad=0.);\n"
   ]
  },
  {
   "cell_type": "code",
   "execution_count": 51,
   "metadata": {
    "collapsed": false
   },
   "outputs": [],
   "source": [
    "def sum_draws( n, box ):\n",
    "    \"\"\"\n",
    "    Construct histogram for the sum of n draws from a box with replacement\n",
    "    \n",
    "    Attributes\n",
    "    -----------\n",
    "    n: int (number of draws)\n",
    "    box: dataframe (the box model)\n",
    "    \"\"\"\n",
    "    data = numpy.zeros(shape=(n,1))\n",
    "    if n > 0:\n",
    "        for i in range(n):\n",
    "            index_ = np.random.randint(0, len(box), n)\n",
    "            df = box.ix[index_, :]\n",
    "            data[i] = df.Content.sum()\n",
    "\n",
    "        bins = np.arange(data.min()-0.5, data.max()+1, 1) \n",
    "        pyplt.hist(data, bins=bins, normed=True)\n",
    "        pyplt.ylabel('percent per unit')\n",
    "        pyplt.xlabel('Number on ticket')\n",
    "        pyplt.legend(bbox_to_anchor=(1.05, 1), loc=2, borderaxespad=0.);\n",
    "    else:\n",
    "        raise ValueError('n has to be greater than 0')\n",
    "    \n",
    "        \n"
   ]
  },
  {
   "cell_type": "code",
   "execution_count": 61,
   "metadata": {
    "collapsed": false
   },
   "outputs": [
    {
     "data": {
      "image/png": "[encoded data removed]",
      "text/plain": [
       "<matplotlib.figure.Figure at 0x11b3e8690>"
      ]
     },
     "metadata": {},
     "output_type": "display_data"
    }
   ],
   "source": [
    "sum_draws(100, box)"
   ]
  },
  {
   "cell_type": "code",
   "execution_count": 71,
   "metadata": {
    "collapsed": true
   },
   "outputs": [],
   "source": [
    "box = pd.DataFrame()\n",
    "box[\"Content\"] = [0,1]"
   ]
  },
  {
   "cell_type": "code",
   "execution_count": 72,
   "metadata": {
    "collapsed": false
   },
   "outputs": [
    {
     "data": {
      "image/png": "[encoded data removed]",
      "text/plain": [
       "<matplotlib.figure.Figure at 0x11bcd5e10>"
      ]
     },
     "metadata": {},
     "output_type": "display_data"
    }
   ],
   "source": [
    "pyplt.rcParams['figure.figsize'] = (4, 3)\n",
    "\n",
    "low, high = box.Content.min() - 0.5, box.Content.max() + 1\n",
    "bins = np.arange(low, high, 1) \n",
    "\n",
    "box.plot.hist(bins=bins, normed=True)\n",
    "pyplt.ylabel('percent per unit')\n",
    "pyplt.xlabel('Number on ticket')\n",
    "pyplt.legend(bbox_to_anchor=(1.05, 1), loc=2, borderaxespad=0.);\n"
   ]
  },
  {
   "cell_type": "code",
   "execution_count": 76,
   "metadata": {
    "collapsed": false
   },
   "outputs": [
    {
     "data": {
      "image/png": "[encoded data removed]",
      "text/plain": [
       "<matplotlib.figure.Figure at 0x11b2bf410>"
      ]
     },
     "metadata": {},
     "output_type": "display_data"
    }
   ],
   "source": [
    "sum_draws(10000, box)"
   ]
  }
 ],
 "metadata": {
  "anaconda-cloud": {},
  "kernelspec": {
   "display_name": "Python [conda root]",
   "language": "python",
   "name": "conda-root-py"
  },
  "language_info": {
   "codemirror_mode": {
    "name": "ipython",
    "version": 2
   },
   "file_extension": ".py",
   "mimetype": "text/x-python",
   "name": "python",
   "nbconvert_exporter": "python",
   "pygments_lexer": "ipython2",
   "version": "2.7.13"
  }
 },
 "nbformat": 4,
 "nbformat_minor": 2
}
