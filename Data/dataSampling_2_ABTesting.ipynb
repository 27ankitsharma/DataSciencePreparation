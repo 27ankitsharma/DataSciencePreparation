{
 "cells": [
  {
   "cell_type": "markdown",
   "metadata": {},
   "source": [
    "# Data Sampling\n",
    "## A/B Testing"
   ]
  },
  {
   "cell_type": "code",
   "execution_count": 2,
   "metadata": {
    "collapsed": false
   },
   "outputs": [
    {
     "name": "stdout",
     "output_type": "stream",
     "text": [
      "Populating the interactive namespace from numpy and matplotlib\n"
     ]
    }
   ],
   "source": [
    "%pylab inline"
   ]
  },
  {
   "cell_type": "code",
   "execution_count": 3,
   "metadata": {
    "collapsed": true
   },
   "outputs": [],
   "source": [
    "# Import libraries\n",
    "from __future__ import absolute_import, division, print_function\n",
    "\n",
    "# Ignore warnings\n",
    "import warnings\n",
    "#warnings.filterwarnings('ignore')\n",
    "\n",
    "import sys\n",
    "sys.path.append('tools/')\n",
    "\n",
    "import numpy as np\n",
    "import pandas as pd\n",
    "import scipy.stats as st\n",
    "\n",
    "# Graphing Libraries\n",
    "import matplotlib.pyplot as pyplt\n",
    "import seaborn as sns\n",
    "sns.set_style(\"white\")  \n",
    "\n",
    "# Configure for presentation\n",
    "np.set_printoptions(threshold=50, linewidth=50)\n",
    "import matplotlib as mpl\n",
    "mpl.rc('font', size=16)\n",
    "\n",
    "from IPython.display import display"
   ]
  },
  {
   "cell_type": "code",
   "execution_count": 4,
   "metadata": {
    "collapsed": true
   },
   "outputs": [],
   "source": [
    "def axis_tick_frequency(ax, axis, freq):\n",
    "    \"\"\"The frequency of the y axis tick marks\n",
    "        Attributes\n",
    "        ----------\n",
    "        ax: matplotlib axis object\n",
    "        axis: char eithher 'y' or 'x'\n",
    "        freq: int, the integer value of which the range moves\n",
    "    \"\"\"\n",
    "    \n",
    "    if axis == 'y':\n",
    "        start, end = ax.get_ylim()\n",
    "        ax.yaxis.set_ticks(np.arange(start, end, freq))\n",
    "    elif axis == 'x':\n",
    "        start, end = ax.get_xlim()\n",
    "        ax.xaxis.set_ticks(np.arange(start, end, freq))\n",
    "    else:\n",
    "        raise ValueError('{argument} is not a valid axis object'.format(argument=repr(axis)))"
   ]
  },
  {
   "cell_type": "code",
   "execution_count": 5,
   "metadata": {
    "collapsed": false
   },
   "outputs": [],
   "source": [
    "def sample(num_sample, top, with_replacement=False):\n",
    "    \"\"\"\n",
    "    Create a random sample from a table\n",
    "    \n",
    "    Attributes\n",
    "    ---------\n",
    "    num_sample: int\n",
    "    top: dataframe\n",
    "    with_replacement: boolean\n",
    "    \n",
    "    Returns a random subset of table index\n",
    "    \"\"\"\n",
    "    df_index = []\n",
    "    lst = np.arange(0, len(top), 1)\n",
    "\n",
    "    for i in np.arange(0, num_sample, 1):\n",
    "\n",
    "        # pick randomly from the whole table\n",
    "        sample_index = np.random.choice(lst)\n",
    "\n",
    "        if with_replacement:\n",
    "            # store index\n",
    "            df_index.append(sample_index)\n",
    "        else:\n",
    "            # remove the choice that was selected\n",
    "            lst = np.setdiff1d(lst,[sample_index])\n",
    "            df_index.append(sample_index)\n",
    "            \n",
    "    return df_index\n"
   ]
  },
  {
   "cell_type": "markdown",
   "metadata": {},
   "source": [
    "## Smokers and Nonsmokers\n",
    "\n",
    "Many different analyses has been performed on this random sample of mothers and their newborn infants, but not an analysis looking at the data whether the mothers smoked. One of the aims of the study was to see whether maternal smoking was associated with birth weight."
   ]
  },
  {
   "cell_type": "code",
   "execution_count": 6,
   "metadata": {
    "collapsed": false
   },
   "outputs": [],
   "source": [
    "baby_df = pd.read_csv('data/baby.csv')"
   ]
  },
  {
   "cell_type": "code",
   "execution_count": 7,
   "metadata": {
    "collapsed": false
   },
   "outputs": [
    {
     "data": {
      "text/html": [
       "<div>\n",
       "<table border=\"1\" class=\"dataframe\">\n",
       "  <thead>\n",
       "    <tr style=\"text-align: right;\">\n",
       "      <th></th>\n",
       "      <th>Birth Weight</th>\n",
       "      <th>Gestational Days</th>\n",
       "      <th>Maternal Age</th>\n",
       "      <th>Maternal Height</th>\n",
       "      <th>Maternal Pregnancy Weight</th>\n",
       "      <th>Maternal Smoker</th>\n",
       "    </tr>\n",
       "  </thead>\n",
       "  <tbody>\n",
       "    <tr>\n",
       "      <th>0</th>\n",
       "      <td>120</td>\n",
       "      <td>284</td>\n",
       "      <td>27</td>\n",
       "      <td>62</td>\n",
       "      <td>100</td>\n",
       "      <td>False</td>\n",
       "    </tr>\n",
       "    <tr>\n",
       "      <th>1</th>\n",
       "      <td>113</td>\n",
       "      <td>282</td>\n",
       "      <td>33</td>\n",
       "      <td>64</td>\n",
       "      <td>135</td>\n",
       "      <td>False</td>\n",
       "    </tr>\n",
       "    <tr>\n",
       "      <th>2</th>\n",
       "      <td>128</td>\n",
       "      <td>279</td>\n",
       "      <td>28</td>\n",
       "      <td>64</td>\n",
       "      <td>115</td>\n",
       "      <td>True</td>\n",
       "    </tr>\n",
       "    <tr>\n",
       "      <th>3</th>\n",
       "      <td>108</td>\n",
       "      <td>282</td>\n",
       "      <td>23</td>\n",
       "      <td>67</td>\n",
       "      <td>125</td>\n",
       "      <td>True</td>\n",
       "    </tr>\n",
       "    <tr>\n",
       "      <th>4</th>\n",
       "      <td>136</td>\n",
       "      <td>286</td>\n",
       "      <td>25</td>\n",
       "      <td>62</td>\n",
       "      <td>93</td>\n",
       "      <td>False</td>\n",
       "    </tr>\n",
       "  </tbody>\n",
       "</table>\n",
       "</div>"
      ],
      "text/plain": [
       "   Birth Weight  Gestational Days  Maternal Age  Maternal Height  \\\n",
       "0           120               284            27               62   \n",
       "1           113               282            33               64   \n",
       "2           128               279            28               64   \n",
       "3           108               282            23               67   \n",
       "4           136               286            25               62   \n",
       "\n",
       "   Maternal Pregnancy Weight Maternal Smoker  \n",
       "0                        100           False  \n",
       "1                        135           False  \n",
       "2                        115            True  \n",
       "3                        125            True  \n",
       "4                         93           False  "
      ]
     },
     "execution_count": 7,
     "metadata": {},
     "output_type": "execute_result"
    }
   ],
   "source": [
    "baby_df.head()"
   ]
  },
  {
   "cell_type": "code",
   "execution_count": 8,
   "metadata": {
    "collapsed": false
   },
   "outputs": [],
   "source": [
    "weight_smoke = baby_df[['Birth Weight', 'Maternal Smoker']]"
   ]
  },
  {
   "cell_type": "code",
   "execution_count": 9,
   "metadata": {
    "collapsed": false
   },
   "outputs": [
    {
     "data": {
      "text/plain": [
       "False    715\n",
       "True     459\n",
       "Name: Maternal Smoker, dtype: int64"
      ]
     },
     "execution_count": 9,
     "metadata": {},
     "output_type": "execute_result"
    }
   ],
   "source": [
    "weight_smoke['Maternal Smoker'].value_counts()"
   ]
  },
  {
   "cell_type": "markdown",
   "metadata": {},
   "source": [
    "The histogram below displays the distribution of birth weights of the babies of the non-smokers and smokers in the sample. "
   ]
  },
  {
   "cell_type": "code",
   "execution_count": 10,
   "metadata": {
    "collapsed": false
   },
   "outputs": [],
   "source": [
    "smoker = baby_df['Maternal Smoker'] == True\n",
    "non_smoker = baby_df['Maternal Smoker'] == False\n",
    "\n",
    "df_non_smoker = baby_df.ix[baby_df[non_smoker].index, :]\n",
    "df_non_smoker.columns = [u'Non Smoker Birth Weight', u'Gestational Days', u'Maternal Age',\n",
    "       u'Maternal Height', u'Maternal Pregnancy Weight', u'Maternal Smoker']\n",
    "\n",
    "df_smoker = baby_df.ix[baby_df[smoker].index, :]\n",
    "df_smoker.columns = [u'Smoker Birth Weight', u'Gestational Days', u'Maternal Age',\n",
    "       u'Maternal Height', u'Maternal Pregnancy Weight', u'Maternal Smoker']"
   ]
  },
  {
   "cell_type": "code",
   "execution_count": 11,
   "metadata": {
    "collapsed": false,
    "scrolled": false
   },
   "outputs": [
    {
     "data": {
      "image/png": "[encoded data removed]",
      "text/plain": [
       "<matplotlib.figure.Figure at 0x119e7c650>"
      ]
     },
     "metadata": {},
     "output_type": "display_data"
    }
   ],
   "source": [
    "df_non_smoker['Non Smoker Birth Weight'].plot.hist(bins=np.arange(40, 186, 5), normed=True, alpha = 0.8)\n",
    "df_smoker['Smoker Birth Weight'].plot.hist(bins=np.arange(40, 186, 5), normed=True, alpha = 0.8)\n",
    "pyplt.ylabel(\"percent per ounce\")\n",
    "pyplt.xlabel(\"Birth Weight (ounce)\")\n",
    "pyplt.legend(bbox_to_anchor=(1.05, 1), loc=2, borderaxespad=0.);"
   ]
  },
  {
   "cell_type": "markdown",
   "metadata": {},
   "source": [
    "Both distributions are approximately bell shaped and centered near 120 ounces. The distributions are not identical, of course, which raises the question of whether the difference reflects just chance variation or a difference in the distributions in the population.\n",
    "\n",
    "**Null hypothesis**: In the population, the distribution of birth weights of babies is the same for mothers who don't smoke as for mothers who do. The difference in the sample is due to chance.        \n",
    "**Alternative hypothesis**: The two distributions are different in the population.          \n",
    "**Test statistic**: T test \n",
    "\n",
    "Alternatively, we could use:     \n",
    "**Test statistic**: Birth weight is a quantitative variable, so it is reasonable to use the absolute difference between the means as the test statistic.\n",
    "The observed value of the test statistic is about 9.27 ounces."
   ]
  },
  {
   "cell_type": "code",
   "execution_count": 74,
   "metadata": {
    "collapsed": false
   },
   "outputs": [],
   "source": [
    "a = df_non_smoker['Non Smoker Birth Weight'].values\n",
    "b = df_smoker['Smoker Birth Weight'].values"
   ]
  },
  {
   "cell_type": "code",
   "execution_count": 49,
   "metadata": {
    "collapsed": false
   },
   "outputs": [
    {
     "data": {
      "text/plain": [
       "9.2661425720249184"
      ]
     },
     "execution_count": 49,
     "metadata": {},
     "output_type": "execute_result"
    }
   ],
   "source": [
    "# difference in the means\n",
    "a.mean() - b.mean()"
   ]
  },
  {
   "cell_type": "code",
   "execution_count": 56,
   "metadata": {
    "collapsed": false
   },
   "outputs": [
    {
     "data": {
      "text/html": [
       "<div>\n",
       "<table border=\"1\" class=\"dataframe\">\n",
       "  <thead>\n",
       "    <tr style=\"text-align: right;\">\n",
       "      <th></th>\n",
       "      <th>Birth Weight mean</th>\n",
       "      <th>Maternal Smoker</th>\n",
       "    </tr>\n",
       "  </thead>\n",
       "  <tbody>\n",
       "    <tr>\n",
       "      <th>0</th>\n",
       "      <td>123.085</td>\n",
       "      <td>False</td>\n",
       "    </tr>\n",
       "    <tr>\n",
       "      <th>1</th>\n",
       "      <td>113.819</td>\n",
       "      <td>True</td>\n",
       "    </tr>\n",
       "  </tbody>\n",
       "</table>\n",
       "</div>"
      ],
      "text/plain": [
       "   Birth Weight mean Maternal Smoker\n",
       "0            123.085           False\n",
       "1            113.819            True"
      ]
     },
     "execution_count": 56,
     "metadata": {},
     "output_type": "execute_result"
    }
   ],
   "source": [
    "raw = {\n",
    "        'Maternal Smoker': [False, True],\n",
    "        'Birth Weight mean': [123.085, 113.819]\n",
    "}\n",
    "means_table = pd.DataFrame(raw)\n",
    "means_table"
   ]
  },
  {
   "cell_type": "code",
   "execution_count": 36,
   "metadata": {
    "collapsed": false
   },
   "outputs": [
    {
     "name": "stdout",
     "output_type": "stream",
     "text": [
      "T statistic: 8.72 \n",
      "P-value:0.00\n"
     ]
    }
   ],
   "source": [
    "statistic, pvalue = st.ttest_ind(a, b)\n",
    "print ('T statistic: %.2f'%statistic,'\\nP-value:%.2f'%pvalue)\n"
   ]
  },
  {
   "cell_type": "markdown",
   "metadata": {},
   "source": [
    "The **P-value** is very, very small. As a result, we can *reject* the null hypothesis and conclude that in the population, the distribution of birth weights for babies of mothers who smoke and those that don't smoke are different."
   ]
  },
  {
   "cell_type": "markdown",
   "metadata": {
    "collapsed": true
   },
   "source": [
    "### Bootstrap Confidence Interval For the Difference\n",
    "\n",
    "Our A/B test has concluded that the two distributions are different, but that's a little unsatisfactory. \n",
    "- How different are they? \n",
    "- Which one has the larger mean? \n",
    "\n",
    "These are natural questions that the test can't answer. Instead of just asking a yes/no question about whether the two distributions are different, we might learn more by not making any hypotheses and simply estimating the difference between the means.\n",
    "\n",
    "The observed difference (nonsmokers  −−  smokers) was about **9.27 ounces**.\n",
    "- **The positive sign** says that the non-smoking mothers had larger babies on average. \n",
    "\n",
    "But samples could have come out differently due to randomness. To see how different, we have to generate more samples; to generate more samples, we'll use the bootstrap. The bootstrap makes no hypotheses about whether or not the two distributions are the same. It simply replicates the original random sample and computes new values of the statistic.\n",
    "\n",
    "The function `bootstrap_ci_means` returns a bootstrap confidence interval for the **difference between the means** of the two groups in the population. In our example, the confidence interval would estimate the difference between the average birth weights of babies of mothers who didn't smoke and mothers who did, in the entire population.\n",
    "\n",
    "The function returns an approximate 95% confidence interval for the difference between the two means, using the bootstrap percentile method."
   ]
  },
  {
   "cell_type": "code",
   "execution_count": 32,
   "metadata": {
    "collapsed": false
   },
   "outputs": [],
   "source": [
    "import scikits.bootstrap as bootstrap  \n",
    "import scipy"
   ]
  },
  {
   "cell_type": "code",
   "execution_count": 31,
   "metadata": {
    "collapsed": false
   },
   "outputs": [
    {
     "name": "stdout",
     "output_type": "stream",
     "text": [
      "Bootstrapped 95% confidence interval around the mean\n",
      "Low: 59.3977853492 \n",
      "High: 60.4603918228\n"
     ]
    }
   ],
   "source": [
    "# compute 95% confidence intervals around the mean  \n",
    "\n",
    "CIs = bootstrap.ci(baby_df[['Birth Weight', 'Maternal Smoker']], scipy.mean) \n",
    "print (\"Bootstrapped 95% confidence interval around the mean\\nLow:\",  CIs[0], \"\\nHigh:\", CIs[1]) "
   ]
  },
  {
   "cell_type": "code",
   "execution_count": 58,
   "metadata": {
    "collapsed": false
   },
   "outputs": [
    {
     "name": "stdout",
     "output_type": "stream",
     "text": [
      "Bootstrapped 95% confidence interval with 5,000 samples\n",
      "Low: 59.41439523 \n",
      "High: 60.4706132879\n"
     ]
    }
   ],
   "source": [
    "# bootstrap 5000 samples instead of only 1174  \n",
    "CIs = bootstrap.ci(baby_df[['Birth Weight', 'Maternal Smoker']], scipy.mean, n_samples=5000)  \n",
    "\n",
    "print (\"Bootstrapped 95% confidence interval with 5,000 samples\\nLow:\",  CIs[0], \"\\nHigh:\", CIs[1]) "
   ]
  },
  {
   "cell_type": "code",
   "execution_count": 181,
   "metadata": {
    "collapsed": false
   },
   "outputs": [],
   "source": [
    "def get_means(df, variable, classes):\n",
    "    \"\"\"\n",
    "    Gets the means of a variable grouped by its class\n",
    "    \n",
    "    Attributes\n",
    "    -------------\n",
    "    df: a pandas dataframe\n",
    "    variable: column\n",
    "    classes: column (bool) \n",
    "    \"\"\"\n",
    "    class_a = df[classes] == True\n",
    "    class_b = df[classes] == False\n",
    "\n",
    "    df_class_b = df.ix[df[class_b].index, :]\n",
    "    df_class_a = df.ix[df[class_a].index, :]\n",
    "\n",
    "    a = df_class_b[variable].values\n",
    "    b = df_class_a[variable].values\n",
    "    \n",
    "    # difference in the means\n",
    "    a.mean() - b.mean()\n",
    "    \n",
    "    raw = {\n",
    "        classes: [False, True],\n",
    "        variable: [a.mean(), b.mean()]\n",
    "    }\n",
    "    means_table = pd.DataFrame(raw)\n",
    "    \n",
    "    return means_table\n",
    "    "
   ]
  },
  {
   "cell_type": "code",
   "execution_count": 186,
   "metadata": {
    "collapsed": true
   },
   "outputs": [],
   "source": [
    "def bootstrap_ci_means(table, variable, classes, repetitions):\n",
    "\n",
    "    \"\"\"Bootstrap approximate 95% confidence interval\n",
    "    for the difference between the means of the two classes\n",
    "    in the population\n",
    "    \n",
    "    Attributes\n",
    "    -------------\n",
    "    table: a pandas dataframe\n",
    "    variable: column\n",
    "    classes: column (bool) \n",
    "    repetitions: int\n",
    "    \"\"\"\n",
    "\n",
    "    t = table[[variable, classes]]\n",
    "\n",
    "    mean_diffs = []\n",
    "    for i in np.arange(repetitions):\n",
    "        bootstrap_sampl = table.ix[sample(len(table), table, with_replacement=True), :]\n",
    "        m_tbl = get_means(bootstrap_sampl, variable, classes)\n",
    "        new_stat = m_tbl.ix[0, variable] - m_tbl.ix[1, variable]\n",
    "        mean_diffs = np.append(mean_diffs, new_stat)\n",
    "\n",
    "    left = np.percentile(mean_diffs, 2.5) \n",
    "    right = np.percentile(mean_diffs, 97.5)\n",
    "\n",
    "    # Find the observed test statistic\n",
    "    means_table = get_means(t, variable, classes)\n",
    "    obs_stat = means_table.ix[0, variable] - means_table.ix[1, variable]\n",
    "\n",
    "    df = pd.DataFrame()\n",
    "    df['Difference Between Means'] = mean_diffs\n",
    "    df.plot.hist(bins=20, normed=True)\n",
    "    plot([left, right], [0, 0], color='yellow', lw=8);\n",
    "    print('Observed difference between means:', obs_stat)\n",
    "    print('Approximate 95% CI for the difference between means:')\n",
    "    print(left, 'to', right)"
   ]
  },
  {
   "cell_type": "code",
   "execution_count": 187,
   "metadata": {
    "collapsed": false
   },
   "outputs": [
    {
     "name": "stdout",
     "output_type": "stream",
     "text": [
      "Observed difference between means: 9.26614257202\n",
      "Approximate 95% CI for the difference between means:\n",
      "5.86365068063 to 12.828668629\n"
     ]
    },
    {
     "data": {
      "image/png": "[encoded data removed]",
      "text/plain": [
       "<matplotlib.figure.Figure at 0x119f57590>"
      ]
     },
     "metadata": {},
     "output_type": "display_data"
    }
   ],
   "source": [
    "bootstrap_ci_means(baby_df, 'Birth Weight', 'Maternal Smoker', 5000)"
   ]
  },
  {
   "cell_type": "markdown",
   "metadata": {},
   "source": [
    "This bootstrapped confidence interval tells us that on average *non-smoking* mothers had babies that weighed between 5.8 to 12.8 ounces larger than their smoking counter parts. Furthermore, because 0 is not included in the confidence interval between the difference in the means, we can tell that this distributions are different."
   ]
  },
  {
   "cell_type": "code",
   "execution_count": 191,
   "metadata": {
    "collapsed": false
   },
   "outputs": [
    {
     "name": "stdout",
     "output_type": "stream",
     "text": [
      "Observed difference between means: 0.80767250179\n",
      "Approximate 95% CI for the difference between means:\n",
      "-0.309530696732 to 1.908354003\n"
     ]
    },
    {
     "data": {
      "image/png": "[encoded data removed]",
      "text/plain": [
       "<matplotlib.figure.Figure at 0x128c3df90>"
      ]
     },
     "metadata": {},
     "output_type": "display_data"
    }
   ],
   "source": [
    "bootstrap_ci_means(baby_df, 'Maternal Age', 'Maternal Smoker', 5000)"
   ]
  },
  {
   "cell_type": "markdown",
   "metadata": {},
   "source": [
    "In this case, the distributions are the same. Maternal age and smoking have no effect on babies birth weight. We know this because 0 is in the confidence interval."
   ]
  },
  {
   "cell_type": "code",
   "execution_count": null,
   "metadata": {
    "collapsed": true
   },
   "outputs": [],
   "source": []
  }
 ],
 "metadata": {
  "anaconda-cloud": {},
  "kernelspec": {
   "display_name": "Python [default]",
   "language": "python",
   "name": "python2"
  },
  "language_info": {
   "codemirror_mode": {
    "name": "ipython",
    "version": 2
   },
   "file_extension": ".py",
   "mimetype": "text/x-python",
   "name": "python",
   "nbconvert_exporter": "python",
   "pygments_lexer": "ipython2",
   "version": "2.7.13"
  }
 },
 "nbformat": 4,
 "nbformat_minor": 2
}
