{
 "cells": [
  {
   "cell_type": "code",
   "execution_count": 1,
   "metadata": {
    "collapsed": false
   },
   "outputs": [
    {
     "data": {
      "text/html": [
       "<script>jQuery(function() {if (jQuery(\"body.notebook_app\").length == 0) { jQuery(\".input_area\").toggle(); jQuery(\".prompt\").toggle();}});</script>"
      ]
     },
     "metadata": {},
     "output_type": "display_data"
    },
    {
     "data": {
      "text/html": [
       "<button onclick=\"jQuery('.input_area').toggle(); jQuery('.prompt').toggle();\">Toggle code</button>"
      ]
     },
     "metadata": {},
     "output_type": "display_data"
    }
   ],
   "source": [
    "from IPython.display import display\n",
    "from IPython.display import HTML\n",
    "import IPython.core.display as di # Example: di.display_html('<h3>%s:</h3>' % str, raw=True)\n",
    "\n",
    "# This line will hide code by default when the notebook is exported as HTML\n",
    "di.display_html('<script>jQuery(function() {if (jQuery(\"body.notebook_app\").length == 0) { jQuery(\".input_area\").toggle(); jQuery(\".prompt\").toggle();}});</script>', raw=True)\n",
    "\n",
    "# This line will add a button to toggle visibility of code blocks, for use with the HTML export version\n",
    "di.display_html('''<button onclick=\"jQuery('.input_area').toggle(); jQuery('.prompt').toggle();\">Toggle code</button>''', raw=True)\n"
   ]
  },
  {
   "cell_type": "markdown",
   "metadata": {},
   "source": [
    "# Lending Club Data Explorations"
   ]
  },
  {
   "cell_type": "markdown",
   "metadata": {},
   "source": [
    "# Datastory\n",
    "My goal in this data challenge is to understand the underlying characteristics that are present in clients that tend to default on their loans. This knowledge will help guide me in building a classifier that predicts the appropriate interest rate of a loan based on client profile.\n"
   ]
  },
  {
   "cell_type": "code",
   "execution_count": 2,
   "metadata": {
    "collapsed": false
   },
   "outputs": [
    {
     "name": "stdout",
     "output_type": "stream",
     "text": [
      "Populating the interactive namespace from numpy and matplotlib\n"
     ]
    }
   ],
   "source": [
    "%pylab inline"
   ]
  },
  {
   "cell_type": "code",
   "execution_count": 3,
   "metadata": {
    "collapsed": false
   },
   "outputs": [],
   "source": [
    "# Import libraries\n",
    "from __future__ import absolute_import, division, print_function\n",
    "\n",
    "# Ignore warnings\n",
    "import warnings\n",
    "warnings.filterwarnings('ignore')\n",
    "\n",
    "import numpy as np\n",
    "import pandas as pd\n",
    "from sklearn.externals import joblib\n",
    "\n",
    "# Graphing Libraries\n",
    "import matplotlib.pyplot as pyplt\n",
    "import seaborn as sns\n",
    "sns.set_style('whitegrid')  \n",
    "\n"
   ]
  },
  {
   "cell_type": "code",
   "execution_count": 4,
   "metadata": {
    "collapsed": true
   },
   "outputs": [],
   "source": [
    "def plot_features_by_target(df, features, target):\n",
    "    \"\"\"Creates a pair plot of the features by the target variable\n",
    "    \n",
    "    Attributes\n",
    "    ------------\n",
    "    df: pandas dataframe\n",
    "    features: list of strings (cols of df)\n",
    "    target: list of strings (single col of df)\n",
    "    \"\"\"\n",
    "    \n",
    "    sns.pairplot(df, x_vars=features, y_vars=target);\n"
   ]
  },
  {
   "cell_type": "code",
   "execution_count": 5,
   "metadata": {
    "collapsed": false
   },
   "outputs": [],
   "source": [
    "def get_outliers(feature):\n",
    "    \"\"\"Get the indices of outliers for a feature if it exist\n",
    "    \n",
    "    Attributes\n",
    "    ----------\n",
    "    feature: pandas col\n",
    "    \n",
    "    return outlier indices\n",
    "    \"\"\"\n",
    "    outlier  = []\n",
    "    outlier_indices = []\n",
    "\n",
    "    # For feature find the data points with extreme high or low values\n",
    "\n",
    "\n",
    "    Q1 = data[feature].quantile(.25)\n",
    "    Q3 = data[feature].quantile(.75)\n",
    "\n",
    "    step = 1.5 * (Q3 - Q1)\n",
    "\n",
    "    # Display the outliers\n",
    "    temp_data = data[~((data[feature] >= Q1 - step) & (data[feature] <= Q3 + step))]\n",
    "    outlier.append(dict(feature=feature, indices=temp_data.index.tolist()))\n",
    "    outlier_indices += temp_data.index.tolist()\n",
    "\n",
    "    return outlier_indices"
   ]
  },
  {
   "cell_type": "code",
   "execution_count": 6,
   "metadata": {
    "collapsed": true
   },
   "outputs": [],
   "source": [
    "def sample_data(num_sample, df, with_replacement=False):\n",
    "    \"\"\"\n",
    "    Create a random sample from a table\n",
    "    \n",
    "    Attributes\n",
    "    ---------\n",
    "    num_sample: int\n",
    "    df: dataframe\n",
    "    with_replacement: boolean\n",
    "    \n",
    "    Returns a random subset of table index\n",
    "    \"\"\"\n",
    "    df_index = []\n",
    "    lst = np.arange(0, len(df), 1)\n",
    "\n",
    "    for i in np.arange(0, num_sample, 1):\n",
    "\n",
    "        # pick randomly from the whole table\n",
    "        sample_index = np.random.choice(lst)\n",
    "\n",
    "        if with_replacement:\n",
    "            # store index\n",
    "            df_index.append(sample_index)\n",
    "        else:\n",
    "            # remove the choice that was selected\n",
    "            lst = np.setdiff1d(lst,[sample_index])\n",
    "            df_index.append(sample_index)\n",
    "            \n",
    "    return df_index"
   ]
  },
  {
   "cell_type": "code",
   "execution_count": 7,
   "metadata": {
    "collapsed": true
   },
   "outputs": [],
   "source": [
    "# set figure size\n",
    "pyplt.rcParams['figure.figsize'] = (6, 4)"
   ]
  },
  {
   "cell_type": "markdown",
   "metadata": {},
   "source": [
    "## Load Data"
   ]
  },
  {
   "cell_type": "code",
   "execution_count": 8,
   "metadata": {
    "collapsed": false
   },
   "outputs": [
    {
     "name": "stdout",
     "output_type": "stream",
     "text": [
      "Dataset has 329408 samples with 96 features each.\n"
     ]
    }
   ],
   "source": [
    "dataPath = 'data'\n",
    "df = joblib.load(dataPath+'/df_cleaned.pkl')\n",
    "print (\"Dataset has {} samples with {} features each.\".format(*df.shape))\n"
   ]
  },
  {
   "cell_type": "code",
   "execution_count": 9,
   "metadata": {
    "collapsed": false
   },
   "outputs": [
    {
     "data": {
      "text/html": [
       "<div>\n",
       "<table border=\"1\" class=\"dataframe\">\n",
       "  <thead>\n",
       "    <tr style=\"text-align: right;\">\n",
       "      <th></th>\n",
       "      <th>loan_amnt</th>\n",
       "      <th>funded_amnt</th>\n",
       "      <th>funded_amnt_inv</th>\n",
       "      <th>term</th>\n",
       "      <th>int_rate</th>\n",
       "      <th>installment</th>\n",
       "      <th>grade</th>\n",
       "      <th>sub_grade</th>\n",
       "      <th>emp_length</th>\n",
       "      <th>home_ownership</th>\n",
       "      <th>...</th>\n",
       "      <th>issue_d_week_of_year</th>\n",
       "      <th>earliest_cr_line_num_day</th>\n",
       "      <th>earliest_cr_line_day</th>\n",
       "      <th>earliest_cr_line_week_of_year</th>\n",
       "      <th>last_pymnt_d_num_day</th>\n",
       "      <th>last_pymnt_d_day</th>\n",
       "      <th>last_pymnt_d_week_of_year</th>\n",
       "      <th>last_credit_pull_d_num_day</th>\n",
       "      <th>last_credit_pull_d_day</th>\n",
       "      <th>last_credit_pull_d_week_of_year</th>\n",
       "    </tr>\n",
       "  </thead>\n",
       "  <tbody>\n",
       "    <tr>\n",
       "      <th>0</th>\n",
       "      <td>5000.0</td>\n",
       "      <td>5000.0</td>\n",
       "      <td>4975.0</td>\n",
       "      <td>0</td>\n",
       "      <td>10.65</td>\n",
       "      <td>162.87</td>\n",
       "      <td>1</td>\n",
       "      <td>6</td>\n",
       "      <td>1</td>\n",
       "      <td>4</td>\n",
       "      <td>...</td>\n",
       "      <td>52</td>\n",
       "      <td>1</td>\n",
       "      <td>Tuesday</td>\n",
       "      <td>5</td>\n",
       "      <td>0</td>\n",
       "      <td>Monday</td>\n",
       "      <td>33</td>\n",
       "      <td>3</td>\n",
       "      <td>Thursday</td>\n",
       "      <td>34</td>\n",
       "    </tr>\n",
       "    <tr>\n",
       "      <th>1</th>\n",
       "      <td>2500.0</td>\n",
       "      <td>2500.0</td>\n",
       "      <td>2500.0</td>\n",
       "      <td>1</td>\n",
       "      <td>15.27</td>\n",
       "      <td>59.83</td>\n",
       "      <td>2</td>\n",
       "      <td>13</td>\n",
       "      <td>10</td>\n",
       "      <td>4</td>\n",
       "      <td>...</td>\n",
       "      <td>52</td>\n",
       "      <td>3</td>\n",
       "      <td>Thursday</td>\n",
       "      <td>17</td>\n",
       "      <td>1</td>\n",
       "      <td>Tuesday</td>\n",
       "      <td>18</td>\n",
       "      <td>0</td>\n",
       "      <td>Monday</td>\n",
       "      <td>39</td>\n",
       "    </tr>\n",
       "    <tr>\n",
       "      <th>2</th>\n",
       "      <td>2400.0</td>\n",
       "      <td>2400.0</td>\n",
       "      <td>2400.0</td>\n",
       "      <td>0</td>\n",
       "      <td>15.96</td>\n",
       "      <td>84.33</td>\n",
       "      <td>2</td>\n",
       "      <td>14</td>\n",
       "      <td>1</td>\n",
       "      <td>4</td>\n",
       "      <td>...</td>\n",
       "      <td>52</td>\n",
       "      <td>1</td>\n",
       "      <td>Tuesday</td>\n",
       "      <td>46</td>\n",
       "      <td>1</td>\n",
       "      <td>Tuesday</td>\n",
       "      <td>24</td>\n",
       "      <td>3</td>\n",
       "      <td>Thursday</td>\n",
       "      <td>34</td>\n",
       "    </tr>\n",
       "  </tbody>\n",
       "</table>\n",
       "<p>3 rows × 96 columns</p>\n",
       "</div>"
      ],
      "text/plain": [
       "   loan_amnt  funded_amnt  funded_amnt_inv  term  int_rate  installment  \\\n",
       "0     5000.0       5000.0           4975.0     0     10.65       162.87   \n",
       "1     2500.0       2500.0           2500.0     1     15.27        59.83   \n",
       "2     2400.0       2400.0           2400.0     0     15.96        84.33   \n",
       "\n",
       "   grade  sub_grade  emp_length  home_ownership  \\\n",
       "0      1          6           1               4   \n",
       "1      2         13          10               4   \n",
       "2      2         14           1               4   \n",
       "\n",
       "                ...                 issue_d_week_of_year  \\\n",
       "0               ...                                   52   \n",
       "1               ...                                   52   \n",
       "2               ...                                   52   \n",
       "\n",
       "   earliest_cr_line_num_day earliest_cr_line_day  \\\n",
       "0                         1              Tuesday   \n",
       "1                         3             Thursday   \n",
       "2                         1              Tuesday   \n",
       "\n",
       "  earliest_cr_line_week_of_year last_pymnt_d_num_day last_pymnt_d_day  \\\n",
       "0                             5                    0           Monday   \n",
       "1                            17                    1          Tuesday   \n",
       "2                            46                    1          Tuesday   \n",
       "\n",
       "   last_pymnt_d_week_of_year  last_credit_pull_d_num_day  \\\n",
       "0                         33                           3   \n",
       "1                         18                           0   \n",
       "2                         24                           3   \n",
       "\n",
       "   last_credit_pull_d_day  last_credit_pull_d_week_of_year  \n",
       "0                Thursday                               34  \n",
       "1                  Monday                               39  \n",
       "2                Thursday                               34  \n",
       "\n",
       "[3 rows x 96 columns]"
      ]
     },
     "execution_count": 9,
     "metadata": {},
     "output_type": "execute_result"
    }
   ],
   "source": [
    "data = df\n",
    "\n",
    "data.head(3)"
   ]
  },
  {
   "cell_type": "markdown",
   "metadata": {},
   "source": [
    "## Exploratory Data Analysis"
   ]
  },
  {
   "cell_type": "code",
   "execution_count": 10,
   "metadata": {
    "collapsed": false
   },
   "outputs": [
    {
     "data": {
      "text/html": [
       "<div>\n",
       "<table border=\"1\" class=\"dataframe\">\n",
       "  <thead>\n",
       "    <tr style=\"text-align: right;\">\n",
       "      <th></th>\n",
       "      <th>delinq_amnt</th>\n",
       "      <th>acc_now_delinq</th>\n",
       "      <th>chargeoff_within_12_mths</th>\n",
       "      <th>collections_12_mths_ex_med</th>\n",
       "      <th>tax_liens</th>\n",
       "      <th>policy_code</th>\n",
       "    </tr>\n",
       "  </thead>\n",
       "  <tbody>\n",
       "    <tr>\n",
       "      <th>count</th>\n",
       "      <td>329408.000000</td>\n",
       "      <td>329408.000000</td>\n",
       "      <td>329408.000000</td>\n",
       "      <td>329408.000000</td>\n",
       "      <td>329408.000000</td>\n",
       "      <td>329408.0</td>\n",
       "    </tr>\n",
       "    <tr>\n",
       "      <th>mean</th>\n",
       "      <td>7.812348</td>\n",
       "      <td>0.003218</td>\n",
       "      <td>0.006378</td>\n",
       "      <td>0.006093</td>\n",
       "      <td>0.025944</td>\n",
       "      <td>1.0</td>\n",
       "    </tr>\n",
       "    <tr>\n",
       "      <th>std</th>\n",
       "      <td>527.203072</td>\n",
       "      <td>0.061566</td>\n",
       "      <td>0.091562</td>\n",
       "      <td>0.082624</td>\n",
       "      <td>0.314483</td>\n",
       "      <td>0.0</td>\n",
       "    </tr>\n",
       "    <tr>\n",
       "      <th>min</th>\n",
       "      <td>0.000000</td>\n",
       "      <td>0.000000</td>\n",
       "      <td>0.000000</td>\n",
       "      <td>0.000000</td>\n",
       "      <td>0.000000</td>\n",
       "      <td>1.0</td>\n",
       "    </tr>\n",
       "    <tr>\n",
       "      <th>25%</th>\n",
       "      <td>0.000000</td>\n",
       "      <td>0.000000</td>\n",
       "      <td>0.000000</td>\n",
       "      <td>0.000000</td>\n",
       "      <td>0.000000</td>\n",
       "      <td>1.0</td>\n",
       "    </tr>\n",
       "    <tr>\n",
       "      <th>50%</th>\n",
       "      <td>0.000000</td>\n",
       "      <td>0.000000</td>\n",
       "      <td>0.000000</td>\n",
       "      <td>0.000000</td>\n",
       "      <td>0.000000</td>\n",
       "      <td>1.0</td>\n",
       "    </tr>\n",
       "    <tr>\n",
       "      <th>75%</th>\n",
       "      <td>0.000000</td>\n",
       "      <td>0.000000</td>\n",
       "      <td>0.000000</td>\n",
       "      <td>0.000000</td>\n",
       "      <td>0.000000</td>\n",
       "      <td>1.0</td>\n",
       "    </tr>\n",
       "    <tr>\n",
       "      <th>max</th>\n",
       "      <td>70076.000000</td>\n",
       "      <td>5.000000</td>\n",
       "      <td>7.000000</td>\n",
       "      <td>5.000000</td>\n",
       "      <td>63.000000</td>\n",
       "      <td>1.0</td>\n",
       "    </tr>\n",
       "  </tbody>\n",
       "</table>\n",
       "</div>"
      ],
      "text/plain": [
       "         delinq_amnt  acc_now_delinq  chargeoff_within_12_mths  \\\n",
       "count  329408.000000   329408.000000             329408.000000   \n",
       "mean        7.812348        0.003218                  0.006378   \n",
       "std       527.203072        0.061566                  0.091562   \n",
       "min         0.000000        0.000000                  0.000000   \n",
       "25%         0.000000        0.000000                  0.000000   \n",
       "50%         0.000000        0.000000                  0.000000   \n",
       "75%         0.000000        0.000000                  0.000000   \n",
       "max     70076.000000        5.000000                  7.000000   \n",
       "\n",
       "       collections_12_mths_ex_med      tax_liens  policy_code  \n",
       "count               329408.000000  329408.000000     329408.0  \n",
       "mean                     0.006093       0.025944          1.0  \n",
       "std                      0.082624       0.314483          0.0  \n",
       "min                      0.000000       0.000000          1.0  \n",
       "25%                      0.000000       0.000000          1.0  \n",
       "50%                      0.000000       0.000000          1.0  \n",
       "75%                      0.000000       0.000000          1.0  \n",
       "max                      5.000000      63.000000          1.0  "
      ]
     },
     "execution_count": 10,
     "metadata": {},
     "output_type": "execute_result"
    }
   ],
   "source": [
    "tmp = ['delinq_amnt', 'acc_now_delinq', 'chargeoff_within_12_mths', 'collections_12_mths_ex_med',\n",
    " 'tax_liens','policy_code']\n",
    "data[tmp].describe()"
   ]
  },
  {
   "cell_type": "code",
   "execution_count": 11,
   "metadata": {
    "collapsed": false
   },
   "outputs": [],
   "source": [
    "data['delinq_amnt'].plot(kind='kde')\n",
    "pyplt.title('Density Estimation of Amount Delinquent')\n",
    "pyplt.legend(loc='upper right', shadow=True, fontsize='medium')\n",
    "pyplt.savefig('report/figures/delinq_amnt.png', dpi=200)\n",
    "pyplt.close();"
   ]
  },
  {
   "cell_type": "code",
   "execution_count": 12,
   "metadata": {
    "collapsed": false
   },
   "outputs": [
    {
     "data": {
      "text/plain": [
       "(329408, 90)"
      ]
     },
     "execution_count": 12,
     "metadata": {},
     "output_type": "execute_result"
    }
   ],
   "source": [
    "# drop these features because they are not informative\n",
    "data.drop(tmp, axis=1, inplace=True)\n",
    "data.shape"
   ]
  },
  {
   "cell_type": "markdown",
   "metadata": {},
   "source": [
    "#### Visualize the distributions of the dataset\n",
    "First, I am taking a look at the summary statistics of some features that I think might be of interest in identifying bad loans. From these statistics, most of the data points are zero as can be seen from the kernel density estimation. As a result, there is no strong pattern here, so I am dropping these features.\n",
    "\n",
    "<img src=\"report/figures/delinq_amnt.png\" alt=\"Drawing\" style=\"width:450px;\"/>"
   ]
  },
  {
   "cell_type": "code",
   "execution_count": 13,
   "metadata": {
    "collapsed": true
   },
   "outputs": [],
   "source": [
    "# separate variables by type\n",
    "date_vars = [x for x in data.columns if '_d' in x or '_cr_line' in x]\n",
    "\n",
    "cat_vars = ['term','grade','sub_grade','emp_length','home_ownership','is_inc_v',\n",
    "            'pymnt_plan','purpose','addr_city','addr_state','initial_list_status', \n",
    "            'loan_rank', 'pub_rec_bankruptcies']\n",
    "cat_vars_lookup = [x for x in data.columns if '_old' in x]\n",
    "\n",
    "# separate continous variables by their relative ranges\n",
    "\n",
    "continuous_vars_0 = ['loan_amnt','funded_amnt','funded_amnt_inv']\n",
    "continuous_vars_1 = ['installment','annual_inc','revol_bal',\n",
    " 'out_prncp','out_prncp_inv','total_pymnt','total_pymnt_inv','total_rec_prncp',\n",
    " 'total_rec_int','recoveries','collection_recovery_fee','last_pymnt_amnt']\n",
    "continuous_vars_2 = ['int_rate', 'delinq_2yrs', 'dti', 'inq_last_6mths', 'open_acc',  'pub_rec', \n",
    " 'total_acc', 'total_rec_late_fee', 'revol_util']"
   ]
  },
  {
   "cell_type": "code",
   "execution_count": 16,
   "metadata": {
    "collapsed": false,
    "scrolled": true
   },
   "outputs": [
    {
     "data": {
      "text/html": [
       "<div>\n",
       "<table border=\"1\" class=\"dataframe\">\n",
       "  <thead>\n",
       "    <tr style=\"text-align: right;\">\n",
       "      <th></th>\n",
       "      <th>loan_amnt</th>\n",
       "      <th>funded_amnt</th>\n",
       "      <th>funded_amnt_inv</th>\n",
       "    </tr>\n",
       "  </thead>\n",
       "  <tbody>\n",
       "    <tr>\n",
       "      <th>count</th>\n",
       "      <td>329408.000000</td>\n",
       "      <td>329408.000000</td>\n",
       "      <td>329408.000000</td>\n",
       "    </tr>\n",
       "    <tr>\n",
       "      <th>mean</th>\n",
       "      <td>14134.235507</td>\n",
       "      <td>14099.446811</td>\n",
       "      <td>14039.871005</td>\n",
       "    </tr>\n",
       "    <tr>\n",
       "      <th>std</th>\n",
       "      <td>8200.349559</td>\n",
       "      <td>8181.723245</td>\n",
       "      <td>8187.516489</td>\n",
       "    </tr>\n",
       "    <tr>\n",
       "      <th>min</th>\n",
       "      <td>500.000000</td>\n",
       "      <td>500.000000</td>\n",
       "      <td>0.000000</td>\n",
       "    </tr>\n",
       "    <tr>\n",
       "      <th>25%</th>\n",
       "      <td>8000.000000</td>\n",
       "      <td>8000.000000</td>\n",
       "      <td>8000.000000</td>\n",
       "    </tr>\n",
       "    <tr>\n",
       "      <th>50%</th>\n",
       "      <td>12000.000000</td>\n",
       "      <td>12000.000000</td>\n",
       "      <td>12000.000000</td>\n",
       "    </tr>\n",
       "    <tr>\n",
       "      <th>75%</th>\n",
       "      <td>20000.000000</td>\n",
       "      <td>19750.000000</td>\n",
       "      <td>19600.000000</td>\n",
       "    </tr>\n",
       "    <tr>\n",
       "      <th>max</th>\n",
       "      <td>35000.000000</td>\n",
       "      <td>35000.000000</td>\n",
       "      <td>35000.000000</td>\n",
       "    </tr>\n",
       "  </tbody>\n",
       "</table>\n",
       "</div>"
      ],
      "text/plain": [
       "           loan_amnt    funded_amnt  funded_amnt_inv\n",
       "count  329408.000000  329408.000000    329408.000000\n",
       "mean    14134.235507   14099.446811     14039.871005\n",
       "std      8200.349559    8181.723245      8187.516489\n",
       "min       500.000000     500.000000         0.000000\n",
       "25%      8000.000000    8000.000000      8000.000000\n",
       "50%     12000.000000   12000.000000     12000.000000\n",
       "75%     20000.000000   19750.000000     19600.000000\n",
       "max     35000.000000   35000.000000     35000.000000"
      ]
     },
     "execution_count": 16,
     "metadata": {},
     "output_type": "execute_result"
    }
   ],
   "source": [
    "data[continuous_vars_0].describe()"
   ]
  },
  {
   "cell_type": "code",
   "execution_count": 17,
   "metadata": {
    "collapsed": false
   },
   "outputs": [
    {
     "data": {
      "text/html": [
       "<div>\n",
       "<table border=\"1\" class=\"dataframe\">\n",
       "  <thead>\n",
       "    <tr style=\"text-align: right;\">\n",
       "      <th></th>\n",
       "      <th>installment</th>\n",
       "      <th>annual_inc</th>\n",
       "      <th>revol_bal</th>\n",
       "      <th>out_prncp</th>\n",
       "      <th>out_prncp_inv</th>\n",
       "      <th>total_pymnt</th>\n",
       "      <th>total_pymnt_inv</th>\n",
       "      <th>total_rec_prncp</th>\n",
       "      <th>total_rec_int</th>\n",
       "      <th>recoveries</th>\n",
       "      <th>collection_recovery_fee</th>\n",
       "      <th>last_pymnt_amnt</th>\n",
       "    </tr>\n",
       "  </thead>\n",
       "  <tbody>\n",
       "    <tr>\n",
       "      <th>count</th>\n",
       "      <td>329408.000000</td>\n",
       "      <td>3.294080e+05</td>\n",
       "      <td>3.294080e+05</td>\n",
       "      <td>329408.000000</td>\n",
       "      <td>329408.000000</td>\n",
       "      <td>329408.000000</td>\n",
       "      <td>329408.000000</td>\n",
       "      <td>329408.000000</td>\n",
       "      <td>329408.000000</td>\n",
       "      <td>329408.000000</td>\n",
       "      <td>329408.000000</td>\n",
       "      <td>329408.000000</td>\n",
       "    </tr>\n",
       "    <tr>\n",
       "      <th>mean</th>\n",
       "      <td>430.573416</td>\n",
       "      <td>7.277881e+04</td>\n",
       "      <td>1.579633e+04</td>\n",
       "      <td>8682.942381</td>\n",
       "      <td>8677.238573</td>\n",
       "      <td>6650.448760</td>\n",
       "      <td>6591.550492</td>\n",
       "      <td>4979.809248</td>\n",
       "      <td>1652.164164</td>\n",
       "      <td>18.171490</td>\n",
       "      <td>1.096919</td>\n",
       "      <td>1774.811078</td>\n",
       "    </tr>\n",
       "    <tr>\n",
       "      <th>std</th>\n",
       "      <td>243.265098</td>\n",
       "      <td>5.444319e+04</td>\n",
       "      <td>1.883157e+04</td>\n",
       "      <td>8141.098320</td>\n",
       "      <td>8137.292807</td>\n",
       "      <td>6647.210635</td>\n",
       "      <td>6584.340464</td>\n",
       "      <td>5681.996003</td>\n",
       "      <td>1792.366436</td>\n",
       "      <td>242.882808</td>\n",
       "      <td>49.261435</td>\n",
       "      <td>4211.293421</td>\n",
       "    </tr>\n",
       "    <tr>\n",
       "      <th>min</th>\n",
       "      <td>16.080000</td>\n",
       "      <td>3.000000e+03</td>\n",
       "      <td>0.000000e+00</td>\n",
       "      <td>0.000000</td>\n",
       "      <td>0.000000</td>\n",
       "      <td>32.740000</td>\n",
       "      <td>0.000000</td>\n",
       "      <td>0.000000</td>\n",
       "      <td>5.520000</td>\n",
       "      <td>0.000000</td>\n",
       "      <td>0.000000</td>\n",
       "      <td>0.000000</td>\n",
       "    </tr>\n",
       "    <tr>\n",
       "      <th>25%</th>\n",
       "      <td>254.910000</td>\n",
       "      <td>4.500000e+04</td>\n",
       "      <td>6.446000e+03</td>\n",
       "      <td>1119.550000</td>\n",
       "      <td>1118.242500</td>\n",
       "      <td>2025.380000</td>\n",
       "      <td>2017.177500</td>\n",
       "      <td>1233.290000</td>\n",
       "      <td>529.287500</td>\n",
       "      <td>0.000000</td>\n",
       "      <td>0.000000</td>\n",
       "      <td>282.290000</td>\n",
       "    </tr>\n",
       "    <tr>\n",
       "      <th>50%</th>\n",
       "      <td>380.730000</td>\n",
       "      <td>6.205200e+04</td>\n",
       "      <td>1.175500e+04</td>\n",
       "      <td>7015.110000</td>\n",
       "      <td>7011.970000</td>\n",
       "      <td>4482.955000</td>\n",
       "      <td>4448.015000</td>\n",
       "      <td>2964.040000</td>\n",
       "      <td>1070.275000</td>\n",
       "      <td>0.000000</td>\n",
       "      <td>0.000000</td>\n",
       "      <td>446.210000</td>\n",
       "    </tr>\n",
       "    <tr>\n",
       "      <th>75%</th>\n",
       "      <td>564.420000</td>\n",
       "      <td>8.800000e+04</td>\n",
       "      <td>2.009300e+04</td>\n",
       "      <td>13605.700000</td>\n",
       "      <td>13597.645000</td>\n",
       "      <td>8928.420827</td>\n",
       "      <td>8857.230000</td>\n",
       "      <td>6400.000000</td>\n",
       "      <td>2056.025000</td>\n",
       "      <td>0.000000</td>\n",
       "      <td>0.000000</td>\n",
       "      <td>745.320000</td>\n",
       "    </tr>\n",
       "    <tr>\n",
       "      <th>max</th>\n",
       "      <td>1409.990000</td>\n",
       "      <td>7.446395e+06</td>\n",
       "      <td>2.568995e+06</td>\n",
       "      <td>34706.760000</td>\n",
       "      <td>34706.760000</td>\n",
       "      <td>53438.202180</td>\n",
       "      <td>52613.400000</td>\n",
       "      <td>35000.030000</td>\n",
       "      <td>19199.940000</td>\n",
       "      <td>29282.070000</td>\n",
       "      <td>7002.190000</td>\n",
       "      <td>36115.200000</td>\n",
       "    </tr>\n",
       "  </tbody>\n",
       "</table>\n",
       "</div>"
      ],
      "text/plain": [
       "         installment    annual_inc     revol_bal      out_prncp  \\\n",
       "count  329408.000000  3.294080e+05  3.294080e+05  329408.000000   \n",
       "mean      430.573416  7.277881e+04  1.579633e+04    8682.942381   \n",
       "std       243.265098  5.444319e+04  1.883157e+04    8141.098320   \n",
       "min        16.080000  3.000000e+03  0.000000e+00       0.000000   \n",
       "25%       254.910000  4.500000e+04  6.446000e+03    1119.550000   \n",
       "50%       380.730000  6.205200e+04  1.175500e+04    7015.110000   \n",
       "75%       564.420000  8.800000e+04  2.009300e+04   13605.700000   \n",
       "max      1409.990000  7.446395e+06  2.568995e+06   34706.760000   \n",
       "\n",
       "       out_prncp_inv    total_pymnt  total_pymnt_inv  total_rec_prncp  \\\n",
       "count  329408.000000  329408.000000    329408.000000    329408.000000   \n",
       "mean     8677.238573    6650.448760      6591.550492      4979.809248   \n",
       "std      8137.292807    6647.210635      6584.340464      5681.996003   \n",
       "min         0.000000      32.740000         0.000000         0.000000   \n",
       "25%      1118.242500    2025.380000      2017.177500      1233.290000   \n",
       "50%      7011.970000    4482.955000      4448.015000      2964.040000   \n",
       "75%     13597.645000    8928.420827      8857.230000      6400.000000   \n",
       "max     34706.760000   53438.202180     52613.400000     35000.030000   \n",
       "\n",
       "       total_rec_int     recoveries  collection_recovery_fee  last_pymnt_amnt  \n",
       "count  329408.000000  329408.000000            329408.000000    329408.000000  \n",
       "mean     1652.164164      18.171490                 1.096919      1774.811078  \n",
       "std      1792.366436     242.882808                49.261435      4211.293421  \n",
       "min         5.520000       0.000000                 0.000000         0.000000  \n",
       "25%       529.287500       0.000000                 0.000000       282.290000  \n",
       "50%      1070.275000       0.000000                 0.000000       446.210000  \n",
       "75%      2056.025000       0.000000                 0.000000       745.320000  \n",
       "max     19199.940000   29282.070000              7002.190000     36115.200000  "
      ]
     },
     "execution_count": 17,
     "metadata": {},
     "output_type": "execute_result"
    }
   ],
   "source": [
    "data[continuous_vars_1].describe()"
   ]
  },
  {
   "cell_type": "markdown",
   "metadata": {},
   "source": [
    "## Income\n",
    "\n",
    "**Hypothesis**: Clients with lower incomes are more apt to default their loans.\n",
    "\n",
    "\n",
    "Based on my hypothesis, I am starting off my exploration with income. To start off, I am going to check this feature to see if there are any outliers in the data. When I plot the raw features, I see that there are some because the distribution is extremely skewed with standard deviation over \\$500k.\n",
    "<img src=\"report/figures/annual_income_raw.png\" alt=\"Drawing\" style=\"width:450px;\"/>\n",
    "\n",
    "I normalize the income data using Tukey's method; this gave a better representation of the underlying data; this distribution is closer to a uniform distribution. The majority of the clients in this dataset make an annual income of around \\$65k+.\n",
    "\n",
    "<img src=\"report/figures/annual_income_cleaned.png\" alt=\"Drawing\" style=\"width:450px;\"/>\n",
    "\n",
    "I ultimately decided to change my outliers skim by only removing folks in the top 1% of incomes from the data. I am making this choice because I believe there might be some signal from the folks in the upper ten percentile of the distribution. As a result of doing this, the mean moved to around \\$70k+.\n",
    "\n",
    "<img src=\"report/figures/annual_income.png\" alt=\"Drawing\" style=\"width:450px;\"/>\n"
   ]
  },
  {
   "cell_type": "code",
   "execution_count": 18,
   "metadata": {
    "collapsed": false
   },
   "outputs": [
    {
     "data": {
      "text/plain": [
       "count    3.294080e+05\n",
       "mean     7.277881e+04\n",
       "std      5.444319e+04\n",
       "min      3.000000e+03\n",
       "25%      4.500000e+04\n",
       "50%      6.205200e+04\n",
       "75%      8.800000e+04\n",
       "max      7.446395e+06\n",
       "Name: annual_inc, dtype: float64"
      ]
     },
     "execution_count": 18,
     "metadata": {},
     "output_type": "execute_result"
    }
   ],
   "source": [
    "pyplt.rcParams['figure.figsize'] = (8, 8)\n",
    "\n",
    "sns.distplot(data['annual_inc'])\n",
    "pyplt.ylabel('percent per unit')\n",
    "pyplt.xlabel('Annual income in dollars')\n",
    "pyplt.xticks(rotation='vertical')\n",
    "pyplt.title('Annual Income')\n",
    "pyplt.savefig('report/figures/annual_income_raw.png', format='png', dpi=200)\n",
    "pyplt.close();\n",
    "\n",
    "#reset figure\n",
    "pyplt.rcParams['figure.figsize'] = (6, 4)\n",
    "\n",
    "data['annual_inc'].describe()"
   ]
  },
  {
   "cell_type": "code",
   "execution_count": 19,
   "metadata": {
    "collapsed": false
   },
   "outputs": [],
   "source": [
    "# Clean income for outliers\n",
    "mask = get_outliers('annual_inc')\n",
    "df_inc = pd.DataFrame(index=data.index)\n",
    "df_inc['income'] = data.annual_inc\n",
    "df_inc.drop(df_inc.ix[mask].index, inplace = True)"
   ]
  },
  {
   "cell_type": "code",
   "execution_count": 20,
   "metadata": {
    "collapsed": false
   },
   "outputs": [
    {
     "data": {
      "text/html": [
       "<div>\n",
       "<table border=\"1\" class=\"dataframe\">\n",
       "  <thead>\n",
       "    <tr style=\"text-align: right;\">\n",
       "      <th></th>\n",
       "      <th>income</th>\n",
       "    </tr>\n",
       "  </thead>\n",
       "  <tbody>\n",
       "    <tr>\n",
       "      <th>count</th>\n",
       "      <td>315626.000000</td>\n",
       "    </tr>\n",
       "    <tr>\n",
       "      <th>mean</th>\n",
       "      <td>66172.901895</td>\n",
       "    </tr>\n",
       "    <tr>\n",
       "      <th>std</th>\n",
       "      <td>29010.425329</td>\n",
       "    </tr>\n",
       "    <tr>\n",
       "      <th>min</th>\n",
       "      <td>3000.000000</td>\n",
       "    </tr>\n",
       "    <tr>\n",
       "      <th>25%</th>\n",
       "      <td>45000.000000</td>\n",
       "    </tr>\n",
       "    <tr>\n",
       "      <th>50%</th>\n",
       "      <td>60000.000000</td>\n",
       "    </tr>\n",
       "    <tr>\n",
       "      <th>75%</th>\n",
       "      <td>84000.000000</td>\n",
       "    </tr>\n",
       "    <tr>\n",
       "      <th>max</th>\n",
       "      <td>152500.000000</td>\n",
       "    </tr>\n",
       "  </tbody>\n",
       "</table>\n",
       "</div>"
      ],
      "text/plain": [
       "              income\n",
       "count  315626.000000\n",
       "mean    66172.901895\n",
       "std     29010.425329\n",
       "min      3000.000000\n",
       "25%     45000.000000\n",
       "50%     60000.000000\n",
       "75%     84000.000000\n",
       "max    152500.000000"
      ]
     },
     "execution_count": 20,
     "metadata": {},
     "output_type": "execute_result"
    }
   ],
   "source": [
    "pyplt.rcParams['figure.figsize'] = (8, 8)\n",
    "\n",
    "sns.distplot(df_inc); \n",
    "pyplt.ylabel('percent per unit')\n",
    "pyplt.xlabel('Annual income in dollars')\n",
    "pyplt.xticks(rotation='vertical')\n",
    "pyplt.title('Annual Income: Outliers removed (Tukey)')\n",
    "pyplt.savefig('report/figures/annual_income_cleaned.png', format='png', dpi=200)\n",
    "pyplt.close();\n",
    "\n",
    "#reset figure\n",
    "pyplt.rcParams['figure.figsize'] = (6, 4)\n",
    "\n",
    "df_inc.describe()"
   ]
  },
  {
   "cell_type": "code",
   "execution_count": 21,
   "metadata": {
    "collapsed": false
   },
   "outputs": [],
   "source": [
    "#Am dropping folks whose salary is beyond the 99 percentile\n",
    "\n",
    "top = data['annual_inc'].quantile(.99)\n",
    "mask = data.loc[data['annual_inc'] > top].index\n",
    "data.drop(mask, inplace=True)"
   ]
  },
  {
   "cell_type": "code",
   "execution_count": 22,
   "metadata": {
    "collapsed": false
   },
   "outputs": [
    {
     "data": {
      "text/plain": [
       "count    326316.000000\n",
       "mean      70019.943953\n",
       "std       35614.590537\n",
       "min        3000.000000\n",
       "25%       45000.000000\n",
       "50%       62000.000000\n",
       "75%       86000.000000\n",
       "max      240000.000000\n",
       "Name: annual_inc, dtype: float64"
      ]
     },
     "execution_count": 22,
     "metadata": {},
     "output_type": "execute_result"
    }
   ],
   "source": [
    "pyplt.rcParams['figure.figsize'] = (8, 8)\n",
    "\n",
    "sns.distplot(data['annual_inc'])\n",
    "pyplt.ylabel('percent per unit')\n",
    "pyplt.xlabel('Annual income in dollars')\n",
    "pyplt.xticks(rotation='vertical')\n",
    "pyplt.title('Annual Income: Top 1% removed')\n",
    "pyplt.savefig('report/figures/annual_income.png', format='png', dpi=200)\n",
    "pyplt.close();\n",
    "\n",
    "#reset figure\n",
    "pyplt.rcParams['figure.figsize'] = (6, 4)\n",
    "\n",
    "data['annual_inc'].describe()"
   ]
  },
  {
   "cell_type": "markdown",
   "metadata": {},
   "source": [
    "### Continuous data exploration\n",
    "Next, I plotted the histograms of all the continous variables separated by their relative ranges. From the first set of histograms, I can see that the total amount for the loan, total amount committed by investors for that loan and the funded amount, `funded_amnt`, `funded_amnt_inv`, and `loan_amnt` are quite identical. Comes as no surprise that these features are also highly correlated. As a result, when it comes to modeling I will have to either pick one of the them, or average all three and create a new feature.\n",
    "<img src=\"report/figures/continuous_vars_0.png\" alt=\"Drawing\" style=\"width:650px;\"/>\n",
    "\n",
    "\n",
    "The features for the the remaining outstanding principal which are features with the prefix `out_prncp`, and payments received on the loans which are features with the prefix `total_`, are also very similar in the shape of their distributions. From these sets of histograms, I can tell that most loans are around \\$8k to \\$20k.\n",
    "<img src=\"report/figures/continuous_vars_1.png\" alt=\"Drawing\" style=\"width:650px;\"/>\n",
    "<img src=\"report/figures/corr_1.png\" alt=\"Drawing\" style=\"width:450px;\"/>\n",
    "\n",
    "\n",
    "\n",
    "From the third set of histograms, majority of the clients in the Lending club dataset have extremely low 30+ days past-due incidences of delinquency in the last two years, `delinq_2yrs`. The distribution of the debt to income ratio, `dti`, is fairly symmetric, with majority of clients have a 15% dti. The distribution of interest rates, `int_rate`, is less uniform, with most loans served with an interest rate of 15%. \n",
    "<img src=\"report/figures/continuous_vars_2.png\" alt=\"Drawing\" style=\"width:650px;\"/>\n",
    "<img src=\"report/figures/dti.png\" alt=\"Drawing\" style=\"width:450px;\"/>\n",
    "<img src=\"report/figures/int_rate.png\" alt=\"Drawing\" style=\"width:450px;\"/>\n",
    "\n"
   ]
  },
  {
   "cell_type": "code",
   "execution_count": 23,
   "metadata": {
    "collapsed": false
   },
   "outputs": [],
   "source": [
    "g = data[continuous_vars_0].hist(xrot=90, figsize=[15,17]);\n",
    "pyplt.subplots_adjust(top=0.9)\n",
    "pyplt.suptitle('Feature Histograms: Part One', fontsize=16)\n",
    "pyplt.savefig('report/figures/continuous_vars_0.png', format='png', dpi=200)\n",
    "pyplt.close();\n",
    "\n",
    "g = data[continuous_vars_1].hist(xrot=90, figsize=[15,17]);\n",
    "pyplt.subplots_adjust(top=0.9)\n",
    "pyplt.suptitle('Feature Histograms: Part Two', fontsize=16)\n",
    "pyplt.savefig('report/figures/continuous_vars_1.png', format='png', dpi=200)\n",
    "pyplt.close();"
   ]
  },
  {
   "cell_type": "code",
   "execution_count": 25,
   "metadata": {
    "collapsed": false
   },
   "outputs": [],
   "source": [
    "g = data[continuous_vars_2].hist(figsize=[15,15]);\n",
    "pyplt.subplots_adjust(top=0.9)\n",
    "pyplt.suptitle('Feature Histograms: Part Three', fontsize=16)\n",
    "pyplt.savefig('report/figures/continuous_vars_2.png', format='png', dpi=200)\n",
    "pyplt.close();"
   ]
  },
  {
   "cell_type": "code",
   "execution_count": 26,
   "metadata": {
    "collapsed": false
   },
   "outputs": [],
   "source": [
    "sns.distplot(data.loan_amnt);\n",
    "pyplt.ylabel('percent per unit');\n",
    "pyplt.title('Loan Amount');\n",
    "pyplt.savefig('report/figures/loan_amnt.png', format='png', dpi=200)\n",
    "pyplt.close();"
   ]
  },
  {
   "cell_type": "code",
   "execution_count": 27,
   "metadata": {
    "collapsed": false
   },
   "outputs": [],
   "source": [
    "sns.distplot(data.int_rate);\n",
    "pyplt.ylabel('percent per unit');\n",
    "pyplt.title('Interest Rate');\n",
    "pyplt.savefig('report/figures/int_rate.png', format='png', dpi=200)\n",
    "pyplt.close();"
   ]
  },
  {
   "cell_type": "code",
   "execution_count": 28,
   "metadata": {
    "collapsed": true
   },
   "outputs": [],
   "source": [
    "sns.distplot(data.dti);\n",
    "pyplt.ylabel('percent per unit');\n",
    "pyplt.title('Debt to Income Ratio');\n",
    "pyplt.savefig('report/figures/dti.png', format='png', dpi=200)\n",
    "pyplt.close();"
   ]
  },
  {
   "cell_type": "code",
   "execution_count": 30,
   "metadata": {
    "collapsed": false
   },
   "outputs": [],
   "source": [
    "pyplt.rcParams['figure.figsize'] = (8, 4)\n",
    "corr = data[continuous_vars_1].corr()\n",
    "mask = np.zeros_like(corr)\n",
    "mask[np.triu_indices_from(mask, 1)] = True\n",
    "\n",
    "with sns.axes_style(\"white\"):\n",
    "    ax = sns.heatmap(corr, mask=mask, annot=True, cmap='RdBu', fmt='.2f')\n",
    "    pyplt.xticks(rotation=70, ha='right');\n",
    "    \n",
    "\n",
    "pyplt.title('Feature Correlation: Part One');\n",
    "pyplt.savefig('report/figures/corr_1.png', bbox_inches='tight', format='png', dpi=200)\n",
    "pyplt.close();"
   ]
  },
  {
   "cell_type": "code",
   "execution_count": 31,
   "metadata": {
    "collapsed": false
   },
   "outputs": [],
   "source": [
    "pyplt.rcParams['figure.figsize'] = (12, 6)\n",
    "corr = data[date_vars].corr()\n",
    "mask = np.zeros_like(corr)\n",
    "mask[np.triu_indices_from(mask, 1)] = True\n",
    "\n",
    "with sns.axes_style(\"white\"):\n",
    "    ax = sns.heatmap(corr, mask=mask, annot=True, cmap='RdBu', fmt='.1f')\n",
    "    pyplt.xticks(rotation=70, ha='right');\n",
    "    \n",
    "\n",
    "pyplt.title('Feature Correlation: Part Two');\n",
    "pyplt.savefig('report/figures/corr_2.png', bbox_inches='tight', format='png', dpi=200)\n",
    "pyplt.close();\n",
    "\n",
    "# reset figure size\n",
    "pyplt.rcParams['figure.figsize'] = (6, 4)"
   ]
  },
  {
   "cell_type": "code",
   "execution_count": 32,
   "metadata": {
    "collapsed": false
   },
   "outputs": [],
   "source": [
    "percentage_good = data.loan_rank.value_counts()[0] / len(data)\n",
    "percentage_bad = data.loan_rank.value_counts()[1] / len(data)"
   ]
  },
  {
   "cell_type": "code",
   "execution_count": 33,
   "metadata": {
    "collapsed": false
   },
   "outputs": [
    {
     "name": "stdout",
     "output_type": "stream",
     "text": [
      "93.71% of the loans are good, with a ratio of 15.0 to 1.\n"
     ]
    }
   ],
   "source": [
    "print ('{}% of the loans are good, with a ratio of {} to 1.'.format(round(percentage_good*100, 2),\n",
    "                                                            round(percentage_good / percentage_bad)))"
   ]
  },
  {
   "cell_type": "code",
   "execution_count": 34,
   "metadata": {
    "collapsed": false
   },
   "outputs": [],
   "source": [
    "sns.distplot(data.loan_rank, bins=10, kde=False)\n",
    "pyplt.title('Loan Status')\n",
    "x = [0.05, 0.2, 0.4, 0.6, 0.8, 0.95]\n",
    "labels = [\"Good Loans\", \"\", \"\", \"\", \"\", \"Bad Loans\"]\n",
    "pyplt.xticks(x, labels)\n",
    "pyplt.grid(False)\n",
    "pyplt.savefig('report/figures/loans.png', format='png', dpi=200)\n",
    "pyplt.close();"
   ]
  },
  {
   "cell_type": "markdown",
   "metadata": {},
   "source": [
    "### Separate the Good loans from the Bad loans\n",
    "From the dataset, I can infer that most of the loans in the lending club dataset are good loans. The classes for good versus bad loans are highly imbalanced with a ratio of almost 15 to 1.\n",
    "<img src=\"report/figures/loans.png\" alt=\"Drawing\" style=\"width:450px;\"/>\n",
    "#### Create equal samples of good and bad loans in a dataset\n",
    "\n",
    "To gain a deeper understanding of what separates defaulters from everyone else, I decided to uniformly sample the dataset to get balanced classes of good and bad loans. \n",
    "\n",
    "<img src=\"report/figures/balanced_loans.png\" alt=\"Drawing\" style=\"width:450px;\"/>\n",
    "\n",
    "## Are defaulters and non-defaulters two different groups based on annual income?\n",
    "<img src=\"report/figures/good_bad.png\" alt=\"Drawing\" style=\"width:450px;\"/>\n",
    "\n",
    "To answer this question, I plotted the incomes of the two groups. Both distributions have a long tail and overlap a lot. From this graph, it appears that clients who default usually have lower incomes, and as incomes increase, the rates of defaults decrease.\n",
    "\n",
    "Before I can conclusively make this determination, I need to know if the difference I am seeing is just chance variation or a difference in the distributions in the population. To make this determination, I will perform a hypothesis test using the *Mann Whitney U test* because the distributions are not normal.\n",
    "\n",
    "**Null hypothesis**: In the population, the distribution of annual incomes is the same for clients who default and those who do not. The difference in the sample is due to chance.       \n",
    "**Alternative hypothesis**: The two distributions are different in the population.    \n",
    "\n",
    "\n",
    "I performed the test and got a **P-value** of zero. As a result, I can reject the null hypothesis and conclude that in the population, the distribution of annual incomes of defaulters and non-defaulters are different.\n",
    "\n",
    "## Do wealthier clients request bigger loans?\n",
    "Since income is a feature that separates defaulters from non-defaulters, I want to see is there is a relationship between income and the amount client request for loans. To do this, I plotted income against loan amount and fitted a regression line. From the graph, we can see that there is a somewhat positive relationship between the two variables. As income goes up, so those the amount requested.\n",
    "\n",
    "<img src=\"report/figures/loan_inc.png\" alt=\"Drawing\" style=\"width:450px;\"/>\n",
    "\n",
    "\n",
    "### Understanding loan grades\n",
    "Lending club grades their loans on two scales. The first scale is called `grade`, it ranges from A to G, which in this dataset, I have coded 0 to 6. They do a further breakdown of this grade into subgrades. For each grade they break it down into several smaller bins. In this dataset, these are captured in the `sub_grade` feature which has been coded similarly from 0 to n. The distribution of the subgrade has a long tail with most of the loans between sub grades 3 and 15.\n",
    "<img src=\"report/figures/sub_grade.png\" alt=\"Drawing\" style=\"width:650px;\"/>\n",
    "\n",
    "In this dataset, I have coded good loans as 0 and bad loans as 1. On average, good loan clients have higher incomes for each grade category they fail into when compared with clients that tend to default.\n",
    "\n",
    "<img src=\"report/figures/inc_grade.png\" alt=\"Drawing\" style=\"width:450px;\"/>\n",
    "\n",
    "Consider loans by grade and the **purpose** for which the loan was taken. When a loan is taken in order to consolidate debt, we see that as the grades progress from low risk to high risk, clients generally tend to increase their loan amounts. \n",
    "\n",
    "<img src=\"report/figures/loan_grade_purpose.png\" alt=\"Drawing\" style=\"width:850px;\"/>\n"
   ]
  },
  {
   "cell_type": "markdown",
   "metadata": {},
   "source": [
    "## What are the most important features between good and bad loans?\n",
    "\n",
    "Once I had a good idea of the underlying characteristics of my data, I moved on to understanding the most important features. I implemented a Random Forest classifier and plotted its feature importance. From this graph, the most important features were the derived features from the dates in which the last payments of the loans were done. The interest rates, the sub grade of the loan, the debt to income ratio of the clients were all important features. It turns out income is not as important in determining whether a client will default or not.\n",
    "\n",
    "<img src=\"report/figures/feature_imp.png\" alt=\"Drawing\" style=\"width:650px;\"/>\n"
   ]
  },
  {
   "cell_type": "code",
   "execution_count": 36,
   "metadata": {
    "collapsed": true
   },
   "outputs": [],
   "source": [
    "good = data['loan_rank'] == 0\n",
    "bad = data['loan_rank'] == 1"
   ]
  },
  {
   "cell_type": "code",
   "execution_count": 37,
   "metadata": {
    "collapsed": true
   },
   "outputs": [],
   "source": [
    "data_good = pd.DataFrame()\n",
    "data_bad = pd.DataFrame()\n",
    "\n",
    "\n",
    "data_good = data.ix[data[good].index, :]\n",
    "data_bad = data.ix[data[bad].index, :]\n",
    "\n",
    "data_good.reset_index(inplace=True)\n",
    "data_bad.reset_index(inplace=True)"
   ]
  },
  {
   "cell_type": "code",
   "execution_count": 38,
   "metadata": {
    "collapsed": true
   },
   "outputs": [],
   "source": [
    "sample_size = 1000"
   ]
  },
  {
   "cell_type": "code",
   "execution_count": 39,
   "metadata": {
    "collapsed": false
   },
   "outputs": [],
   "source": [
    "the_index = sample_data(sample_size, data_good)\n",
    "data_good_ = data_good.ix[the_index, :]\n",
    "\n",
    "the_index = sample_data(sample_size, data_bad)\n",
    "data_bad_ = data_bad.ix[the_index, :]"
   ]
  },
  {
   "cell_type": "code",
   "execution_count": 40,
   "metadata": {
    "collapsed": false
   },
   "outputs": [],
   "source": [
    "data_ = data_good_\n",
    "data_ = data_.append(data_bad_)\n",
    "data_.reset_index(inplace=True)"
   ]
  },
  {
   "cell_type": "code",
   "execution_count": 41,
   "metadata": {
    "collapsed": false
   },
   "outputs": [],
   "source": [
    "sns.distplot(data_.loan_rank, bins=10, kde=False)\n",
    "pyplt.title('Loan Status: Classes Balanced')\n",
    "x = [0.05, 0.2, 0.4, 0.6, 0.8, 0.95]\n",
    "labels = [\"Good Loans\", \"\", \"\", \"\", \"\", \"Bad Loans\"]\n",
    "pyplt.xticks(x, labels)\n",
    "pyplt.grid(False)\n",
    "pyplt.savefig('report/figures/balanced_loans.png', format='png', dpi=200)\n",
    "pyplt.close();"
   ]
  },
  {
   "cell_type": "code",
   "execution_count": 42,
   "metadata": {
    "collapsed": false
   },
   "outputs": [],
   "source": [
    "good = data_['loan_rank'] == 0\n",
    "bad = data_['loan_rank'] == 1\n",
    "\n",
    "df_good = pd.DataFrame()\n",
    "df_bad = pd.DataFrame()\n",
    "\n",
    "df_good['good_loans'] = data_.ix[data_[good].index, 'annual_inc']\n",
    "df_bad['bad_loans'] = data_.ix[data_[bad].index, 'annual_inc']\n"
   ]
  },
  {
   "cell_type": "code",
   "execution_count": 43,
   "metadata": {
    "collapsed": false
   },
   "outputs": [],
   "source": [
    "income_bin = np.arange(2e+04, 25e+04, 2e+04)"
   ]
  },
  {
   "cell_type": "code",
   "execution_count": 44,
   "metadata": {
    "collapsed": false
   },
   "outputs": [],
   "source": [
    "df_bad['bad_loans'].plot.hist(bins=income_bin, normed=True, alpha = 0.8)\n",
    "df_good['good_loans'].plot.hist(bins=income_bin, normed=True, alpha = 0.8)\n",
    "pyplt.ylabel('percent per dollar')\n",
    "pyplt.xlabel('Annual Income, USD')\n",
    "pyplt.legend(bbox_to_anchor=(1.05, 1), loc=2, borderaxespad=0.)\n",
    "pyplt.suptitle('Annual Incomes of Good and Bad Loan Clients', fontsize=12)\n",
    "pyplt.savefig('report/figures/good_bad.png', format='png', bbox_inches='tight', dpi=200);\n",
    "pyplt.close();"
   ]
  },
  {
   "cell_type": "code",
   "execution_count": 45,
   "metadata": {
    "collapsed": true
   },
   "outputs": [],
   "source": [
    "a = df_bad['bad_loans'].values\n",
    "b = df_good['good_loans'].values"
   ]
  },
  {
   "cell_type": "code",
   "execution_count": 46,
   "metadata": {
    "collapsed": false
   },
   "outputs": [
    {
     "name": "stdout",
     "output_type": "stream",
     "text": [
      "P-value:0.00\n"
     ]
    }
   ],
   "source": [
    "import scipy.stats as st\n",
    "\n",
    "statistic, p1 = st.mannwhitneyu(a, b) \n",
    "pvalue = p1 * 2\n",
    "print ('P-value:%.2f'%pvalue)"
   ]
  },
  {
   "cell_type": "code",
   "execution_count": 47,
   "metadata": {
    "collapsed": false
   },
   "outputs": [],
   "source": [
    "g = sns.jointplot(data_['loan_amnt'], data_['annual_inc'],  kind=\"reg\", size=5, space=0)\n",
    "g.fig.subplots_adjust(top=0.9)\n",
    "g.fig.suptitle('Loan Amount by Income', fontsize=14)\n",
    "pyplt.savefig('report/figures/loan_inc.png', bbox_inches='tight', format='png', dpi=200)\n",
    "pyplt.close();"
   ]
  },
  {
   "cell_type": "code",
   "execution_count": 48,
   "metadata": {
    "collapsed": false
   },
   "outputs": [],
   "source": [
    "g = sns.jointplot(data_['annual_inc'], data_['int_rate'], kind=\"reg\", size=5, space=0)\n",
    "g.fig.subplots_adjust(top=0.9)\n",
    "g.fig.suptitle('Income by Interest Rate', fontsize=14)\n",
    "pyplt.savefig('report/figures/inc_int_rate.png', bbox_inches='tight', format='png', dpi=200)\n",
    "pyplt.close();"
   ]
  },
  {
   "cell_type": "code",
   "execution_count": 49,
   "metadata": {
    "collapsed": false
   },
   "outputs": [],
   "source": [
    "g = sns.jointplot(data_['annual_inc'], data_['sub_grade'], kind=\"reg\", size=5, space=0)\n",
    "g.fig.suptitle('Income by Loan Sub Grade', fontsize=14)\n",
    "pyplt.savefig('report/figures/inc_sub_grade.png', bbox_inches='tight', format='png', dpi=200)\n",
    "pyplt.close();"
   ]
  },
  {
   "cell_type": "code",
   "execution_count": 50,
   "metadata": {
    "collapsed": false
   },
   "outputs": [],
   "source": [
    "g = sns.jointplot(data_['int_rate'], data_['sub_grade'], kind=\"kde\", size=5, space=0)\n",
    "g.fig.subplots_adjust(top=0.9)\n",
    "g.fig.suptitle('Interest Rate by Loan Sub Grade', fontsize=14)\n",
    "pyplt.savefig('report/figures/sub_grade_int_rate.png', bbox_inches='tight', format='png', dpi=200)\n",
    "pyplt.close();"
   ]
  },
  {
   "cell_type": "markdown",
   "metadata": {},
   "source": [
    "## Categorical variables"
   ]
  },
  {
   "cell_type": "code",
   "execution_count": 51,
   "metadata": {
    "collapsed": false
   },
   "outputs": [
    {
     "data": {
      "text/html": [
       "<div>\n",
       "<table border=\"1\" class=\"dataframe\">\n",
       "  <thead>\n",
       "    <tr style=\"text-align: right;\">\n",
       "      <th></th>\n",
       "      <th>term</th>\n",
       "      <th>grade</th>\n",
       "      <th>sub_grade</th>\n",
       "      <th>emp_length</th>\n",
       "      <th>home_ownership</th>\n",
       "      <th>is_inc_v</th>\n",
       "      <th>pymnt_plan</th>\n",
       "      <th>purpose</th>\n",
       "      <th>addr_city</th>\n",
       "      <th>addr_state</th>\n",
       "      <th>initial_list_status</th>\n",
       "      <th>loan_rank</th>\n",
       "      <th>pub_rec_bankruptcies</th>\n",
       "    </tr>\n",
       "  </thead>\n",
       "  <tbody>\n",
       "    <tr>\n",
       "      <th>count</th>\n",
       "      <td>2000.000000</td>\n",
       "      <td>2000.000000</td>\n",
       "      <td>2000.000000</td>\n",
       "      <td>2000.000000</td>\n",
       "      <td>2000.000000</td>\n",
       "      <td>2000.000000</td>\n",
       "      <td>2000.000000</td>\n",
       "      <td>2000.000000</td>\n",
       "      <td>2000.000000</td>\n",
       "      <td>2000.000000</td>\n",
       "      <td>2000.0000</td>\n",
       "      <td>2000.000000</td>\n",
       "      <td>2000.000000</td>\n",
       "    </tr>\n",
       "    <tr>\n",
       "      <th>mean</th>\n",
       "      <td>0.277000</td>\n",
       "      <td>2.025500</td>\n",
       "      <td>12.058000</td>\n",
       "      <td>4.198500</td>\n",
       "      <td>2.061500</td>\n",
       "      <td>1.138000</td>\n",
       "      <td>0.005000</td>\n",
       "      <td>3.020000</td>\n",
       "      <td>14221.594500</td>\n",
       "      <td>22.508000</td>\n",
       "      <td>0.2000</td>\n",
       "      <td>0.500000</td>\n",
       "      <td>0.074000</td>\n",
       "    </tr>\n",
       "    <tr>\n",
       "      <th>std</th>\n",
       "      <td>0.447628</td>\n",
       "      <td>1.360064</td>\n",
       "      <td>6.736492</td>\n",
       "      <td>3.443258</td>\n",
       "      <td>1.935611</td>\n",
       "      <td>0.843393</td>\n",
       "      <td>0.070551</td>\n",
       "      <td>2.857566</td>\n",
       "      <td>8590.981577</td>\n",
       "      <td>14.632498</td>\n",
       "      <td>0.4001</td>\n",
       "      <td>0.500125</td>\n",
       "      <td>0.267507</td>\n",
       "    </tr>\n",
       "    <tr>\n",
       "      <th>min</th>\n",
       "      <td>0.000000</td>\n",
       "      <td>0.000000</td>\n",
       "      <td>0.000000</td>\n",
       "      <td>0.000000</td>\n",
       "      <td>0.000000</td>\n",
       "      <td>0.000000</td>\n",
       "      <td>0.000000</td>\n",
       "      <td>0.000000</td>\n",
       "      <td>144.000000</td>\n",
       "      <td>0.000000</td>\n",
       "      <td>0.0000</td>\n",
       "      <td>0.000000</td>\n",
       "      <td>0.000000</td>\n",
       "    </tr>\n",
       "    <tr>\n",
       "      <th>25%</th>\n",
       "      <td>0.000000</td>\n",
       "      <td>1.000000</td>\n",
       "      <td>7.000000</td>\n",
       "      <td>1.000000</td>\n",
       "      <td>0.000000</td>\n",
       "      <td>0.000000</td>\n",
       "      <td>0.000000</td>\n",
       "      <td>2.000000</td>\n",
       "      <td>6801.500000</td>\n",
       "      <td>9.000000</td>\n",
       "      <td>0.0000</td>\n",
       "      <td>0.000000</td>\n",
       "      <td>0.000000</td>\n",
       "    </tr>\n",
       "    <tr>\n",
       "      <th>50%</th>\n",
       "      <td>0.000000</td>\n",
       "      <td>2.000000</td>\n",
       "      <td>11.000000</td>\n",
       "      <td>3.000000</td>\n",
       "      <td>3.000000</td>\n",
       "      <td>1.000000</td>\n",
       "      <td>0.000000</td>\n",
       "      <td>2.000000</td>\n",
       "      <td>13918.000000</td>\n",
       "      <td>23.000000</td>\n",
       "      <td>0.0000</td>\n",
       "      <td>0.500000</td>\n",
       "      <td>0.000000</td>\n",
       "    </tr>\n",
       "    <tr>\n",
       "      <th>75%</th>\n",
       "      <td>1.000000</td>\n",
       "      <td>3.000000</td>\n",
       "      <td>16.000000</td>\n",
       "      <td>7.000000</td>\n",
       "      <td>4.000000</td>\n",
       "      <td>2.000000</td>\n",
       "      <td>0.000000</td>\n",
       "      <td>2.000000</td>\n",
       "      <td>21041.000000</td>\n",
       "      <td>34.000000</td>\n",
       "      <td>0.0000</td>\n",
       "      <td>1.000000</td>\n",
       "      <td>0.000000</td>\n",
       "    </tr>\n",
       "    <tr>\n",
       "      <th>max</th>\n",
       "      <td>1.000000</td>\n",
       "      <td>6.000000</td>\n",
       "      <td>34.000000</td>\n",
       "      <td>11.000000</td>\n",
       "      <td>4.000000</td>\n",
       "      <td>2.000000</td>\n",
       "      <td>1.000000</td>\n",
       "      <td>13.000000</td>\n",
       "      <td>32397.000000</td>\n",
       "      <td>49.000000</td>\n",
       "      <td>1.0000</td>\n",
       "      <td>1.000000</td>\n",
       "      <td>2.000000</td>\n",
       "    </tr>\n",
       "  </tbody>\n",
       "</table>\n",
       "</div>"
      ],
      "text/plain": [
       "              term        grade    sub_grade   emp_length  home_ownership  \\\n",
       "count  2000.000000  2000.000000  2000.000000  2000.000000     2000.000000   \n",
       "mean      0.277000     2.025500    12.058000     4.198500        2.061500   \n",
       "std       0.447628     1.360064     6.736492     3.443258        1.935611   \n",
       "min       0.000000     0.000000     0.000000     0.000000        0.000000   \n",
       "25%       0.000000     1.000000     7.000000     1.000000        0.000000   \n",
       "50%       0.000000     2.000000    11.000000     3.000000        3.000000   \n",
       "75%       1.000000     3.000000    16.000000     7.000000        4.000000   \n",
       "max       1.000000     6.000000    34.000000    11.000000        4.000000   \n",
       "\n",
       "          is_inc_v   pymnt_plan      purpose     addr_city   addr_state  \\\n",
       "count  2000.000000  2000.000000  2000.000000   2000.000000  2000.000000   \n",
       "mean      1.138000     0.005000     3.020000  14221.594500    22.508000   \n",
       "std       0.843393     0.070551     2.857566   8590.981577    14.632498   \n",
       "min       0.000000     0.000000     0.000000    144.000000     0.000000   \n",
       "25%       0.000000     0.000000     2.000000   6801.500000     9.000000   \n",
       "50%       1.000000     0.000000     2.000000  13918.000000    23.000000   \n",
       "75%       2.000000     0.000000     2.000000  21041.000000    34.000000   \n",
       "max       2.000000     1.000000    13.000000  32397.000000    49.000000   \n",
       "\n",
       "       initial_list_status    loan_rank  pub_rec_bankruptcies  \n",
       "count            2000.0000  2000.000000           2000.000000  \n",
       "mean                0.2000     0.500000              0.074000  \n",
       "std                 0.4001     0.500125              0.267507  \n",
       "min                 0.0000     0.000000              0.000000  \n",
       "25%                 0.0000     0.000000              0.000000  \n",
       "50%                 0.0000     0.500000              0.000000  \n",
       "75%                 0.0000     1.000000              0.000000  \n",
       "max                 1.0000     1.000000              2.000000  "
      ]
     },
     "execution_count": 51,
     "metadata": {},
     "output_type": "execute_result"
    }
   ],
   "source": [
    "data_[cat_vars].describe()"
   ]
  },
  {
   "cell_type": "code",
   "execution_count": 52,
   "metadata": {
    "collapsed": false
   },
   "outputs": [],
   "source": [
    "pyplt.rcParams['figure.figsize'] = (12, 6)\n",
    "\n",
    "sns.stripplot(x='sub_grade', y='loan_amnt', hue='loan_rank', data=data_);\n",
    "pyplt.legend(bbox_to_anchor=(1.05, 1), loc=2, borderaxespad=0.);\n",
    "pyplt.title('Bad Loans By Amount and Sub Grade', fontsize=14)\n",
    "pyplt.savefig('report/figures/bad_loan_sub_grade.png',bbox_inches='tight', format='png', dpi=200)\n",
    "pyplt.close();\n",
    "\n",
    "# reset figure size\n",
    "pyplt.rcParams['figure.figsize'] = (6, 4)"
   ]
  },
  {
   "cell_type": "code",
   "execution_count": 53,
   "metadata": {
    "collapsed": false
   },
   "outputs": [],
   "source": [
    "pyplt.rcParams['figure.figsize'] = (10, 4)\n",
    "\n",
    "sns.countplot(x='sub_grade', data=data, hue='grade');\n",
    "pyplt.legend(bbox_to_anchor=(1.05, 1), loc=2, borderaxespad=0.);\n",
    "pyplt.title('Loan Sub Grades', fontsize=14)\n",
    "pyplt.savefig('report/figures/sub_grade.png',bbox_inches='tight', format='png', dpi=200)\n",
    "pyplt.close();\n",
    "\n",
    "# reset figure size\n",
    "pyplt.rcParams['figure.figsize'] = (6, 4)"
   ]
  },
  {
   "cell_type": "code",
   "execution_count": 54,
   "metadata": {
    "collapsed": false
   },
   "outputs": [],
   "source": [
    "sns.factorplot(x='grade', y='annual_inc', data=data_, hue='loan_rank');\n",
    "pyplt.title('Annual income by Grade', fontsize=14)\n",
    "pyplt.savefig('report/figures/inc_grade.png', format='png', dpi=200)\n",
    "pyplt.close();"
   ]
  },
  {
   "cell_type": "code",
   "execution_count": 55,
   "metadata": {
    "collapsed": false
   },
   "outputs": [],
   "source": [
    "g = sns.factorplot(x='grade', y='loan_amnt', data=data_, hue='loan_rank', \n",
    "               col='purpose_old', col_wrap=4, kind='box');\n",
    "g.fig.subplots_adjust(top=0.9)\n",
    "g.fig.suptitle('Loans By Grade and Purpose', fontsize=20)\n",
    "pyplt.savefig('report/figures/loan_grade_purpose.png', bbox_inches='tight', format='png', dpi=200)\n",
    "\n",
    "pyplt.close();"
   ]
  },
  {
   "cell_type": "code",
   "execution_count": 56,
   "metadata": {
    "collapsed": false
   },
   "outputs": [],
   "source": [
    "g = sns.factorplot(x='grade', y='loan_amnt', data=data_, hue='loan_rank', \n",
    "               col='home_ownership_old', col_wrap=4, kind='box');\n",
    "g.fig.subplots_adjust(top=0.85)\n",
    "g.fig.suptitle('Loans By Home Ownership', fontsize=15)\n",
    "pyplt.savefig('report/figures/loan_home.png', format='png', dpi=200)\n",
    "pyplt.close();"
   ]
  },
  {
   "cell_type": "code",
   "execution_count": 57,
   "metadata": {
    "collapsed": false
   },
   "outputs": [],
   "source": [
    "pyplt.rcParams['figure.figsize'] = (12, 8)\n",
    "sns.stripplot(x='addr_state_old', y='loan_amnt', hue='loan_rank', data=data_, size=4, jitter=True);\n",
    "\n",
    "# reset figure size\n",
    "pyplt.rcParams['figure.figsize'] = (6, 4)\n",
    "pyplt.close();"
   ]
  },
  {
   "cell_type": "markdown",
   "metadata": {
    "collapsed": true
   },
   "source": [
    "### Modeling\n",
    "### Extract features and labels \n",
    "\n",
    "Extract feature (X) and target (y) columns"
   ]
  },
  {
   "cell_type": "code",
   "execution_count": 62,
   "metadata": {
    "collapsed": false
   },
   "outputs": [
    {
     "name": "stdout",
     "output_type": "stream",
     "text": [
      "\n",
      "Label values:-\n"
     ]
    },
    {
     "data": {
      "text/plain": [
       "0    0\n",
       "1    0\n",
       "2    0\n",
       "3    0\n",
       "4    0\n",
       "Name: loan_rank, dtype: uint8"
      ]
     },
     "execution_count": 62,
     "metadata": {},
     "output_type": "execute_result"
    }
   ],
   "source": [
    "target_col = data_['loan_rank']   \n",
    "y = target_col \n",
    "\n",
    "print (\"\\nLabel values:-\")\n",
    "y.head()"
   ]
  },
  {
   "cell_type": "code",
   "execution_count": 76,
   "metadata": {
    "collapsed": false
   },
   "outputs": [],
   "source": [
    "features = cat_vars + ['loan_amnt', 'installment','annual_inc','revol_bal',\n",
    " 'out_prncp','total_pymnt','recoveries','collection_recovery_fee','last_pymnt_amnt'] + ['int_rate','delinq_2yrs',\n",
    " 'dti','inq_last_6mths','total_acc','revol_util'] + ['accept_d_months',\n",
    " 'accept_d_days',\n",
    " 'earliest_cr_line_months',\n",
    " 'earliest_cr_line_days',\n",
    " 'last_pymnt_d_months',\n",
    " 'last_pymnt_d_days',\n",
    " 'accept_d_num_day',\n",
    " 'accept_d_week_of_year',\n",
    " 'list_d_num_day',\n",
    " 'list_d_week_of_year',\n",
    " 'exp_d_num_day',\n",
    " 'exp_d_week_of_year',\n",
    " 'issue_d_num_day',\n",
    " 'issue_d_week_of_year',\n",
    " 'last_pymnt_d_num_day',\n",
    " 'last_pymnt_d_week_of_year',\n",
    " 'last_credit_pull_d_num_day',\n",
    " 'last_credit_pull_d_week_of_year']"
   ]
  },
  {
   "cell_type": "code",
   "execution_count": 79,
   "metadata": {
    "collapsed": false
   },
   "outputs": [
    {
     "name": "stdout",
     "output_type": "stream",
     "text": [
      "\n",
      "Feature values:-\n"
     ]
    },
    {
     "data": {
      "text/html": [
       "<div>\n",
       "<table border=\"1\" class=\"dataframe\">\n",
       "  <thead>\n",
       "    <tr style=\"text-align: right;\">\n",
       "      <th></th>\n",
       "      <th>term</th>\n",
       "      <th>grade</th>\n",
       "      <th>sub_grade</th>\n",
       "      <th>emp_length</th>\n",
       "      <th>home_ownership</th>\n",
       "      <th>is_inc_v</th>\n",
       "      <th>pymnt_plan</th>\n",
       "      <th>purpose</th>\n",
       "      <th>addr_city</th>\n",
       "      <th>addr_state</th>\n",
       "      <th>...</th>\n",
       "      <th>list_d_num_day</th>\n",
       "      <th>list_d_week_of_year</th>\n",
       "      <th>exp_d_num_day</th>\n",
       "      <th>exp_d_week_of_year</th>\n",
       "      <th>issue_d_num_day</th>\n",
       "      <th>issue_d_week_of_year</th>\n",
       "      <th>last_pymnt_d_num_day</th>\n",
       "      <th>last_pymnt_d_week_of_year</th>\n",
       "      <th>last_credit_pull_d_num_day</th>\n",
       "      <th>last_credit_pull_d_week_of_year</th>\n",
       "    </tr>\n",
       "  </thead>\n",
       "  <tbody>\n",
       "    <tr>\n",
       "      <th>0</th>\n",
       "      <td>1</td>\n",
       "      <td>1</td>\n",
       "      <td>5</td>\n",
       "      <td>7</td>\n",
       "      <td>4</td>\n",
       "      <td>2</td>\n",
       "      <td>0</td>\n",
       "      <td>1</td>\n",
       "      <td>21061</td>\n",
       "      <td>4</td>\n",
       "      <td>...</td>\n",
       "      <td>5</td>\n",
       "      <td>5</td>\n",
       "      <td>5</td>\n",
       "      <td>7</td>\n",
       "      <td>0</td>\n",
       "      <td>7</td>\n",
       "      <td>4</td>\n",
       "      <td>33</td>\n",
       "      <td>3</td>\n",
       "      <td>34</td>\n",
       "    </tr>\n",
       "    <tr>\n",
       "      <th>1</th>\n",
       "      <td>0</td>\n",
       "      <td>2</td>\n",
       "      <td>11</td>\n",
       "      <td>1</td>\n",
       "      <td>0</td>\n",
       "      <td>2</td>\n",
       "      <td>0</td>\n",
       "      <td>2</td>\n",
       "      <td>17584</td>\n",
       "      <td>36</td>\n",
       "      <td>...</td>\n",
       "      <td>3</td>\n",
       "      <td>37</td>\n",
       "      <td>3</td>\n",
       "      <td>39</td>\n",
       "      <td>4</td>\n",
       "      <td>38</td>\n",
       "      <td>1</td>\n",
       "      <td>35</td>\n",
       "      <td>4</td>\n",
       "      <td>13</td>\n",
       "    </tr>\n",
       "    <tr>\n",
       "      <th>2</th>\n",
       "      <td>1</td>\n",
       "      <td>2</td>\n",
       "      <td>11</td>\n",
       "      <td>4</td>\n",
       "      <td>4</td>\n",
       "      <td>1</td>\n",
       "      <td>0</td>\n",
       "      <td>2</td>\n",
       "      <td>1668</td>\n",
       "      <td>19</td>\n",
       "      <td>...</td>\n",
       "      <td>2</td>\n",
       "      <td>39</td>\n",
       "      <td>2</td>\n",
       "      <td>41</td>\n",
       "      <td>1</td>\n",
       "      <td>40</td>\n",
       "      <td>0</td>\n",
       "      <td>34</td>\n",
       "      <td>3</td>\n",
       "      <td>34</td>\n",
       "    </tr>\n",
       "    <tr>\n",
       "      <th>3</th>\n",
       "      <td>0</td>\n",
       "      <td>0</td>\n",
       "      <td>0</td>\n",
       "      <td>9</td>\n",
       "      <td>0</td>\n",
       "      <td>0</td>\n",
       "      <td>0</td>\n",
       "      <td>2</td>\n",
       "      <td>8032</td>\n",
       "      <td>44</td>\n",
       "      <td>...</td>\n",
       "      <td>5</td>\n",
       "      <td>45</td>\n",
       "      <td>5</td>\n",
       "      <td>47</td>\n",
       "      <td>0</td>\n",
       "      <td>48</td>\n",
       "      <td>3</td>\n",
       "      <td>35</td>\n",
       "      <td>3</td>\n",
       "      <td>34</td>\n",
       "    </tr>\n",
       "    <tr>\n",
       "      <th>4</th>\n",
       "      <td>0</td>\n",
       "      <td>1</td>\n",
       "      <td>5</td>\n",
       "      <td>1</td>\n",
       "      <td>3</td>\n",
       "      <td>0</td>\n",
       "      <td>0</td>\n",
       "      <td>1</td>\n",
       "      <td>8058</td>\n",
       "      <td>4</td>\n",
       "      <td>...</td>\n",
       "      <td>0</td>\n",
       "      <td>1</td>\n",
       "      <td>0</td>\n",
       "      <td>3</td>\n",
       "      <td>0</td>\n",
       "      <td>5</td>\n",
       "      <td>4</td>\n",
       "      <td>31</td>\n",
       "      <td>3</td>\n",
       "      <td>34</td>\n",
       "    </tr>\n",
       "  </tbody>\n",
       "</table>\n",
       "<p>5 rows × 45 columns</p>\n",
       "</div>"
      ],
      "text/plain": [
       "   term  grade  sub_grade  emp_length  home_ownership  is_inc_v  pymnt_plan  \\\n",
       "0     1      1          5           7               4         2           0   \n",
       "1     0      2         11           1               0         2           0   \n",
       "2     1      2         11           4               4         1           0   \n",
       "3     0      0          0           9               0         0           0   \n",
       "4     0      1          5           1               3         0           0   \n",
       "\n",
       "   purpose  addr_city  addr_state               ...                 \\\n",
       "0        1      21061           4               ...                  \n",
       "1        2      17584          36               ...                  \n",
       "2        2       1668          19               ...                  \n",
       "3        2       8032          44               ...                  \n",
       "4        1       8058           4               ...                  \n",
       "\n",
       "   list_d_num_day  list_d_week_of_year  exp_d_num_day  exp_d_week_of_year  \\\n",
       "0               5                    5              5                   7   \n",
       "1               3                   37              3                  39   \n",
       "2               2                   39              2                  41   \n",
       "3               5                   45              5                  47   \n",
       "4               0                    1              0                   3   \n",
       "\n",
       "   issue_d_num_day  issue_d_week_of_year  last_pymnt_d_num_day  \\\n",
       "0                0                     7                     4   \n",
       "1                4                    38                     1   \n",
       "2                1                    40                     0   \n",
       "3                0                    48                     3   \n",
       "4                0                     5                     4   \n",
       "\n",
       "   last_pymnt_d_week_of_year  last_credit_pull_d_num_day  \\\n",
       "0                         33                           3   \n",
       "1                         35                           4   \n",
       "2                         34                           3   \n",
       "3                         35                           3   \n",
       "4                         31                           3   \n",
       "\n",
       "   last_credit_pull_d_week_of_year  \n",
       "0                               34  \n",
       "1                               13  \n",
       "2                               34  \n",
       "3                               34  \n",
       "4                               34  \n",
       "\n",
       "[5 rows x 45 columns]"
      ]
     },
     "execution_count": 79,
     "metadata": {},
     "output_type": "execute_result"
    }
   ],
   "source": [
    "X = data_[features]\n",
    "X.drop(['loan_rank'], axis=1, inplace=True)\n",
    "print (\"\\nFeature values:-\")\n",
    "X.head() "
   ]
  },
  {
   "cell_type": "code",
   "execution_count": 93,
   "metadata": {
    "collapsed": true
   },
   "outputs": [],
   "source": [
    "from time import time, gmtime, strftime\n",
    "from sklearn.tree import DecisionTreeClassifier\n",
    "from sklearn.ensemble import RandomForestClassifier\n",
    "\n",
    "from sklearn.model_selection import cross_val_score\n",
    "from sklearn.metrics import precision_recall_fscore_support as score\n",
    "from sklearn.preprocessing import RobustScaler\n",
    "from sklearn.calibration import CalibratedClassifierCV\n"
   ]
  },
  {
   "cell_type": "code",
   "execution_count": 88,
   "metadata": {
    "collapsed": false
   },
   "outputs": [],
   "source": [
    "from sklearn.model_selection import train_test_split\n",
    "\n",
    "\n",
    "def shuffle_split_data(X, y):\n",
    "    \"\"\" Shuffles and splits data into 75% training and 25% testing subsets,\n",
    "        then returns the training and testing subsets. \"\"\"\n",
    "    X_train, X_test, y_train, y_test = train_test_split(X, y, train_size=1500, random_state=42)\n",
    "\n",
    "    # Return the training and testing data subsets\n",
    "    return X_train, y_train, X_test, y_test\n",
    "\n",
    "X_train, y_train, X_test, y_test = shuffle_split_data(X, y)"
   ]
  },
  {
   "cell_type": "code",
   "execution_count": 95,
   "metadata": {
    "collapsed": false
   },
   "outputs": [
    {
     "name": "stdout",
     "output_type": "stream",
     "text": [
      "(1500, 45)\n",
      "(500, 45)\n"
     ]
    }
   ],
   "source": [
    "models = {\n",
    "          'RandomForest': RandomForestClassifier(n_estimators=10, n_jobs=-1),\n",
    "         }\n",
    "\n",
    "scaler = RobustScaler()\n",
    "X_train_transform = scaler.fit_transform(X_train)\n",
    "X_test_transform  = scaler.fit_transform(X_test)\n",
    "\n",
    "print(X_train_transform.shape)\n",
    "print(X_test_transform.shape)"
   ]
  },
  {
   "cell_type": "code",
   "execution_count": 96,
   "metadata": {
    "collapsed": false
   },
   "outputs": [
    {
     "name": "stdout",
     "output_type": "stream",
     "text": [
      "CLASSIFICATION RESULTS OF BASELINE CLASSIFIERS\n",
      "\n",
      "CLASSIFIER           MEAN SCORE %  STD DEV %    TIME   \n",
      "RandomForest             94.67        0.55         1.57secs\n"
     ]
    }
   ],
   "source": [
    "print('CLASSIFICATION RESULTS OF BASELINE CLASSIFIERS\\n')\n",
    "print('{:20}{:^15}{:^10}{:^10}'.format('CLASSIFIER', 'MEAN SCORE %', 'STD DEV %', 'TIME'))\n",
    "\n",
    "\n",
    "for clf_name, clf in models.iteritems():\n",
    "    t0 = time()\n",
    "    results = cross_val_score(clf, X_train_transform, y_train, cv=5)\n",
    "    t1 = time() - t0\n",
    "    print('{:20}{:^15.2f}{:^10.2f}{:>10.2f}secs'.format(clf_name, results.mean()*100, results.std()*100, t1))\n",
    "    "
   ]
  },
  {
   "cell_type": "code",
   "execution_count": 105,
   "metadata": {
    "collapsed": false
   },
   "outputs": [
    {
     "name": "stdout",
     "output_type": "stream",
     "text": [
      "Precision:    95.226\n",
      "Recall:   95.174  \n",
      "F Score  95.194  \n"
     ]
    }
   ],
   "source": [
    "t0 = time()\n",
    "\n",
    "clf = RandomForestClassifier(n_estimators=10, n_jobs=-1)\n",
    "calibrated_clf = CalibratedClassifierCV(clf, method='sigmoid', cv=5)\n",
    "calibrated_clf.fit(X_train_transform, y_train)\n",
    "final_preds = calibrated_clf.predict(X_test_transform)\n",
    "precision, recall, fbeta_score, support = score(y_test, final_preds)\n",
    "print (\"Precision:{:10.3f}\\nRecall: {:^10.3f}\\nF Score{:^10.3f}\".format(precision.mean()*100, \n",
    "                                                 recall.mean()*100, fbeta_score.mean()*100))\n"
   ]
  },
  {
   "cell_type": "code",
   "execution_count": 100,
   "metadata": {
    "collapsed": false
   },
   "outputs": [],
   "source": [
    "clf.fit(X_train_transform, y_train)\n",
    "importances = clf.feature_importances_"
   ]
  },
  {
   "cell_type": "code",
   "execution_count": 109,
   "metadata": {
    "collapsed": false
   },
   "outputs": [],
   "source": [
    "pyplt.rcParams['figure.figsize'] = (8, 16)\n",
    "\n",
    "importance_frame = pd.DataFrame({'Importance': importances, 'Feature': list(X.columns)})\n",
    "importance_frame.sort_values(by = 'Importance', inplace = True)\n",
    "ax =importance_frame.plot(kind = 'barh', x = 'Feature', color = 'deepskyblue')\n",
    "pyplt.savefig('report/figures/feature_imp.png', bbox_inches='tight', format='png', dpi=200)\n",
    "# reset figure size\n",
    "pyplt.rcParams['figure.figsize'] = (6, 4)\n",
    "pyplt.close();"
   ]
  }
 ],
 "metadata": {
  "anaconda-cloud": {},
  "kernelspec": {
   "display_name": "Python [conda root]",
   "language": "python",
   "name": "conda-root-py"
  },
  "language_info": {
   "codemirror_mode": {
    "name": "ipython",
    "version": 2
   },
   "file_extension": ".py",
   "mimetype": "text/x-python",
   "name": "python",
   "nbconvert_exporter": "python",
   "pygments_lexer": "ipython2",
   "version": "2.7.13"
  }
 },
 "nbformat": 4,
 "nbformat_minor": 2
}
