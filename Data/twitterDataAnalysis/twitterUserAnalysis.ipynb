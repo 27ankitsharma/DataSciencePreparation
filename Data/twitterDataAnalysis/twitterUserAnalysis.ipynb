{
 "cells": [
  {
   "cell_type": "markdown",
   "metadata": {},
   "source": [
    "# Twitter Data Analysis\n",
    "## Predict inter-tweet times for a single user\n",
    "### An implementation of the \"Question\", \"Model\", \"Validate\" process for data science."
   ]
  },
  {
   "cell_type": "code",
   "execution_count": 18,
   "metadata": {
    "collapsed": false
   },
   "outputs": [
    {
     "name": "stdout",
     "output_type": "stream",
     "text": [
      "Populating the interactive namespace from numpy and matplotlib\n"
     ]
    }
   ],
   "source": [
    "%pylab inline"
   ]
  },
  {
   "cell_type": "code",
   "execution_count": 32,
   "metadata": {
    "collapsed": false
   },
   "outputs": [],
   "source": [
    "# Import libraries\n",
    "from __future__ import print_function\n",
    "import scipy\n",
    "import numpy as np\n",
    "import pandas as pd\n",
    "import matplotlib.pyplot as pyplt\n",
    "import seaborn as sns\n",
    "\n",
    "pyplt.rcParams['figure.figsize'] = (4, 3)"
   ]
  },
  {
   "cell_type": "code",
   "execution_count": 20,
   "metadata": {
    "collapsed": true
   },
   "outputs": [],
   "source": [
    "import datetime\n",
    "from datetime import datetime\n",
    "from datetime import timedelta\n",
    "from datetime import time\n",
    "\n",
    "def extract_features(tweet_list):\n",
    "    returnList = []\n",
    "\n",
    "    for tweet in tweet_list:\n",
    "\n",
    "        timeOfDay = extractTimeOfDay(tweet)\n",
    "        containsMention = extractContainsMention(tweet)\n",
    "        containsURL = extractContainsURL(tweet)\n",
    "        tweetLength = extractTweetLength(tweet)\n",
    "        containsHashtag = extractContainsHashtag(tweet)\n",
    "        isReply = extractIsReply(tweet)\n",
    "\n",
    "        featureTuple = (timeOfDay, containsMention, containsURL, tweetLength, containsHashtag, isReply)\n",
    "\n",
    "        returnList.append(featureTuple)\n",
    "\n",
    "    return returnList\n",
    "\n",
    "def extractTimeOfDay(tweet):\n",
    "    ''' Returns: 'morning, afternoon, evening, night' '''\n",
    "\n",
    "    returnString = None\n",
    "    createdAtStr = None\n",
    "\n",
    "    morningLeftEdge = time(11, 0, 0)\n",
    "    afternoonLeftEdge = time(17, 0, 0) \n",
    "    eveningLeftEdge = time(22, 0, 0)\n",
    "    midnight = time(23, 59, 59)\n",
    "    nightLeftEdge = time(2, 0, 0)\n",
    "\n",
    "    if \"created_at\" in tweet:\n",
    "        createdAtStr = tweet[\"created_at\"]\n",
    "        createdDate = datetime.strptime(createdAtStr[:-11], \"%a %b %d %H:%M:%S\")\n",
    "\n",
    "        asTime = time(createdDate.hour, createdDate.minute, createdDate.second)\n",
    "\n",
    "        if morningLeftEdge<=asTime and asTime<=afternoonLeftEdge:\n",
    "            returnString = \"morning\"\n",
    "        elif afternoonLeftEdge<=asTime and asTime<=eveningLeftEdge:\n",
    "            returnString = \"afternoon\"\n",
    "        elif asTime>=eveningLeftEdge and asTime<=midnight:\n",
    "            returnString = \"evening\"\n",
    "        elif asTime<=nightLeftEdge:\n",
    "            returnString = \"evening\"\n",
    "        elif nightLeftEdge<=asTime and asTime<=morningLeftEdge:\n",
    "            returnString = \"night\"\n",
    "\n",
    "    return returnString\n",
    "\n",
    "\n",
    "def extractContainsMention(tweet):\n",
    "\n",
    "    returnFloat = 0.0\n",
    "\n",
    "    if \"user_mentions\" in tweet:\n",
    "        numMentions = len(tweet[\"user_mentions\"])\n",
    "\n",
    "        if numMentions>0:\n",
    "            returnFloat = 1.0\n",
    "\n",
    "    return returnFloat\n",
    "\n",
    "def extractContainsURL(tweet):\n",
    "\n",
    "    returnFloat = 0.0\n",
    "\n",
    "    if \"urls\" in tweet:\n",
    "        if len(tweet[\"urls\"])>0:\n",
    "            returnFloat = 1.0\n",
    "\n",
    "    return returnFloat\n",
    "\n",
    "def extractTweetLength(tweet):\n",
    "    tweetText = tweet[\"text\"]\n",
    "\n",
    "    return len(tweetText)\n",
    "\n",
    "def extractContainsHashtag(tweet):\n",
    "\n",
    "    returnFloat = 0.0\n",
    "\n",
    "    if \"hashtags\" in tweet:\n",
    "        if len(tweet[\"hashtags\"])>0:\n",
    "            returnFloat = 1.0\n",
    "\n",
    "    return returnFloat\n",
    "\n",
    "def extractIsReply(tweet):\n",
    "    returnFloat = 0.0\n",
    "\n",
    "    if \"in_reply_to_screen_name\" in tweet:\n",
    "        if tweet[\"in_reply_to_screen_name\"] is not None:\n",
    "            returnFloat = 1.0\n",
    "\n",
    "    return returnFloat"
   ]
  },
  {
   "cell_type": "markdown",
   "metadata": {},
   "source": [
    "### Load Data"
   ]
  },
  {
   "cell_type": "code",
   "execution_count": 21,
   "metadata": {
    "collapsed": false
   },
   "outputs": [],
   "source": [
    "tweetsDF = pd.io.json.read_json(\"new_gruber_tweets.json\")"
   ]
  },
  {
   "cell_type": "code",
   "execution_count": 22,
   "metadata": {
    "collapsed": false
   },
   "outputs": [
    {
     "data": {
      "text/plain": [
       "Index([u'coordinates', u'created_at', u'favorite_count', u'favorited', u'geo',\n",
       "       u'hashtags', u'id', u'in_reply_to_screen_name',\n",
       "       u'in_reply_to_status_id', u'in_reply_to_user_id', u'lang', u'place',\n",
       "       u'retweet_count', u'retweeted', u'retweeted_status', u'source', u'text',\n",
       "       u'truncated', u'urls', u'user', u'user_mentions'],\n",
       "      dtype='object')"
      ]
     },
     "execution_count": 22,
     "metadata": {},
     "output_type": "execute_result"
    }
   ],
   "source": [
    "tweetsDF.columns"
   ]
  },
  {
   "cell_type": "markdown",
   "metadata": {},
   "source": [
    "## Feature Selection\n",
    "- For this analysis, we are going to focus on the times intervals between tweets as our major feature. This is captured in the variable `timeUntilNext`"
   ]
  },
  {
   "cell_type": "code",
   "execution_count": 23,
   "metadata": {
    "collapsed": false
   },
   "outputs": [],
   "source": [
    "createdDF = tweetsDF.ix[0:, [\"created_at\"]]\n",
    "createdTextDF = tweetsDF.ix[0:, [\"created_at\", \"text\"]]\n",
    "createdTextVals = createdTextDF.values #turn it into an array"
   ]
  },
  {
   "cell_type": "code",
   "execution_count": 24,
   "metadata": {
    "collapsed": false
   },
   "outputs": [],
   "source": [
    "tweetTimes = []\n",
    "\n",
    "for i,row in createdDF.iterrows():\n",
    "    tweetTimes.append(row[\"created_at\"])\n",
    "tweetTimes.sort()"
   ]
  },
  {
   "cell_type": "code",
   "execution_count": 25,
   "metadata": {
    "collapsed": false
   },
   "outputs": [],
   "source": [
    "timeUntilNext = []\n",
    "\n",
    "for i in xrange(1, len(tweetTimes) - 1):\n",
    "    timeDiff = (tweetTimes[i] - tweetTimes[i-1]).seconds\n",
    "    timeUntilNext.append(timeDiff)"
   ]
  },
  {
   "cell_type": "markdown",
   "metadata": {},
   "source": [
    "## Explore Data \n",
    "- Create initial histogram"
   ]
  },
  {
   "cell_type": "code",
   "execution_count": 26,
   "metadata": {
    "collapsed": false
   },
   "outputs": [],
   "source": [
    "timeToNextSeries = pd.Series(timeUntilNext)\n"
   ]
  },
  {
   "cell_type": "code",
   "execution_count": 38,
   "metadata": {
    "collapsed": false
   },
   "outputs": [
    {
     "data": {
      "image/png": "[encoded data removed]",
      "text/plain": [
       "<matplotlib.figure.Figure at 0x11bbfad90>"
      ]
     },
     "metadata": {},
     "output_type": "display_data"
    }
   ],
   "source": [
    "pyplt.rcParams['figure.figsize'] = (8, 3)\n",
    "\n",
    "timeToNextSeries.hist(bins=30, normed=True, color=\"blue\", label=\"Intertweet times\")\n",
    "pyplt.legend(loc='upper center', shadow=True, fontsize='x-large')\n",
    "pyplt.xlabel('Seconds until next tweet', fontsize=14);\n"
   ]
  },
  {
   "cell_type": "markdown",
   "metadata": {},
   "source": [
    "From these histograms, we see that the data looks like an exponential distribution. In industry, exponentials are used to model rare events like heart attacks, when a request will come into the file system and so on.\n",
    "\n",
    "$$ y = \\frac{1}{\\beta} \\,e^{\\textstyle\\frac{-y}{\\beta}} $$\n",
    "\n",
    "What we have to do is find the parameter $\\beta$ and the probability density function (pdf) from which the observed data is most likely to have been produced. $X = $ time until next tweet \n",
    "$$f\\{X = t\\} = \\frac{1}{\\beta} \\, e^{\\textstyle\\frac{-t}{\\beta}} $$ We are using the $\\beta$ as the number of seconds until the person tweets again.\n",
    "## Fit Exponential\n"
   ]
  },
  {
   "cell_type": "code",
   "execution_count": 28,
   "metadata": {
    "collapsed": false
   },
   "outputs": [],
   "source": [
    "from scipy.optimize import curve_fit"
   ]
  },
  {
   "cell_type": "code",
   "execution_count": 29,
   "metadata": {
    "collapsed": false
   },
   "outputs": [],
   "source": [
    "def fitFunc(t, b):\n",
    "    return b * numpy.exp(-b * t)"
   ]
  },
  {
   "cell_type": "code",
   "execution_count": 31,
   "metadata": {
    "collapsed": false
   },
   "outputs": [],
   "source": [
    "count, division = np.histogram(timeUntilNext, bins=100, normed=True)\n",
    "fitParams, fitCov = curve_fit(fitFunc, division[0:len(division)-1], count, p0=1e-4)"
   ]
  },
  {
   "cell_type": "code",
   "execution_count": 34,
   "metadata": {
    "collapsed": false
   },
   "outputs": [
    {
     "name": "stdout",
     "output_type": "stream",
     "text": [
      "beta parameter [ 0.00068895] actual parameter is 1451.48831924 seconds\n"
     ]
    }
   ],
   "source": [
    "print (\"beta parameter\", fitParams, \"actual parameter is {} seconds\".format(1/fitParams[0]))"
   ]
  },
  {
   "cell_type": "markdown",
   "metadata": {},
   "source": [
    "#### Covariance Matrix gives one entry for each pair of parameters we are trying to fit for.\n",
    "- It gives the number of times $\\beta$ changed over many bootstrap samples\n",
    "- This number amounts to the variance of that number\n",
    "- The higher the value, the more that $\\beta$ changed, the less certain we are, about the parameters value"
   ]
  },
  {
   "cell_type": "code",
   "execution_count": 36,
   "metadata": {
    "collapsed": false
   },
   "outputs": [
    {
     "data": {
      "text/plain": [
       "array([[  1.04040928e-09]])"
      ]
     },
     "execution_count": 36,
     "metadata": {},
     "output_type": "execute_result"
    }
   ],
   "source": [
    "fitCov "
   ]
  },
  {
   "cell_type": "markdown",
   "metadata": {},
   "source": [
    "The covariance values for our data is *very* small, that means we can have strong confidence in the parameter.\n",
    "### Evaluate the exponential function"
   ]
  },
  {
   "cell_type": "code",
   "execution_count": 39,
   "metadata": {
    "collapsed": false
   },
   "outputs": [
    {
     "data": {
      "image/png": "[encoded data removed]",
      "text/plain": [
       "<matplotlib.figure.Figure at 0x11ba9f910>"
      ]
     },
     "metadata": {},
     "output_type": "display_data"
    }
   ],
   "source": [
    "t = division[0:len(division)-1]\n",
    "\n",
    "\n",
    "timeToNextSeries.hist(bins=50, normed=True, color=\"blue\", label=\"Intertweet times\")\n",
    "pyplt.plot(t, fitFunc(t, fitParams[0]), color=\"yellow\", label=\"Exponential function\")\n",
    "pyplt.legend(loc='upper center', shadow=True, fontsize='x-large')\n",
    "pyplt.xlabel('Seconds until next tweet', fontsize=14);"
   ]
  },
  {
   "cell_type": "markdown",
   "metadata": {},
   "source": [
    "## Confidence bounds and data\n",
    "- How sure are we that $\\beta$ is correct? Well, that depends on the number of datapoints we have!\n",
    "\n",
    "We can quantify the *uncertainty* of our $\\beta$ by using **Chebyshev's inequality** $ P\\{ |\\bar{X} - \\beta^*| > \\epsilon \\} \\leq 1/4n\\epsilon^{2}  $, which states that the absolute value of the deviation of our estimated $\\beta^*$ from the actual value of $\\beta$, the probability of that being greater than $\\epsilon$ is $1/4n\\epsilon^{2}$.   \n",
    "\n",
    "If we solve this equation for $n$, you will see that we would need a larger amount of datapoints than the ones we have. As such, lets see if we can get a tighter bound. Luckily we can using **Hoeffding's Inequality**. It is *still* subject to $n$, the number of datapoints we have, but it is much better. $ P\\{ |\\bar{X} - \\beta^*| > \\epsilon \\} \\leq 2e^{-2n \\epsilon^{2}}  $"
   ]
  },
  {
   "cell_type": "code",
   "execution_count": 48,
   "metadata": {
    "collapsed": false
   },
   "outputs": [],
   "source": [
    "exp_diffs = [] # difference between our estimate and the actual\n",
    "for t in timeUntilNext:\n",
    "    exp_diffs.append(t - (1/fitParams[0])) #signed difference of the actual from the predicted\n",
    "                                           # signed error"
   ]
  },
  {
   "cell_type": "code",
   "execution_count": 49,
   "metadata": {
    "collapsed": false
   },
   "outputs": [
    {
     "data": {
      "image/png": "[encoded data removed]",
      "text/plain": [
       "<matplotlib.figure.Figure at 0x12012c050>"
      ]
     },
     "metadata": {},
     "output_type": "display_data"
    }
   ],
   "source": [
    "pd.Series(exp_diffs).hist(bins=50, label=\"Errors\")\n",
    "pyplt.legend(loc='upper center', shadow=True, fontsize='x-large')\n",
    "pyplt.xlabel('Seconds until next tweet', fontsize=14)\n",
    "pyplt.ylabel('Counts', fontsize=14);"
   ]
  },
  {
   "cell_type": "code",
   "execution_count": 46,
   "metadata": {
    "collapsed": false
   },
   "outputs": [
    {
     "data": {
      "text/plain": [
       "count     3232.000000\n",
       "mean      2843.046025\n",
       "std      11064.424336\n",
       "min      -1450.488319\n",
       "25%      -1368.488319\n",
       "50%      -1115.488319\n",
       "75%       1032.261681\n",
       "max      83356.511681\n",
       "dtype: float64"
      ]
     },
     "execution_count": 46,
     "metadata": {},
     "output_type": "execute_result"
    }
   ],
   "source": [
    "pd.Series(exp_diffs).describe()"
   ]
  },
  {
   "cell_type": "code",
   "execution_count": 47,
   "metadata": {
    "collapsed": false
   },
   "outputs": [
    {
     "data": {
      "text/plain": [
       "-18.591471987293929"
      ]
     },
     "execution_count": 47,
     "metadata": {},
     "output_type": "execute_result"
    }
   ],
   "source": [
    "pd.Series(exp_diffs).describe()['50%'] / 60"
   ]
  },
  {
   "cell_type": "markdown",
   "metadata": {},
   "source": [
    "This shows that 50% of the time, we are overestimating our inter-tweet prediction time by around 19 seconds"
   ]
  },
  {
   "cell_type": "markdown",
   "metadata": {},
   "source": [
    "#### Evaluate absolute difference of values"
   ]
  },
  {
   "cell_type": "code",
   "execution_count": 50,
   "metadata": {
    "collapsed": false
   },
   "outputs": [],
   "source": [
    "import math\n",
    "\n",
    "\n",
    "exp_diffs = []\n",
    "abs_diffs = []\n",
    "for t in timeUntilNext:\n",
    "    exp_diffs.append(t - (1/fitParams[0]))\n",
    "    abs_diffs.append(math.fabs(t - (1/fitParams[0]))) #signed absolute error\n"
   ]
  },
  {
   "cell_type": "code",
   "execution_count": 51,
   "metadata": {
    "collapsed": false
   },
   "outputs": [
    {
     "data": {
      "image/png": "[encoded data removed]",
      "text/plain": [
       "<matplotlib.figure.Figure at 0x120135750>"
      ]
     },
     "metadata": {},
     "output_type": "display_data"
    }
   ],
   "source": [
    "pd.Series(abs_diffs).hist(label=\"Absolute Errors\")\n",
    "pyplt.legend(loc='upper center', shadow=True, fontsize='x-large')\n",
    "pyplt.xlabel('Seconds until next tweet', fontsize=14)\n",
    "pyplt.ylabel('Counts', fontsize=14);"
   ]
  },
  {
   "cell_type": "code",
   "execution_count": 52,
   "metadata": {
    "collapsed": false
   },
   "outputs": [
    {
     "data": {
      "text/plain": [
       "count     3232.000000\n",
       "mean      4446.834434\n",
       "std      10522.663236\n",
       "min          0.488319\n",
       "25%       1110.505840\n",
       "50%       1363.488319\n",
       "75%       1437.488319\n",
       "max      83356.511681\n",
       "dtype: float64"
      ]
     },
     "execution_count": 52,
     "metadata": {},
     "output_type": "execute_result"
    }
   ],
   "source": [
    "pd.Series(abs_diffs).describe()"
   ]
  },
  {
   "cell_type": "markdown",
   "metadata": {},
   "source": [
    "#### Observe effect of adding offset\n",
    "\n",
    "Note that much of the histogram occurs *before* zero. Perhaps by adding an offset, we can improve the accuracy of our model. To do that, we are going to fit a more generalized exponential function.\n",
    "\n",
    "#### Fit more generalized exponential\n",
    "- Ajdusted model\n",
    "$$ y = a \\, (\\frac{1}{\\beta} \\, e^{\\textstyle\\frac{-t}{\\beta}}) + c $$\n"
   ]
  },
  {
   "cell_type": "code",
   "execution_count": 53,
   "metadata": {
    "collapsed": false
   },
   "outputs": [],
   "source": [
    "def fitFunc_gen(t, a, b, c):\n",
    "    return a * (b) * numpy.exp(-b * t) + c"
   ]
  },
  {
   "cell_type": "code",
   "execution_count": 54,
   "metadata": {
    "collapsed": false
   },
   "outputs": [],
   "source": [
    "fitParams_gen, fitCov_gen = curve_fit(fitFunc_gen, division[0:len(division)-1], count, p0=[0, 3e-4, 0])"
   ]
  },
  {
   "cell_type": "code",
   "execution_count": 55,
   "metadata": {
    "collapsed": false
   },
   "outputs": [
    {
     "name": "stdout",
     "output_type": "stream",
     "text": [
      "a = 0.33414957859\n",
      "b = 0.00217218730911\n",
      "c = 3.18496892421e-06\n",
      "\n"
     ]
    }
   ],
   "source": [
    "a,b,c = fitParams_gen\n",
    "print (\"a = {}\\nb = {}\\nc = {}\\n\".format(a, b, c))\n"
   ]
  },
  {
   "cell_type": "code",
   "execution_count": 56,
   "metadata": {
    "collapsed": false
   },
   "outputs": [
    {
     "name": "stdout",
     "output_type": "stream",
     "text": [
      "[[  1.10186661e-04  -6.83152390e-07  -1.07612173e-09]\n",
      " [ -6.83152390e-07   4.65228418e-09   5.59704086e-12]\n",
      " [ -1.07612173e-09   5.59704086e-12   4.82402255e-13]]\n"
     ]
    }
   ],
   "source": [
    "print (fitCov_gen)"
   ]
  },
  {
   "cell_type": "code",
   "execution_count": 59,
   "metadata": {
    "collapsed": false
   },
   "outputs": [
    {
     "name": "stdout",
     "output_type": "stream",
     "text": [
      "Expectation of t, E[t] = 153.830926139 seconds\n",
      "\n"
     ]
    }
   ],
   "source": [
    "print (\"Expectation of t, E[t] = {} seconds\\n\".format((1 / (fitParams_gen[1])) * fitParams_gen[0] + fitParams_gen[2]))"
   ]
  },
  {
   "cell_type": "markdown",
   "metadata": {},
   "source": [
    "### Evaluate adjusted exponential"
   ]
  },
  {
   "cell_type": "code",
   "execution_count": 60,
   "metadata": {
    "collapsed": false
   },
   "outputs": [
    {
     "data": {
      "image/png": "[encoded data removed]",
      "text/plain": [
       "<matplotlib.figure.Figure at 0x11fe225d0>"
      ]
     },
     "metadata": {},
     "output_type": "display_data"
    }
   ],
   "source": [
    "t = division[0:len(division)-1]\n",
    "\n",
    "timeToNextSeries.hist(bins=50, normed=True, color=\"blue\", label=\"Intertweet times\")\n",
    "pyplt.plot(t, fitFunc(t, fitParams[0]), color=\"yellow\", label=\"Exponential fit\")\n",
    "pyplt.plot(t, fitFunc_gen(t, fitParams_gen[0], fitParams_gen[1], fitParams_gen[2]), color=\"red\", label=\"Gen. exponential fit\")\n",
    "pyplt.legend(loc='upper center', shadow=True, fontsize='x-large')\n",
    "pyplt.xlabel('Seconds until next tweet', fontsize=14)\n",
    "pyplt.ylabel('', fontsize=14);"
   ]
  },
  {
   "cell_type": "code",
   "execution_count": 61,
   "metadata": {
    "collapsed": false
   },
   "outputs": [],
   "source": [
    "exp_gen_diffs = []\n",
    "exp_gen_abs = []\n",
    "for t in timeUntilNext:\n",
    "    exp_gen_diffs.append((t-1/fitParams_gen[1]) * fitParams_gen[0] + fitParams_gen[1])\n",
    "    exp_gen_abs.append(math.fabs((t-1/fitParams_gen[1]) * fitParams_gen[0] + fitParams_gen[1]))"
   ]
  },
  {
   "cell_type": "code",
   "execution_count": 64,
   "metadata": {
    "collapsed": false
   },
   "outputs": [
    {
     "data": {
      "image/png": "[encoded data removed]",
      "text/plain": [
       "<matplotlib.figure.Figure at 0x11b4d2690>"
      ]
     },
     "metadata": {},
     "output_type": "display_data"
    }
   ],
   "source": [
    "pd.Series(exp_gen_abs).hist(label=\"Absolute Errors\")\n",
    "pyplt.legend(loc='upper center', shadow=True, fontsize='x-large')\n",
    "pyplt.xlabel('Seconds until next tweet', fontsize=14)\n",
    "pyplt.ylabel('Counts', fontsize=14);"
   ]
  },
  {
   "cell_type": "code",
   "execution_count": 62,
   "metadata": {
    "collapsed": false
   },
   "outputs": [
    {
     "data": {
      "text/plain": [
       "count     3232.000000\n",
       "mean      1281.188091\n",
       "std       3697.172729\n",
       "min       -153.494601\n",
       "25%       -126.094336\n",
       "50%        -41.554492\n",
       "75%        676.115265\n",
       "max      28184.728710\n",
       "dtype: float64"
      ]
     },
     "execution_count": 62,
     "metadata": {},
     "output_type": "execute_result"
    }
   ],
   "source": [
    "pd.Series(exp_gen_diffs).describe()"
   ]
  },
  {
   "cell_type": "code",
   "execution_count": 63,
   "metadata": {
    "collapsed": false
   },
   "outputs": [
    {
     "data": {
      "text/plain": [
       "count     3232.000000\n",
       "mean      1400.959394\n",
       "std       3653.456235\n",
       "min          0.119945\n",
       "25%        107.716109\n",
       "50%        139.126169\n",
       "75%        676.115265\n",
       "max      28184.728710\n",
       "dtype: float64"
      ]
     },
     "execution_count": 63,
     "metadata": {},
     "output_type": "execute_result"
    }
   ],
   "source": [
    "pd.Series(exp_gen_abs).describe()"
   ]
  },
  {
   "cell_type": "markdown",
   "metadata": {},
   "source": [
    "## Examining the sources of prediction error \n",
    "### Depection of variance in data\n"
   ]
  },
  {
   "cell_type": "code",
   "execution_count": 67,
   "metadata": {
    "collapsed": false
   },
   "outputs": [],
   "source": [
    "tweetsDF = pandas.io.json.read_json(\"new_gruber_tweets.json\")"
   ]
  },
  {
   "cell_type": "markdown",
   "metadata": {},
   "source": [
    "#### Obtaining time-to-tweet vs. delta-t data points"
   ]
  },
  {
   "cell_type": "code",
   "execution_count": 68,
   "metadata": {
    "collapsed": false
   },
   "outputs": [],
   "source": [
    "step_size = 10\n",
    "data_points = []\n",
    "for v in timeUntilNext:\n",
    "    bin_left_edges = np.arange(0, v, step_size)\n",
    "    \n",
    "    for l_edge in bin_left_edges:\n",
    "        tempNewPoint = [l_edge, v-l_edge]\n",
    "        data_points.append(tempNewPoint)"
   ]
  },
  {
   "cell_type": "code",
   "execution_count": 69,
   "metadata": {
    "collapsed": false
   },
   "outputs": [],
   "source": [
    "data_points.sort()"
   ]
  },
  {
   "cell_type": "code",
   "execution_count": 70,
   "metadata": {
    "collapsed": false
   },
   "outputs": [],
   "source": [
    "deltat_100 = [v[1] for v in data_points if v[0]==100]\n",
    "deltat_150 = [v[1] for v in data_points if v[0]==150]\n",
    "deltat_10 = [v[1] for v in data_points if v[0]==10]"
   ]
  },
  {
   "cell_type": "code",
   "execution_count": 99,
   "metadata": {
    "collapsed": false
   },
   "outputs": [
    {
     "data": {
      "image/png": "[encoded data removed]",
      "text/plain": [
       "<matplotlib.figure.Figure at 0x12d4e8750>"
      ]
     },
     "metadata": {},
     "output_type": "display_data"
    }
   ],
   "source": [
    "_= pandas.Series(deltat_10).hist(bins=30, alpha=0.5, color=\"cyan\", label=\"Intertweet times after 10 sec\")\n",
    "_= pandas.Series(deltat_150).hist(bins=30, alpha=0.7, color=\"red\", label=\"Intertweet times after 150 sec\")\n",
    "_= pyplt.legend(loc='upper center', shadow=True, fontsize='x-large')\n",
    "_= pyplt.xlabel('Seconds until next tweet', fontsize=14)\n",
    "_= pyplt.ylabel('Counts', fontsize=14)\n",
    "\n"
   ]
  },
  {
   "cell_type": "code",
   "execution_count": 83,
   "metadata": {
    "collapsed": false
   },
   "outputs": [],
   "source": [
    "deltatToStd = []\n",
    "deltaToDist = []\n",
    "for i in np.arange(0, 100, 10):\n",
    "    tempDeltas = [v[1] for v in data_points if v[0] == i]\n",
    "    tempStd = scipy.std(tempDeltas)\n",
    "    deltatToStd.append([i, tempStd])\n",
    "    deltaToDist.append([i, tempDeltas])"
   ]
  },
  {
   "cell_type": "code",
   "execution_count": 84,
   "metadata": {
    "collapsed": false
   },
   "outputs": [],
   "source": [
    "xVals = [v[0] for v in deltatToStd]\n",
    "yVals = [v[1] for v in deltatToStd]"
   ]
  },
  {
   "cell_type": "code",
   "execution_count": 85,
   "metadata": {
    "collapsed": false
   },
   "outputs": [
    {
     "data": {
      "text/plain": [
       "13381.17044359403"
      ]
     },
     "execution_count": 85,
     "metadata": {},
     "output_type": "execute_result"
    }
   ],
   "source": [
    "scipy.std(deltat_150)"
   ]
  },
  {
   "cell_type": "code",
   "execution_count": 91,
   "metadata": {
    "collapsed": false
   },
   "outputs": [
    {
     "data": {
      "image/png": "[encoded data removed]",
      "text/plain": [
       "<matplotlib.figure.Figure at 0x12c21f550>"
      ]
     },
     "metadata": {},
     "output_type": "display_data"
    }
   ],
   "source": [
    "_= pyplt.plot(xVals, yVals, label=\"std dev (sec)\")\n",
    "_= pyplt.legend(loc='upper left', fontsize='x-large')\n",
    "_= pyplt.xlabel('Number of seconds elapsed since last tweet', fontsize=14)\n",
    "_= pyplt.ylabel('Number of seconds till next tweet', fontsize=14)"
   ]
  },
  {
   "cell_type": "markdown",
   "metadata": {},
   "source": [
    "#### Obtain bounds on bootstrapped 95% confidence interval"
   ]
  },
  {
   "cell_type": "code",
   "execution_count": 92,
   "metadata": {
    "collapsed": false
   },
   "outputs": [],
   "source": [
    "deltaToBounds = []\n",
    "for v in deltaToDist:\n",
    "    topBound = numpy.percentile(v[1], 95)\n",
    "    bottomBound = numpy.percentile(v[1], 5)\n",
    "    deltaToBounds.append([v[0], (topBound, bottomBound)])"
   ]
  },
  {
   "cell_type": "code",
   "execution_count": 97,
   "metadata": {
    "collapsed": false
   },
   "outputs": [
    {
     "data": {
      "image/png": "[encoded data removed]",
      "text/plain": [
       "<matplotlib.figure.Figure at 0x12ccb5d90>"
      ]
     },
     "metadata": {},
     "output_type": "display_data"
    }
   ],
   "source": [
    "_= pyplt.plot(xVals, [e[1][0] for e in deltaToBounds], color=\"red\")\n",
    "_= pyplt.plot(xVals, [e[1][1] for e in deltaToBounds], color=\"red\")\n",
    "pyplt.fill_between(xVals, [e[1][0] for e in deltaToBounds], [e[1][1] for e in deltaToBounds], \n",
    "                   alpha=0.4, color=\"orange\")\n",
    "_= pyplt.xlabel('Number of seconds elapsed since last tweet', fontsize=14)\n",
    "_= pyplt.ylabel('Number of seconds till next tweet', fontsize=14)"
   ]
  },
  {
   "cell_type": "markdown",
   "metadata": {},
   "source": [
    "This graph shows that as time goes on the confidence band increases. This is just another way of saying, that as time goes on, we are more and more uncertain of how long it will be until they tweet next. Any estimator we build using this data will be *averaging* this spread. Fundamentally, this data suffers from **inherent** [variance](https://classroom.udacity.com/courses/ud919/lessons/3104518651/concepts/31003987850923).\n",
    "\n",
    "### Question:\n",
    "- What is the cause of the spread we see in the data?\n",
    "There are two possible causes of this spread\n",
    "    - 1) It could be because the underlying process that generates the data is random. If that is the case, the best we can do is use our exponential function to model it.\n",
    "    - 2) On the other hand, the spread could be caused because if factors we have not modeled-NOISE.\n",
    "\n",
    "If it is 2) we can reduce the effect of noise in our data by finding the factors on which inter-tweet time depends.\n"
   ]
  },
  {
   "cell_type": "markdown",
   "metadata": {},
   "source": [
    "### Impact of unmeasured features\n",
    "#### One variable plus gaussian noise"
   ]
  },
  {
   "cell_type": "code",
   "execution_count": 100,
   "metadata": {
    "collapsed": false
   },
   "outputs": [],
   "source": [
    "dataPoints_1 = []\n",
    "x = np.arange(0, 100, 10)\n",
    "for j in xrange(100):\n",
    "    points = [(i, i*2 + 3 + numpy.random.normal(scale=50.0)) for i in x]\n",
    "    dataPoints_1.extend(points)"
   ]
  },
  {
   "cell_type": "code",
   "execution_count": 101,
   "metadata": {
    "collapsed": false
   },
   "outputs": [],
   "source": [
    "pointToVals = []\n",
    "pointToBounds = []\n",
    "for i in np.arange(0, 100, 10):\n",
    "    valsForDataPoint = [v for v in dataPoints_1 if v[0]==i]\n",
    "    pointToVals.append(valsForDataPoint)\n",
    "    upperBound = numpy.percentile(valsForDataPoint, 95)\n",
    "    lowerBound = numpy.percentile(valsForDataPoint, 5)\n",
    "    pointToBounds.append([i, (upperBound, lowerBound)])"
   ]
  },
  {
   "cell_type": "code",
   "execution_count": 104,
   "metadata": {
    "collapsed": false
   },
   "outputs": [
    {
     "data": {
      "image/png": "[encoded data removed]",
      "text/plain": [
       "<matplotlib.figure.Figure at 0x12dd0c5d0>"
      ]
     },
     "metadata": {},
     "output_type": "display_data"
    }
   ],
   "source": [
    "pyplt.plot(x, [v[1][0] for v in pointToBounds])\n",
    "pyplt.plot(x, [v[1][1] for v in pointToBounds])\n",
    "pyplt.plot(x, [[i*2+3] for i in x], color=\"red\", label=\"true model\")\n",
    "pyplt.fill_between(x, [v[1][0] for v in pointToBounds], [v[1][1] for v in pointToBounds], color=\"orange\", alpha=0.4)\n",
    "_= pyplt.legend(loc=2, prop={'size':18})\n",
    "_= pyplt.xlabel('Number of seconds elapsed since last tweet', fontsize=14)"
   ]
  },
  {
   "cell_type": "markdown",
   "metadata": {},
   "source": [
    "#### Two variables plus gaussian noise\n",
    "- To investigate the impact of *uncaptured* features on prediction, lets extend our test model from $f(x) = 2x + 3 + noise $ to a two feature model $f(x) = 2x + 2y+ noise $\n",
    "- We will not change the training data to reflect two features. \n"
   ]
  },
  {
   "cell_type": "code",
   "execution_count": 105,
   "metadata": {
    "collapsed": false
   },
   "outputs": [],
   "source": [
    "dataPoints_2 = []\n",
    "x = np.arange(0, 100, 10)\n",
    "y = np.arange(50, 150, 10)\n",
    "for j in xrange(100):\n",
    "    yVal = random.choice(y)\n",
    "    points = [(i, i*2 + yVal*2 + 3 + numpy.random.normal(scale=50.0)) for i in x]\n",
    "    dataPoints_2.extend(points)"
   ]
  },
  {
   "cell_type": "code",
   "execution_count": 106,
   "metadata": {
    "collapsed": false
   },
   "outputs": [],
   "source": [
    "avgYAtX = {}\n",
    "for i in x:\n",
    "    lineVals = [(i*2 + yVal*2 + 3 ) for yVal in np.arange(50, 150, 10)]\n",
    "    avgY = reduce(lambda x,y: x+y, lineVals)/len(lineVals)\n",
    "    avgYAtX[i] = avgY"
   ]
  },
  {
   "cell_type": "code",
   "execution_count": 107,
   "metadata": {
    "collapsed": false
   },
   "outputs": [],
   "source": [
    "pointToVals = []\n",
    "pointToBounds = []\n",
    "for i in np.arange(0, 100, 10):\n",
    "    valsForDataPoint = [v for v in dataPoints_2 if v[0]==i]\n",
    "    pointToVals.append(valsForDataPoint)\n",
    "    upperBound = numpy.percentile(valsForDataPoint, 95)\n",
    "    lowerBound = numpy.percentile(valsForDataPoint, 5)\n",
    "    pointToBounds.append([i, (upperBound, lowerBound)])"
   ]
  },
  {
   "cell_type": "code",
   "execution_count": 109,
   "metadata": {
    "collapsed": false
   },
   "outputs": [
    {
     "data": {
      "image/png": "[encoded data removed]",
      "text/plain": [
       "<matplotlib.figure.Figure at 0x12e91b490>"
      ]
     },
     "metadata": {},
     "output_type": "display_data"
    }
   ],
   "source": [
    "pyplt.plot(x, [v[1][0] for v in pointToBounds])\n",
    "pyplt.plot(x, [v[1][1] for v in pointToBounds])\n",
    "pyplt.plot(x, [avgYAtX[i] for i in x], color=\"red\", label=\"true model (best estimate)\")\n",
    "pyplt.fill_between(x, [v[1][0] for v in pointToBounds], [v[1][1] for v in pointToBounds], color=\"orange\", alpha=0.4)\n",
    "_=pyplt.legend(loc=2, prop={'size':18})\n",
    "_= pyplt.xlabel('Number of seconds elapsed since last tweet', fontsize=14)"
   ]
  },
  {
   "cell_type": "markdown",
   "metadata": {},
   "source": [
    "### Feature selection\n",
    "Proposed list of features to consider for influence upon intertweet time:\n",
    "- mention distance\n",
    "- time of day\n",
    "- contains mention\n",
    "- contains URL\n",
    "- length of tweet (num chars)\n",
    "- contains hashtags\n",
    "- is_reply\n",
    "\n",
    "We now need to form the features described above. The most non-trivial one to create is \"mention distance\", as defined in lecture. We do this now. "
   ]
  },
  {
   "cell_type": "markdown",
   "metadata": {},
   "source": [
    "#### Create mention distance"
   ]
  },
  {
   "cell_type": "code",
   "execution_count": 110,
   "metadata": {
    "collapsed": false
   },
   "outputs": [],
   "source": [
    "import twitter_tools\n",
    "from twitter_tools import *\n",
    "import json"
   ]
  },
  {
   "cell_type": "markdown",
   "metadata": {},
   "source": [
    "Obtain your own data files here!"
   ]
  },
  {
   "cell_type": "code",
   "execution_count": 142,
   "metadata": {
    "collapsed": false
   },
   "outputs": [],
   "source": [
    "tweetFile = open(\"new_gruber_tweets.json\")\n",
    "jsonFile = json.load(tweetFile)\n",
    "tweetFile.close()"
   ]
  },
  {
   "cell_type": "code",
   "execution_count": 143,
   "metadata": {
    "collapsed": false
   },
   "outputs": [],
   "source": [
    "gruberTweetsDF = pandas.io.json.read_json(\"new_gruber_tweets.json\")\n",
    "siracusaTweetsDF = pandas.io.json.read_json(\"new_siracusa_tweets.json\")\n",
    "armentTweetsDF = pandas.io.json.read_json(\"new_arment_tweets.json\")"
   ]
  },
  {
   "cell_type": "code",
   "execution_count": 144,
   "metadata": {
    "collapsed": false
   },
   "outputs": [],
   "source": [
    "gruberTimeDiffs = []\n",
    "gruberTweetTimes = []\n",
    "gruberTimeToDiff = {}\n",
    "gruberTimeToText = {}\n",
    "siracusaMentionTimes = []\n",
    "armentMentionTimes = []"
   ]
  },
  {
   "cell_type": "code",
   "execution_count": 145,
   "metadata": {
    "collapsed": false
   },
   "outputs": [],
   "source": [
    "gruberCreatedDF = gruberTweetsDF.ix[0:, [\"created_at\"]]\n",
    "gruberCreatedTextDF = gruberTweetsDF.ix[0:, [\"created_at\", \"text\"]]\n",
    "createdTextVals = gruberCreatedTextDF.values\n",
    "\n",
    "for i, row in gruberCreatedDF.iterrows():\n",
    "    gruberTweetTimes.append(row[\"created_at\"])"
   ]
  },
  {
   "cell_type": "code",
   "execution_count": 146,
   "metadata": {
    "collapsed": false
   },
   "outputs": [],
   "source": [
    "gruberTweetTimes.sort()"
   ]
  },
  {
   "cell_type": "code",
   "execution_count": 147,
   "metadata": {
    "collapsed": false
   },
   "outputs": [],
   "source": [
    "for i in xrange(1, len(gruberTweetTimes)):\n",
    "    timeDiff = (gruberTweetTimes[i]-gruberTweetTimes[i-1]).seconds\n",
    "    gruberTimeDiffs.append(timeDiff)\n",
    "    gruberTimeToDiff[gruberTweetTimes[i]] = timeDiff\n",
    "    gruberTimeToText[gruberTweetTimes[i]] = gruberCreatedTextDF[gruberCreatedTextDF[\"created_at\"]==gruberTweetTimes[i]]"
   ]
  },
  {
   "cell_type": "markdown",
   "metadata": {},
   "source": [
    "### Capture time of mentions"
   ]
  },
  {
   "cell_type": "code",
   "execution_count": 148,
   "metadata": {
    "collapsed": false
   },
   "outputs": [],
   "source": [
    "nearestMentionToTimeDiff = []\n",
    "tweetIndexToNearestMention = {}"
   ]
  },
  {
   "cell_type": "code",
   "execution_count": 149,
   "metadata": {
    "collapsed": false
   },
   "outputs": [],
   "source": [
    "def findTweetFollowingTime(timeStamp, tweetTimes):\n",
    "    returnTweetTime = None\n",
    "    \n",
    "    for t in tweetTimes:\n",
    "        if t>timeStamp:\n",
    "            returnTweetTime = t\n",
    "            break\n",
    "    \n",
    "    return returnTweetTime\n",
    "\n",
    "def findTweetPreceedingTime(timeStamp, tweetTimes):\n",
    "    returnTweetTime = None\n",
    "    \n",
    "    i = len(tweetTimes)-1\n",
    "    \n",
    "    while i>=0:\n",
    "        t = tweetTimes[i]\n",
    "        if t<timeStamp:\n",
    "            returnTweetTime = t\n",
    "            break\n",
    "        \n",
    "        i-=1\n",
    "    \n",
    "    return returnTweetTime"
   ]
  },
  {
   "cell_type": "code",
   "execution_count": 150,
   "metadata": {
    "collapsed": false
   },
   "outputs": [],
   "source": [
    "siracusaTimeOfGruberMentions = []\n",
    "armentTimeOfGruberMentions = []"
   ]
  },
  {
   "cell_type": "code",
   "execution_count": 151,
   "metadata": {
    "collapsed": false
   },
   "outputs": [],
   "source": [
    "for i, row in armentTweetsDF.iterrows():\n",
    "    if \"user_mentions\" in row:\n",
    "        if type(row[\"user_mentions\"]) == list:\n",
    "            if len([e for e in row[\"user_mentions\"] if e[\"screen_name\"]==\"gruber\"])>0:\n",
    "                armentTimeOfGruberMentions.append(row[\"created_at\"])"
   ]
  },
  {
   "cell_type": "code",
   "execution_count": 152,
   "metadata": {
    "collapsed": false
   },
   "outputs": [],
   "source": [
    "for i, row in siracusaTweetsDF.iterrows():\n",
    "    if \"user_mentions\" in row:\n",
    "        if type(row[\"user_mentions\"]) == list:\n",
    "            if len([e for e in row[\"user_mentions\"] if e[\"screen_name\"]==\"gruber\"])>0:\n",
    "                siracusaTimeOfGruberMentions.append(row[\"created_at\"])"
   ]
  },
  {
   "cell_type": "markdown",
   "metadata": {},
   "source": [
    "### Mention distance for each @gruber tweet\n",
    "For each gruber tweet, let's find the tweet belonging to either @siracusa or @marcoarment which is the closest, in time, to mention @gruber"
   ]
  },
  {
   "cell_type": "code",
   "execution_count": 153,
   "metadata": {
    "collapsed": false
   },
   "outputs": [],
   "source": [
    "gruberTweetTimes.sort()\n",
    "siracusaTimeOfGruberMentions.sort()\n",
    "armentTimeOfGruberMentions.sort()\n",
    "for i in xrange(len(gruberTweetTimes)):\n",
    "    t = gruberTweetTimes[i]\n",
    "    t_next = None\n",
    "    if i+1<len(gruberTweetTimes):\n",
    "        t_next = gruberTweetTimes[i+1]\n",
    "        \n",
    "        #print \"t_next: %s\" % t_next\n",
    "        t_s = findTweetFollowingTime(t, siracusaTimeOfGruberMentions)\n",
    "        t_s_prev = findTweetPreceedingTime(t, siracusaTimeOfGruberMentions)\n",
    "        \n",
    "        #print \"t_s: %s\" % t_s\n",
    "        \n",
    "        t_a = findTweetFollowingTime(t, armentTimeOfGruberMentions)\n",
    "        t_a_prev = findTweetPreceedingTime(t, armentTimeOfGruberMentions)\n",
    "        \n",
    "        sDiff = None\n",
    "        aDiff = None\n",
    "        if t_s_prev is not None and t_s is not None: \n",
    "            sDiff = math.fabs((t_s - t).seconds)\n",
    "            if sDiff >math.fabs((t-t_s_prev).seconds):\n",
    "                sDiff = math.fabs((t-t_s_prev).seconds)\n",
    "            \n",
    "        if t_a_prev is not None and t_a is not None:\n",
    "            aDiff = math.fabs((t_a - t).seconds)\n",
    "            if aDiff > math.fabs((t-t_a_prev).seconds):\n",
    "                aDiff = math.fabs((t - t_a_prev).seconds)\n",
    "        \n",
    "        closestMention = None\n",
    "        \n",
    "        if sDiff is not None:\n",
    "            closestMention = sDiff\n",
    "        elif aDiff is not None:\n",
    "            closestMention = aDiff\n",
    "        \n",
    "        if aDiff is not None and sDiff is not None:\n",
    "            if aDiff < sDiff:\n",
    "                closestMention = aDiff\n",
    "                \n",
    "        if closestMention is not None:\n",
    "            nearestMentionToTimeDiff.append((closestMention, (t_next-t).seconds))\n",
    "            tweetIndexToNearestMention[i] = closestMention"
   ]
  },
  {
   "cell_type": "markdown",
   "metadata": {},
   "source": [
    "#### Extract remaining features"
   ]
  },
  {
   "cell_type": "code",
   "execution_count": 125,
   "metadata": {
    "collapsed": false
   },
   "outputs": [],
   "source": [
    "features_list = extract_features(jsonFile)"
   ]
  },
  {
   "cell_type": "code",
   "execution_count": 126,
   "metadata": {
    "collapsed": false
   },
   "outputs": [],
   "source": [
    "featuresWithLabel = []\n",
    "for i in range(len(gruberTimeDiffs)):\n",
    "    timeDiff = gruberTimeDiffs[i]\n",
    "    if timeDiff<4000:\n",
    "        label = \"short\"\n",
    "    else:\n",
    "        label = \"long\"\n",
    "    \n",
    "    featuresForTweet = features_list[i]\n",
    "    \n",
    "    nearestMention = 0\n",
    "    if i in tweetIndexToNearestMention:\n",
    "        nearestMention = tweetIndexToNearestMention[i]\n",
    "    \n",
    "    completeItem = []\n",
    "    completeItem.append(label)\n",
    "    completeItem.extend(list(featuresForTweet))\n",
    "    completeItem.append(nearestMention)\n",
    "    featuresWithLabel.append(completeItem)"
   ]
  },
  {
   "cell_type": "markdown",
   "metadata": {},
   "source": [
    "### Evaluate features by mutual information gain"
   ]
  },
  {
   "cell_type": "code",
   "execution_count": 154,
   "metadata": {
    "collapsed": false
   },
   "outputs": [],
   "source": [
    "from info_gain import *"
   ]
  },
  {
   "cell_type": "markdown",
   "metadata": {},
   "source": [
    "### 1) Time of day"
   ]
  },
  {
   "cell_type": "code",
   "execution_count": 155,
   "metadata": {
    "collapsed": false
   },
   "outputs": [
    {
     "name": "stdout",
     "output_type": "stream",
     "text": [
      "Entropy loss for Time of Day feature is 0.000297923289112\n"
     ]
    }
   ],
   "source": [
    "valsY = [\"short\", \"long\"]\n",
    "binsY = None\n",
    "\n",
    "joint_list = [(v[1], v[0]) for v in featuresWithLabel]\n",
    "valsX = [\"morning\", \"afternoon\", \"evening\", \"night\"]\n",
    "binsX = None\n",
    "\n",
    "jpTable = compute_joint_prob(joint_list, valsX, valsY, None, None)\n",
    "print \"Entropy loss for Time of Day feature is {}\".format(entropy_loss(jpTable, valsX, valsY))"
   ]
  },
  {
   "cell_type": "markdown",
   "metadata": {},
   "source": [
    "### 2) Contains mention"
   ]
  },
  {
   "cell_type": "code",
   "execution_count": 156,
   "metadata": {
    "collapsed": false
   },
   "outputs": [
    {
     "name": "stdout",
     "output_type": "stream",
     "text": [
      "Entropy loss for Contain Mention feature is 0.000185921715885\n"
     ]
    }
   ],
   "source": [
    "joint_list = [(v[2], v[0]) for v in featuresWithLabel]\n",
    "valsX = None\n",
    "binsX = [[0, .9], [1.0, 100]]\n",
    "\n",
    "jpTable = compute_joint_prob(joint_list, valsX, valsY, bins1=binsX)\n",
    "\n",
    "print \"Entropy loss for Contain Mention feature is {}\".format(entropy_loss(jpTable, [0.0, 1.0], valsY))"
   ]
  },
  {
   "cell_type": "markdown",
   "metadata": {},
   "source": [
    "### 3) Contains URL"
   ]
  },
  {
   "cell_type": "code",
   "execution_count": 157,
   "metadata": {
    "collapsed": false
   },
   "outputs": [
    {
     "name": "stdout",
     "output_type": "stream",
     "text": [
      "Entropy loss for Contains URL feature is 0.00069178412888\n"
     ]
    }
   ],
   "source": [
    "joint_list = [(v[3], v[0]) for v in featuresWithLabel]\n",
    "valsX = None\n",
    "binsX = [[0, .9], [1.0, 100]]\n",
    "\n",
    "jpTable = compute_joint_prob(joint_list, valsX, valsY, bins1=binsX)\n",
    "print \"Entropy loss for Contains URL feature is {}\".format(entropy_loss(jpTable, [0.0, 1.0], valsY))"
   ]
  },
  {
   "cell_type": "markdown",
   "metadata": {},
   "source": [
    "### 4) Length of tweet"
   ]
  },
  {
   "cell_type": "code",
   "execution_count": 158,
   "metadata": {
    "collapsed": false
   },
   "outputs": [
    {
     "name": "stdout",
     "output_type": "stream",
     "text": [
      "Entropy loss for Contains URL feature is 3.18446759664\n"
     ]
    }
   ],
   "source": [
    "joint_list = [(v[4], v[0]) for v in featuresWithLabel]\n",
    "valsX = None\n",
    "binsX = [[0, 14], [14, 28], [28, 42], [42, 56], [56, 70], [70, 84], [84, 98], [98, 112], [112, 126]]\n",
    "\n",
    "jpTable = compute_joint_prob(joint_list, valsX, valsY, bins1=binsX)\n",
    "print \"Entropy loss for Contains URL feature is {}\".format(entropy_loss(jpTable, \n",
    "                                                           [v[4] for v in featuresWithLabel], valsY))"
   ]
  },
  {
   "cell_type": "markdown",
   "metadata": {},
   "source": [
    "### 5) Contains hashtags"
   ]
  },
  {
   "cell_type": "code",
   "execution_count": 160,
   "metadata": {
    "collapsed": false
   },
   "outputs": [
    {
     "name": "stdout",
     "output_type": "stream",
     "text": [
      "Entropy loss for Contains Hashtags feature is 2.47181497266e-05\n"
     ]
    }
   ],
   "source": [
    "joint_list = [(v[5], v[0]) for v in featuresWithLabel]\n",
    "valsX = None\n",
    "binsX = [[0, .9], [1.0, 100]]\n",
    "\n",
    "jpTable = compute_joint_prob(joint_list, valsX, valsY, bins1=binsX)\n",
    "print \"Entropy loss for Contains Hashtags feature is {}\".format(entropy_loss(jpTable, [0.0, 1.0], valsY))"
   ]
  },
  {
   "cell_type": "markdown",
   "metadata": {},
   "source": [
    "### 6) Is reply"
   ]
  },
  {
   "cell_type": "code",
   "execution_count": 161,
   "metadata": {
    "collapsed": false
   },
   "outputs": [
    {
     "name": "stdout",
     "output_type": "stream",
     "text": [
      "Entropy loss for Contains Hashtags feature is 7.18875313335e-05\n"
     ]
    }
   ],
   "source": [
    "joint_list = [(v[6], v[0]) for v in featuresWithLabel]\n",
    "valsX = None\n",
    "binsX = [[0, .9], [1.0, 100]]\n",
    "\n",
    "jpTable = compute_joint_prob(joint_list, valsX, valsY, bins1=binsX)\n",
    "print \"Entropy loss for Contains Hashtags feature is {}\".format(entropy_loss(jpTable, [0.0, 1.0], valsY))"
   ]
  },
  {
   "cell_type": "markdown",
   "metadata": {},
   "source": [
    "### 7) Mention distance"
   ]
  },
  {
   "cell_type": "code",
   "execution_count": 163,
   "metadata": {
    "collapsed": false
   },
   "outputs": [
    {
     "name": "stdout",
     "output_type": "stream",
     "text": [
      "Entropy loss for Contains Hashtags feature is 2.06503854245\n"
     ]
    }
   ],
   "source": [
    "joint_list = [(v[7], v[0]) for v in featuresWithLabel]\n",
    "valsX = None\n",
    "binsX = [[0, 1000], [1000, 5000], [5000, 8000], [8000, 10000], [10000, 20000], \n",
    "         [20000, 30000], [30000, 60000], [60000, 80000], [80000, 10000], [100000, 800000]]\n",
    "\n",
    "jpTable = compute_joint_prob(joint_list, valsX, valsY, bins1=binsX)\n",
    "print \"Entropy loss for Contains Hashtags feature is {}\".format(entropy_loss(jpTable, [0.0, 1.0], valsY))"
   ]
  },
  {
   "cell_type": "markdown",
   "metadata": {},
   "source": [
    "## Fitting a new model \n",
    "Obtain data points - each point is of the form (delta-t, mention distance, text-length of last tweet) - label with time until next tweet\n",
    "### kNN"
   ]
  },
  {
   "cell_type": "code",
   "execution_count": 165,
   "metadata": {
    "collapsed": false
   },
   "outputs": [],
   "source": [
    "# Form data points to be used with kNN model\n",
    "step_size = 10\n",
    "knn_data_points = []\n",
    "tweet_index = 0\n",
    "for v in timeUntilNext:\n",
    "    bin_left_edges = np.arange(0, v, step_size)\n",
    "    \n",
    "    features_for_tweet = features_list[tweet_index]\n",
    "    \n",
    "    if tweet_index in tweetIndexToNearestMention:\n",
    "        for l_edge in bin_left_edges:\n",
    "            newDeltaT = l_edge\n",
    "            mentionDist = tweetIndexToNearestMention[tweet_index] + newDeltaT\n",
    "            textLength = features_for_tweet[3]\n",
    "            label = v-l_edge\n",
    "            \n",
    "            newPoint = [newDeltaT, mentionDist, textLength, label]\n",
    "            knn_data_points.append(newPoint)\n",
    "    \n",
    "    tweet_index+=1"
   ]
  },
  {
   "cell_type": "code",
   "execution_count": 166,
   "metadata": {
    "collapsed": false
   },
   "outputs": [
    {
     "name": "stdout",
     "output_type": "stream",
     "text": [
      "1381258\n",
      "966880.6\n",
      "414377.4\n"
     ]
    }
   ],
   "source": [
    "import sklearn\n",
    "from sklearn.neighbors import KNeighborsRegressor\n",
    "\n",
    "knn = KNeighborsRegressor(5)\n",
    "knn_3 = KNeighborsRegressor(3)\n",
    "\n",
    "print len(knn_data_points)\n",
    "print .70*len(knn_data_points)\n",
    "print .30*len(knn_data_points)"
   ]
  },
  {
   "cell_type": "code",
   "execution_count": 167,
   "metadata": {
    "collapsed": false
   },
   "outputs": [],
   "source": [
    "import random\n",
    "\n",
    "trainingPoints = [random.choice(knn_data_points) for i in xrange(966880)]\n",
    "trainingX = [(v[0], v[1], v[2]) for v in trainingPoints]\n",
    "trainingY = [v[3] for v in trainingPoints]\n",
    "\n",
    "m_3 = knn_3.fit(trainingX, trainingY)\n",
    "m = knn.fit(trainingX, trainingY)"
   ]
  },
  {
   "cell_type": "markdown",
   "metadata": {},
   "source": [
    "#### Performance on training set"
   ]
  },
  {
   "cell_type": "code",
   "execution_count": 169,
   "metadata": {
    "collapsed": false
   },
   "outputs": [],
   "source": [
    "y_ = m.predict(trainingX)\n",
    "y = m_3.predict(trainingX)"
   ]
  },
  {
   "cell_type": "code",
   "execution_count": 170,
   "metadata": {
    "collapsed": false
   },
   "outputs": [],
   "source": [
    "train_diffs = []\n",
    "for i in xrange(len(trainingY)):\n",
    "    train_diffs.append(trainingY[i] - y_[i])"
   ]
  },
  {
   "cell_type": "code",
   "execution_count": 171,
   "metadata": {
    "collapsed": false
   },
   "outputs": [
    {
     "data": {
      "text/plain": [
       "count    966880.000000\n",
       "mean       1876.534920\n",
       "std        4723.392699\n",
       "min           0.000000\n",
       "25%           4.000000\n",
       "50%           8.000000\n",
       "75%        1065.800000\n",
       "max       67504.400000\n",
       "dtype: float64"
      ]
     },
     "execution_count": 171,
     "metadata": {},
     "output_type": "execute_result"
    }
   ],
   "source": [
    "pandas.Series([math.fabs(x) for x in train_diffs]).describe()"
   ]
  },
  {
   "cell_type": "code",
   "execution_count": 193,
   "metadata": {
    "collapsed": false
   },
   "outputs": [
    {
     "data": {
      "image/png": "[encoded data removed]",
      "text/plain": [
       "<matplotlib.figure.Figure at 0x158a9c9d0>"
      ]
     },
     "metadata": {},
     "output_type": "display_data"
    }
   ],
   "source": [
    "_= pandas.Series(train_diffs).hist(bins=50, color=\"red\", label=\"Performance on training set\")\n",
    "_= pyplt.xlabel('', fontsize=14)\n",
    "_= pyplt.ylabel('Counts', fontsize=14)\n",
    "_= pyplt.legend(loc=2, prop={'size':18})"
   ]
  },
  {
   "cell_type": "markdown",
   "metadata": {},
   "source": [
    "#### Performance on test set"
   ]
  },
  {
   "cell_type": "code",
   "execution_count": 173,
   "metadata": {
    "collapsed": false
   },
   "outputs": [],
   "source": [
    "testPoints = [random.choice(knn_data_points) for i in xrange(414377)]"
   ]
  },
  {
   "cell_type": "code",
   "execution_count": 174,
   "metadata": {
    "collapsed": false
   },
   "outputs": [],
   "source": [
    "testX = [(v[0], v[1], v[2]) for v in testPoints]"
   ]
  },
  {
   "cell_type": "code",
   "execution_count": 175,
   "metadata": {
    "collapsed": false
   },
   "outputs": [],
   "source": [
    "testY = [v[3] for v in testPoints]"
   ]
  },
  {
   "cell_type": "code",
   "execution_count": 176,
   "metadata": {
    "collapsed": false
   },
   "outputs": [],
   "source": [
    "test_pred = m_3.predict(testX)"
   ]
  },
  {
   "cell_type": "code",
   "execution_count": 177,
   "metadata": {
    "collapsed": false
   },
   "outputs": [],
   "source": [
    "test_diffs = []\n",
    "for i in xrange(len(testY)):\n",
    "    test_diffs.append(math.fabs(testY[i] - test_pred[i]))"
   ]
  },
  {
   "cell_type": "code",
   "execution_count": 178,
   "metadata": {
    "collapsed": false
   },
   "outputs": [
    {
     "data": {
      "text/plain": [
       "count    414377.000000\n",
       "mean       1857.298908\n",
       "std        5612.142850\n",
       "min           0.000000\n",
       "25%           3.333333\n",
       "50%           6.666667\n",
       "75%          33.333333\n",
       "max       82735.333333\n",
       "dtype: float64"
      ]
     },
     "execution_count": 178,
     "metadata": {},
     "output_type": "execute_result"
    }
   ],
   "source": [
    "pandas.Series(test_diffs).describe()"
   ]
  },
  {
   "cell_type": "code",
   "execution_count": 179,
   "metadata": {
    "collapsed": false
   },
   "outputs": [],
   "source": [
    "testSeries = pandas.Series(test_diffs)"
   ]
  },
  {
   "cell_type": "code",
   "execution_count": 194,
   "metadata": {
    "collapsed": false
   },
   "outputs": [
    {
     "data": {
      "image/png": "[encoded data removed]",
      "text/plain": [
       "<matplotlib.figure.Figure at 0x158acb050>"
      ]
     },
     "metadata": {},
     "output_type": "display_data"
    }
   ],
   "source": [
    "_=testSeries.hist(bins=50, label=\"Performance on training set\")\n",
    "_= pyplt.xlabel('Seconds until next tweet', fontsize=14)\n",
    "_= pyplt.ylabel('Counts', fontsize=14)\n",
    "_= pyplt.legend(loc=2, prop={'size':18})"
   ]
  }
 ],
 "metadata": {
  "anaconda-cloud": {},
  "kernelspec": {
   "display_name": "Python [default]",
   "language": "python",
   "name": "python2"
  },
  "language_info": {
   "codemirror_mode": {
    "name": "ipython",
    "version": 2
   },
   "file_extension": ".py",
   "mimetype": "text/x-python",
   "name": "python",
   "nbconvert_exporter": "python",
   "pygments_lexer": "ipython2",
   "version": "2.7.13"
  }
 },
 "nbformat": 4,
 "nbformat_minor": 0
}
