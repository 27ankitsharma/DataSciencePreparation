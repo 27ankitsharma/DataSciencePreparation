{
 "cells": [
  {
   "cell_type": "markdown",
   "metadata": {
    "collapsed": true
   },
   "source": [
    "## Trees\n",
    "\n",
    "A tree has a root value and a sequence of branches. Each branch of a tree is a tree. A tree with no branches is called a leaf. Any tree contained within a tree is called a sub-tree of that tree (such as a branch of a branch). The root value of a sub-tree of a tree is called a node (or node value) in that tree.\n",
    "\n",
    "The data abstraction for a tree consists of the constructor `tree` and the selectors `root` and `branches`. \n",
    "\n",
    "In creating a tree, this first thing I want to do is decide on the underlying data structure I will use to model the tree. In this case, I am defining a tree as it's root and branches, all modeled using python lists.\n"
   ]
  },
  {
   "cell_type": "code",
   "execution_count": null,
   "metadata": {
    "collapsed": true
   },
   "outputs": [],
   "source": [
    "def is_tree(tree):\n",
    "    \"\"\"Determine whether this is an instance of an acceptable tree. \n",
    "       Return boolean\n",
    "    \"\"\"\n",
    "    \n",
    "    # all trees must be of type tree and have atleast one element\n",
    "    if type != tree and len(tree) < 1:\n",
    "        return False\n",
    "    \n",
    "    for branch in branches(tree):\n",
    "        if not is_tree(branch):\n",
    "            return False\n",
    "    return True\n",
    "\n",
    "def tree(root, branches=[]):\n",
    "    \"\"\"\n",
    "    Tree constructor\n",
    "    Attributes\n",
    "    ----------\n",
    "    root: singleton list\n",
    "    branches: list\n",
    "    \"\"\"\n",
    "    \n",
    "    "
   ]
  }
 ],
 "metadata": {
  "anaconda-cloud": {},
  "kernelspec": {
   "display_name": "Python [conda root]",
   "language": "python",
   "name": "conda-root-py"
  },
  "language_info": {
   "codemirror_mode": {
    "name": "ipython",
    "version": 2
   },
   "file_extension": ".py",
   "mimetype": "text/x-python",
   "name": "python",
   "nbconvert_exporter": "python",
   "pygments_lexer": "ipython2",
   "version": "2.7.13"
  }
 },
 "nbformat": 4,
 "nbformat_minor": 2
}
