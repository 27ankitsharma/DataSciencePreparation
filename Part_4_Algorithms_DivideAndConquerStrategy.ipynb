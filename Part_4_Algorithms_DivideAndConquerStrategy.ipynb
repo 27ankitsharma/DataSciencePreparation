{
 "cells": [
  {
   "cell_type": "code",
   "execution_count": 3,
   "metadata": {
    "collapsed": false
   },
   "outputs": [
    {
     "data": {
      "text/html": [
       "<script>jQuery(function() {if (jQuery(\"body.notebook_app\").length == 0) { jQuery(\".input_area\").toggle(); jQuery(\".prompt\").toggle();}});</script>"
      ]
     },
     "metadata": {},
     "output_type": "display_data"
    },
    {
     "data": {
      "text/html": [
       "<button onclick=\"jQuery('.input_area').toggle(); jQuery('.prompt').toggle();\">Toggle code</button>"
      ]
     },
     "metadata": {},
     "output_type": "display_data"
    }
   ],
   "source": [
    "from IPython.display import display\n",
    "from IPython.display import HTML\n",
    "import IPython.core.display as di # Example: di.display_html('<h3>%s:</h3>' % str, raw=True)\n",
    "\n",
    "# This line will hide code by default when the notebook is exported as HTML\n",
    "di.display_html('<script>jQuery(function() {if (jQuery(\"body.notebook_app\").length == 0) { jQuery(\".input_area\").toggle(); jQuery(\".prompt\").toggle();}});</script>', raw=True)\n",
    "\n",
    "# This line will add a button to toggle visibility of code blocks, for use with the HTML export version\n",
    "di.display_html('''<button onclick=\"jQuery('.input_area').toggle(); jQuery('.prompt').toggle();\">Toggle code</button>''', raw=True)\n"
   ]
  },
  {
   "cell_type": "markdown",
   "metadata": {
    "nbpresent": {
     "id": "0e0e180b-0ab4-4487-ab26-961766d551d8"
    }
   },
   "source": [
    "\n",
    "# Problem Solving Strategy - Divide and Conquer\n",
    "### The divide-and-conquer strategy solves a problem by:\n",
    "1. Breaking it into subproblems that are themselves smaller instances of the same type of problem\n",
    "2. Recursively solving these subproblems \n",
    "3. Appropriately combining their answers\n",
    "\n",
    "The *real work is done piecemeal*, in three different places: in the partitioning of problems into subproblems; at the very tail end of the recursion, when the subproblems are so small that they are solved outright; and in the gluing together of partial answers. These are held together and coordinated by the algorithm’s core recursive structure.\n",
    "As an introductory example, we’ll see how this technique yields a new algorithm for multiplying numbers, one that is much more efficient than the method we all learned in elementary school!\n",
    "\n",
    "\n",
    "\n",
    "## More on Runtimes\n",
    "\n",
    "1. $\\textbf{log N}$: Commonly occurs in programs that solve big problems, cutting down the problem size by some constant fraction at each step. Whenever $\\textbf{N}$ doubles, $\\textbf{log N}$ increases by a constant, but $\\textbf{log N}$ does not double until $\\textbf{N}$ increases to $\\textbf{N}^2$\n",
    "2. $\\textbf{N log N}$: This runtime usually occurs when we break up a problem into smaller subproblems, and somehow recombine them to find the solution. When $\\textbf{N}$ is 1,000,000, $\\textbf{N log N}$ is around 20,000,000. When $\\textbf{N}$ doubles, running time doubles, but not by much"
   ]
  },
  {
   "cell_type": "markdown",
   "metadata": {
    "nbpresent": {
     "id": "4075a87d-6854-4989-9ac5-82b79e1275e2"
    }
   },
   "source": [
    "$\\rm{lgN}$ | $$\\sqrt{N} $$| $$ {N}$$ | $${N \\rm{lg} N}$$ | $${N \\log N^2}$$ | $ {N^{\\frac32}} $ | $${N^2}$$\n",
    "--- | --- | --- | --- | ---| --- | ---\n",
    "3 | 3| 10| 33| 110| 32|100\n",
    "7| 10| 100|664|4410|1000|10000\n",
    "10|32|1000|9966|993317|31623|1000000\n",
    "13|100|10000|132877|1765633|1000000|100000000\n",
    "17|316|100000|1660964|27588016|31622777|10000000000\n"
   ]
  },
  {
   "cell_type": "code",
   "execution_count": 4,
   "metadata": {
    "collapsed": false
   },
   "outputs": [
    {
     "name": "stdout",
     "output_type": "stream",
     "text": [
      "Populating the interactive namespace from numpy and matplotlib\n"
     ]
    }
   ],
   "source": [
    "%pylab inline"
   ]
  },
  {
   "cell_type": "code",
   "execution_count": 5,
   "metadata": {
    "collapsed": true
   },
   "outputs": [],
   "source": [
    "# Import libraries\n",
    "from __future__ import absolute_import, division, print_function\n",
    "\n",
    "import math\n",
    "from time import time\n",
    "import matplotlib.pyplot as pyplt"
   ]
  },
  {
   "cell_type": "markdown",
   "metadata": {
    "nbpresent": {
     "id": "a46ad73e-49f6-43a3-9c1b-5a8fd4789646"
    }
   },
   "source": [
    "## More on the fun function $\\log N$\n",
    "Incidentally, this function $\\log N$ appears repeatedly in CS, in many guises. Here’s a sampling:\n",
    "1. $\\log N$ is, of course, the power to which you need to raise 2 in order to obtain N .\n",
    "2. Going backward, it can also be seen as the number of times you must halve N to get down to 1. (More precisely: $\\lceil \\log N\\rceil$.) This is useful when a number is halved at each iteration of an algorithm.\n",
    "3. It is the number of bits in the binary representation of N . (More precisely: $\\lceil \\log N+1\\rceil$.)\n",
    "4. It is also the depth of a complete binary tree with N nodes. (More precisely: $\\lfloor \\log N \\rfloor$.)\n",
    "5. It is even the sum $1 + \\frac12 + \\frac13 + ... + \\frac1N$, to with in a constant factor."
   ]
  },
  {
   "cell_type": "markdown",
   "metadata": {
    "nbpresent": {
     "id": "04e6782e-fae1-42f8-831b-f8acce42d5f1"
    }
   },
   "source": [
    "## *Recurrence Relations for Divide and Conquer*\n",
    "Divide-and-conquer algorithms often follow a generic pattern: they tackle a problem of size n by recursively solving, say, $a$ subproblems of size $n/b$ and then combining these answers in $O(n^d)$ time, for some a, b, d > 0 (in the multiplication algorithm, a = 3, b = 2, and d = 1). Their running time can therefore be captured by the equation $T(n) = aT(\\lceil n/b \\rceil) + O(n^d)$. We next derive a closed-form solution to this general recurrence so that we no longer have to solve it explicitly in each new instance.\n",
    "\n",
    "### Master theorem\n",
    "If $T(n) = aT(\\lceil n/b \\rceil) + O(n^d)$ for some constants a > 0, b > 1, and d ≥ 0,\n",
    "then\n",
    "\n",
    "$T(n) = \\begin{cases} \n",
    "O(n^d), & \\mbox{if } d \\mbox{ is} > \\log_{b}a \\\\ \n",
    "O(n^d \\, \\log \\, n), & \\mbox{if } d \\mbox{ is} = \\log_{b}a \\\\ \n",
    "O(n^d \\, \\log_{b} \\, a), & \\mbox{if} d \\mbox{ is} < \\log_{b}a \\end{cases}$\n",
    "\n",
    "This single theorem tells us the running times of most of the divide-and-conquer procedures we are likely to use.\n",
    "\n",
    "Below is an implementation of **MergeSort**, which is another divide and conquer algorithm that has the recurrence relation \n",
    "- $T(n) = 2T(n/2) + O(n)$ which yields $O(n \\, \\log \\, n)$\n",
    "\n"
   ]
  },
  {
   "cell_type": "code",
   "execution_count": 25,
   "metadata": {
    "collapsed": false,
    "nbpresent": {
     "id": "5dd2d066-6a73-4ac1-b33d-b46a297cb115"
    }
   },
   "outputs": [],
   "source": [
    "# My implementation of Mergesort\n",
    "# Input: an list of integers\n",
    "# Output: A sorted list of integers\n",
    "\n",
    "def merge(x,y):\n",
    "    ''' Returns a merge sorted list of integers\n",
    "    >>> merge([10,2], [5,3])\n",
    "    [2,3,5,10]\n",
    "    '''\n",
    "    lenght_x = len(x)\n",
    "    lenght_y = len(y)\n",
    "    \n",
    "    if lenght_x == 0:\n",
    "        return y\n",
    "    if lenght_y == 0:\n",
    "        return x\n",
    "    if(x[0] <= y[0]):\n",
    "        return [x[0]] + merge(x[1:lenght_x],y)\n",
    "    else:\n",
    "        return [y[0]] + merge(x, y[1:lenght_y])\n",
    "    \n",
    "    \n",
    "    \n",
    "def mergeSort(a):\n",
    "    \"\"\"Returns a sorted list of integers\n",
    "        >>> mergeSort([10, 2, 5, 3, 7, 13, 1, 6])\n",
    "        [1, 2, 3, 3, 5, 6, 7, 10, 13]\n",
    "    \"\"\"\n",
    "    n = len(a)\n",
    "    if n > 1:\n",
    "        return merge(mergeSort(a[0: int(math.floor(n/2))]),mergeSort(a[int(math.floor(n/2)):n]))\n",
    "    else:\n",
    "        return a\n"
   ]
  },
  {
   "cell_type": "code",
   "execution_count": 26,
   "metadata": {
    "collapsed": false,
    "nbpresent": {
     "id": "90319fb0-e918-41b7-aca6-3f4522146d0d"
    }
   },
   "outputs": [
    {
     "data": {
      "text/plain": [
       "[1, 2, 3, 5, 6, 7, 10, 13]"
      ]
     },
     "execution_count": 26,
     "metadata": {},
     "output_type": "execute_result"
    }
   ],
   "source": [
    "mergeSort([10, 2, 5, 3, 7, 13, 1, 6])"
   ]
  },
  {
   "cell_type": "markdown",
   "metadata": {
    "nbpresent": {
     "id": "db44a584-3986-4bcb-94ef-4adeb935c34d"
    }
   },
   "source": [
    "### Bit-Level Multiplication as a means of further understanding Divide and Conquer paradigm\n",
    "\n",
    "Here is another example of a divide and conquer algorithm that uses something we are familiar with, \"Multiplication,\" but this time with a catch, we will shift the unit of analysis to the bit level!  "
   ]
  },
  {
   "cell_type": "markdown",
   "metadata": {
    "nbpresent": {
     "id": "a7b64ea4-8b96-4e89-ab3d-f9328412c411"
    }
   },
   "source": [
    "<pre><code>\n",
    "function multiply(x, y)\n",
    "Input: Positive integers x and y, in binary \n",
    "Output: Their product\n",
    "\n",
    "n = max(size of x, size of y) \n",
    "if n = 1: \n",
    "   return xy\n",
    "   \n",
    "xL, xR = leftmost celing(n/2), rightmost floor(n/2) bits of x \n",
    "yL, yR = leftmost celing(n/2), rightmost floor(n/2) bits of y\n",
    "P1 = multiply(xL,yL)\n",
    "P2 = multiply(xR,yR)\n",
    "P3 = multiply(xL + xR,yL + yR)\n",
    "return P1 × 2^n + (P3 −P1 −P2) × 2^(n/2) + P2\n",
    "</code></pre>"
   ]
  },
  {
   "cell_type": "markdown",
   "metadata": {
    "nbpresent": {
     "id": "d4d10043-4bcd-4a08-8226-6ee40c285697"
    }
   },
   "source": [
    "Suppose $x$ and $y$ are two $n$-bit integers, and assume for convenience that $n$ is a power of 2 (the more general case is hardly any different). As a first step toward multiplying $x$ and $y$, split each of them into their left and right halves, which are $n/2$ bits long. For instance, if $x = 10110110_2$ (the subscript 2 means “binary”) then $xL = 1011_2$, $xR = 0110_2$, and $x = 1011_2 × 2^4 + 0110_2$. \n",
    "\n",
    "The product of $x$ and $y$ can then be rewritten as\n",
    "$$xy = (2^{n/2}xL + xR)(2^{n/2}yL + yR) = 2^n xL yL + 2^{n/2} (xL yR + xR yL) + xRyR$$\n",
    "We will compute xy via the expression on the right. \n",
    "\n",
    "The significant operations are the four $n/2$-bit multiplications, $xLyL, \\, xLyR, \\, xRyL, \\,xRyR$; these we can handle by four recursive calls. Thus our method for multiplying n-bit numbers starts by making recursive calls to multiply these four pairs of $n/2$-bit numbers (four subproblems of half the size), and then evaluates the preceding expression in $O(n)$ time. Writing $T(n)$ for the overall running time on n-bit inputs, we get the recurrence relation $$T(n) = 4T(n/2)+O(n)$$\n",
    "We will soon see general strategies for solving such equations. In the meantime, this particular one works out to $O(n^2)$, the same running time as the traditional grade-school multiplication technique. So we have a radically new algorithm, but we haven’t yet made any progress in efficiency. \n",
    "\n",
    "How can our method be sped up?\n",
    "\n",
    "\n",
    "This is where Gauss’s trick comes to mind. Although the expression for $xy$ seems to demand four $n/2$-bit multiplications, as before just three will do: \n",
    "- $xLyL, \\, xRyR$, and $(xL +xR)(yL +yR$), since $xLyR + xRyL =(xL + xR)(yL + yR) − xLyL − xRyR$. \n",
    "\n",
    "The resulting algorithm has an improved running time of $T(n) \\leq3T(n/2)+O(n)$.\n",
    "The point is that now the constant factor improvement, from 4 to 3, occurs at every level of the recursion, and this compounding effect leads to a dramatically lower time bound of $O(n^{1.59})$."
   ]
  },
  {
   "cell_type": "code",
   "execution_count": null,
   "metadata": {
    "collapsed": true
   },
   "outputs": [],
   "source": []
  }
 ],
 "metadata": {
  "anaconda-cloud": {},
  "kernelspec": {
   "display_name": "Python [default]",
   "language": "python",
   "name": "python2"
  },
  "language_info": {
   "codemirror_mode": {
    "name": "ipython",
    "version": 2
   },
   "file_extension": ".py",
   "mimetype": "text/x-python",
   "name": "python",
   "nbconvert_exporter": "python",
   "pygments_lexer": "ipython2",
   "version": "2.7.13"
  }
 },
 "nbformat": 4,
 "nbformat_minor": 0
}
